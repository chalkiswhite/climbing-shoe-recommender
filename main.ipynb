{
 "cells": [
  {
   "cell_type": "code",
   "execution_count": 86,
   "metadata": {},
   "outputs": [],
   "source": [
    "import numpy as np\n",
    "import pandas as pd\n",
    "import matplotlib.pyplot as plt\n",
    "import seaborn as sns"
   ]
  },
  {
   "cell_type": "code",
   "execution_count": 87,
   "metadata": {},
   "outputs": [
    {
     "data": {
      "text/plain": [
       "(183, 30)"
      ]
     },
     "execution_count": 87,
     "metadata": {},
     "output_type": "execute_result"
    }
   ],
   "source": [
    "col_names = ['timestamp', 'street_shoe_size', 'fav_sneaker_model', 'foot_len', 'foot_width', \n",
    "             'foot_type', 'foot_deform', 'shoe_brand', 'shoe_model', 'shoe_model_manual', 'climb_shoe_size', \n",
    "             'shoe_age', 'favourite', 'vorspann', 'downturn', 'asymetry', 'closure_type', 'climb_style', \n",
    "             'terrain', 'rate_fit', 'rate_comfort', 'rate_stiffness', 'use_frequency', 'climbed_grade', \n",
    "             'overall_rating','gender','height','weight', 'age','climbing_exp']\n",
    "\n",
    "df_survey = pd.read_csv(\"./data/climb_shoe_survey.csv\", header=0, names=col_names)\n",
    "df_survey.shape"
   ]
  },
  {
   "cell_type": "code",
   "execution_count": 88,
   "metadata": {},
   "outputs": [
    {
     "name": "stdout",
     "output_type": "stream",
     "text": [
      "<class 'pandas.core.frame.DataFrame'>\n",
      "RangeIndex: 183 entries, 0 to 182\n",
      "Data columns (total 30 columns):\n",
      " #   Column             Non-Null Count  Dtype  \n",
      "---  ------             --------------  -----  \n",
      " 0   timestamp          183 non-null    object \n",
      " 1   street_shoe_size   183 non-null    float64\n",
      " 2   fav_sneaker_model  153 non-null    object \n",
      " 3   foot_len           183 non-null    float64\n",
      " 4   foot_width         183 non-null    float64\n",
      " 5   foot_type          183 non-null    object \n",
      " 6   foot_deform        183 non-null    object \n",
      " 7   shoe_brand         183 non-null    object \n",
      " 8   shoe_model         183 non-null    object \n",
      " 9   shoe_model_manual  8 non-null      object \n",
      " 10  climb_shoe_size    183 non-null    float64\n",
      " 11  shoe_age           183 non-null    float64\n",
      " 12  favourite          180 non-null    object \n",
      " 13  vorspann           183 non-null    object \n",
      " 14  downturn           183 non-null    object \n",
      " 15  asymetry           183 non-null    object \n",
      " 16  closure_type       183 non-null    object \n",
      " 17  climb_style        183 non-null    object \n",
      " 18  terrain            183 non-null    object \n",
      " 19  rate_fit           183 non-null    int64  \n",
      " 20  rate_comfort       183 non-null    int64  \n",
      " 21  rate_stiffness     183 non-null    int64  \n",
      " 22  use_frequency      183 non-null    int64  \n",
      " 23  climbed_grade      183 non-null    object \n",
      " 24  overall_rating     183 non-null    int64  \n",
      " 25  gender             183 non-null    object \n",
      " 26  height             183 non-null    int64  \n",
      " 27  weight             183 non-null    int64  \n",
      " 28  age                183 non-null    int64  \n",
      " 29  climbing_exp       183 non-null    float64\n",
      "dtypes: float64(6), int64(8), object(16)\n",
      "memory usage: 43.0+ KB\n"
     ]
    }
   ],
   "source": [
    "df_survey.info()"
   ]
  },
  {
   "cell_type": "code",
   "execution_count": 89,
   "metadata": {},
   "outputs": [
    {
     "data": {
      "text/html": [
       "<div>\n",
       "<style scoped>\n",
       "    .dataframe tbody tr th:only-of-type {\n",
       "        vertical-align: middle;\n",
       "    }\n",
       "\n",
       "    .dataframe tbody tr th {\n",
       "        vertical-align: top;\n",
       "    }\n",
       "\n",
       "    .dataframe thead th {\n",
       "        text-align: right;\n",
       "    }\n",
       "</style>\n",
       "<table border=\"1\" class=\"dataframe\">\n",
       "  <thead>\n",
       "    <tr style=\"text-align: right;\">\n",
       "      <th></th>\n",
       "      <th>timestamp</th>\n",
       "      <th>street_shoe_size</th>\n",
       "      <th>fav_sneaker_model</th>\n",
       "      <th>foot_len</th>\n",
       "      <th>foot_width</th>\n",
       "      <th>foot_type</th>\n",
       "      <th>foot_deform</th>\n",
       "      <th>shoe_brand</th>\n",
       "      <th>shoe_model</th>\n",
       "      <th>shoe_model_manual</th>\n",
       "      <th>...</th>\n",
       "      <th>rate_comfort</th>\n",
       "      <th>rate_stiffness</th>\n",
       "      <th>use_frequency</th>\n",
       "      <th>climbed_grade</th>\n",
       "      <th>overall_rating</th>\n",
       "      <th>gender</th>\n",
       "      <th>height</th>\n",
       "      <th>weight</th>\n",
       "      <th>age</th>\n",
       "      <th>climbing_exp</th>\n",
       "    </tr>\n",
       "  </thead>\n",
       "  <tbody>\n",
       "    <tr>\n",
       "      <th>0</th>\n",
       "      <td>24.02.2021 22:27:44</td>\n",
       "      <td>41.5</td>\n",
       "      <td>Vans Authentic</td>\n",
       "      <td>25.5</td>\n",
       "      <td>10.0</td>\n",
       "      <td>Ägyptischer Fußtyp</td>\n",
       "      <td>Nein</td>\n",
       "      <td>La Sportiva</td>\n",
       "      <td>La Sportiva - SKWAMA</td>\n",
       "      <td>NaN</td>\n",
       "      <td>...</td>\n",
       "      <td>4</td>\n",
       "      <td>4</td>\n",
       "      <td>4</td>\n",
       "      <td>Fortgeschritten (UIAA 7 - 9)</td>\n",
       "      <td>5</td>\n",
       "      <td>Männlich</td>\n",
       "      <td>168</td>\n",
       "      <td>61</td>\n",
       "      <td>29</td>\n",
       "      <td>4.0</td>\n",
       "    </tr>\n",
       "    <tr>\n",
       "      <th>1</th>\n",
       "      <td>25.02.2021 08:26:50</td>\n",
       "      <td>38.5</td>\n",
       "      <td>Adidas cloudfoam</td>\n",
       "      <td>24.2</td>\n",
       "      <td>9.8</td>\n",
       "      <td>Römischer Fußtyp</td>\n",
       "      <td>Hallux Valgus</td>\n",
       "      <td>La Sportiva</td>\n",
       "      <td>La Sportiva - SOLUTION COMP WOMAN</td>\n",
       "      <td>NaN</td>\n",
       "      <td>...</td>\n",
       "      <td>4</td>\n",
       "      <td>3</td>\n",
       "      <td>3</td>\n",
       "      <td>Fortgeschritten (UIAA 7 - 9)</td>\n",
       "      <td>4</td>\n",
       "      <td>Weiblich</td>\n",
       "      <td>168</td>\n",
       "      <td>63</td>\n",
       "      <td>30</td>\n",
       "      <td>3.0</td>\n",
       "    </tr>\n",
       "    <tr>\n",
       "      <th>2</th>\n",
       "      <td>25.02.2021 10:28:25</td>\n",
       "      <td>46.0</td>\n",
       "      <td>Black Diamond Mission LT</td>\n",
       "      <td>29.0</td>\n",
       "      <td>10.0</td>\n",
       "      <td>Griechischer Fußtyp</td>\n",
       "      <td>Nein</td>\n",
       "      <td>La Sportiva</td>\n",
       "      <td>La Sportiva - SKWAMA</td>\n",
       "      <td>NaN</td>\n",
       "      <td>...</td>\n",
       "      <td>4</td>\n",
       "      <td>5</td>\n",
       "      <td>5</td>\n",
       "      <td>Fortgeschritten (UIAA 7 - 9)</td>\n",
       "      <td>5</td>\n",
       "      <td>Männlich</td>\n",
       "      <td>186</td>\n",
       "      <td>72</td>\n",
       "      <td>36</td>\n",
       "      <td>30.0</td>\n",
       "    </tr>\n",
       "  </tbody>\n",
       "</table>\n",
       "<p>3 rows × 30 columns</p>\n",
       "</div>"
      ],
      "text/plain": [
       "             timestamp  street_shoe_size         fav_sneaker_model  foot_len  \\\n",
       "0  24.02.2021 22:27:44              41.5            Vans Authentic      25.5   \n",
       "1  25.02.2021 08:26:50              38.5          Adidas cloudfoam      24.2   \n",
       "2  25.02.2021 10:28:25              46.0  Black Diamond Mission LT      29.0   \n",
       "\n",
       "   foot_width            foot_type    foot_deform   shoe_brand  \\\n",
       "0        10.0   Ägyptischer Fußtyp           Nein  La Sportiva   \n",
       "1         9.8     Römischer Fußtyp  Hallux Valgus  La Sportiva   \n",
       "2        10.0  Griechischer Fußtyp           Nein  La Sportiva   \n",
       "\n",
       "                          shoe_model shoe_model_manual  ...  rate_comfort  \\\n",
       "0               La Sportiva - SKWAMA               NaN  ...             4   \n",
       "1  La Sportiva - SOLUTION COMP WOMAN               NaN  ...             4   \n",
       "2               La Sportiva - SKWAMA               NaN  ...             4   \n",
       "\n",
       "   rate_stiffness use_frequency                 climbed_grade overall_rating  \\\n",
       "0               4             4  Fortgeschritten (UIAA 7 - 9)              5   \n",
       "1               3             3  Fortgeschritten (UIAA 7 - 9)              4   \n",
       "2               5             5  Fortgeschritten (UIAA 7 - 9)              5   \n",
       "\n",
       "     gender height weight age  climbing_exp  \n",
       "0  Männlich    168     61  29           4.0  \n",
       "1  Weiblich    168     63  30           3.0  \n",
       "2  Männlich    186     72  36          30.0  \n",
       "\n",
       "[3 rows x 30 columns]"
      ]
     },
     "execution_count": 89,
     "metadata": {},
     "output_type": "execute_result"
    }
   ],
   "source": [
    "df_survey.head(3)"
   ]
  },
  {
   "cell_type": "markdown",
   "metadata": {},
   "source": [
    "## Einblick in Demographie"
   ]
  },
  {
   "cell_type": "markdown",
   "metadata": {},
   "source": [
    "Demographische Daten können dabei helfen, die Passform von Kletterschuhen besser zu verstehen. Daher wurden der Umfrage folgende Fragen zur Person hinzugefügt:\n",
    "\n",
    "- Geschlecht\n",
    "- Alter\n",
    "- Körpergröße\n",
    "- Gewicht\n",
    "- Klettererfahrung (in Jahren)"
   ]
  },
  {
   "cell_type": "code",
   "execution_count": 90,
   "metadata": {},
   "outputs": [
    {
     "data": {
      "image/png": "[encoded data removed]",
      "text/plain": [
       "<Figure size 432x288 with 1 Axes>"
      ]
     },
     "metadata": {
      "needs_background": "light"
     },
     "output_type": "display_data"
    }
   ],
   "source": [
    "sns.countplot(x='gender', data=df_survey, palette='viridis')\n",
    "plt.title(\"Verteilung nach Geschlecht\", fontsize=14)\n",
    "plt.show()"
   ]
  },
  {
   "cell_type": "code",
   "execution_count": 91,
   "metadata": {},
   "outputs": [
    {
     "data": {
      "image/png": "[encoded data removed]",
      "text/plain": [
       "<Figure size 432x288 with 1 Axes>"
      ]
     },
     "metadata": {
      "needs_background": "light"
     },
     "output_type": "display_data"
    }
   ],
   "source": [
    "sns.boxplot(x='gender', y='age',data=df_survey, palette='viridis')\n",
    "plt.title(\"Verteilung nach Alter\", fontsize=14)\n",
    "plt.show()"
   ]
  },
  {
   "cell_type": "code",
   "execution_count": 92,
   "metadata": {},
   "outputs": [
    {
     "data": {
      "image/png": "[encoded data removed]",
      "text/plain": [
       "<Figure size 1008x576 with 2 Axes>"
      ]
     },
     "metadata": {
      "needs_background": "light"
     },
     "output_type": "display_data"
    }
   ],
   "source": [
    "fig, axs = plt.subplots(1, 2, figsize=(14, 8))\n",
    "fig.suptitle('Übersicht Körpermaße', fontsize=14)\n",
    "sns.boxplot(x='gender', y='height',data=df_survey, palette='viridis', ax=axs[0])\n",
    "sns.boxplot(x='gender', y='weight',data=df_survey, palette='viridis', ax=axs[1])\n",
    "plt.show()"
   ]
  },
  {
   "cell_type": "code",
   "execution_count": 93,
   "metadata": {},
   "outputs": [
    {
     "data": {
      "image/png": "[encoded data removed]",
      "text/plain": [
       "<Figure size 432x288 with 1 Axes>"
      ]
     },
     "metadata": {
      "needs_background": "light"
     },
     "output_type": "display_data"
    }
   ],
   "source": [
    "sns.boxplot(x='gender', y='climbing_exp',data=df_survey, palette='viridis')\n",
    "plt.title(\"Verteilung nach Klettererfahrung in Jahren\", fontsize=14)\n",
    "plt.show()"
   ]
  },
  {
   "cell_type": "markdown",
   "metadata": {},
   "source": [
    "## Erkenntnisse durch Fußdaten"
   ]
  },
  {
   "cell_type": "markdown",
   "metadata": {},
   "source": [
    "Die Fußeigenschaften der Befragten sollen wertvolle Erkenntnisse zur Passform der Kletterschuhe liefern. Daher beruht ein großer Teil der Umfrage auf Informationen rund um den Fuß. Folgende Informationen wurden gesammelt:\n",
    "- Schuhgröße(Straßen- und Kletterschuhe)\n",
    "- Fußfehlstellung\n",
    "- Fußtypisierung\n",
    "- Fußlänge\n",
    "- Fußbreite"
   ]
  },
  {
   "cell_type": "code",
   "execution_count": 94,
   "metadata": {},
   "outputs": [
    {
     "data": {
      "image/png": "[encoded data removed]",
      "text/plain": [
       "<Figure size 432x288 with 1 Axes>"
      ]
     },
     "metadata": {
      "needs_background": "light"
     },
     "output_type": "display_data"
    }
   ],
   "source": [
    "sns.boxplot(x='gender', y='street_shoe_size', data=df_survey, palette='viridis')\n",
    "plt.title(\"Verteilung Straßenschuhgrößen nach Geschlecht\", fontsize=14)\n",
    "plt.show()"
   ]
  },
  {
   "cell_type": "code",
   "execution_count": 95,
   "metadata": {},
   "outputs": [
    {
     "data": {
      "text/plain": [
       "Nein                                                        92\n",
       "Hallux Valgus                                               13\n",
       "Senkfuß                                                     12\n",
       "Spreizfuß                                                   11\n",
       "Nein, Spreizfuß                                              5\n",
       "Plattfuß                                                     5\n",
       "Nein, Knickfuß                                               4\n",
       "Hallux Valgus, Senkfuß                                       4\n",
       "Hallux Valgus, Plattfuß                                      4\n",
       "Knickfuß                                                     4\n",
       "Plattfuß, Spreizfuß                                          3\n",
       "Senkfuß, Spreizfuß                                           3\n",
       "Hallux Valgus, Hohlfuß                                       2\n",
       "Nein, Hallux Valgus, Senkfuß                                 2\n",
       "Nein, Hallux Valgus                                          2\n",
       "Fersenbein                                                   2\n",
       "Plattfuß, Knickfuß                                           2\n",
       "Hohlfuß                                                      2\n",
       "Hallux Valgus, Plattfuß, Senkfuß, Spreizfuß                  2\n",
       "Nein, abgeflachtes Quergewölbe, aber noch kein Spreizfuß     2\n",
       "Plattfuß, Senkfuß                                            2\n",
       "Hallux Valgus, Spreizfuß                                     2\n",
       "Nein, Senkfuß, Spreizfuß                                     1\n",
       "Nein, Senkfuß                                                1\n",
       "Nein, Plattfuß                                               1\n",
       "Name: foot_deform, dtype: int64"
      ]
     },
     "execution_count": 95,
     "metadata": {},
     "output_type": "execute_result"
    }
   ],
   "source": [
    "df_survey['foot_deform'].value_counts()"
   ]
  },
  {
   "cell_type": "code",
   "execution_count": 96,
   "metadata": {},
   "outputs": [
    {
     "data": {
      "image/png": "[encoded data removed]",
      "text/plain": [
       "<Figure size 1008x576 with 6 Axes>"
      ]
     },
     "metadata": {
      "needs_background": "light"
     },
     "output_type": "display_data"
    }
   ],
   "source": [
    "deformations = ['Hallux Valgus', 'Senkfuß','Spreizfuß','Plattfuß', 'Hohlfuß','Knickfuß']\n",
    "\n",
    "for deform in deformations:\n",
    "    df_survey[deform.lower().split()[0]] = df_survey.apply(lambda row: 1 if deform.strip() in row.foot_deform.split(',') else 0, axis=1)\n",
    "    \n",
    "fig, axs = plt.subplots(2, 3, figsize=(14, 8))\n",
    "fig.suptitle('Übersicht Anteile mit Fuß-Fehlstellungen', fontsize=14)\n",
    "sns.countplot(x='hallux',data=df_survey,palette='viridis', ax=axs[0,0])\n",
    "sns.countplot(x='senkfuß',data=df_survey,palette='viridis',ax=axs[0,1])\n",
    "sns.countplot(x='spreizfuß',data=df_survey,palette='viridis',ax=axs[0,2])\n",
    "sns.countplot(x='plattfuß',data=df_survey,palette='viridis',ax=axs[1,0])\n",
    "sns.countplot(x='hohlfuß',data=df_survey,palette='viridis',ax=axs[1,1])\n",
    "sns.countplot(x='knickfuß',data=df_survey,palette='viridis',ax=axs[1,2])\n",
    "\n",
    "plt.show()"
   ]
  },
  {
   "cell_type": "code",
   "execution_count": 97,
   "metadata": {},
   "outputs": [
    {
     "data": {
      "image/png": "[encoded data removed]",
      "text/plain": [
       "<Figure size 1008x576 with 2 Axes>"
      ]
     },
     "metadata": {
      "needs_background": "light"
     },
     "output_type": "display_data"
    }
   ],
   "source": [
    "fig, axs = plt.subplots(1, 2, figsize=(14, 8))\n",
    "fig.suptitle('Übersicht Fußmaße', fontsize=14)\n",
    "sns.histplot(x='foot_len',data=df_survey,palette='viridis', ax=axs[0])\n",
    "sns.histplot(x='foot_width',data=df_survey,palette='viridis',ax=axs[1])\n",
    "plt.show()"
   ]
  },
  {
   "cell_type": "code",
   "execution_count": 98,
   "metadata": {},
   "outputs": [
    {
     "data": {
      "text/plain": [
       "Ägyptischer Fußtyp               91\n",
       "Römischer Fußtyp                 52\n",
       "Griechischer Fußtyp              38\n",
       "Mix aus Römisch und Ägyptisch     2\n",
       "Name: foot_type, dtype: int64"
      ]
     },
     "execution_count": 98,
     "metadata": {},
     "output_type": "execute_result"
    }
   ],
   "source": [
    "df_survey['foot_type'].value_counts()"
   ]
  },
  {
   "cell_type": "code",
   "execution_count": 99,
   "metadata": {},
   "outputs": [
    {
     "data": {
      "text/plain": [
       "Ägyptischer Fußtyp     93\n",
       "Römischer Fußtyp       52\n",
       "Griechischer Fußtyp    38\n",
       "Name: foot_type, dtype: int64"
      ]
     },
     "execution_count": 99,
     "metadata": {},
     "output_type": "execute_result"
    }
   ],
   "source": [
    "df_survey['foot_type'] = df_survey.apply(lambda row: 'Ägyptischer Fußtyp' if row.foot_type == 'Mix aus Römisch und Ägyptisch' else row.foot_type, axis=1)\n",
    "df_survey['foot_type'].value_counts()"
   ]
  },
  {
   "cell_type": "code",
   "execution_count": 100,
   "metadata": {},
   "outputs": [],
   "source": [
    "foot_fam = ['Ägyptischer Fußtyp', 'Römischer Fußtyp','Griechischer Fußtyp']\n",
    "\n",
    "for foot in foot_fam:\n",
    "    df_survey[foot.lower().split()[0]] = df_survey.apply(lambda row: 1 if foot in row.foot_type.split(',') else 0, axis=1)"
   ]
  },
  {
   "cell_type": "code",
   "execution_count": 101,
   "metadata": {},
   "outputs": [
    {
     "data": {
      "image/png": "[encoded data removed]",
      "text/plain": [
       "<Figure size 432x288 with 1 Axes>"
      ]
     },
     "metadata": {
      "needs_background": "light"
     },
     "output_type": "display_data"
    }
   ],
   "source": [
    "sns.countplot(x='foot_type', data=df_survey, hue='gender', palette='viridis')\n",
    "plt.title(\"Verteilung der Fußtypisierung nach Geschlecht\", fontsize=14)\n",
    "plt.show()"
   ]
  },
  {
   "cell_type": "markdown",
   "metadata": {},
   "source": [
    "Die ägyptische Fußform ist für beide Geschlechter mit Abstand am meisten vertreten, anschließend folgt der römische und der griechische Fußtyp. Letzterer kommt bei Männern auffallend häufiger vor als bei Frauen. Die Erwartung ist, dass insbesondere der Fußtyp die Kletterschuhgröße signifikant beeinflußt. Daher ist eine Korellationsbetrachtung dieses Merkmals besonders interessant."
   ]
  },
  {
   "cell_type": "code",
   "execution_count": 102,
   "metadata": {},
   "outputs": [
    {
     "data": {
      "text/plain": [
       "street_shoe_size    0.874610\n",
       "height              0.836933\n",
       "weight              0.733277\n",
       "foot_len            0.623050\n",
       "foot_width          0.453526\n",
       "climbing_exp        0.390537\n",
       "age                 0.307460\n",
       "rate_comfort        0.213981\n",
       "griechischer        0.171700\n",
       "shoe_age            0.110088\n",
       "rate_fit            0.098757\n",
       "plattfuß            0.095345\n",
       "spreizfuß           0.087595\n",
       "overall_rating      0.082613\n",
       "knickfuß            0.046166\n",
       "römischer           0.042996\n",
       "rate_stiffness      0.031030\n",
       "hohlfuß             0.027640\n",
       "senkfuß             0.001786\n",
       "use_frequency      -0.002447\n",
       "hallux             -0.122518\n",
       "ägyptischer        -0.178098\n",
       "dtype: float64"
      ]
     },
     "execution_count": 102,
     "metadata": {},
     "output_type": "execute_result"
    }
   ],
   "source": [
    "df_survey.corrwith(df_survey['climb_shoe_size']).sort_values(ascending=False)[1:]"
   ]
  },
  {
   "cell_type": "markdown",
   "metadata": {},
   "source": [
    "Bei der Betrachtung von Korellationen mit der Kletterschuhgröße scheinen insbesondere Straßenschuhgröße, Körpergröße und Gewicht eine besondere Rolle zu spielen. Weitere relevante Merkmale sind das Fußmaß, gemessen in Länge und Breite. Überraschend ist eine relativ hohe Korellation mit der Klettererfahrung. Der griechische Fußtyp trat in der Umfrage weitaus seltener auf als der äyptische, dennoch besitzt er eine signifikant höhere Korellation mit der Schuhgröße als die beiden anderen Fußtypen. Eine Erklärung könnte der deutlich längere Mittelzehknochen dieser Fußfamilie liefern. Dieser übertrifft die Länge aller restlichen Zehen, wodurch die betroffenen Personen meistens zu einer größeren Schuhnummer greifen müssen. "
   ]
  },
  {
   "cell_type": "markdown",
   "metadata": {},
   "source": [
    "## Analyse der Kletterschuhe"
   ]
  },
  {
   "cell_type": "code",
   "execution_count": 103,
   "metadata": {},
   "outputs": [
    {
     "data": {
      "text/plain": [
       "La Sportiva    74\n",
       "Scarpa         45\n",
       "Ocun           17\n",
       "Red Chili      12\n",
       "Five Ten        8\n",
       "Evolv           7\n",
       "Tenaya          7\n",
       "Lowa            3\n",
       "Mad Rock        3\n",
       "Simond          2\n",
       "Name: shoe_brand, dtype: int64"
      ]
     },
     "execution_count": 103,
     "metadata": {},
     "output_type": "execute_result"
    }
   ],
   "source": [
    "df_survey['shoe_brand'].value_counts()[:10]"
   ]
  },
  {
   "cell_type": "markdown",
   "metadata": {},
   "source": [
    "In der Betrachtung der 10 am häufigsten vorkommenden Marken innerhalb der Umfrage ist La Sportiva mit 74 Schuhen rund 40\\% öfter vertreten als Scarpa mit 45 Schuhen. Ocun ist mit 17 Vorkommnissen auf Platz 3."
   ]
  },
  {
   "cell_type": "code",
   "execution_count": 104,
   "metadata": {},
   "outputs": [
    {
     "data": {
      "image/png": "[encoded data removed]",
      "text/plain": [
       "<Figure size 432x288 with 1 Axes>"
      ]
     },
     "metadata": {
      "needs_background": "light"
     },
     "output_type": "display_data"
    }
   ],
   "source": [
    "most_common_brands = df_survey['shoe_brand'].value_counts()[:10]\n",
    "most_common_brands.plot.bar()\n",
    "plt.show()"
   ]
  },
  {
   "cell_type": "code",
   "execution_count": 105,
   "metadata": {},
   "outputs": [
    {
     "data": {
      "text/plain": [
       "72"
      ]
     },
     "execution_count": 105,
     "metadata": {},
     "output_type": "execute_result"
    }
   ],
   "source": [
    "df_survey['shoe_model'].nunique()"
   ]
  },
  {
   "cell_type": "code",
   "execution_count": 106,
   "metadata": {},
   "outputs": [
    {
     "data": {
      "text/plain": [
       "Sonstige                        16\n",
       "La Sportiva - SKWAMA            13\n",
       "Scarpa - VAPOR V                 9\n",
       "La Sportiva - MYTHOS             7\n",
       "La Sportiva - OTAKI              7\n",
       "Ocun - OZONE QC                  7\n",
       "Red Chili - SPIRIT VCR           6\n",
       "La Sportiva - SOLUTION           5\n",
       "Scarpa - DRAGO                   5\n",
       "Five Ten - HIANGLE               5\n",
       "La Sportiva - THEORY             4\n",
       "La Sportiva - KATANA WOMAN       4\n",
       "Scarpa - INSTINCT VS WMN         4\n",
       "Scarpa - INSTINCT VSR            4\n",
       "La Sportiva - SOLUTION WOMAN     4\n",
       "Scarpa - INSTINCT VS             4\n",
       "La Sportiva - SOLUTION COMP      3\n",
       "Scarpa - VAPOR V WMN             3\n",
       "La Sportiva - MYTHOS ECO         3\n",
       "Scarpa - VAPOR                   3\n",
       "La Sportiva - MIURA              3\n",
       "Tenaya - OASI                    3\n",
       "Scarpa - FURIA S                 2\n",
       "Ocun - OXI S                     2\n",
       "La Sportiva - FINALE VS          2\n",
       "Name: shoe_model, dtype: int64"
      ]
     },
     "execution_count": 106,
     "metadata": {},
     "output_type": "execute_result"
    }
   ],
   "source": [
    "df_survey['shoe_model'].value_counts()[:25]"
   ]
  },
  {
   "cell_type": "markdown",
   "metadata": {},
   "source": [
    "Der beliebteste Kletterschuh war der La Sportiva - SKWAMA mit 13 Vorkommnissen innerhalb der Umfrage, gefolgt vom Vapor V der Marke Scarpa mit 9. 16 Personen gaben \\enquote{Sonstige} an, was auf fehlende Modelle innerhalb der festgelegten Auswahlliste hindeutet. Da sich dieses Ergebnis bereits früher abzeichnete, wurde ein optionales Freitext-Feld \\enquote{Modell nicht in der Liste?} hinterlegt, um den Befragten die Möglichkeit zu geben trotzdem ihr Modell eintragen zu können. Hierdurch wird klarer, welche Modelle sonst noch verwendet werden, die bei der Vorbereitung des Fragebogens und der Marktrecherche nicht im Fokus standen."
   ]
  },
  {
   "cell_type": "code",
   "execution_count": 107,
   "metadata": {},
   "outputs": [
    {
     "data": {
      "image/png": "[encoded data removed]",
      "text/plain": [
       "<Figure size 432x288 with 1 Axes>"
      ]
     },
     "metadata": {
      "needs_background": "light"
     },
     "output_type": "display_data"
    }
   ],
   "source": [
    "most_common_models = df_survey['shoe_model'].value_counts()[:10]\n",
    "most_common_models.plot.bar()\n",
    "plt.show()"
   ]
  },
  {
   "cell_type": "code",
   "execution_count": 108,
   "metadata": {},
   "outputs": [
    {
     "data": {
      "text/html": [
       "<div>\n",
       "<style scoped>\n",
       "    .dataframe tbody tr th:only-of-type {\n",
       "        vertical-align: middle;\n",
       "    }\n",
       "\n",
       "    .dataframe tbody tr th {\n",
       "        vertical-align: top;\n",
       "    }\n",
       "\n",
       "    .dataframe thead th {\n",
       "        text-align: right;\n",
       "    }\n",
       "</style>\n",
       "<table border=\"1\" class=\"dataframe\">\n",
       "  <thead>\n",
       "    <tr style=\"text-align: right;\">\n",
       "      <th></th>\n",
       "      <th>shoe_brand</th>\n",
       "      <th>shoe_model</th>\n",
       "      <th>shoe_model_manual</th>\n",
       "    </tr>\n",
       "  </thead>\n",
       "  <tbody>\n",
       "    <tr>\n",
       "      <th>18</th>\n",
       "      <td>Bouldrini</td>\n",
       "      <td>Sonstige</td>\n",
       "      <td>NaN</td>\n",
       "    </tr>\n",
       "    <tr>\n",
       "      <th>27</th>\n",
       "      <td>Mad Rock</td>\n",
       "      <td>Sonstige</td>\n",
       "      <td>NaN</td>\n",
       "    </tr>\n",
       "    <tr>\n",
       "      <th>31</th>\n",
       "      <td>Evolv</td>\n",
       "      <td>Sonstige</td>\n",
       "      <td>NaN</td>\n",
       "    </tr>\n",
       "    <tr>\n",
       "      <th>54</th>\n",
       "      <td>Scarpa</td>\n",
       "      <td>Sonstige</td>\n",
       "      <td>NaN</td>\n",
       "    </tr>\n",
       "    <tr>\n",
       "      <th>55</th>\n",
       "      <td>?</td>\n",
       "      <td>Sonstige</td>\n",
       "      <td>NaN</td>\n",
       "    </tr>\n",
       "    <tr>\n",
       "      <th>61</th>\n",
       "      <td>Five Ten</td>\n",
       "      <td>Sonstige</td>\n",
       "      <td>Diamond (ca. 22 Jahre alt :)</td>\n",
       "    </tr>\n",
       "    <tr>\n",
       "      <th>77</th>\n",
       "      <td>Boreal</td>\n",
       "      <td>Sonstige</td>\n",
       "      <td>Satori</td>\n",
       "    </tr>\n",
       "    <tr>\n",
       "      <th>86</th>\n",
       "      <td>Evolv</td>\n",
       "      <td>Sonstige</td>\n",
       "      <td>Evolve Shaman 2</td>\n",
       "    </tr>\n",
       "    <tr>\n",
       "      <th>88</th>\n",
       "      <td>Evolv</td>\n",
       "      <td>Sonstige</td>\n",
       "      <td>Evolve Shaman 2</td>\n",
       "    </tr>\n",
       "    <tr>\n",
       "      <th>103</th>\n",
       "      <td>La Sportiva</td>\n",
       "      <td>Sonstige</td>\n",
       "      <td>Millet Easy up</td>\n",
       "    </tr>\n",
       "    <tr>\n",
       "      <th>113</th>\n",
       "      <td>Scarpa</td>\n",
       "      <td>Sonstige</td>\n",
       "      <td>NaN</td>\n",
       "    </tr>\n",
       "    <tr>\n",
       "      <th>129</th>\n",
       "      <td>Red Chili</td>\n",
       "      <td>Sonstige</td>\n",
       "      <td>NaN</td>\n",
       "    </tr>\n",
       "    <tr>\n",
       "      <th>134</th>\n",
       "      <td>La Sportiva</td>\n",
       "      <td>Sonstige</td>\n",
       "      <td>NaN</td>\n",
       "    </tr>\n",
       "    <tr>\n",
       "      <th>140</th>\n",
       "      <td>Red Chili</td>\n",
       "      <td>Sonstige</td>\n",
       "      <td>AMP</td>\n",
       "    </tr>\n",
       "    <tr>\n",
       "      <th>154</th>\n",
       "      <td>Evolv</td>\n",
       "      <td>Sonstige</td>\n",
       "      <td>Shaman 2</td>\n",
       "    </tr>\n",
       "    <tr>\n",
       "      <th>155</th>\n",
       "      <td>Evolv</td>\n",
       "      <td>Sonstige</td>\n",
       "      <td>Shaman 2</td>\n",
       "    </tr>\n",
       "  </tbody>\n",
       "</table>\n",
       "</div>"
      ],
      "text/plain": [
       "      shoe_brand shoe_model             shoe_model_manual\n",
       "18     Bouldrini   Sonstige                           NaN\n",
       "27      Mad Rock   Sonstige                           NaN\n",
       "31         Evolv   Sonstige                           NaN\n",
       "54        Scarpa   Sonstige                           NaN\n",
       "55             ?   Sonstige                           NaN\n",
       "61      Five Ten   Sonstige  Diamond (ca. 22 Jahre alt :)\n",
       "77        Boreal   Sonstige                        Satori\n",
       "86         Evolv   Sonstige               Evolve Shaman 2\n",
       "88         Evolv   Sonstige               Evolve Shaman 2\n",
       "103  La Sportiva   Sonstige                Millet Easy up\n",
       "113       Scarpa   Sonstige                           NaN\n",
       "129    Red Chili   Sonstige                           NaN\n",
       "134  La Sportiva   Sonstige                           NaN\n",
       "140    Red Chili   Sonstige                           AMP\n",
       "154        Evolv   Sonstige                      Shaman 2\n",
       "155        Evolv   Sonstige                      Shaman 2"
      ]
     },
     "execution_count": 108,
     "metadata": {},
     "output_type": "execute_result"
    }
   ],
   "source": [
    "df_survey[['shoe_brand', 'shoe_model', 'shoe_model_manual']][df_survey['shoe_model'] == 'Sonstige']"
   ]
  },
  {
   "cell_type": "markdown",
   "metadata": {},
   "source": [
    "Neben Einzelfällen wie dem Modell Satori der Marke Boreal oder AMP von Red Chili ist das Modell Shaman 2 von Evolv vier Mal aufgetreten. Das könnte darauf zurückzuführen sein, dass der Schuh in der Vergangenheit weit verbreitet war und der Hersteller ihn nicht mehr im Produktportfolio führt. Es scheint sich dennoch um einen Favoriten zu handeln, weshalb dieses Modell das Merkmal \\enquote{Sonstige} ersetzen wird, um diese Klasse bei der späteren Modellvorhersage nutzen zu können. Es werden ebenfalls alle manuell eingegebenen Modelle übernommen, um die Informationen später nutzen zu können. Auch wenn diese Modelle nur selten vorkommen, ist dies potentiell eine besserer Vorschlag als nur \\enquote{Sonstige} zu empfehlen."
   ]
  },
  {
   "cell_type": "code",
   "execution_count": 109,
   "metadata": {},
   "outputs": [
    {
     "data": {
      "text/html": [
       "<div>\n",
       "<style scoped>\n",
       "    .dataframe tbody tr th:only-of-type {\n",
       "        vertical-align: middle;\n",
       "    }\n",
       "\n",
       "    .dataframe tbody tr th {\n",
       "        vertical-align: top;\n",
       "    }\n",
       "\n",
       "    .dataframe thead th {\n",
       "        text-align: right;\n",
       "    }\n",
       "</style>\n",
       "<table border=\"1\" class=\"dataframe\">\n",
       "  <thead>\n",
       "    <tr style=\"text-align: right;\">\n",
       "      <th></th>\n",
       "      <th>shoe_brand</th>\n",
       "      <th>shoe_model</th>\n",
       "    </tr>\n",
       "  </thead>\n",
       "  <tbody>\n",
       "    <tr>\n",
       "      <th>18</th>\n",
       "      <td>Bouldrini</td>\n",
       "      <td>Sonstige</td>\n",
       "    </tr>\n",
       "    <tr>\n",
       "      <th>27</th>\n",
       "      <td>Mad Rock</td>\n",
       "      <td>Sonstige</td>\n",
       "    </tr>\n",
       "    <tr>\n",
       "      <th>54</th>\n",
       "      <td>Scarpa</td>\n",
       "      <td>Sonstige</td>\n",
       "    </tr>\n",
       "    <tr>\n",
       "      <th>113</th>\n",
       "      <td>Scarpa</td>\n",
       "      <td>Sonstige</td>\n",
       "    </tr>\n",
       "    <tr>\n",
       "      <th>129</th>\n",
       "      <td>Red Chili</td>\n",
       "      <td>Sonstige</td>\n",
       "    </tr>\n",
       "    <tr>\n",
       "      <th>134</th>\n",
       "      <td>La Sportiva</td>\n",
       "      <td>Sonstige</td>\n",
       "    </tr>\n",
       "  </tbody>\n",
       "</table>\n",
       "</div>"
      ],
      "text/plain": [
       "      shoe_brand shoe_model\n",
       "18     Bouldrini   Sonstige\n",
       "27      Mad Rock   Sonstige\n",
       "54        Scarpa   Sonstige\n",
       "113       Scarpa   Sonstige\n",
       "129    Red Chili   Sonstige\n",
       "134  La Sportiva   Sonstige"
      ]
     },
     "execution_count": 109,
     "metadata": {},
     "output_type": "execute_result"
    }
   ],
   "source": [
    "df_survey.drop(index=55,inplace=True)\n",
    "\n",
    "df_survey.at[61,'shoe_model'] = 'Five Ten - DIAMOND'\n",
    "df_survey.at[77,'shoe_model'] = 'Boreal - SATORI'\n",
    "\n",
    "df_survey.at[31,'shoe_model'] = 'Evolv - SHAMAN 2'\n",
    "df_survey.at[86,'shoe_model'] = 'Evolv - SHAMAN 2'\n",
    "df_survey.at[88,'shoe_model'] = 'Evolv - SHAMAN 2'\n",
    "df_survey.at[103,'shoe_model'] = 'La Sportiva - MILLET EASY UP'\n",
    "df_survey.at[140,'shoe_model'] = 'Red Chili - AMP'\n",
    "df_survey.at[154,'shoe_model'] = 'Evolv - SHAMAN 2'\n",
    "df_survey.at[155,'shoe_model'] = 'Evolv - SHAMAN 2'\n",
    "\n",
    "df_survey[['shoe_brand','shoe_model']][df_survey['shoe_model']  == 'Sonstige']"
   ]
  },
  {
   "cell_type": "markdown",
   "metadata": {},
   "source": [
    "Nach der Übernahme bleiben noch die Beobachtungen übrig ohne weitere Informationen. Die Daten zur Person sind trotzdem wertvoll, insbesondere da es sich nur um eine kleine Stichprobenmenge handelt. Deshalb sollte keine Beobachtung ohne Weiteres gelöscht werden. Ein Lösungsansatz ist das Imputation Verfahren, welches zur Bereinigung fehlender Werte genutzt wird. Bei numerischen Werten kann beispielsweise der allgemeine Durchschnitt der Spalte berechnet werden, welcher dann in alle Beobachtungen mit fehlendem Wert eingetragen wird. So könnte in diesem Fall der am häufigsten vorkommende Schuh jeder Marke ermittelt werden, welcher dann jeweils die Ausprägung \\enquote{Sonstige} ersetzt."
   ]
  },
  {
   "cell_type": "code",
   "execution_count": 112,
   "metadata": {},
   "outputs": [
    {
     "data": {
      "text/plain": [
       "{'Black Diamond': 'Black Diamond - ASPECT',\n",
       " 'Simond': 'Simond - ROCK+',\n",
       " 'So iLL': 'So iLL - ZERO PRO',\n",
       " 'Boreal': 'Boreal - SATORI',\n",
       " 'Bouldrini': 'Sonstige',\n",
       " 'Mad Rock': 'Mad Rock - SHARK 2.0',\n",
       " 'Lowa': 'Lowa - FALCO VCR',\n",
       " 'Tenaya': 'Tenaya - OASI',\n",
       " 'Evolv': 'Evolv - SHAMAN 2',\n",
       " 'Five Ten': 'Five Ten - HIANGLE',\n",
       " 'Red Chili': 'Red Chili - SPIRIT VCR',\n",
       " 'Ocun': 'Ocun - OZONE QC',\n",
       " 'Scarpa': 'Scarpa - VAPOR V',\n",
       " 'La Sportiva': 'La Sportiva - SKWAMA'}"
      ]
     },
     "execution_count": 112,
     "metadata": {},
     "output_type": "execute_result"
    }
   ],
   "source": [
    "# Ermittle das häufigste Schuhmodell einer Marke\n",
    "most_common_models = {}\n",
    "    \n",
    "for i in df_survey.groupby(['shoe_brand', 'shoe_model'])['shoe_model'].count().sort_values().groupby(level=0).tail(1).index:\n",
    "    most_common_models.update({i[0]:i[1]})\n",
    "    \n",
    "most_common_models"
   ]
  },
  {
   "cell_type": "code",
   "execution_count": 114,
   "metadata": {},
   "outputs": [
    {
     "data": {
      "text/html": [
       "<div>\n",
       "<style scoped>\n",
       "    .dataframe tbody tr th:only-of-type {\n",
       "        vertical-align: middle;\n",
       "    }\n",
       "\n",
       "    .dataframe tbody tr th {\n",
       "        vertical-align: top;\n",
       "    }\n",
       "\n",
       "    .dataframe thead th {\n",
       "        text-align: right;\n",
       "    }\n",
       "</style>\n",
       "<table border=\"1\" class=\"dataframe\">\n",
       "  <thead>\n",
       "    <tr style=\"text-align: right;\">\n",
       "      <th></th>\n",
       "      <th>shoe_brand</th>\n",
       "      <th>shoe_model</th>\n",
       "    </tr>\n",
       "  </thead>\n",
       "  <tbody>\n",
       "    <tr>\n",
       "      <th>18</th>\n",
       "      <td>Bouldrini</td>\n",
       "      <td>Sonstige</td>\n",
       "    </tr>\n",
       "  </tbody>\n",
       "</table>\n",
       "</div>"
      ],
      "text/plain": [
       "   shoe_brand shoe_model\n",
       "18  Bouldrini   Sonstige"
      ]
     },
     "execution_count": 114,
     "metadata": {},
     "output_type": "execute_result"
    }
   ],
   "source": [
    "for i in df_survey['shoe_brand'][df_survey['shoe_model'] == 'Sonstige'].index:\n",
    "    df_survey.at[i,'shoe_model'] = most_common_models[df_survey['shoe_brand'].iloc[i]]\n",
    "df_survey[['shoe_brand','shoe_model']][df_survey['shoe_model']  == 'Sonstige']"
   ]
  },
  {
   "cell_type": "markdown",
   "metadata": {},
   "source": [
    "Nachdem nun alle möglichen Substitutionen vorgenommen wurden, bleibt nur noch eine  Beobachtung übrig der Marke Bouldrini, welche gar keine Alternative zulässt.\n",
    "Für den Fall, dass die Marke für einen speziellen Fußtyp relevant sein könnte, wird in diesem Fall nur die Schuhmarke vorgeschlagen."
   ]
  },
  {
   "cell_type": "code",
   "execution_count": 117,
   "metadata": {},
   "outputs": [
    {
     "data": {
      "text/html": [
       "<div>\n",
       "<style scoped>\n",
       "    .dataframe tbody tr th:only-of-type {\n",
       "        vertical-align: middle;\n",
       "    }\n",
       "\n",
       "    .dataframe tbody tr th {\n",
       "        vertical-align: top;\n",
       "    }\n",
       "\n",
       "    .dataframe thead th {\n",
       "        text-align: right;\n",
       "    }\n",
       "</style>\n",
       "<table border=\"1\" class=\"dataframe\">\n",
       "  <thead>\n",
       "    <tr style=\"text-align: right;\">\n",
       "      <th></th>\n",
       "      <th>shoe_brand</th>\n",
       "      <th>shoe_model</th>\n",
       "    </tr>\n",
       "  </thead>\n",
       "  <tbody>\n",
       "  </tbody>\n",
       "</table>\n",
       "</div>"
      ],
      "text/plain": [
       "Empty DataFrame\n",
       "Columns: [shoe_brand, shoe_model]\n",
       "Index: []"
      ]
     },
     "execution_count": 117,
     "metadata": {},
     "output_type": "execute_result"
    }
   ],
   "source": [
    "df_survey.at[18,'shoe_model'] = df_survey.at[18,'shoe_brand']\n",
    "df_survey[['shoe_brand','shoe_model']][df_survey['shoe_model']  == 'Sonstige']"
   ]
  },
  {
   "cell_type": "code",
   "execution_count": 118,
   "metadata": {},
   "outputs": [
    {
     "data": {
      "text/plain": [
       "La Sportiva - SKWAMA            13\n",
       "Scarpa - VAPOR V                11\n",
       "La Sportiva - MYTHOS             7\n",
       "Red Chili - SPIRIT VCR           7\n",
       "Ocun - OZONE QC                  7\n",
       "La Sportiva - OTAKI              7\n",
       "Five Ten - HIANGLE               6\n",
       "La Sportiva - SOLUTION           5\n",
       "Scarpa - DRAGO                   5\n",
       "Evolv - SHAMAN 2                 5\n",
       "La Sportiva - THEORY             4\n",
       "Scarpa - INSTINCT VS WMN         4\n",
       "La Sportiva - KATANA WOMAN       4\n",
       "Scarpa - INSTINCT VSR            4\n",
       "La Sportiva - SOLUTION WOMAN     4\n",
       "Scarpa - INSTINCT VS             4\n",
       "La Sportiva - SOLUTION COMP      3\n",
       "Scarpa - VAPOR V WMN             3\n",
       "Scarpa - VAPOR                   3\n",
       "Mad Rock - SHARK 2.0             3\n",
       "La Sportiva - MIURA              3\n",
       "Tenaya - OASI                    3\n",
       "La Sportiva - MYTHOS ECO         3\n",
       "Lowa - FALCO VCR                 2\n",
       "Ocun - OXI S                     2\n",
       "Name: shoe_model, dtype: int64"
      ]
     },
     "execution_count": 118,
     "metadata": {},
     "output_type": "execute_result"
    }
   ],
   "source": [
    "df_survey['shoe_model'].value_counts()[:25]"
   ]
  },
  {
   "cell_type": "markdown",
   "metadata": {},
   "source": [
    "Alle Beobachtungen mit dem Schuhmodell \\enquote{Sonstige} konnten behandelt werden. Eine Klassifikation mit dem Modell als Zielvariable wird nun im Idealfall immer einen Schuh vorhersagen können. Als nächstes ist die Betrachtung der Schuhgröße relevant, um daraus die optimale Größe ableiten zu können. Hierfür wird zunächst die globale Statistik des Datensatzes betrachtet für Straßenschuhe sowie Kletterschuhe."
   ]
  },
  {
   "cell_type": "code",
   "execution_count": 119,
   "metadata": {},
   "outputs": [
    {
     "data": {
      "text/html": [
       "<div>\n",
       "<style scoped>\n",
       "    .dataframe tbody tr th:only-of-type {\n",
       "        vertical-align: middle;\n",
       "    }\n",
       "\n",
       "    .dataframe tbody tr th {\n",
       "        vertical-align: top;\n",
       "    }\n",
       "\n",
       "    .dataframe thead th {\n",
       "        text-align: right;\n",
       "    }\n",
       "</style>\n",
       "<table border=\"1\" class=\"dataframe\">\n",
       "  <thead>\n",
       "    <tr style=\"text-align: right;\">\n",
       "      <th></th>\n",
       "      <th>street_shoe_size</th>\n",
       "      <th>climb_shoe_size</th>\n",
       "    </tr>\n",
       "  </thead>\n",
       "  <tbody>\n",
       "    <tr>\n",
       "      <th>count</th>\n",
       "      <td>182.000000</td>\n",
       "      <td>182.000000</td>\n",
       "    </tr>\n",
       "    <tr>\n",
       "      <th>mean</th>\n",
       "      <td>42.013736</td>\n",
       "      <td>40.793516</td>\n",
       "    </tr>\n",
       "    <tr>\n",
       "      <th>std</th>\n",
       "      <td>2.814932</td>\n",
       "      <td>2.735859</td>\n",
       "    </tr>\n",
       "    <tr>\n",
       "      <th>min</th>\n",
       "      <td>36.000000</td>\n",
       "      <td>29.000000</td>\n",
       "    </tr>\n",
       "    <tr>\n",
       "      <th>25%</th>\n",
       "      <td>39.500000</td>\n",
       "      <td>38.500000</td>\n",
       "    </tr>\n",
       "    <tr>\n",
       "      <th>50%</th>\n",
       "      <td>42.500000</td>\n",
       "      <td>41.000000</td>\n",
       "    </tr>\n",
       "    <tr>\n",
       "      <th>75%</th>\n",
       "      <td>44.000000</td>\n",
       "      <td>43.000000</td>\n",
       "    </tr>\n",
       "    <tr>\n",
       "      <th>max</th>\n",
       "      <td>47.500000</td>\n",
       "      <td>46.000000</td>\n",
       "    </tr>\n",
       "  </tbody>\n",
       "</table>\n",
       "</div>"
      ],
      "text/plain": [
       "       street_shoe_size  climb_shoe_size\n",
       "count        182.000000       182.000000\n",
       "mean          42.013736        40.793516\n",
       "std            2.814932         2.735859\n",
       "min           36.000000        29.000000\n",
       "25%           39.500000        38.500000\n",
       "50%           42.500000        41.000000\n",
       "75%           44.000000        43.000000\n",
       "max           47.500000        46.000000"
      ]
     },
     "execution_count": 119,
     "metadata": {},
     "output_type": "execute_result"
    }
   ],
   "source": [
    "df_survey[['street_shoe_size','climb_shoe_size']].describe()"
   ]
  },
  {
   "cell_type": "markdown",
   "metadata": {},
   "source": [
    "Im gesamten Datensatz ist die durchschnittliche Größe von Straßenschuhen ca. 1,2 Nummern größer als die der Kletterschuh. Interessant wäre die Verteilung unter den Schuhmodellen zu betrachten."
   ]
  },
  {
   "cell_type": "code",
   "execution_count": 120,
   "metadata": {},
   "outputs": [
    {
     "data": {
      "text/html": [
       "<div>\n",
       "<style scoped>\n",
       "    .dataframe tbody tr th:only-of-type {\n",
       "        vertical-align: middle;\n",
       "    }\n",
       "\n",
       "    .dataframe tbody tr th {\n",
       "        vertical-align: top;\n",
       "    }\n",
       "\n",
       "    .dataframe thead th {\n",
       "        text-align: right;\n",
       "    }\n",
       "</style>\n",
       "<table border=\"1\" class=\"dataframe\">\n",
       "  <thead>\n",
       "    <tr style=\"text-align: right;\">\n",
       "      <th></th>\n",
       "      <th>shoe_model</th>\n",
       "      <th>street_shoe_size</th>\n",
       "      <th>climb_shoe_size</th>\n",
       "      <th>delta</th>\n",
       "      <th>count</th>\n",
       "    </tr>\n",
       "  </thead>\n",
       "  <tbody>\n",
       "    <tr>\n",
       "      <th>0</th>\n",
       "      <td>Black Diamond - ASPECT</td>\n",
       "      <td>39.0</td>\n",
       "      <td>40.0</td>\n",
       "      <td>1.0</td>\n",
       "      <td>1</td>\n",
       "    </tr>\n",
       "  </tbody>\n",
       "</table>\n",
       "</div>"
      ],
      "text/plain": [
       "               shoe_model  street_shoe_size  climb_shoe_size  delta  count\n",
       "0  Black Diamond - ASPECT              39.0             40.0    1.0      1"
      ]
     },
     "execution_count": 120,
     "metadata": {},
     "output_type": "execute_result"
    }
   ],
   "source": [
    "df_mean = df_survey.groupby('shoe_model')[['street_shoe_size','climb_shoe_size']].mean()\n",
    "df_count = df_survey.groupby('shoe_model')[['street_shoe_size','climb_shoe_size']].count()\n",
    "df_merge = pd.merge(df_mean, df_count, on='shoe_model')\n",
    "df_merge.reset_index(inplace=True)\n",
    "\n",
    "df_mean_shoesize_per_model = pd.DataFrame()\n",
    "df_mean_shoesize_per_model['shoe_model'] = df_merge['shoe_model']\n",
    "df_mean_shoesize_per_model['street_shoe_size'] = df_merge['street_shoe_size_x']\n",
    "df_mean_shoesize_per_model['climb_shoe_size'] = df_merge['climb_shoe_size_x']\n",
    "df_mean_shoesize_per_model['delta'] = df_merge['climb_shoe_size_x'] - df_merge['street_shoe_size_x']\n",
    "df_mean_shoesize_per_model['count'] = df_merge['street_shoe_size_y']\n",
    "df_mean_shoesize_per_model.head(1)"
   ]
  },
  {
   "cell_type": "code",
   "execution_count": 175,
   "metadata": {},
   "outputs": [
    {
     "data": {
      "text/html": [
       "<div>\n",
       "<style scoped>\n",
       "    .dataframe tbody tr th:only-of-type {\n",
       "        vertical-align: middle;\n",
       "    }\n",
       "\n",
       "    .dataframe tbody tr th {\n",
       "        vertical-align: top;\n",
       "    }\n",
       "\n",
       "    .dataframe thead th {\n",
       "        text-align: right;\n",
       "    }\n",
       "</style>\n",
       "<table border=\"1\" class=\"dataframe\">\n",
       "  <thead>\n",
       "    <tr style=\"text-align: right;\">\n",
       "      <th></th>\n",
       "      <th>shoe_model</th>\n",
       "      <th>street_shoe_size</th>\n",
       "      <th>climb_shoe_size</th>\n",
       "      <th>delta</th>\n",
       "      <th>count</th>\n",
       "    </tr>\n",
       "  </thead>\n",
       "  <tbody>\n",
       "    <tr>\n",
       "      <th>25</th>\n",
       "      <td>La Sportiva - SKWAMA</td>\n",
       "      <td>43.307692</td>\n",
       "      <td>40.692308</td>\n",
       "      <td>-2.615385</td>\n",
       "      <td>13</td>\n",
       "    </tr>\n",
       "    <tr>\n",
       "      <th>66</th>\n",
       "      <td>Scarpa - VAPOR V</td>\n",
       "      <td>42.863636</td>\n",
       "      <td>41.863636</td>\n",
       "      <td>-1.000000</td>\n",
       "      <td>11</td>\n",
       "    </tr>\n",
       "    <tr>\n",
       "      <th>45</th>\n",
       "      <td>Ocun - OZONE QC</td>\n",
       "      <td>43.785714</td>\n",
       "      <td>43.500000</td>\n",
       "      <td>-0.285714</td>\n",
       "      <td>7</td>\n",
       "    </tr>\n",
       "    <tr>\n",
       "      <th>53</th>\n",
       "      <td>Red Chili - SPIRIT VCR</td>\n",
       "      <td>43.285714</td>\n",
       "      <td>42.285714</td>\n",
       "      <td>-1.000000</td>\n",
       "      <td>7</td>\n",
       "    </tr>\n",
       "    <tr>\n",
       "      <th>23</th>\n",
       "      <td>La Sportiva - OTAKI</td>\n",
       "      <td>43.642857</td>\n",
       "      <td>41.857143</td>\n",
       "      <td>-1.785714</td>\n",
       "      <td>7</td>\n",
       "    </tr>\n",
       "    <tr>\n",
       "      <th>21</th>\n",
       "      <td>La Sportiva - MYTHOS</td>\n",
       "      <td>44.000000</td>\n",
       "      <td>42.071429</td>\n",
       "      <td>-1.928571</td>\n",
       "      <td>7</td>\n",
       "    </tr>\n",
       "    <tr>\n",
       "      <th>9</th>\n",
       "      <td>Five Ten - HIANGLE</td>\n",
       "      <td>42.666667</td>\n",
       "      <td>42.195000</td>\n",
       "      <td>-0.471667</td>\n",
       "      <td>6</td>\n",
       "    </tr>\n",
       "    <tr>\n",
       "      <th>26</th>\n",
       "      <td>La Sportiva - SOLUTION</td>\n",
       "      <td>42.400000</td>\n",
       "      <td>40.100000</td>\n",
       "      <td>-2.300000</td>\n",
       "      <td>5</td>\n",
       "    </tr>\n",
       "    <tr>\n",
       "      <th>5</th>\n",
       "      <td>Evolv - SHAMAN 2</td>\n",
       "      <td>43.400000</td>\n",
       "      <td>43.700000</td>\n",
       "      <td>0.300000</td>\n",
       "      <td>5</td>\n",
       "    </tr>\n",
       "    <tr>\n",
       "      <th>57</th>\n",
       "      <td>Scarpa - DRAGO</td>\n",
       "      <td>40.400000</td>\n",
       "      <td>38.800000</td>\n",
       "      <td>-1.600000</td>\n",
       "      <td>5</td>\n",
       "    </tr>\n",
       "  </tbody>\n",
       "</table>\n",
       "</div>"
      ],
      "text/plain": [
       "                shoe_model  street_shoe_size  climb_shoe_size     delta  count\n",
       "25    La Sportiva - SKWAMA         43.307692        40.692308 -2.615385     13\n",
       "66        Scarpa - VAPOR V         42.863636        41.863636 -1.000000     11\n",
       "45         Ocun - OZONE QC         43.785714        43.500000 -0.285714      7\n",
       "53  Red Chili - SPIRIT VCR         43.285714        42.285714 -1.000000      7\n",
       "23     La Sportiva - OTAKI         43.642857        41.857143 -1.785714      7\n",
       "21    La Sportiva - MYTHOS         44.000000        42.071429 -1.928571      7\n",
       "9       Five Ten - HIANGLE         42.666667        42.195000 -0.471667      6\n",
       "26  La Sportiva - SOLUTION         42.400000        40.100000 -2.300000      5\n",
       "5         Evolv - SHAMAN 2         43.400000        43.700000  0.300000      5\n",
       "57          Scarpa - DRAGO         40.400000        38.800000 -1.600000      5"
      ]
     },
     "execution_count": 175,
     "metadata": {},
     "output_type": "execute_result"
    }
   ],
   "source": [
    "df_top10 = df_mean_shoesize_per_model.sort_values(by='count', ascending=False)[:10]\n",
    "df_top10"
   ]
  },
  {
   "cell_type": "code",
   "execution_count": 176,
   "metadata": {},
   "outputs": [
    {
     "data": {
      "image/png": "[encoded data removed]",
      "text/plain": [
       "<Figure size 1008x576 with 1 Axes>"
      ]
     },
     "metadata": {
      "needs_background": "light"
     },
     "output_type": "display_data"
    }
   ],
   "source": [
    "plt.figure(figsize=(14,8))\n",
    "x = df_top10['shoe_model']\n",
    "y1 = df_top10['street_shoe_size']\n",
    "y2 = df_top10['climb_shoe_size']\n",
    "plt.plot(x,y1 , 'o--')\n",
    "plt.plot(x,y2 , 'o--')\n",
    "plt.fill_between(x, y1, y2, color='C0', alpha=0.3)\n",
    "plt.fill_between(x, y1, y2, where=(y1 < y2), color='C1', alpha=0.3)\n",
    "\n",
    "plt.legend(['Street Shoe', 'Climb Shoe'])\n",
    "plt.xticks(rotation=90)\n",
    "plt.show()"
   ]
  },
  {
   "cell_type": "markdown",
   "metadata": {},
   "source": [
    "Die Darstellung zeigt die 10 am häufigsten genannten Kletterschuhe. Es sind deutliche Unterschiede zwischen den Straßenschuhgrößen und Kletterschuhgrößen zu erkennen. Letztere fallen inder Regel kleiner aus, wobei nicht bei jedem Modell exakt die gleiche Differenz zu finden ist. Demnach wird ein La Sportiva SKWAMA meistens ca. 2,5 Größen kleiner getragen, während ein VAPOR V von Scarpa nur eine Größe kleiner ausfällt."
   ]
  },
  {
   "cell_type": "markdown",
   "metadata": {},
   "source": [
    "# Preprocessing"
   ]
  },
  {
   "cell_type": "markdown",
   "metadata": {},
   "source": [
    "Für die bessere Visualisierung wurden die Fußtypen als auch die Fehlstellungen in sogenannte Dummy Variablen konvertiert, sodass jedes Merkmal eine eigene Spalte besitzt und durch einen binären code anzeigen kann, ob das Merkmal für eine Beobachtung vorhanden ist oder nicht. Daher können die ursprünglichen Spalten entfernt werden, so wie die Zielvariable \\enquote{Schuhmodell}, da diese vorhergesagt werden soll."
   ]
  },
  {
   "cell_type": "code",
   "execution_count": 179,
   "metadata": {},
   "outputs": [
    {
     "data": {
      "text/plain": [
       "Index(['timestamp', 'street_shoe_size', 'fav_sneaker_model', 'foot_len',\n",
       "       'foot_width', 'foot_type', 'foot_deform', 'shoe_brand', 'shoe_model',\n",
       "       'shoe_model_manual', 'climb_shoe_size', 'shoe_age', 'favourite',\n",
       "       'vorspann', 'downturn', 'asymetry', 'closure_type', 'climb_style',\n",
       "       'terrain', 'rate_fit', 'rate_comfort', 'rate_stiffness',\n",
       "       'use_frequency', 'climbed_grade', 'overall_rating', 'gender', 'height',\n",
       "       'weight', 'age', 'climbing_exp', 'hallux', 'senkfuß', 'spreizfuß',\n",
       "       'plattfuß', 'hohlfuß', 'knickfuß', 'ägyptischer', 'römischer',\n",
       "       'griechischer'],\n",
       "      dtype='object')"
      ]
     },
     "execution_count": 179,
     "metadata": {},
     "output_type": "execute_result"
    }
   ],
   "source": [
    "df_survey.columns"
   ]
  },
  {
   "cell_type": "code",
   "execution_count": 184,
   "metadata": {},
   "outputs": [
    {
     "data": {
      "text/html": [
       "<div>\n",
       "<style scoped>\n",
       "    .dataframe tbody tr th:only-of-type {\n",
       "        vertical-align: middle;\n",
       "    }\n",
       "\n",
       "    .dataframe tbody tr th {\n",
       "        vertical-align: top;\n",
       "    }\n",
       "\n",
       "    .dataframe thead th {\n",
       "        text-align: right;\n",
       "    }\n",
       "</style>\n",
       "<table border=\"1\" class=\"dataframe\">\n",
       "  <thead>\n",
       "    <tr style=\"text-align: right;\">\n",
       "      <th></th>\n",
       "      <th>street_shoe_size</th>\n",
       "      <th>foot_len</th>\n",
       "      <th>foot_width</th>\n",
       "      <th>climb_style</th>\n",
       "      <th>terrain</th>\n",
       "      <th>gender</th>\n",
       "      <th>height</th>\n",
       "      <th>weight</th>\n",
       "      <th>age</th>\n",
       "      <th>climbing_exp</th>\n",
       "      <th>hallux</th>\n",
       "      <th>senkfuß</th>\n",
       "      <th>spreizfuß</th>\n",
       "      <th>plattfuß</th>\n",
       "      <th>hohlfuß</th>\n",
       "      <th>knickfuß</th>\n",
       "      <th>ägyptischer</th>\n",
       "      <th>römischer</th>\n",
       "      <th>griechischer</th>\n",
       "    </tr>\n",
       "  </thead>\n",
       "  <tbody>\n",
       "    <tr>\n",
       "      <th>0</th>\n",
       "      <td>41.5</td>\n",
       "      <td>25.5</td>\n",
       "      <td>10.0</td>\n",
       "      <td>Sportklettern, Bouldern</td>\n",
       "      <td>Beides</td>\n",
       "      <td>Männlich</td>\n",
       "      <td>168</td>\n",
       "      <td>61</td>\n",
       "      <td>29</td>\n",
       "      <td>4.0</td>\n",
       "      <td>0</td>\n",
       "      <td>0</td>\n",
       "      <td>0</td>\n",
       "      <td>0</td>\n",
       "      <td>0</td>\n",
       "      <td>0</td>\n",
       "      <td>1</td>\n",
       "      <td>0</td>\n",
       "      <td>0</td>\n",
       "    </tr>\n",
       "  </tbody>\n",
       "</table>\n",
       "</div>"
      ],
      "text/plain": [
       "   street_shoe_size  foot_len  foot_width              climb_style terrain  \\\n",
       "0              41.5      25.5        10.0  Sportklettern, Bouldern  Beides   \n",
       "\n",
       "     gender  height  weight  age  climbing_exp  hallux  senkfuß  spreizfuß  \\\n",
       "0  Männlich     168      61   29           4.0       0        0          0   \n",
       "\n",
       "   plattfuß  hohlfuß  knickfuß  ägyptischer  römischer  griechischer  \n",
       "0         0        0         0            1          0             0  "
      ]
     },
     "execution_count": 184,
     "metadata": {},
     "output_type": "execute_result"
    }
   ],
   "source": [
    "df_prep = df_survey.drop(['timestamp','foot_deform','foot_type','fav_sneaker_model', 'shoe_brand', 'shoe_model',\n",
    "       'shoe_model_manual', 'climb_shoe_size', 'shoe_age', 'favourite',\n",
    "       'vorspann', 'downturn', 'asymetry', 'closure_type','rate_fit', 'rate_comfort', 'rate_stiffness',\n",
    "       'use_frequency', 'climbed_grade', 'overall_rating'], axis=1)\n",
    "df_prep.head(1)"
   ]
  },
  {
   "cell_type": "markdown",
   "metadata": {},
   "source": [
    "## Fehlende Werte"
   ]
  },
  {
   "cell_type": "code",
   "execution_count": 185,
   "metadata": {},
   "outputs": [
    {
     "data": {
      "text/plain": [
       "street_shoe_size    0\n",
       "foot_len            0\n",
       "foot_width          0\n",
       "climb_style         0\n",
       "terrain             0\n",
       "gender              0\n",
       "height              0\n",
       "weight              0\n",
       "age                 0\n",
       "climbing_exp        0\n",
       "hallux              0\n",
       "senkfuß             0\n",
       "spreizfuß           0\n",
       "plattfuß            0\n",
       "hohlfuß             0\n",
       "knickfuß            0\n",
       "ägyptischer         0\n",
       "römischer           0\n",
       "griechischer        0\n",
       "dtype: int64"
      ]
     },
     "execution_count": 185,
     "metadata": {},
     "output_type": "execute_result"
    }
   ],
   "source": [
    "df_prep.isnull().sum()"
   ]
  },
  {
   "cell_type": "markdown",
   "metadata": {},
   "source": [
    "## Ausreißer"
   ]
  },
  {
   "cell_type": "code",
   "execution_count": 187,
   "metadata": {},
   "outputs": [
    {
     "data": {
      "text/plain": [
       "Index(['street_shoe_size', 'foot_len', 'foot_width', 'height', 'weight', 'age',\n",
       "       'climbing_exp', 'hallux', 'senkfuß', 'spreizfuß', 'plattfuß', 'hohlfuß',\n",
       "       'knickfuß', 'ägyptischer', 'römischer', 'griechischer'],\n",
       "      dtype='object')"
      ]
     },
     "execution_count": 187,
     "metadata": {},
     "output_type": "execute_result"
    }
   ],
   "source": [
    "df_prep.select_dtypes(['int64','float64']).columns"
   ]
  },
  {
   "cell_type": "code",
   "execution_count": 190,
   "metadata": {},
   "outputs": [
    {
     "data": {
      "image/png": "[encoded data removed]",
      "text/plain": [
       "<Figure size 1008x576 with 9 Axes>"
      ]
     },
     "metadata": {
      "needs_background": "light"
     },
     "output_type": "display_data"
    }
   ],
   "source": [
    "fig, axs = plt.subplots(3, 3, figsize=(14, 8))\n",
    "fig.suptitle('Übersicht Verteilungen')\n",
    "sns.boxplot(y='height',data=df_prep,palette='viridis',ax=axs[0,0])\n",
    "sns.boxplot(y='weight',data=df_prep,palette='viridis',ax=axs[0,1])\n",
    "sns.boxplot(y='age',data=df_prep,palette='viridis',ax=axs[0,2])\n",
    "sns.boxplot(y='foot_len',data=df_prep,palette='viridis',ax=axs[1,0])\n",
    "sns.boxplot(y='foot_width',data=df_prep,palette='viridis',ax=axs[1,1])\n",
    "sns.boxplot(y='street_shoe_size',data=df_prep,palette='viridis', ax=axs[1,2])\n",
    "sns.boxplot(y='climbing_exp',data=df_prep,palette='viridis', ax=axs[2,1])\n",
    "\n",
    "plt.show()"
   ]
  },
  {
   "cell_type": "code",
   "execution_count": 191,
   "metadata": {},
   "outputs": [
    {
     "data": {
      "text/html": [
       "<div>\n",
       "<style scoped>\n",
       "    .dataframe tbody tr th:only-of-type {\n",
       "        vertical-align: middle;\n",
       "    }\n",
       "\n",
       "    .dataframe tbody tr th {\n",
       "        vertical-align: top;\n",
       "    }\n",
       "\n",
       "    .dataframe thead th {\n",
       "        text-align: right;\n",
       "    }\n",
       "</style>\n",
       "<table border=\"1\" class=\"dataframe\">\n",
       "  <thead>\n",
       "    <tr style=\"text-align: right;\">\n",
       "      <th></th>\n",
       "      <th>street_shoe_size</th>\n",
       "      <th>foot_len</th>\n",
       "      <th>foot_width</th>\n",
       "      <th>climb_style</th>\n",
       "      <th>terrain</th>\n",
       "      <th>gender</th>\n",
       "      <th>height</th>\n",
       "      <th>weight</th>\n",
       "      <th>age</th>\n",
       "      <th>climbing_exp</th>\n",
       "      <th>hallux</th>\n",
       "      <th>senkfuß</th>\n",
       "      <th>spreizfuß</th>\n",
       "      <th>plattfuß</th>\n",
       "      <th>hohlfuß</th>\n",
       "      <th>knickfuß</th>\n",
       "      <th>ägyptischer</th>\n",
       "      <th>römischer</th>\n",
       "      <th>griechischer</th>\n",
       "    </tr>\n",
       "  </thead>\n",
       "  <tbody>\n",
       "    <tr>\n",
       "      <th>68</th>\n",
       "      <td>39.5</td>\n",
       "      <td>10.2</td>\n",
       "      <td>9.5</td>\n",
       "      <td>Sportklettern, Bouldern, Mehrseillängen</td>\n",
       "      <td>Beides</td>\n",
       "      <td>Weiblich</td>\n",
       "      <td>167</td>\n",
       "      <td>62</td>\n",
       "      <td>24</td>\n",
       "      <td>3.0</td>\n",
       "      <td>0</td>\n",
       "      <td>0</td>\n",
       "      <td>0</td>\n",
       "      <td>0</td>\n",
       "      <td>0</td>\n",
       "      <td>0</td>\n",
       "      <td>0</td>\n",
       "      <td>1</td>\n",
       "      <td>0</td>\n",
       "    </tr>\n",
       "    <tr>\n",
       "      <th>145</th>\n",
       "      <td>39.5</td>\n",
       "      <td>10.2</td>\n",
       "      <td>9.5</td>\n",
       "      <td>Sportklettern, Bouldern</td>\n",
       "      <td>Beides</td>\n",
       "      <td>Weiblich</td>\n",
       "      <td>167</td>\n",
       "      <td>62</td>\n",
       "      <td>24</td>\n",
       "      <td>3.0</td>\n",
       "      <td>0</td>\n",
       "      <td>0</td>\n",
       "      <td>0</td>\n",
       "      <td>0</td>\n",
       "      <td>0</td>\n",
       "      <td>0</td>\n",
       "      <td>0</td>\n",
       "      <td>1</td>\n",
       "      <td>0</td>\n",
       "    </tr>\n",
       "  </tbody>\n",
       "</table>\n",
       "</div>"
      ],
      "text/plain": [
       "     street_shoe_size  foot_len  foot_width  \\\n",
       "68               39.5      10.2         9.5   \n",
       "145              39.5      10.2         9.5   \n",
       "\n",
       "                                 climb_style terrain    gender  height  \\\n",
       "68   Sportklettern, Bouldern, Mehrseillängen  Beides  Weiblich     167   \n",
       "145                  Sportklettern, Bouldern  Beides  Weiblich     167   \n",
       "\n",
       "     weight  age  climbing_exp  hallux  senkfuß  spreizfuß  plattfuß  hohlfuß  \\\n",
       "68       62   24           3.0       0        0          0         0        0   \n",
       "145      62   24           3.0       0        0          0         0        0   \n",
       "\n",
       "     knickfuß  ägyptischer  römischer  griechischer  \n",
       "68          0            0          1             0  \n",
       "145         0            0          1             0  "
      ]
     },
     "execution_count": 191,
     "metadata": {},
     "output_type": "execute_result"
    }
   ],
   "source": [
    "df_prep[df_prep['foot_len'] < 20]"
   ]
  },
  {
   "cell_type": "code",
   "execution_count": 193,
   "metadata": {},
   "outputs": [
    {
     "data": {
      "text/plain": [
       "69     27.0\n",
       "146    24.0\n",
       "Name: foot_len, dtype: float64"
      ]
     },
     "execution_count": 193,
     "metadata": {},
     "output_type": "execute_result"
    }
   ],
   "source": [
    "df_prep.at[68,'foot_len'] = round(df_prep['foot_len'].mean(),2)\n",
    "df_prep.at[145,'foot_len'] = round(df_prep['foot_len'].mean(),2)\n",
    "df_prep['foot_len'].iloc[[68,145]]"
   ]
  },
  {
   "cell_type": "code",
   "execution_count": 194,
   "metadata": {},
   "outputs": [
    {
     "data": {
      "text/html": [
       "<div>\n",
       "<style scoped>\n",
       "    .dataframe tbody tr th:only-of-type {\n",
       "        vertical-align: middle;\n",
       "    }\n",
       "\n",
       "    .dataframe tbody tr th {\n",
       "        vertical-align: top;\n",
       "    }\n",
       "\n",
       "    .dataframe thead th {\n",
       "        text-align: right;\n",
       "    }\n",
       "</style>\n",
       "<table border=\"1\" class=\"dataframe\">\n",
       "  <thead>\n",
       "    <tr style=\"text-align: right;\">\n",
       "      <th></th>\n",
       "      <th>street_shoe_size</th>\n",
       "      <th>foot_len</th>\n",
       "      <th>foot_width</th>\n",
       "      <th>climb_style</th>\n",
       "      <th>terrain</th>\n",
       "      <th>gender</th>\n",
       "      <th>height</th>\n",
       "      <th>weight</th>\n",
       "      <th>age</th>\n",
       "      <th>climbing_exp</th>\n",
       "      <th>hallux</th>\n",
       "      <th>senkfuß</th>\n",
       "      <th>spreizfuß</th>\n",
       "      <th>plattfuß</th>\n",
       "      <th>hohlfuß</th>\n",
       "      <th>knickfuß</th>\n",
       "      <th>ägyptischer</th>\n",
       "      <th>römischer</th>\n",
       "      <th>griechischer</th>\n",
       "    </tr>\n",
       "  </thead>\n",
       "  <tbody>\n",
       "    <tr>\n",
       "      <th>26</th>\n",
       "      <td>42.0</td>\n",
       "      <td>22.0</td>\n",
       "      <td>7.0</td>\n",
       "      <td>Bouldern</td>\n",
       "      <td>Halle</td>\n",
       "      <td>Männlich</td>\n",
       "      <td>173</td>\n",
       "      <td>55</td>\n",
       "      <td>15</td>\n",
       "      <td>3.0</td>\n",
       "      <td>0</td>\n",
       "      <td>0</td>\n",
       "      <td>1</td>\n",
       "      <td>0</td>\n",
       "      <td>0</td>\n",
       "      <td>0</td>\n",
       "      <td>0</td>\n",
       "      <td>0</td>\n",
       "      <td>1</td>\n",
       "    </tr>\n",
       "    <tr>\n",
       "      <th>43</th>\n",
       "      <td>38.0</td>\n",
       "      <td>23.5</td>\n",
       "      <td>7.5</td>\n",
       "      <td>Sportklettern, Bouldern</td>\n",
       "      <td>Beides</td>\n",
       "      <td>Weiblich</td>\n",
       "      <td>162</td>\n",
       "      <td>57</td>\n",
       "      <td>25</td>\n",
       "      <td>7.0</td>\n",
       "      <td>0</td>\n",
       "      <td>1</td>\n",
       "      <td>0</td>\n",
       "      <td>0</td>\n",
       "      <td>0</td>\n",
       "      <td>0</td>\n",
       "      <td>1</td>\n",
       "      <td>0</td>\n",
       "      <td>0</td>\n",
       "    </tr>\n",
       "    <tr>\n",
       "      <th>100</th>\n",
       "      <td>44.0</td>\n",
       "      <td>27.0</td>\n",
       "      <td>7.0</td>\n",
       "      <td>Sportklettern, Bouldern</td>\n",
       "      <td>Beides</td>\n",
       "      <td>Männlich</td>\n",
       "      <td>179</td>\n",
       "      <td>81</td>\n",
       "      <td>31</td>\n",
       "      <td>2.0</td>\n",
       "      <td>0</td>\n",
       "      <td>1</td>\n",
       "      <td>0</td>\n",
       "      <td>0</td>\n",
       "      <td>0</td>\n",
       "      <td>0</td>\n",
       "      <td>1</td>\n",
       "      <td>0</td>\n",
       "      <td>0</td>\n",
       "    </tr>\n",
       "    <tr>\n",
       "      <th>132</th>\n",
       "      <td>38.0</td>\n",
       "      <td>23.5</td>\n",
       "      <td>7.5</td>\n",
       "      <td>Sportklettern, Bouldern</td>\n",
       "      <td>Beides</td>\n",
       "      <td>Weiblich</td>\n",
       "      <td>162</td>\n",
       "      <td>57</td>\n",
       "      <td>25</td>\n",
       "      <td>7.0</td>\n",
       "      <td>0</td>\n",
       "      <td>1</td>\n",
       "      <td>0</td>\n",
       "      <td>0</td>\n",
       "      <td>0</td>\n",
       "      <td>0</td>\n",
       "      <td>1</td>\n",
       "      <td>0</td>\n",
       "      <td>0</td>\n",
       "    </tr>\n",
       "    <tr>\n",
       "      <th>160</th>\n",
       "      <td>44.0</td>\n",
       "      <td>27.0</td>\n",
       "      <td>7.0</td>\n",
       "      <td>Sportklettern, Bouldern</td>\n",
       "      <td>Halle</td>\n",
       "      <td>Männlich</td>\n",
       "      <td>179</td>\n",
       "      <td>81</td>\n",
       "      <td>31</td>\n",
       "      <td>2.0</td>\n",
       "      <td>0</td>\n",
       "      <td>1</td>\n",
       "      <td>0</td>\n",
       "      <td>0</td>\n",
       "      <td>0</td>\n",
       "      <td>0</td>\n",
       "      <td>1</td>\n",
       "      <td>0</td>\n",
       "      <td>0</td>\n",
       "    </tr>\n",
       "    <tr>\n",
       "      <th>169</th>\n",
       "      <td>38.0</td>\n",
       "      <td>23.5</td>\n",
       "      <td>7.5</td>\n",
       "      <td>Sportklettern, Bouldern</td>\n",
       "      <td>Beides</td>\n",
       "      <td>Weiblich</td>\n",
       "      <td>162</td>\n",
       "      <td>57</td>\n",
       "      <td>25</td>\n",
       "      <td>7.0</td>\n",
       "      <td>0</td>\n",
       "      <td>1</td>\n",
       "      <td>0</td>\n",
       "      <td>0</td>\n",
       "      <td>0</td>\n",
       "      <td>0</td>\n",
       "      <td>1</td>\n",
       "      <td>0</td>\n",
       "      <td>0</td>\n",
       "    </tr>\n",
       "  </tbody>\n",
       "</table>\n",
       "</div>"
      ],
      "text/plain": [
       "     street_shoe_size  foot_len  foot_width              climb_style terrain  \\\n",
       "26               42.0      22.0         7.0                 Bouldern   Halle   \n",
       "43               38.0      23.5         7.5  Sportklettern, Bouldern  Beides   \n",
       "100              44.0      27.0         7.0  Sportklettern, Bouldern  Beides   \n",
       "132              38.0      23.5         7.5  Sportklettern, Bouldern  Beides   \n",
       "160              44.0      27.0         7.0  Sportklettern, Bouldern   Halle   \n",
       "169              38.0      23.5         7.5  Sportklettern, Bouldern  Beides   \n",
       "\n",
       "       gender  height  weight  age  climbing_exp  hallux  senkfuß  spreizfuß  \\\n",
       "26   Männlich     173      55   15           3.0       0        0          1   \n",
       "43   Weiblich     162      57   25           7.0       0        1          0   \n",
       "100  Männlich     179      81   31           2.0       0        1          0   \n",
       "132  Weiblich     162      57   25           7.0       0        1          0   \n",
       "160  Männlich     179      81   31           2.0       0        1          0   \n",
       "169  Weiblich     162      57   25           7.0       0        1          0   \n",
       "\n",
       "     plattfuß  hohlfuß  knickfuß  ägyptischer  römischer  griechischer  \n",
       "26          0        0         0            0          0             1  \n",
       "43          0        0         0            1          0             0  \n",
       "100         0        0         0            1          0             0  \n",
       "132         0        0         0            1          0             0  \n",
       "160         0        0         0            1          0             0  \n",
       "169         0        0         0            1          0             0  "
      ]
     },
     "execution_count": 194,
     "metadata": {},
     "output_type": "execute_result"
    }
   ],
   "source": [
    "df_prep[df_prep['foot_width'] < 8]"
   ]
  },
  {
   "cell_type": "markdown",
   "metadata": {},
   "source": [
    "## Kategorien / Ordinalwerte in Zahlen wandeln"
   ]
  },
  {
   "cell_type": "code",
   "execution_count": 195,
   "metadata": {},
   "outputs": [
    {
     "data": {
      "text/plain": [
       "Index(['climb_style', 'terrain', 'gender'], dtype='object')"
      ]
     },
     "execution_count": 195,
     "metadata": {},
     "output_type": "execute_result"
    }
   ],
   "source": [
    "df_prep.select_dtypes(['object']).columns"
   ]
  },
  {
   "cell_type": "code",
   "execution_count": 197,
   "metadata": {},
   "outputs": [
    {
     "data": {
      "text/html": [
       "<div>\n",
       "<style scoped>\n",
       "    .dataframe tbody tr th:only-of-type {\n",
       "        vertical-align: middle;\n",
       "    }\n",
       "\n",
       "    .dataframe tbody tr th {\n",
       "        vertical-align: top;\n",
       "    }\n",
       "\n",
       "    .dataframe thead th {\n",
       "        text-align: right;\n",
       "    }\n",
       "</style>\n",
       "<table border=\"1\" class=\"dataframe\">\n",
       "  <thead>\n",
       "    <tr style=\"text-align: right;\">\n",
       "      <th></th>\n",
       "      <th>street_shoe_size</th>\n",
       "      <th>foot_len</th>\n",
       "      <th>foot_width</th>\n",
       "      <th>terrain</th>\n",
       "      <th>gender</th>\n",
       "      <th>height</th>\n",
       "      <th>weight</th>\n",
       "      <th>age</th>\n",
       "      <th>climbing_exp</th>\n",
       "      <th>hallux</th>\n",
       "      <th>...</th>\n",
       "      <th>spreizfuß</th>\n",
       "      <th>plattfuß</th>\n",
       "      <th>hohlfuß</th>\n",
       "      <th>knickfuß</th>\n",
       "      <th>ägyptischer</th>\n",
       "      <th>römischer</th>\n",
       "      <th>griechischer</th>\n",
       "      <th>sportklettern</th>\n",
       "      <th>bouldern</th>\n",
       "      <th>mehrseillängen</th>\n",
       "    </tr>\n",
       "  </thead>\n",
       "  <tbody>\n",
       "    <tr>\n",
       "      <th>0</th>\n",
       "      <td>41.5</td>\n",
       "      <td>25.5</td>\n",
       "      <td>10.0</td>\n",
       "      <td>Beides</td>\n",
       "      <td>Männlich</td>\n",
       "      <td>168</td>\n",
       "      <td>61</td>\n",
       "      <td>29</td>\n",
       "      <td>4.0</td>\n",
       "      <td>0</td>\n",
       "      <td>...</td>\n",
       "      <td>0</td>\n",
       "      <td>0</td>\n",
       "      <td>0</td>\n",
       "      <td>0</td>\n",
       "      <td>1</td>\n",
       "      <td>0</td>\n",
       "      <td>0</td>\n",
       "      <td>1</td>\n",
       "      <td>1</td>\n",
       "      <td>0</td>\n",
       "    </tr>\n",
       "  </tbody>\n",
       "</table>\n",
       "<p>1 rows × 21 columns</p>\n",
       "</div>"
      ],
      "text/plain": [
       "   street_shoe_size  foot_len  foot_width terrain    gender  height  weight  \\\n",
       "0              41.5      25.5        10.0  Beides  Männlich     168      61   \n",
       "\n",
       "   age  climbing_exp  hallux  ...  spreizfuß  plattfuß  hohlfuß  knickfuß  \\\n",
       "0   29           4.0       0  ...          0         0        0         0   \n",
       "\n",
       "   ägyptischer  römischer  griechischer  sportklettern  bouldern  \\\n",
       "0            1          0             0              1         1   \n",
       "\n",
       "   mehrseillängen  \n",
       "0               0  \n",
       "\n",
       "[1 rows x 21 columns]"
      ]
     },
     "execution_count": 197,
     "metadata": {},
     "output_type": "execute_result"
    }
   ],
   "source": [
    "def strip_list(liste):\n",
    "    stripped = []\n",
    "    \n",
    "    for n in liste:\n",
    "        stripped.append(n.strip())\n",
    "    \n",
    "    return stripped\n",
    "\n",
    "styles = ['Sportklettern', 'Bouldern', 'Mehrseillängen']\n",
    "for style in styles:\n",
    "    df_prep[style.lower().split()[0]] = df_prep.apply(lambda row: 1 if style in strip_list(row.climb_style.split(',')) else 0, axis=1)\n",
    "\n",
    "df_prep.drop('climb_style',axis=1,inplace=True)\n",
    "df_prep.head(1)"
   ]
  },
  {
   "cell_type": "code",
   "execution_count": 199,
   "metadata": {},
   "outputs": [
    {
     "data": {
      "text/plain": [
       "array(['Beides', 'Halle', 'Outdoor'], dtype=object)"
      ]
     },
     "execution_count": 199,
     "metadata": {},
     "output_type": "execute_result"
    }
   ],
   "source": [
    "df_prep['terrain'].unique()"
   ]
  },
  {
   "cell_type": "code",
   "execution_count": 200,
   "metadata": {},
   "outputs": [
    {
     "data": {
      "text/html": [
       "<div>\n",
       "<style scoped>\n",
       "    .dataframe tbody tr th:only-of-type {\n",
       "        vertical-align: middle;\n",
       "    }\n",
       "\n",
       "    .dataframe tbody tr th {\n",
       "        vertical-align: top;\n",
       "    }\n",
       "\n",
       "    .dataframe thead th {\n",
       "        text-align: right;\n",
       "    }\n",
       "</style>\n",
       "<table border=\"1\" class=\"dataframe\">\n",
       "  <thead>\n",
       "    <tr style=\"text-align: right;\">\n",
       "      <th></th>\n",
       "      <th>street_shoe_size</th>\n",
       "      <th>foot_len</th>\n",
       "      <th>foot_width</th>\n",
       "      <th>gender</th>\n",
       "      <th>height</th>\n",
       "      <th>weight</th>\n",
       "      <th>age</th>\n",
       "      <th>climbing_exp</th>\n",
       "      <th>hallux</th>\n",
       "      <th>senkfuß</th>\n",
       "      <th>...</th>\n",
       "      <th>hohlfuß</th>\n",
       "      <th>knickfuß</th>\n",
       "      <th>ägyptischer</th>\n",
       "      <th>römischer</th>\n",
       "      <th>griechischer</th>\n",
       "      <th>sportklettern</th>\n",
       "      <th>bouldern</th>\n",
       "      <th>mehrseillängen</th>\n",
       "      <th>halle</th>\n",
       "      <th>outdoor</th>\n",
       "    </tr>\n",
       "  </thead>\n",
       "  <tbody>\n",
       "    <tr>\n",
       "      <th>0</th>\n",
       "      <td>41.5</td>\n",
       "      <td>25.5</td>\n",
       "      <td>10.0</td>\n",
       "      <td>Männlich</td>\n",
       "      <td>168</td>\n",
       "      <td>61</td>\n",
       "      <td>29</td>\n",
       "      <td>4.0</td>\n",
       "      <td>0</td>\n",
       "      <td>0</td>\n",
       "      <td>...</td>\n",
       "      <td>0</td>\n",
       "      <td>0</td>\n",
       "      <td>1</td>\n",
       "      <td>0</td>\n",
       "      <td>0</td>\n",
       "      <td>1</td>\n",
       "      <td>1</td>\n",
       "      <td>0</td>\n",
       "      <td>1</td>\n",
       "      <td>1</td>\n",
       "    </tr>\n",
       "  </tbody>\n",
       "</table>\n",
       "<p>1 rows × 22 columns</p>\n",
       "</div>"
      ],
      "text/plain": [
       "   street_shoe_size  foot_len  foot_width    gender  height  weight  age  \\\n",
       "0              41.5      25.5        10.0  Männlich     168      61   29   \n",
       "\n",
       "   climbing_exp  hallux  senkfuß  ...  hohlfuß  knickfuß  ägyptischer  \\\n",
       "0           4.0       0        0  ...        0         0            1   \n",
       "\n",
       "   römischer  griechischer  sportklettern  bouldern  mehrseillängen  halle  \\\n",
       "0          0             0              1         1               0      1   \n",
       "\n",
       "   outdoor  \n",
       "0        1  \n",
       "\n",
       "[1 rows x 22 columns]"
      ]
     },
     "execution_count": 200,
     "metadata": {},
     "output_type": "execute_result"
    }
   ],
   "source": [
    "df_prep['halle'] = df_prep['terrain'].map(lambda row: 1 if row in ['Halle', 'Beides'] else 0)\n",
    "df_prep['outdoor'] = df_prep['terrain'].map(lambda row: 1 if row in ['Outdoor', 'Beides'] else 0)\n",
    "\n",
    "df_prep.drop('terrain',axis=1,inplace=True)\n",
    "df_prep.head(1)"
   ]
  },
  {
   "cell_type": "code",
   "execution_count": 202,
   "metadata": {},
   "outputs": [
    {
     "data": {
      "text/html": [
       "<div>\n",
       "<style scoped>\n",
       "    .dataframe tbody tr th:only-of-type {\n",
       "        vertical-align: middle;\n",
       "    }\n",
       "\n",
       "    .dataframe tbody tr th {\n",
       "        vertical-align: top;\n",
       "    }\n",
       "\n",
       "    .dataframe thead th {\n",
       "        text-align: right;\n",
       "    }\n",
       "</style>\n",
       "<table border=\"1\" class=\"dataframe\">\n",
       "  <thead>\n",
       "    <tr style=\"text-align: right;\">\n",
       "      <th></th>\n",
       "      <th>street_shoe_size</th>\n",
       "      <th>foot_len</th>\n",
       "      <th>foot_width</th>\n",
       "      <th>height</th>\n",
       "      <th>weight</th>\n",
       "      <th>age</th>\n",
       "      <th>climbing_exp</th>\n",
       "      <th>hallux</th>\n",
       "      <th>senkfuß</th>\n",
       "      <th>spreizfuß</th>\n",
       "      <th>...</th>\n",
       "      <th>knickfuß</th>\n",
       "      <th>ägyptischer</th>\n",
       "      <th>römischer</th>\n",
       "      <th>griechischer</th>\n",
       "      <th>sportklettern</th>\n",
       "      <th>bouldern</th>\n",
       "      <th>mehrseillängen</th>\n",
       "      <th>halle</th>\n",
       "      <th>outdoor</th>\n",
       "      <th>gender_Weiblich</th>\n",
       "    </tr>\n",
       "  </thead>\n",
       "  <tbody>\n",
       "    <tr>\n",
       "      <th>0</th>\n",
       "      <td>41.5</td>\n",
       "      <td>25.5</td>\n",
       "      <td>10.0</td>\n",
       "      <td>168</td>\n",
       "      <td>61</td>\n",
       "      <td>29</td>\n",
       "      <td>4.0</td>\n",
       "      <td>0</td>\n",
       "      <td>0</td>\n",
       "      <td>0</td>\n",
       "      <td>...</td>\n",
       "      <td>0</td>\n",
       "      <td>1</td>\n",
       "      <td>0</td>\n",
       "      <td>0</td>\n",
       "      <td>1</td>\n",
       "      <td>1</td>\n",
       "      <td>0</td>\n",
       "      <td>1</td>\n",
       "      <td>1</td>\n",
       "      <td>0</td>\n",
       "    </tr>\n",
       "    <tr>\n",
       "      <th>1</th>\n",
       "      <td>38.5</td>\n",
       "      <td>24.2</td>\n",
       "      <td>9.8</td>\n",
       "      <td>168</td>\n",
       "      <td>63</td>\n",
       "      <td>30</td>\n",
       "      <td>3.0</td>\n",
       "      <td>1</td>\n",
       "      <td>0</td>\n",
       "      <td>0</td>\n",
       "      <td>...</td>\n",
       "      <td>0</td>\n",
       "      <td>0</td>\n",
       "      <td>1</td>\n",
       "      <td>0</td>\n",
       "      <td>0</td>\n",
       "      <td>1</td>\n",
       "      <td>0</td>\n",
       "      <td>1</td>\n",
       "      <td>0</td>\n",
       "      <td>1</td>\n",
       "    </tr>\n",
       "    <tr>\n",
       "      <th>2</th>\n",
       "      <td>46.0</td>\n",
       "      <td>29.0</td>\n",
       "      <td>10.0</td>\n",
       "      <td>186</td>\n",
       "      <td>72</td>\n",
       "      <td>36</td>\n",
       "      <td>30.0</td>\n",
       "      <td>0</td>\n",
       "      <td>0</td>\n",
       "      <td>0</td>\n",
       "      <td>...</td>\n",
       "      <td>0</td>\n",
       "      <td>0</td>\n",
       "      <td>0</td>\n",
       "      <td>1</td>\n",
       "      <td>1</td>\n",
       "      <td>1</td>\n",
       "      <td>0</td>\n",
       "      <td>1</td>\n",
       "      <td>1</td>\n",
       "      <td>0</td>\n",
       "    </tr>\n",
       "    <tr>\n",
       "      <th>3</th>\n",
       "      <td>46.0</td>\n",
       "      <td>29.0</td>\n",
       "      <td>10.0</td>\n",
       "      <td>186</td>\n",
       "      <td>72</td>\n",
       "      <td>36</td>\n",
       "      <td>30.0</td>\n",
       "      <td>0</td>\n",
       "      <td>0</td>\n",
       "      <td>0</td>\n",
       "      <td>...</td>\n",
       "      <td>0</td>\n",
       "      <td>0</td>\n",
       "      <td>0</td>\n",
       "      <td>1</td>\n",
       "      <td>1</td>\n",
       "      <td>1</td>\n",
       "      <td>0</td>\n",
       "      <td>1</td>\n",
       "      <td>1</td>\n",
       "      <td>0</td>\n",
       "    </tr>\n",
       "    <tr>\n",
       "      <th>4</th>\n",
       "      <td>42.0</td>\n",
       "      <td>27.0</td>\n",
       "      <td>10.0</td>\n",
       "      <td>178</td>\n",
       "      <td>67</td>\n",
       "      <td>33</td>\n",
       "      <td>3.0</td>\n",
       "      <td>1</td>\n",
       "      <td>0</td>\n",
       "      <td>0</td>\n",
       "      <td>...</td>\n",
       "      <td>0</td>\n",
       "      <td>0</td>\n",
       "      <td>1</td>\n",
       "      <td>0</td>\n",
       "      <td>1</td>\n",
       "      <td>1</td>\n",
       "      <td>0</td>\n",
       "      <td>1</td>\n",
       "      <td>0</td>\n",
       "      <td>0</td>\n",
       "    </tr>\n",
       "    <tr>\n",
       "      <th>...</th>\n",
       "      <td>...</td>\n",
       "      <td>...</td>\n",
       "      <td>...</td>\n",
       "      <td>...</td>\n",
       "      <td>...</td>\n",
       "      <td>...</td>\n",
       "      <td>...</td>\n",
       "      <td>...</td>\n",
       "      <td>...</td>\n",
       "      <td>...</td>\n",
       "      <td>...</td>\n",
       "      <td>...</td>\n",
       "      <td>...</td>\n",
       "      <td>...</td>\n",
       "      <td>...</td>\n",
       "      <td>...</td>\n",
       "      <td>...</td>\n",
       "      <td>...</td>\n",
       "      <td>...</td>\n",
       "      <td>...</td>\n",
       "      <td>...</td>\n",
       "    </tr>\n",
       "    <tr>\n",
       "      <th>178</th>\n",
       "      <td>46.0</td>\n",
       "      <td>29.0</td>\n",
       "      <td>10.0</td>\n",
       "      <td>186</td>\n",
       "      <td>72</td>\n",
       "      <td>36</td>\n",
       "      <td>30.0</td>\n",
       "      <td>0</td>\n",
       "      <td>0</td>\n",
       "      <td>0</td>\n",
       "      <td>...</td>\n",
       "      <td>0</td>\n",
       "      <td>0</td>\n",
       "      <td>0</td>\n",
       "      <td>1</td>\n",
       "      <td>1</td>\n",
       "      <td>0</td>\n",
       "      <td>1</td>\n",
       "      <td>0</td>\n",
       "      <td>1</td>\n",
       "      <td>0</td>\n",
       "    </tr>\n",
       "    <tr>\n",
       "      <th>179</th>\n",
       "      <td>43.0</td>\n",
       "      <td>26.5</td>\n",
       "      <td>10.5</td>\n",
       "      <td>183</td>\n",
       "      <td>68</td>\n",
       "      <td>26</td>\n",
       "      <td>10.0</td>\n",
       "      <td>1</td>\n",
       "      <td>0</td>\n",
       "      <td>0</td>\n",
       "      <td>...</td>\n",
       "      <td>0</td>\n",
       "      <td>0</td>\n",
       "      <td>0</td>\n",
       "      <td>1</td>\n",
       "      <td>1</td>\n",
       "      <td>1</td>\n",
       "      <td>0</td>\n",
       "      <td>1</td>\n",
       "      <td>1</td>\n",
       "      <td>0</td>\n",
       "    </tr>\n",
       "    <tr>\n",
       "      <th>180</th>\n",
       "      <td>44.0</td>\n",
       "      <td>27.0</td>\n",
       "      <td>10.0</td>\n",
       "      <td>185</td>\n",
       "      <td>75</td>\n",
       "      <td>33</td>\n",
       "      <td>5.0</td>\n",
       "      <td>0</td>\n",
       "      <td>0</td>\n",
       "      <td>0</td>\n",
       "      <td>...</td>\n",
       "      <td>0</td>\n",
       "      <td>0</td>\n",
       "      <td>1</td>\n",
       "      <td>0</td>\n",
       "      <td>1</td>\n",
       "      <td>0</td>\n",
       "      <td>0</td>\n",
       "      <td>0</td>\n",
       "      <td>1</td>\n",
       "      <td>0</td>\n",
       "    </tr>\n",
       "    <tr>\n",
       "      <th>181</th>\n",
       "      <td>42.5</td>\n",
       "      <td>26.7</td>\n",
       "      <td>9.9</td>\n",
       "      <td>175</td>\n",
       "      <td>70</td>\n",
       "      <td>27</td>\n",
       "      <td>6.0</td>\n",
       "      <td>0</td>\n",
       "      <td>0</td>\n",
       "      <td>0</td>\n",
       "      <td>...</td>\n",
       "      <td>0</td>\n",
       "      <td>1</td>\n",
       "      <td>0</td>\n",
       "      <td>0</td>\n",
       "      <td>1</td>\n",
       "      <td>1</td>\n",
       "      <td>1</td>\n",
       "      <td>1</td>\n",
       "      <td>1</td>\n",
       "      <td>0</td>\n",
       "    </tr>\n",
       "    <tr>\n",
       "      <th>182</th>\n",
       "      <td>46.0</td>\n",
       "      <td>29.0</td>\n",
       "      <td>10.0</td>\n",
       "      <td>186</td>\n",
       "      <td>72</td>\n",
       "      <td>36</td>\n",
       "      <td>30.0</td>\n",
       "      <td>0</td>\n",
       "      <td>0</td>\n",
       "      <td>0</td>\n",
       "      <td>...</td>\n",
       "      <td>0</td>\n",
       "      <td>0</td>\n",
       "      <td>0</td>\n",
       "      <td>1</td>\n",
       "      <td>1</td>\n",
       "      <td>1</td>\n",
       "      <td>0</td>\n",
       "      <td>1</td>\n",
       "      <td>1</td>\n",
       "      <td>0</td>\n",
       "    </tr>\n",
       "  </tbody>\n",
       "</table>\n",
       "<p>182 rows × 22 columns</p>\n",
       "</div>"
      ],
      "text/plain": [
       "     street_shoe_size  foot_len  foot_width  height  weight  age  \\\n",
       "0                41.5      25.5        10.0     168      61   29   \n",
       "1                38.5      24.2         9.8     168      63   30   \n",
       "2                46.0      29.0        10.0     186      72   36   \n",
       "3                46.0      29.0        10.0     186      72   36   \n",
       "4                42.0      27.0        10.0     178      67   33   \n",
       "..                ...       ...         ...     ...     ...  ...   \n",
       "178              46.0      29.0        10.0     186      72   36   \n",
       "179              43.0      26.5        10.5     183      68   26   \n",
       "180              44.0      27.0        10.0     185      75   33   \n",
       "181              42.5      26.7         9.9     175      70   27   \n",
       "182              46.0      29.0        10.0     186      72   36   \n",
       "\n",
       "     climbing_exp  hallux  senkfuß  spreizfuß  ...  knickfuß  ägyptischer  \\\n",
       "0             4.0       0        0          0  ...         0            1   \n",
       "1             3.0       1        0          0  ...         0            0   \n",
       "2            30.0       0        0          0  ...         0            0   \n",
       "3            30.0       0        0          0  ...         0            0   \n",
       "4             3.0       1        0          0  ...         0            0   \n",
       "..            ...     ...      ...        ...  ...       ...          ...   \n",
       "178          30.0       0        0          0  ...         0            0   \n",
       "179          10.0       1        0          0  ...         0            0   \n",
       "180           5.0       0        0          0  ...         0            0   \n",
       "181           6.0       0        0          0  ...         0            1   \n",
       "182          30.0       0        0          0  ...         0            0   \n",
       "\n",
       "     römischer  griechischer  sportklettern  bouldern  mehrseillängen  halle  \\\n",
       "0            0             0              1         1               0      1   \n",
       "1            1             0              0         1               0      1   \n",
       "2            0             1              1         1               0      1   \n",
       "3            0             1              1         1               0      1   \n",
       "4            1             0              1         1               0      1   \n",
       "..         ...           ...            ...       ...             ...    ...   \n",
       "178          0             1              1         0               1      0   \n",
       "179          0             1              1         1               0      1   \n",
       "180          1             0              1         0               0      0   \n",
       "181          0             0              1         1               1      1   \n",
       "182          0             1              1         1               0      1   \n",
       "\n",
       "     outdoor  gender_Weiblich  \n",
       "0          1                0  \n",
       "1          0                1  \n",
       "2          1                0  \n",
       "3          1                0  \n",
       "4          0                0  \n",
       "..       ...              ...  \n",
       "178        1                0  \n",
       "179        1                0  \n",
       "180        1                0  \n",
       "181        1                0  \n",
       "182        1                0  \n",
       "\n",
       "[182 rows x 22 columns]"
      ]
     },
     "execution_count": 202,
     "metadata": {},
     "output_type": "execute_result"
    }
   ],
   "source": [
    "df_prep = pd.get_dummies(data=df_prep, columns=['gender'],drop_first=True)\n",
    "df_prep"
   ]
  },
  {
   "cell_type": "code",
   "execution_count": 203,
   "metadata": {},
   "outputs": [
    {
     "data": {
      "text/plain": [
       "Index([], dtype='object')"
      ]
     },
     "execution_count": 203,
     "metadata": {},
     "output_type": "execute_result"
    }
   ],
   "source": [
    "df_prep.select_dtypes(['object']).columns"
   ]
  },
  {
   "cell_type": "code",
   "execution_count": 206,
   "metadata": {},
   "outputs": [
    {
     "data": {
      "text/plain": [
       "(182, 22)"
      ]
     },
     "execution_count": 206,
     "metadata": {},
     "output_type": "execute_result"
    }
   ],
   "source": [
    "df_prep.shape"
   ]
  },
  {
   "cell_type": "code",
   "execution_count": 207,
   "metadata": {},
   "outputs": [
    {
     "data": {
      "text/plain": [
       "(182, 39)"
      ]
     },
     "execution_count": 207,
     "metadata": {},
     "output_type": "execute_result"
    }
   ],
   "source": [
    "df_survey.shape"
   ]
  },
  {
   "cell_type": "markdown",
   "metadata": {},
   "source": [
    "# Modellbau - Schuhmodell Klassifikation\n",
    "\n",
    "Im ersten Schritt soll mithilfe der Fuß- und Körpereigenschaften eine Vorhersage des Schuhmodells möglich sein. Dazu wird das K-Nearest-Neighbor Verfahren angewendet."
   ]
  },
  {
   "cell_type": "code",
   "execution_count": 204,
   "metadata": {},
   "outputs": [],
   "source": [
    "from sklearn.neighbors import KNeighborsClassifier\n",
    "from sklearn.preprocessing import StandardScaler\n",
    "from sklearn.model_selection import train_test_split"
   ]
  },
  {
   "cell_type": "code",
   "execution_count": 226,
   "metadata": {},
   "outputs": [],
   "source": [
    "X = df_prep\n",
    "y= df_survey['shoe_model']\n",
    "\n",
    "X_train, X_test, y_train, y_test = train_test_split(X, y, test_size=0.33)\n",
    "\n",
    "scaler = StandardScaler()\n",
    "scaled_X = scaler.fit_transform(X_train)\n",
    "\n",
    "knn = KNeighborsClassifier(n_neighbors=61, n_jobs=-1)\n",
    "\n",
    "knn.fit(scaled_X,y_train)\n",
    "model_predictions = knn.predict(X_test)"
   ]
  },
  {
   "cell_type": "code",
   "execution_count": 225,
   "metadata": {},
   "outputs": [
    {
     "data": {
      "image/png": "[encoded data removed]",
      "text/plain": [
       "<Figure size 720x432 with 1 Axes>"
      ]
     },
     "metadata": {
      "needs_background": "light"
     },
     "output_type": "display_data"
    }
   ],
   "source": [
    "error_rate = []\n",
    "\n",
    "k_max = 121\n",
    "\n",
    "for i in range(1,k_max):\n",
    "    knn = KNeighborsClassifier(n_neighbors=i, n_jobs=-1)\n",
    "    knn.fit(scaled_X,y_train)\n",
    "    pred_i = knn.predict(X_test)\n",
    "    error_rate.append(np.mean(pred_i != y_test))\n",
    "    \n",
    "plt.figure(figsize=(10,6))\n",
    "\n",
    "plt.plot(range(1,k_max), error_rate, marker='o')\n",
    "plt.title('Error Rate vs. K')\n",
    "plt.ylabel('Error Rate')\n",
    "plt.xlabel('K')\n",
    "plt.show()"
   ]
  },
  {
   "cell_type": "code",
   "execution_count": 227,
   "metadata": {},
   "outputs": [
    {
     "name": "stdout",
     "output_type": "stream",
     "text": [
      "                               precision    recall  f1-score   support\n",
      "\n",
      "            Evolv - DEFY LACE       0.00      0.00      0.00         1\n",
      "             Evolv - SHAMAN 2       0.00      0.00      0.00         2\n",
      "           Five Ten - HIANGLE       0.00      0.00      0.00         1\n",
      "          La Sportiva - COBRA       0.00      0.00      0.00         1\n",
      "      La Sportiva - FINALE VS       0.00      0.00      0.00         1\n",
      "   La Sportiva - FINALE WOMAN       0.00      0.00      0.00         1\n",
      "   La Sportiva - KATANA LACES       0.00      0.00      0.00         1\n",
      "   La Sportiva - KATANA WOMAN       0.00      0.00      0.00         1\n",
      "         La Sportiva - MYTHOS       0.00      0.00      0.00         3\n",
      "     La Sportiva - MYTHOS ECO       0.00      0.00      0.00         2\n",
      "          La Sportiva - OTAKI       0.00      0.00      0.00         2\n",
      "         La Sportiva - PYTHON       0.00      0.00      0.00         1\n",
      "         La Sportiva - SKWAMA       0.05      1.00      0.09         3\n",
      "       La Sportiva - SOLUTION       0.00      0.00      0.00         4\n",
      "  La Sportiva - SOLUTION COMP       0.00      0.00      0.00         1\n",
      " La Sportiva - SOLUTION WOMAN       0.00      0.00      0.00         4\n",
      "      La Sportiva - TARANTULA       0.00      0.00      0.00         1\n",
      "La Sportiva - TARANTULA WOMAN       0.00      0.00      0.00         1\n",
      "         La Sportiva - THEORY       0.00      0.00      0.00         2\n",
      "             Lowa - FALCO VCR       0.00      0.00      0.00         1\n",
      "                 Ocun - OXI S       0.00      0.00      0.00         2\n",
      "            Ocun - OZONE LADY       0.00      0.00      0.00         1\n",
      "              Ocun - OZONE QC       0.00      0.00      0.00         1\n",
      "        Red Chili - SAUSALITO       0.00      0.00      0.00         1\n",
      "       Red Chili - SPIRIT VCR       0.00      0.00      0.00         3\n",
      "               Scarpa - DRAGO       0.00      0.00      0.00         2\n",
      "             Scarpa - FURIA S       0.00      0.00      0.00         1\n",
      "       Scarpa - INSTINCT LACE       0.00      0.00      0.00         2\n",
      "         Scarpa - INSTINCT VS       0.00      0.00      0.00         3\n",
      "     Scarpa - INSTINCT VS WMN       0.00      0.00      0.00         2\n",
      "        Scarpa - INSTINCT VSR       0.00      0.00      0.00         1\n",
      "               Scarpa - VAPOR       0.00      0.00      0.00         1\n",
      "             Scarpa - VAPOR V       0.00      0.00      0.00         2\n",
      "         Scarpa - VAPOR V WMN       0.00      0.00      0.00         1\n",
      "          Scarpa - VELOCE WMN       0.00      0.00      0.00         1\n",
      "               Simond - ROCK+       0.00      0.00      0.00         1\n",
      "                Tenaya - OASI       0.00      0.00      0.00         1\n",
      "             Tenaya - OASI LV       0.00      0.00      0.00         1\n",
      "\n",
      "                     accuracy                           0.05        61\n",
      "                    macro avg       0.00      0.03      0.00        61\n",
      "                 weighted avg       0.00      0.05      0.00        61\n",
      "\n"
     ]
    },
    {
     "name": "stderr",
     "output_type": "stream",
     "text": [
      "C:\\Users\\steff\\anaconda3\\lib\\site-packages\\sklearn\\metrics\\_classification.py:1221: UndefinedMetricWarning: Precision and F-score are ill-defined and being set to 0.0 in labels with no predicted samples. Use `zero_division` parameter to control this behavior.\n",
      "  _warn_prf(average, modifier, msg_start, len(result))\n"
     ]
    }
   ],
   "source": [
    "from sklearn.metrics import classification_report, confusion_matrix\n",
    "print(classification_report(y_test,model_predictions))"
   ]
  },
  {
   "cell_type": "code",
   "execution_count": null,
   "metadata": {},
   "outputs": [],
   "source": []
  }
 ],
 "metadata": {
  "kernelspec": {
   "display_name": "Python 3",
   "language": "python",
   "name": "python3"
  },
  "language_info": {
   "codemirror_mode": {
    "name": "ipython",
    "version": 3
   },
   "file_extension": ".py",
   "mimetype": "text/x-python",
   "name": "python",
   "nbconvert_exporter": "python",
   "pygments_lexer": "ipython3",
   "version": "3.8.5"
  }
 },
 "nbformat": 4,
 "nbformat_minor": 4
}
