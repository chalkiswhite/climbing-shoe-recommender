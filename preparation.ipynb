{
 "cells": [
  {
   "cell_type": "markdown",
   "metadata": {},
   "source": [
    "# Step 0: Libraries"
   ]
  },
  {
   "cell_type": "code",
   "execution_count": 3,
   "metadata": {},
   "outputs": [],
   "source": [
    "import pandas as pd\n",
    "import numpy as np\n",
    "import matplotlib.pyplot as plt\n",
    "import seaborn as sns"
   ]
  },
  {
   "cell_type": "markdown",
   "metadata": {},
   "source": [
    "# Step 1: Exploration"
   ]
  },
  {
   "cell_type": "code",
   "execution_count": null,
   "metadata": {},
   "outputs": [],
   "source": [
    "# Einlesen\n",
    "df = pd.DataFrame()\n",
    "schuh1 = read_csv()\n",
    "schuh2 = read_csv()\n",
    "schuh3 = read_csv()\n",
    "schuh4 = read_csv()\n",
    "schuh5 = read_csv()\n",
    "schuh6 = read_csv()\n",
    "\n",
    "df = pd.concat([schuh1,schuh2,schuh3,schuh4,schuh5,schuh6])\n",
    "\n",
    "\n",
    "# Unique Werte\n",
    "df['col'].unique()\n",
    "df['col'].nunique()\n",
    "df['col'].value_counts()\n",
    "\n",
    "# Filtern\n",
    "df[(df['col']>2) & (df['col2'])==0]\n",
    "\n",
    "\n",
    "# Drop\n",
    "#   Temporär\n",
    "df.drop('col',axis=1)\n",
    "#   Dauerhaft\n",
    "del df['col']\n",
    "\n",
    "\n",
    "# Indizes ermitteln\n",
    "df.columns #spalten\n",
    "df.index #zeilen\n",
    "\n",
    "# Sortieren\n",
    "df.sort_values() #option by=, inplace= sortierung permanent anwenden\n",
    "\n",
    "\n",
    "# Nullwerte ermitteln\n",
    "df.isnull().sum()\n",
    "\n",
    "\n",
    "# Balance / Histogramm\n",
    "sns.countplot()\n",
    "sns.distplot()\n",
    "\n",
    "# Korrelation\n",
    "df.corr()\n",
    "sns.scatterplot(df['col1'], df['col2'])\n",
    "sns.boxplot(df['col1'], df['col2'])\n",
    "sns.pairplot()\n",
    "\n",
    "#Statistiken. Mit [] auch pro Spalte...auch mit groupby möglich\n",
    "df.describe()\n",
    "\n",
    "# Anzahl pro Gruppe prüfen\n",
    "sorted(df['col'].unique())\n",
    "sns.countplot()\n",
    "\n",
    "\n",
    "\n"
   ]
  },
  {
   "cell_type": "markdown",
   "metadata": {},
   "source": [
    "# Step 2: Feature Engineering"
   ]
  },
  {
   "cell_type": "markdown",
   "metadata": {},
   "source": [
    "Fehlende Werte"
   ]
  },
  {
   "cell_type": "code",
   "execution_count": null,
   "metadata": {},
   "outputs": [],
   "source": [
    "# Grundsätzliche Größe des df und Feature Anzahl\n",
    "len(df)\n",
    "df.shape\n",
    "\n",
    "#Gleiche Spalten zusammenführen\n",
    "df['union'] = df.apply(lambda x: x['col1'].union(x['col2']), axis=1)\n",
    "\n",
    "# Anzahl leer pro Spalte...in prozent\n",
    "df.isnull.sum()\n",
    "df.isnull.sum()/len(df)*100\n",
    "\n",
    "# Untersuchen...sind Ausprägungen zu viele: weg\n",
    "# Jede Spalte eizeln betrachten und entscheiden\n",
    "df['col'].nunique()\n",
    "df['col'].value_counts()\n",
    "df['col'].dropna().unique()\n",
    "\n",
    "# Fehlende Num-Werte bereinigen\n",
    "\n",
    "# Einfache Aggregation über alle Werte einer Spalte\n",
    "df['A'].fillna(value=df['A'].mean())\n",
    "\n",
    "# Pro Gruppe\n",
    "avg = df.groupby('col').mean()['col2']\n",
    "\n",
    "def check_nan(col2, col):\n",
    "    if np.isnan(col2):\n",
    "        return avg[col]\n",
    "    else:\n",
    "        return col2\n",
    "\n",
    "df['col2'] = df.apply(lambda x: check_nan(x['col2'], x['col'], axis=1))\n",
    "\n",
    "\n",
    "# Binary Spalte generieren\n",
    "df['col_new'] = df['col'].apply(lambda x: 1 if x == 'Yes' else 0)\n",
    "\n"
   ]
  },
  {
   "cell_type": "code",
   "execution_count": null,
   "metadata": {},
   "outputs": [],
   "source": [
    "# Kategorische Daten übersetzen -> Dummyvariablen\n",
    "\n",
    "# Spalten zusammenfassen\n",
    "\n",
    "df['col'] = df['col'].replace\n",
    "\n",
    "\n",
    "# Aus String etwas auslesen...hier die letzten vier chars eines strings\n",
    "# aus der spalte col\n",
    "df['col'] = df['col'].apply[lambda x:int(x[-4:])]"
   ]
  },
  {
   "cell_type": "markdown",
   "metadata": {},
   "source": [
    "# K-Nearest-Neighbor"
   ]
  },
  {
   "cell_type": "code",
   "execution_count": null,
   "metadata": {},
   "outputs": [],
   "source": [
    "# KNN\n",
    "#    Preprocess\n",
    "from sklearn.preprocessing import StandardScaler\n",
    "scaler = StandardScaler()\n",
    "scaler.fit(df.drop('TARGET CLASS',axis=1))\n",
    "scaled_features = scaler.transform(df.drop('TARGET CLASS',axis=1))\n",
    "\n",
    "#    Train Test Split\n",
    "from sklearn.model_selection import train_test_split\n",
    "X_train, X_test, y_train, y_test = train_test_split(scaled_features,df['TARGET CLASS'], test_size=0.33)\n",
    "\n",
    "#    Start KNN\n",
    "from sklearn.neighbors import KNeighborsClassifier\n",
    "from sklearn.metrics import classification_report,confusion_matrix\n",
    "knn = KNeighborsClassifier(n_neighbors=1)\n",
    "knn.fit(X_train,y_train)\n",
    "pred = knn.predict(X_test)\n",
    "\n",
    "print(confusion_matrix(y_test,pred))\n",
    "print(classification_report(y_test,pred))\n",
    "\n",
    "#    Find K\n",
    "def find_k(n):\n",
    "    error_rate = []\n",
    "    for i in range(1,n):\n",
    "        knn = KNeighborsClassifier(n_neighbors=i)\n",
    "        knn.fit(X_train,y_train)\n",
    "        pred_i = knn.predict(X_test)\n",
    "        error_rate.append(np.mean(pred_i != y_test))\n",
    "        \n",
    "    plt.figure(figsize=(12,4))\n",
    "    plt.plot(range(1,40),error_rate, color='blue',marker='o',markersize=10)\n",
    "    plt.title('Error Rate')\n",
    "    plt.xlabel('K')\n",
    "    plt.ylabel('Error Rate')\n",
    "    \n",
    "    return error_rate.index(min(error_rate))\n",
    "\n",
    "k = find_k(40)\n",
    "k\n",
    "\n",
    "knn = KNeighborsClassifier(n_neighbors=k)\n",
    "knn.fit(X_train,y_train)\n",
    "pred = knn.predict(X_test)\n",
    "\n",
    "\n",
    "print(confusion_matrix(y_test,predictions))\n",
    "print('\\n')\n",
    "print(classification_report(y_test, predictions))\n",
    "\n",
    "\n",
    "\n",
    "# Daumenregel bei Neuro_Netz: INput Layer hat so viele Neuronen wie Features ca.\n",
    "# Wird ca. um die Hälfte reduziert pro Layer"
   ]
  },
  {
   "cell_type": "markdown",
   "metadata": {},
   "source": [
    "# K Means Clustering"
   ]
  },
  {
   "cell_type": "code",
   "execution_count": null,
   "metadata": {},
   "outputs": [],
   "source": [
    "from sklearn.cluster import KMeans\n",
    "kmeans = KMeans(n_clusters=2)\n",
    "\n",
    "kmeans.fit(df.drop('Private',axis=1))\n",
    "kmeans.labels_\n"
   ]
  },
  {
   "cell_type": "markdown",
   "metadata": {},
   "source": [
    "# Pseudodaten generieren"
   ]
  },
  {
   "cell_type": "code",
   "execution_count": 28,
   "metadata": {},
   "outputs": [],
   "source": [
    "df = pd.read_csv('../data.csv')\n",
    "df_shoebrands = pd.read_csv('../shoe_brands.csv')\n",
    "df_shoemodels = pd.read_csv('../shoe_models.csv')"
   ]
  },
  {
   "cell_type": "code",
   "execution_count": 29,
   "metadata": {},
   "outputs": [
    {
     "data": {
      "text/html": [
       "<div>\n",
       "<style scoped>\n",
       "    .dataframe tbody tr th:only-of-type {\n",
       "        vertical-align: middle;\n",
       "    }\n",
       "\n",
       "    .dataframe tbody tr th {\n",
       "        vertical-align: top;\n",
       "    }\n",
       "\n",
       "    .dataframe thead th {\n",
       "        text-align: right;\n",
       "    }\n",
       "</style>\n",
       "<table border=\"1\" class=\"dataframe\">\n",
       "  <thead>\n",
       "    <tr style=\"text-align: right;\">\n",
       "      <th></th>\n",
       "      <th>gender</th>\n",
       "      <th>height</th>\n",
       "      <th>weight</th>\n",
       "      <th>exp</th>\n",
       "      <th>age</th>\n",
       "      <th>street_shoe_size</th>\n",
       "      <th>foot_len</th>\n",
       "      <th>foot_width</th>\n",
       "      <th>foot_family</th>\n",
       "      <th>foot_deform</th>\n",
       "      <th>...</th>\n",
       "      <th>overall_rating</th>\n",
       "      <th>rate_stiffness</th>\n",
       "      <th>shoe_vorspann</th>\n",
       "      <th>shoe_asymetry</th>\n",
       "      <th>shoe_downturn</th>\n",
       "      <th>shoe_closing_type</th>\n",
       "      <th>use_freq</th>\n",
       "      <th>climb_grade</th>\n",
       "      <th>use_location</th>\n",
       "      <th>use_style</th>\n",
       "    </tr>\n",
       "  </thead>\n",
       "  <tbody>\n",
       "  </tbody>\n",
       "</table>\n",
       "<p>0 rows × 27 columns</p>\n",
       "</div>"
      ],
      "text/plain": [
       "Empty DataFrame\n",
       "Columns: [gender, height, weight, exp, age, street_shoe_size, foot_len, foot_width, foot_family, foot_deform, shoe_brand, shoe_model, climb_shoe_size, favourite, shoe_age, rate_comfort, rate_fit, overall_rating, rate_stiffness, shoe_vorspann, shoe_asymetry, shoe_downturn, shoe_closing_type, use_freq, climb_grade, use_location, use_style]\n",
       "Index: []\n",
       "\n",
       "[0 rows x 27 columns]"
      ]
     },
     "execution_count": 29,
     "metadata": {},
     "output_type": "execute_result"
    }
   ],
   "source": [
    "df.head()"
   ]
  },
  {
   "cell_type": "code",
   "execution_count": 30,
   "metadata": {},
   "outputs": [
    {
     "data": {
      "text/html": [
       "<div>\n",
       "<style scoped>\n",
       "    .dataframe tbody tr th:only-of-type {\n",
       "        vertical-align: middle;\n",
       "    }\n",
       "\n",
       "    .dataframe tbody tr th {\n",
       "        vertical-align: top;\n",
       "    }\n",
       "\n",
       "    .dataframe thead th {\n",
       "        text-align: right;\n",
       "    }\n",
       "</style>\n",
       "<table border=\"1\" class=\"dataframe\">\n",
       "  <thead>\n",
       "    <tr style=\"text-align: right;\">\n",
       "      <th></th>\n",
       "      <th>brands</th>\n",
       "    </tr>\n",
       "  </thead>\n",
       "  <tbody>\n",
       "    <tr>\n",
       "      <th>0</th>\n",
       "      <td>Black Diamond</td>\n",
       "    </tr>\n",
       "    <tr>\n",
       "      <th>1</th>\n",
       "      <td>Evolv</td>\n",
       "    </tr>\n",
       "    <tr>\n",
       "      <th>2</th>\n",
       "      <td>Five Ten</td>\n",
       "    </tr>\n",
       "    <tr>\n",
       "      <th>3</th>\n",
       "      <td>La Sportiva</td>\n",
       "    </tr>\n",
       "    <tr>\n",
       "      <th>4</th>\n",
       "      <td>Lowa</td>\n",
       "    </tr>\n",
       "  </tbody>\n",
       "</table>\n",
       "</div>"
      ],
      "text/plain": [
       "          brands\n",
       "0  Black Diamond\n",
       "1          Evolv\n",
       "2       Five Ten\n",
       "3    La Sportiva\n",
       "4           Lowa"
      ]
     },
     "execution_count": 30,
     "metadata": {},
     "output_type": "execute_result"
    }
   ],
   "source": [
    "df_shoebrands = df_shoebrands.drop(['status'],axis=1)\n",
    "df_shoebrands = df_shoebrands.drop(['link'],axis=1)\n",
    "df_shoebrands.head()"
   ]
  },
  {
   "cell_type": "code",
   "execution_count": 31,
   "metadata": {},
   "outputs": [
    {
     "data": {
      "text/html": [
       "<div>\n",
       "<style scoped>\n",
       "    .dataframe tbody tr th:only-of-type {\n",
       "        vertical-align: middle;\n",
       "    }\n",
       "\n",
       "    .dataframe tbody tr th {\n",
       "        vertical-align: top;\n",
       "    }\n",
       "\n",
       "    .dataframe thead th {\n",
       "        text-align: right;\n",
       "    }\n",
       "</style>\n",
       "<table border=\"1\" class=\"dataframe\">\n",
       "  <thead>\n",
       "    <tr style=\"text-align: right;\">\n",
       "      <th></th>\n",
       "      <th>brand</th>\n",
       "      <th>model</th>\n",
       "    </tr>\n",
       "  </thead>\n",
       "  <tbody>\n",
       "    <tr>\n",
       "      <th>0</th>\n",
       "      <td>La Sportiva</td>\n",
       "      <td>ARAGON</td>\n",
       "    </tr>\n",
       "    <tr>\n",
       "      <th>1</th>\n",
       "      <td>La Sportiva</td>\n",
       "      <td>ARAGON WOMAN</td>\n",
       "    </tr>\n",
       "    <tr>\n",
       "      <th>2</th>\n",
       "      <td>La Sportiva</td>\n",
       "      <td>COBRA</td>\n",
       "    </tr>\n",
       "    <tr>\n",
       "      <th>3</th>\n",
       "      <td>La Sportiva</td>\n",
       "      <td>COBRA 4.99</td>\n",
       "    </tr>\n",
       "    <tr>\n",
       "      <th>4</th>\n",
       "      <td>La Sportiva</td>\n",
       "      <td>COBRA ECO</td>\n",
       "    </tr>\n",
       "  </tbody>\n",
       "</table>\n",
       "</div>"
      ],
      "text/plain": [
       "         brand         model\n",
       "0  La Sportiva        ARAGON\n",
       "1  La Sportiva  ARAGON WOMAN\n",
       "2  La Sportiva         COBRA\n",
       "3  La Sportiva    COBRA 4.99\n",
       "4  La Sportiva     COBRA ECO"
      ]
     },
     "execution_count": 31,
     "metadata": {},
     "output_type": "execute_result"
    }
   ],
   "source": [
    "df_shoemodels.head()"
   ]
  },
  {
   "cell_type": "code",
   "execution_count": 9,
   "metadata": {},
   "outputs": [],
   "source": [
    "def fill_data(df):\n",
    "    new_line = {}\n",
    "    \n",
    "    brand = df_shoebrands.sample()['brands'].iloc[0]\n",
    "    model = np.random.choice(df_shoemodels[df_shoemodels['brand'] == brand]['model'].tolist())\n",
    "    \n",
    "    foot_family = ['ägyptisch', 'römisch', 'griechisch']\n",
    "    foot_deform = ['hallux', 'plattfuß', 'senkfuß', 'hohlfuß', 'knickfuß', 'spreizfuß']\n",
    "    shoe_closing_type = ['schnürer', 'klett', 'slipper']\n",
    "    \n",
    "    new_line = {\n",
    "        'gender' : np.random.randint(2),\n",
    "        'height' : round(np.random.normal(loc=168,scale=25,size=1)[0],2),\n",
    "        'weight' : round(np.random.normal(loc=75,scale=15,size=1)[0],2),\n",
    "        'exp' : int(round(np.random.normal(loc=10,scale=1,size=1)[0],0)),\n",
    "        'age' : int(round(np.random.normal(loc=32,scale=13,size=1)[0],0)),\n",
    "        'street_shoe_size' : round(np.random.normal(loc=38,scale=3,size=1)[0],1),\n",
    "        'foot_len' : round(np.random.normal(loc=28,scale=4,size=1)[0],1),\n",
    "        'foot_width' : round(np.random.normal(loc=9,scale=2,size=1)[0],1),\n",
    "        'foot_family' : np.random.choice(foot_family),\n",
    "        'foot_deform' :  np.random.choice(foot_deform),\n",
    "        'shoe_brand' : brand,\n",
    "        'shoe_model' : model,\n",
    "        'climb_shoe_size' : round(np.random.normal(loc=36,scale=3,size=1)[0],1),\n",
    "        'favourite' : np.random.randint(2),\n",
    "        'shoe_age' : int(round(np.random.normal(loc=4,scale=1,size=1)[0],0)),\n",
    "        'rate_comfort' : int(round(np.random.normal(loc=3,scale=1,size=1)[0],0)),\n",
    "        'rate_fit' : int(round(np.random.normal(loc=3,scale=1,size=1)[0],0)),\n",
    "        'overall_rating' : int(round(np.random.normal(loc=3,scale=1,size=1)[0],0)),\n",
    "        'rate_stiffness' : int(round(np.random.normal(loc=3,scale=1,size=1)[0],0)),\n",
    "        'shoe_vorspann' : np.random.randint(2),\n",
    "        'shoe_asymetry' : np.random.randint(2),\n",
    "        'shoe_downturn' : np.random.randint(2),\n",
    "        'shoe_closing_type' : np.random.choice(shoe_closing_type),\n",
    "        'use_freq' : int(round(np.random.normal(loc=3,scale=1,size=1)[0],0)),\n",
    "        'climb_grade' : int(round(np.random.normal(loc=3,scale=1,size=1)[0],0)),\n",
    "        'use_location' : np.random.randint(3),\n",
    "        'use_style' : np.random.randint(3)    \n",
    "    }\n",
    "    \n",
    "    df = df.append(new_line, ignore_index=True)\n",
    "    \n",
    "    return df"
   ]
  },
  {
   "cell_type": "code",
   "execution_count": 32,
   "metadata": {},
   "outputs": [],
   "source": [
    "for n in range (500):\n",
    "    df = fill_data(df)"
   ]
  },
  {
   "cell_type": "code",
   "execution_count": 33,
   "metadata": {},
   "outputs": [
    {
     "data": {
      "text/plain": [
       "(500, 27)"
      ]
     },
     "execution_count": 33,
     "metadata": {},
     "output_type": "execute_result"
    }
   ],
   "source": [
    "df.shape"
   ]
  },
  {
   "cell_type": "code",
   "execution_count": 34,
   "metadata": {},
   "outputs": [
    {
     "data": {
      "text/plain": [
       "500"
      ]
     },
     "execution_count": 34,
     "metadata": {},
     "output_type": "execute_result"
    }
   ],
   "source": [
    "len(df)"
   ]
  },
  {
   "cell_type": "code",
   "execution_count": 35,
   "metadata": {},
   "outputs": [
    {
     "data": {
      "text/html": [
       "<div>\n",
       "<style scoped>\n",
       "    .dataframe tbody tr th:only-of-type {\n",
       "        vertical-align: middle;\n",
       "    }\n",
       "\n",
       "    .dataframe tbody tr th {\n",
       "        vertical-align: top;\n",
       "    }\n",
       "\n",
       "    .dataframe thead th {\n",
       "        text-align: right;\n",
       "    }\n",
       "</style>\n",
       "<table border=\"1\" class=\"dataframe\">\n",
       "  <thead>\n",
       "    <tr style=\"text-align: right;\">\n",
       "      <th></th>\n",
       "      <th>gender</th>\n",
       "      <th>height</th>\n",
       "      <th>weight</th>\n",
       "      <th>exp</th>\n",
       "      <th>age</th>\n",
       "      <th>street_shoe_size</th>\n",
       "      <th>foot_len</th>\n",
       "      <th>foot_width</th>\n",
       "      <th>foot_family</th>\n",
       "      <th>foot_deform</th>\n",
       "      <th>...</th>\n",
       "      <th>overall_rating</th>\n",
       "      <th>rate_stiffness</th>\n",
       "      <th>shoe_vorspann</th>\n",
       "      <th>shoe_asymetry</th>\n",
       "      <th>shoe_downturn</th>\n",
       "      <th>shoe_closing_type</th>\n",
       "      <th>use_freq</th>\n",
       "      <th>climb_grade</th>\n",
       "      <th>use_location</th>\n",
       "      <th>use_style</th>\n",
       "    </tr>\n",
       "  </thead>\n",
       "  <tbody>\n",
       "    <tr>\n",
       "      <th>0</th>\n",
       "      <td>0</td>\n",
       "      <td>176.87</td>\n",
       "      <td>66.04</td>\n",
       "      <td>10</td>\n",
       "      <td>32</td>\n",
       "      <td>40.1</td>\n",
       "      <td>24.9</td>\n",
       "      <td>9.4</td>\n",
       "      <td>römisch</td>\n",
       "      <td>senkfuß</td>\n",
       "      <td>...</td>\n",
       "      <td>4</td>\n",
       "      <td>3</td>\n",
       "      <td>0</td>\n",
       "      <td>0</td>\n",
       "      <td>1</td>\n",
       "      <td>klett</td>\n",
       "      <td>2</td>\n",
       "      <td>4</td>\n",
       "      <td>0</td>\n",
       "      <td>2</td>\n",
       "    </tr>\n",
       "    <tr>\n",
       "      <th>1</th>\n",
       "      <td>0</td>\n",
       "      <td>125.77</td>\n",
       "      <td>59.11</td>\n",
       "      <td>10</td>\n",
       "      <td>33</td>\n",
       "      <td>32.1</td>\n",
       "      <td>29.0</td>\n",
       "      <td>9.0</td>\n",
       "      <td>griechisch</td>\n",
       "      <td>knickfuß</td>\n",
       "      <td>...</td>\n",
       "      <td>5</td>\n",
       "      <td>3</td>\n",
       "      <td>0</td>\n",
       "      <td>0</td>\n",
       "      <td>0</td>\n",
       "      <td>slipper</td>\n",
       "      <td>2</td>\n",
       "      <td>3</td>\n",
       "      <td>1</td>\n",
       "      <td>1</td>\n",
       "    </tr>\n",
       "    <tr>\n",
       "      <th>2</th>\n",
       "      <td>1</td>\n",
       "      <td>172.37</td>\n",
       "      <td>97.20</td>\n",
       "      <td>9</td>\n",
       "      <td>46</td>\n",
       "      <td>37.5</td>\n",
       "      <td>26.9</td>\n",
       "      <td>9.9</td>\n",
       "      <td>griechisch</td>\n",
       "      <td>hallux</td>\n",
       "      <td>...</td>\n",
       "      <td>3</td>\n",
       "      <td>2</td>\n",
       "      <td>0</td>\n",
       "      <td>1</td>\n",
       "      <td>1</td>\n",
       "      <td>schnürer</td>\n",
       "      <td>2</td>\n",
       "      <td>3</td>\n",
       "      <td>2</td>\n",
       "      <td>1</td>\n",
       "    </tr>\n",
       "    <tr>\n",
       "      <th>3</th>\n",
       "      <td>0</td>\n",
       "      <td>179.56</td>\n",
       "      <td>99.70</td>\n",
       "      <td>10</td>\n",
       "      <td>29</td>\n",
       "      <td>37.9</td>\n",
       "      <td>25.1</td>\n",
       "      <td>7.9</td>\n",
       "      <td>ägyptisch</td>\n",
       "      <td>senkfuß</td>\n",
       "      <td>...</td>\n",
       "      <td>2</td>\n",
       "      <td>2</td>\n",
       "      <td>0</td>\n",
       "      <td>1</td>\n",
       "      <td>0</td>\n",
       "      <td>schnürer</td>\n",
       "      <td>4</td>\n",
       "      <td>0</td>\n",
       "      <td>2</td>\n",
       "      <td>1</td>\n",
       "    </tr>\n",
       "    <tr>\n",
       "      <th>4</th>\n",
       "      <td>0</td>\n",
       "      <td>197.36</td>\n",
       "      <td>75.90</td>\n",
       "      <td>10</td>\n",
       "      <td>34</td>\n",
       "      <td>38.2</td>\n",
       "      <td>26.9</td>\n",
       "      <td>10.4</td>\n",
       "      <td>römisch</td>\n",
       "      <td>plattfuß</td>\n",
       "      <td>...</td>\n",
       "      <td>3</td>\n",
       "      <td>3</td>\n",
       "      <td>1</td>\n",
       "      <td>1</td>\n",
       "      <td>1</td>\n",
       "      <td>slipper</td>\n",
       "      <td>3</td>\n",
       "      <td>4</td>\n",
       "      <td>1</td>\n",
       "      <td>0</td>\n",
       "    </tr>\n",
       "  </tbody>\n",
       "</table>\n",
       "<p>5 rows × 27 columns</p>\n",
       "</div>"
      ],
      "text/plain": [
       "  gender  height  weight exp age  street_shoe_size  foot_len  foot_width  \\\n",
       "0      0  176.87   66.04  10  32              40.1      24.9         9.4   \n",
       "1      0  125.77   59.11  10  33              32.1      29.0         9.0   \n",
       "2      1  172.37   97.20   9  46              37.5      26.9         9.9   \n",
       "3      0  179.56   99.70  10  29              37.9      25.1         7.9   \n",
       "4      0  197.36   75.90  10  34              38.2      26.9        10.4   \n",
       "\n",
       "  foot_family foot_deform  ... overall_rating rate_stiffness  shoe_vorspann  \\\n",
       "0     römisch     senkfuß  ...              4              3              0   \n",
       "1  griechisch    knickfuß  ...              5              3              0   \n",
       "2  griechisch      hallux  ...              3              2              0   \n",
       "3   ägyptisch     senkfuß  ...              2              2              0   \n",
       "4     römisch    plattfuß  ...              3              3              1   \n",
       "\n",
       "  shoe_asymetry shoe_downturn shoe_closing_type use_freq climb_grade  \\\n",
       "0             0             1             klett        2           4   \n",
       "1             0             0           slipper        2           3   \n",
       "2             1             1          schnürer        2           3   \n",
       "3             1             0          schnürer        4           0   \n",
       "4             1             1           slipper        3           4   \n",
       "\n",
       "  use_location use_style  \n",
       "0            0         2  \n",
       "1            1         1  \n",
       "2            2         1  \n",
       "3            2         1  \n",
       "4            1         0  \n",
       "\n",
       "[5 rows x 27 columns]"
      ]
     },
     "execution_count": 35,
     "metadata": {},
     "output_type": "execute_result"
    }
   ],
   "source": [
    "df.head()"
   ]
  },
  {
   "cell_type": "code",
   "execution_count": 36,
   "metadata": {},
   "outputs": [
    {
     "data": {
      "text/html": [
       "<div>\n",
       "<style scoped>\n",
       "    .dataframe tbody tr th:only-of-type {\n",
       "        vertical-align: middle;\n",
       "    }\n",
       "\n",
       "    .dataframe tbody tr th {\n",
       "        vertical-align: top;\n",
       "    }\n",
       "\n",
       "    .dataframe thead th {\n",
       "        text-align: right;\n",
       "    }\n",
       "</style>\n",
       "<table border=\"1\" class=\"dataframe\">\n",
       "  <thead>\n",
       "    <tr style=\"text-align: right;\">\n",
       "      <th></th>\n",
       "      <th>count</th>\n",
       "      <th>mean</th>\n",
       "      <th>std</th>\n",
       "      <th>min</th>\n",
       "      <th>25%</th>\n",
       "      <th>50%</th>\n",
       "      <th>75%</th>\n",
       "      <th>max</th>\n",
       "    </tr>\n",
       "  </thead>\n",
       "  <tbody>\n",
       "    <tr>\n",
       "      <th>height</th>\n",
       "      <td>500.0</td>\n",
       "      <td>167.08664</td>\n",
       "      <td>25.709341</td>\n",
       "      <td>75.64</td>\n",
       "      <td>151.075</td>\n",
       "      <td>167.59</td>\n",
       "      <td>182.800</td>\n",
       "      <td>252.66</td>\n",
       "    </tr>\n",
       "    <tr>\n",
       "      <th>weight</th>\n",
       "      <td>500.0</td>\n",
       "      <td>76.38386</td>\n",
       "      <td>14.353530</td>\n",
       "      <td>39.97</td>\n",
       "      <td>66.130</td>\n",
       "      <td>76.25</td>\n",
       "      <td>86.000</td>\n",
       "      <td>115.38</td>\n",
       "    </tr>\n",
       "    <tr>\n",
       "      <th>street_shoe_size</th>\n",
       "      <td>500.0</td>\n",
       "      <td>37.81240</td>\n",
       "      <td>2.889496</td>\n",
       "      <td>29.50</td>\n",
       "      <td>35.900</td>\n",
       "      <td>37.80</td>\n",
       "      <td>39.800</td>\n",
       "      <td>47.50</td>\n",
       "    </tr>\n",
       "    <tr>\n",
       "      <th>foot_len</th>\n",
       "      <td>500.0</td>\n",
       "      <td>28.23060</td>\n",
       "      <td>3.832579</td>\n",
       "      <td>13.80</td>\n",
       "      <td>25.600</td>\n",
       "      <td>28.30</td>\n",
       "      <td>30.825</td>\n",
       "      <td>42.40</td>\n",
       "    </tr>\n",
       "    <tr>\n",
       "      <th>foot_width</th>\n",
       "      <td>500.0</td>\n",
       "      <td>9.04800</td>\n",
       "      <td>2.144270</td>\n",
       "      <td>2.80</td>\n",
       "      <td>7.600</td>\n",
       "      <td>9.00</td>\n",
       "      <td>10.400</td>\n",
       "      <td>16.30</td>\n",
       "    </tr>\n",
       "    <tr>\n",
       "      <th>climb_shoe_size</th>\n",
       "      <td>500.0</td>\n",
       "      <td>36.10240</td>\n",
       "      <td>2.971810</td>\n",
       "      <td>26.80</td>\n",
       "      <td>34.100</td>\n",
       "      <td>36.00</td>\n",
       "      <td>37.925</td>\n",
       "      <td>45.00</td>\n",
       "    </tr>\n",
       "  </tbody>\n",
       "</table>\n",
       "</div>"
      ],
      "text/plain": [
       "                  count       mean        std    min      25%     50%  \\\n",
       "height            500.0  167.08664  25.709341  75.64  151.075  167.59   \n",
       "weight            500.0   76.38386  14.353530  39.97   66.130   76.25   \n",
       "street_shoe_size  500.0   37.81240   2.889496  29.50   35.900   37.80   \n",
       "foot_len          500.0   28.23060   3.832579  13.80   25.600   28.30   \n",
       "foot_width        500.0    9.04800   2.144270   2.80    7.600    9.00   \n",
       "climb_shoe_size   500.0   36.10240   2.971810  26.80   34.100   36.00   \n",
       "\n",
       "                      75%     max  \n",
       "height            182.800  252.66  \n",
       "weight             86.000  115.38  \n",
       "street_shoe_size   39.800   47.50  \n",
       "foot_len           30.825   42.40  \n",
       "foot_width         10.400   16.30  \n",
       "climb_shoe_size    37.925   45.00  "
      ]
     },
     "execution_count": 36,
     "metadata": {},
     "output_type": "execute_result"
    }
   ],
   "source": [
    "df.describe().transpose()"
   ]
  },
  {
   "cell_type": "code",
   "execution_count": 37,
   "metadata": {},
   "outputs": [
    {
     "data": {
      "text/plain": [
       "<AxesSubplot:xlabel='foot_family', ylabel='count'>"
      ]
     },
     "execution_count": 37,
     "metadata": {},
     "output_type": "execute_result"
    },
    {
     "data": {
      "image/png": "[encoded data removed]",
      "text/plain": [
       "<Figure size 432x288 with 1 Axes>"
      ]
     },
     "metadata": {
      "needs_background": "light"
     },
     "output_type": "display_data"
    }
   ],
   "source": [
    "sns.countplot(x='foot_family', data=df)"
   ]
  },
  {
   "cell_type": "code",
   "execution_count": 38,
   "metadata": {},
   "outputs": [
    {
     "data": {
      "text/plain": [
       "<AxesSubplot:xlabel='shoe_brand', ylabel='count'>"
      ]
     },
     "execution_count": 38,
     "metadata": {},
     "output_type": "execute_result"
    },
    {
     "data": {
      "image/png": "[encoded data removed]",
      "text/plain": [
       "<Figure size 1152x288 with 1 Axes>"
      ]
     },
     "metadata": {
      "needs_background": "light"
     },
     "output_type": "display_data"
    }
   ],
   "source": [
    "plt.figure(figsize=(16,4))\n",
    "sns.countplot(x='shoe_brand', data=df, hue='foot_deform')"
   ]
  },
  {
   "cell_type": "code",
   "execution_count": 39,
   "metadata": {},
   "outputs": [
    {
     "data": {
      "text/plain": [
       "<AxesSubplot:>"
      ]
     },
     "execution_count": 39,
     "metadata": {},
     "output_type": "execute_result"
    },
    {
     "data": {
      "image/png": "[encoded data removed]",
      "text/plain": [
       "<Figure size 432x288 with 2 Axes>"
      ]
     },
     "metadata": {
      "needs_background": "light"
     },
     "output_type": "display_data"
    }
   ],
   "source": [
    "sns.heatmap(df.corr(),annot=True, cmap='viridis')"
   ]
  },
  {
   "cell_type": "code",
   "execution_count": 40,
   "metadata": {},
   "outputs": [
    {
     "data": {
      "text/plain": [
       "<AxesSubplot:xlabel='climb_shoe_size', ylabel='weight'>"
      ]
     },
     "execution_count": 40,
     "metadata": {},
     "output_type": "execute_result"
    },
    {
     "data": {
      "image/png": "[encoded data removed]",
      "text/plain": [
       "<Figure size 432x288 with 1 Axes>"
      ]
     },
     "metadata": {
      "needs_background": "light"
     },
     "output_type": "display_data"
    }
   ],
   "source": [
    "sns.scatterplot(x='climb_shoe_size', y='weight', data=df)"
   ]
  },
  {
   "cell_type": "code",
   "execution_count": 27,
   "metadata": {},
   "outputs": [
    {
     "data": {
      "text/plain": [
       "<seaborn.axisgrid.FacetGrid at 0x22bddedfdc0>"
      ]
     },
     "execution_count": 27,
     "metadata": {},
     "output_type": "execute_result"
    },
    {
     "data": {
      "image/png": "[encoded data removed]",
      "text/plain": [
       "<Figure size 360x360 with 1 Axes>"
      ]
     },
     "metadata": {
      "needs_background": "light"
     },
     "output_type": "display_data"
    }
   ],
   "source": [
    "sns.displot(df['climb_shoe_size'], kde=True)"
   ]
  },
  {
   "cell_type": "code",
   "execution_count": null,
   "metadata": {},
   "outputs": [],
   "source": []
  }
 ],
 "metadata": {
  "kernelspec": {
   "display_name": "Python 3",
   "language": "python",
   "name": "python3"
  },
  "language_info": {
   "codemirror_mode": {
    "name": "ipython",
    "version": 3
   },
   "file_extension": ".py",
   "mimetype": "text/x-python",
   "name": "python",
   "nbconvert_exporter": "python",
   "pygments_lexer": "ipython3",
   "version": "3.8.5"
  }
 },
 "nbformat": 4,
 "nbformat_minor": 4
}
