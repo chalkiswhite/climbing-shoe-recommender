{
 "cells": [
  {
   "cell_type": "markdown",
   "metadata": {},
   "source": [
    "# Klassifikation Kletterschuhe\n",
    "\n",
    "\n",
    "## Daten\n",
    "\n",
    "Eigene Datenerhebung mittels Online-Umfrage: https://forms.gle/PTs57af6sLqk32Wx7\n",
    "\n",
    "Die Daten wurden getrennt in User-Daten und Schuhe\n",
    "\n",
    "body_features.csv: Enthält alle Informationen rund um die Person (Geschlecht, Größe, Gewicht, Fußform, Fußmaße, Klettererfahrung)\n",
    "\n",
    "shoe_survey.csv: Sämtliche von den Personen eingetragene Kletterschuhe (Marke, Modell, Eigenschaften, Bewertungen, etc.)\n",
    "\n",
    "\n",
    "\n",
    "## Ziel: Schuhmodell vorhersagen\n",
    "\n",
    "Kann mithilfe der Erfahrungsberichte und Körpereigenschaften der Befragten ein Kletterschuh vorhergesagt werden?\n",
    "\n",
    "Target Label: shoe_model"
   ]
  },
  {
   "cell_type": "markdown",
   "metadata": {},
   "source": [
    "# Explorative Analyse"
   ]
  },
  {
   "cell_type": "code",
   "execution_count": 384,
   "metadata": {},
   "outputs": [],
   "source": [
    "import numpy as np\n",
    "import pandas as pd\n",
    "import matplotlib.pyplot as plt\n",
    "import seaborn as sns"
   ]
  },
  {
   "cell_type": "markdown",
   "metadata": {},
   "source": [
    "## body_features"
   ]
  },
  {
   "cell_type": "code",
   "execution_count": 385,
   "metadata": {},
   "outputs": [],
   "source": [
    "users = pd.read_csv('./data/body_features.csv')"
   ]
  },
  {
   "cell_type": "code",
   "execution_count": 386,
   "metadata": {},
   "outputs": [
    {
     "data": {
      "text/html": [
       "<div>\n",
       "<style scoped>\n",
       "    .dataframe tbody tr th:only-of-type {\n",
       "        vertical-align: middle;\n",
       "    }\n",
       "\n",
       "    .dataframe tbody tr th {\n",
       "        vertical-align: top;\n",
       "    }\n",
       "\n",
       "    .dataframe thead th {\n",
       "        text-align: right;\n",
       "    }\n",
       "</style>\n",
       "<table border=\"1\" class=\"dataframe\">\n",
       "  <thead>\n",
       "    <tr style=\"text-align: right;\">\n",
       "      <th></th>\n",
       "      <th>userid</th>\n",
       "      <th>gender</th>\n",
       "      <th>height</th>\n",
       "      <th>weight</th>\n",
       "      <th>age</th>\n",
       "      <th>foot_len</th>\n",
       "      <th>foot_width</th>\n",
       "      <th>foot_family</th>\n",
       "      <th>foot_deform</th>\n",
       "      <th>street_shoe_size</th>\n",
       "      <th>fav_sneaker_model</th>\n",
       "      <th>exp</th>\n",
       "    </tr>\n",
       "  </thead>\n",
       "  <tbody>\n",
       "    <tr>\n",
       "      <th>0</th>\n",
       "      <td>1</td>\n",
       "      <td>Männlich</td>\n",
       "      <td>168</td>\n",
       "      <td>61</td>\n",
       "      <td>29</td>\n",
       "      <td>25.5</td>\n",
       "      <td>10.0</td>\n",
       "      <td>Ägyptischer Fußtyp</td>\n",
       "      <td>Nein</td>\n",
       "      <td>41.5</td>\n",
       "      <td>Vans Authentic</td>\n",
       "      <td>4.0</td>\n",
       "    </tr>\n",
       "    <tr>\n",
       "      <th>1</th>\n",
       "      <td>2</td>\n",
       "      <td>Weiblich</td>\n",
       "      <td>168</td>\n",
       "      <td>63</td>\n",
       "      <td>30</td>\n",
       "      <td>24.2</td>\n",
       "      <td>9.8</td>\n",
       "      <td>Römischer Fußtyp</td>\n",
       "      <td>Hallux Valgus</td>\n",
       "      <td>38.5</td>\n",
       "      <td>Adidas cloudfoam</td>\n",
       "      <td>3.0</td>\n",
       "    </tr>\n",
       "    <tr>\n",
       "      <th>2</th>\n",
       "      <td>3</td>\n",
       "      <td>Männlich</td>\n",
       "      <td>186</td>\n",
       "      <td>72</td>\n",
       "      <td>36</td>\n",
       "      <td>29.0</td>\n",
       "      <td>10.0</td>\n",
       "      <td>Griechischer Fußtyp</td>\n",
       "      <td>Nein</td>\n",
       "      <td>46.0</td>\n",
       "      <td>Black Diamond Mission LT</td>\n",
       "      <td>30.0</td>\n",
       "    </tr>\n",
       "  </tbody>\n",
       "</table>\n",
       "</div>"
      ],
      "text/plain": [
       "   userid    gender  height  weight  age  foot_len  foot_width  \\\n",
       "0       1  Männlich     168      61   29      25.5        10.0   \n",
       "1       2  Weiblich     168      63   30      24.2         9.8   \n",
       "2       3  Männlich     186      72   36      29.0        10.0   \n",
       "\n",
       "           foot_family    foot_deform  street_shoe_size  \\\n",
       "0   Ägyptischer Fußtyp           Nein              41.5   \n",
       "1     Römischer Fußtyp  Hallux Valgus              38.5   \n",
       "2  Griechischer Fußtyp           Nein              46.0   \n",
       "\n",
       "          fav_sneaker_model   exp  \n",
       "0            Vans Authentic   4.0  \n",
       "1          Adidas cloudfoam   3.0  \n",
       "2  Black Diamond Mission LT  30.0  "
      ]
     },
     "execution_count": 386,
     "metadata": {},
     "output_type": "execute_result"
    }
   ],
   "source": [
    "users.head(3)"
   ]
  },
  {
   "cell_type": "code",
   "execution_count": 387,
   "metadata": {},
   "outputs": [
    {
     "data": {
      "text/html": [
       "<div>\n",
       "<style scoped>\n",
       "    .dataframe tbody tr th:only-of-type {\n",
       "        vertical-align: middle;\n",
       "    }\n",
       "\n",
       "    .dataframe tbody tr th {\n",
       "        vertical-align: top;\n",
       "    }\n",
       "\n",
       "    .dataframe thead th {\n",
       "        text-align: right;\n",
       "    }\n",
       "</style>\n",
       "<table border=\"1\" class=\"dataframe\">\n",
       "  <thead>\n",
       "    <tr style=\"text-align: right;\">\n",
       "      <th></th>\n",
       "      <th>userid</th>\n",
       "      <th>gender</th>\n",
       "      <th>height</th>\n",
       "      <th>weight</th>\n",
       "      <th>age</th>\n",
       "      <th>foot_len</th>\n",
       "      <th>foot_width</th>\n",
       "      <th>foot_family</th>\n",
       "      <th>foot_deform</th>\n",
       "      <th>street_shoe_size</th>\n",
       "      <th>fav_sneaker_model</th>\n",
       "      <th>exp</th>\n",
       "    </tr>\n",
       "  </thead>\n",
       "  <tbody>\n",
       "    <tr>\n",
       "      <th>92</th>\n",
       "      <td>93</td>\n",
       "      <td>Weiblich</td>\n",
       "      <td>158</td>\n",
       "      <td>53</td>\n",
       "      <td>31</td>\n",
       "      <td>21.5</td>\n",
       "      <td>8.7</td>\n",
       "      <td>Griechischer Fußtyp</td>\n",
       "      <td>Nein</td>\n",
       "      <td>36.0</td>\n",
       "      <td>Sketchers</td>\n",
       "      <td>2.0</td>\n",
       "    </tr>\n",
       "    <tr>\n",
       "      <th>93</th>\n",
       "      <td>94</td>\n",
       "      <td>Männlich</td>\n",
       "      <td>191</td>\n",
       "      <td>92</td>\n",
       "      <td>60</td>\n",
       "      <td>29.4</td>\n",
       "      <td>11.0</td>\n",
       "      <td>Griechischer Fußtyp</td>\n",
       "      <td>Hallux Valgus, Senkfuß</td>\n",
       "      <td>46.5</td>\n",
       "      <td>NaN</td>\n",
       "      <td>23.0</td>\n",
       "    </tr>\n",
       "  </tbody>\n",
       "</table>\n",
       "</div>"
      ],
      "text/plain": [
       "    userid    gender  height  weight  age  foot_len  foot_width  \\\n",
       "92      93  Weiblich     158      53   31      21.5         8.7   \n",
       "93      94  Männlich     191      92   60      29.4        11.0   \n",
       "\n",
       "            foot_family             foot_deform  street_shoe_size  \\\n",
       "92  Griechischer Fußtyp                    Nein              36.0   \n",
       "93  Griechischer Fußtyp  Hallux Valgus, Senkfuß              46.5   \n",
       "\n",
       "   fav_sneaker_model   exp  \n",
       "92         Sketchers   2.0  \n",
       "93               NaN  23.0  "
      ]
     },
     "execution_count": 387,
     "metadata": {},
     "output_type": "execute_result"
    }
   ],
   "source": [
    "users.tail(2)"
   ]
  },
  {
   "cell_type": "code",
   "execution_count": 388,
   "metadata": {},
   "outputs": [
    {
     "name": "stdout",
     "output_type": "stream",
     "text": [
      "<class 'pandas.core.frame.DataFrame'>\n",
      "RangeIndex: 94 entries, 0 to 93\n",
      "Data columns (total 12 columns):\n",
      " #   Column             Non-Null Count  Dtype  \n",
      "---  ------             --------------  -----  \n",
      " 0   userid             94 non-null     int64  \n",
      " 1   gender             94 non-null     object \n",
      " 2   height             94 non-null     int64  \n",
      " 3   weight             94 non-null     int64  \n",
      " 4   age                94 non-null     int64  \n",
      " 5   foot_len           94 non-null     float64\n",
      " 6   foot_width         94 non-null     float64\n",
      " 7   foot_family        94 non-null     object \n",
      " 8   foot_deform        94 non-null     object \n",
      " 9   street_shoe_size   94 non-null     float64\n",
      " 10  fav_sneaker_model  81 non-null     object \n",
      " 11  exp                94 non-null     float64\n",
      "dtypes: float64(4), int64(4), object(4)\n",
      "memory usage: 8.9+ KB\n"
     ]
    }
   ],
   "source": [
    "users.info()"
   ]
  },
  {
   "cell_type": "code",
   "execution_count": 389,
   "metadata": {},
   "outputs": [
    {
     "data": {
      "text/plain": [
       "Index(['userid', 'gender', 'height', 'weight', 'age', 'foot_len', 'foot_width',\n",
       "       'foot_family', 'foot_deform', 'street_shoe_size', 'fav_sneaker_model',\n",
       "       'exp'],\n",
       "      dtype='object')"
      ]
     },
     "execution_count": 389,
     "metadata": {},
     "output_type": "execute_result"
    }
   ],
   "source": [
    "users.columns"
   ]
  },
  {
   "cell_type": "code",
   "execution_count": 390,
   "metadata": {},
   "outputs": [
    {
     "data": {
      "image/png": "[encoded data removed]",
      "text/plain": [
       "<Figure size 432x288 with 1 Axes>"
      ]
     },
     "metadata": {
      "needs_background": "light"
     },
     "output_type": "display_data"
    },
    {
     "data": {
      "image/png": "[encoded data removed]",
      "text/plain": [
       "<Figure size 432x288 with 1 Axes>"
      ]
     },
     "metadata": {
      "needs_background": "light"
     },
     "output_type": "display_data"
    },
    {
     "data": {
      "image/png": "[encoded data removed]",
      "text/plain": [
       "<Figure size 360x360 with 1 Axes>"
      ]
     },
     "metadata": {
      "needs_background": "light"
     },
     "output_type": "display_data"
    },
    {
     "data": {
      "image/png": "[encoded data removed]",
      "text/plain": [
       "<Figure size 432x288 with 1 Axes>"
      ]
     },
     "metadata": {
      "needs_background": "light"
     },
     "output_type": "display_data"
    },
    {
     "data": {
      "image/png": "[encoded data removed]",
      "text/plain": [
       "<Figure size 360x360 with 1 Axes>"
      ]
     },
     "metadata": {
      "needs_background": "light"
     },
     "output_type": "display_data"
    },
    {
     "data": {
      "image/png": "[encoded data removed]",
      "text/plain": [
       "<Figure size 432x288 with 1 Axes>"
      ]
     },
     "metadata": {
      "needs_background": "light"
     },
     "output_type": "display_data"
    },
    {
     "data": {
      "image/png": "[encoded data removed]",
      "text/plain": [
       "<Figure size 360x360 with 1 Axes>"
      ]
     },
     "metadata": {
      "needs_background": "light"
     },
     "output_type": "display_data"
    }
   ],
   "source": [
    "sns.countplot(x='gender', data=users, palette='viridis')\n",
    "plt.title(\"Anteil nach Geschlecht\", fontsize=14)\n",
    "plt.show()\n",
    "sns.boxplot(x='gender', y='age', data=users, palette='viridis')\n",
    "plt.title(\"Verteilung Alter nach Geschlecht\", fontsize=14)\n",
    "plt.show()\n",
    "sns.displot(x='age', data=users, bins=15)\n",
    "plt.title(\"Verteilung Alter\", fontsize=14)\n",
    "plt.show()\n",
    "sns.boxplot(x='gender', y='height', data=users, palette='viridis')\n",
    "plt.title(\"Verteilung Größe nach Geschlecht\", fontsize=14)\n",
    "plt.show()\n",
    "sns.displot(x='height', data=users, bins=15)\n",
    "plt.title(\"Verteilung Körpergröße\", fontsize=14)\n",
    "plt.show()\n",
    "sns.boxplot(x='gender', y='weight', data=users, palette='viridis')\n",
    "plt.title(\"Verteilung Gewicht nach Geschlecht\", fontsize=14)\n",
    "plt.show()\n",
    "sns.displot(x='weight', data=users, bins=15)\n",
    "plt.title(\"Verteilung Gewicht\", fontsize=14)\n",
    "plt.show()"
   ]
  },
  {
   "cell_type": "code",
   "execution_count": 391,
   "metadata": {},
   "outputs": [
    {
     "data": {
      "text/plain": [
       "Ägyptischer Fußtyp               43\n",
       "Römischer Fußtyp                 30\n",
       "Griechischer Fußtyp              20\n",
       "Mix aus Römisch und Ägyptisch     1\n",
       "Name: foot_family, dtype: int64"
      ]
     },
     "execution_count": 391,
     "metadata": {},
     "output_type": "execute_result"
    }
   ],
   "source": [
    "users['foot_family'].value_counts()"
   ]
  },
  {
   "cell_type": "code",
   "execution_count": 392,
   "metadata": {},
   "outputs": [
    {
     "data": {
      "text/html": [
       "<div>\n",
       "<style scoped>\n",
       "    .dataframe tbody tr th:only-of-type {\n",
       "        vertical-align: middle;\n",
       "    }\n",
       "\n",
       "    .dataframe tbody tr th {\n",
       "        vertical-align: top;\n",
       "    }\n",
       "\n",
       "    .dataframe thead th {\n",
       "        text-align: right;\n",
       "    }\n",
       "</style>\n",
       "<table border=\"1\" class=\"dataframe\">\n",
       "  <thead>\n",
       "    <tr style=\"text-align: right;\">\n",
       "      <th></th>\n",
       "      <th>userid</th>\n",
       "      <th>gender</th>\n",
       "      <th>height</th>\n",
       "      <th>weight</th>\n",
       "      <th>age</th>\n",
       "      <th>foot_len</th>\n",
       "      <th>foot_width</th>\n",
       "      <th>foot_family</th>\n",
       "      <th>foot_deform</th>\n",
       "      <th>street_shoe_size</th>\n",
       "      <th>fav_sneaker_model</th>\n",
       "      <th>exp</th>\n",
       "    </tr>\n",
       "  </thead>\n",
       "  <tbody>\n",
       "    <tr>\n",
       "      <th>13</th>\n",
       "      <td>14</td>\n",
       "      <td>Weiblich</td>\n",
       "      <td>164</td>\n",
       "      <td>58</td>\n",
       "      <td>24</td>\n",
       "      <td>23.0</td>\n",
       "      <td>8.3</td>\n",
       "      <td>Mix aus Römisch und Ägyptisch</td>\n",
       "      <td>Senkfuß</td>\n",
       "      <td>38.0</td>\n",
       "      <td>Nike</td>\n",
       "      <td>3.0</td>\n",
       "    </tr>\n",
       "  </tbody>\n",
       "</table>\n",
       "</div>"
      ],
      "text/plain": [
       "    userid    gender  height  weight  age  foot_len  foot_width  \\\n",
       "13      14  Weiblich     164      58   24      23.0         8.3   \n",
       "\n",
       "                      foot_family foot_deform  street_shoe_size  \\\n",
       "13  Mix aus Römisch und Ägyptisch     Senkfuß              38.0   \n",
       "\n",
       "   fav_sneaker_model  exp  \n",
       "13             Nike   3.0  "
      ]
     },
     "execution_count": 392,
     "metadata": {},
     "output_type": "execute_result"
    }
   ],
   "source": [
    "users[users['foot_family'] == 'Mix aus Römisch und Ägyptisch']"
   ]
  },
  {
   "cell_type": "code",
   "execution_count": 393,
   "metadata": {},
   "outputs": [],
   "source": [
    "users.at[13,'foot_family'] = 'Ägyptischer Fußtyp'"
   ]
  },
  {
   "cell_type": "code",
   "execution_count": 394,
   "metadata": {},
   "outputs": [
    {
     "data": {
      "text/plain": [
       "Ägyptischer Fußtyp     44\n",
       "Römischer Fußtyp       30\n",
       "Griechischer Fußtyp    20\n",
       "Name: foot_family, dtype: int64"
      ]
     },
     "execution_count": 394,
     "metadata": {},
     "output_type": "execute_result"
    }
   ],
   "source": [
    "users['foot_family'].value_counts()"
   ]
  },
  {
   "cell_type": "code",
   "execution_count": 395,
   "metadata": {},
   "outputs": [
    {
     "data": {
      "image/png": "[encoded data removed]",
      "text/plain": [
       "<Figure size 432x288 with 2 Axes>"
      ]
     },
     "metadata": {
      "needs_background": "light"
     },
     "output_type": "display_data"
    }
   ],
   "source": [
    "sns.heatmap(users.corr(), cmap='viridis', annot=True)\n",
    "plt.title(\"Korrelations-Heatmap\", fontsize=14)\n",
    "plt.show()"
   ]
  },
  {
   "cell_type": "code",
   "execution_count": 396,
   "metadata": {},
   "outputs": [
    {
     "data": {
      "image/png": "[encoded data removed]",
      "text/plain": [
       "<Figure size 432x288 with 1 Axes>"
      ]
     },
     "metadata": {
      "needs_background": "light"
     },
     "output_type": "display_data"
    }
   ],
   "source": [
    "sns.scatterplot(x='height', y='weight', data=users, hue='gender')\n",
    "plt.title(\"Zusammenhang Größe und Gewicht nach Geschlecht\", fontsize=14)\n",
    "plt.show()"
   ]
  },
  {
   "cell_type": "code",
   "execution_count": 397,
   "metadata": {},
   "outputs": [
    {
     "data": {
      "image/png": "[encoded data removed]",
      "text/plain": [
       "<Figure size 432x288 with 1 Axes>"
      ]
     },
     "metadata": {
      "needs_background": "light"
     },
     "output_type": "display_data"
    }
   ],
   "source": [
    "sns.scatterplot(x='foot_len', y='foot_width', data=users, hue='gender')\n",
    "plt.title(\"Zusammenhang Fußbreite und -länge nach Geschlecht\", fontsize=14)\n",
    "plt.show()"
   ]
  },
  {
   "cell_type": "markdown",
   "metadata": {},
   "source": [
    "## shoe_features"
   ]
  },
  {
   "cell_type": "code",
   "execution_count": 398,
   "metadata": {},
   "outputs": [],
   "source": [
    "shoes = pd.read_csv('./data/shoe_survey.csv')"
   ]
  },
  {
   "cell_type": "code",
   "execution_count": 399,
   "metadata": {},
   "outputs": [
    {
     "data": {
      "text/plain": [
       "userid                          0\n",
       "timestamp                       0\n",
       "shoe_brand                    402\n",
       "shoe_model                    402\n",
       "Modell nicht in der Liste?    557\n",
       "climb_shoe_size               402\n",
       "shoe_age                      402\n",
       "favourite                     405\n",
       "shoe_vorspann                 402\n",
       "shoe_downturn                 402\n",
       "shoe_asymetry                 402\n",
       "shoe_closing_type             402\n",
       "climb_style                   402\n",
       "terrain                       402\n",
       "rate_fit                      402\n",
       "rate_comfort                  402\n",
       "rate_stiffness                402\n",
       "use_freq                      402\n",
       "climb_grade                   402\n",
       "overall_rating                402\n",
       "dtype: int64"
      ]
     },
     "execution_count": 399,
     "metadata": {},
     "output_type": "execute_result"
    }
   ],
   "source": [
    "shoes.isnull().sum()"
   ]
  },
  {
   "cell_type": "code",
   "execution_count": 400,
   "metadata": {},
   "outputs": [],
   "source": [
    "shoes = shoes.dropna(subset=['shoe_brand'])\n",
    "shoes.reset_index(inplace=True, drop=True)"
   ]
  },
  {
   "cell_type": "code",
   "execution_count": 401,
   "metadata": {},
   "outputs": [
    {
     "data": {
      "text/html": [
       "<div>\n",
       "<style scoped>\n",
       "    .dataframe tbody tr th:only-of-type {\n",
       "        vertical-align: middle;\n",
       "    }\n",
       "\n",
       "    .dataframe tbody tr th {\n",
       "        vertical-align: top;\n",
       "    }\n",
       "\n",
       "    .dataframe thead th {\n",
       "        text-align: right;\n",
       "    }\n",
       "</style>\n",
       "<table border=\"1\" class=\"dataframe\">\n",
       "  <thead>\n",
       "    <tr style=\"text-align: right;\">\n",
       "      <th></th>\n",
       "      <th>userid</th>\n",
       "      <th>timestamp</th>\n",
       "      <th>shoe_brand</th>\n",
       "      <th>shoe_model</th>\n",
       "      <th>Modell nicht in der Liste?</th>\n",
       "      <th>climb_shoe_size</th>\n",
       "      <th>shoe_age</th>\n",
       "      <th>favourite</th>\n",
       "      <th>shoe_vorspann</th>\n",
       "      <th>shoe_downturn</th>\n",
       "      <th>shoe_asymetry</th>\n",
       "      <th>shoe_closing_type</th>\n",
       "      <th>climb_style</th>\n",
       "      <th>terrain</th>\n",
       "      <th>rate_fit</th>\n",
       "      <th>rate_comfort</th>\n",
       "      <th>rate_stiffness</th>\n",
       "      <th>use_freq</th>\n",
       "      <th>climb_grade</th>\n",
       "      <th>overall_rating</th>\n",
       "    </tr>\n",
       "  </thead>\n",
       "  <tbody>\n",
       "    <tr>\n",
       "      <th>0</th>\n",
       "      <td>1</td>\n",
       "      <td>24.02.2021 22:27:44</td>\n",
       "      <td>La Sportiva</td>\n",
       "      <td>La Sportiva - SKWAMA</td>\n",
       "      <td>NaN</td>\n",
       "      <td>39.0</td>\n",
       "      <td>2.0</td>\n",
       "      <td>Ja</td>\n",
       "      <td>Ja</td>\n",
       "      <td>Ja</td>\n",
       "      <td>Nein</td>\n",
       "      <td>Klett</td>\n",
       "      <td>Sportklettern, Bouldern</td>\n",
       "      <td>Beides</td>\n",
       "      <td>5.0</td>\n",
       "      <td>4.0</td>\n",
       "      <td>4.0</td>\n",
       "      <td>4.0</td>\n",
       "      <td>Fortgeschritten (UIAA 7 - 9)</td>\n",
       "      <td>5.0</td>\n",
       "    </tr>\n",
       "    <tr>\n",
       "      <th>1</th>\n",
       "      <td>2</td>\n",
       "      <td>25.02.2021 08:26:50</td>\n",
       "      <td>La Sportiva</td>\n",
       "      <td>La Sportiva - SOLUTION COMP WOMAN</td>\n",
       "      <td>NaN</td>\n",
       "      <td>37.5</td>\n",
       "      <td>0.7</td>\n",
       "      <td>Ja</td>\n",
       "      <td>Ja</td>\n",
       "      <td>Ja</td>\n",
       "      <td>Ja</td>\n",
       "      <td>Klett</td>\n",
       "      <td>Bouldern</td>\n",
       "      <td>Halle</td>\n",
       "      <td>4.0</td>\n",
       "      <td>4.0</td>\n",
       "      <td>3.0</td>\n",
       "      <td>3.0</td>\n",
       "      <td>Fortgeschritten (UIAA 7 - 9)</td>\n",
       "      <td>4.0</td>\n",
       "    </tr>\n",
       "    <tr>\n",
       "      <th>2</th>\n",
       "      <td>3</td>\n",
       "      <td>25.02.2021 10:28:25</td>\n",
       "      <td>La Sportiva</td>\n",
       "      <td>La Sportiva - SKWAMA</td>\n",
       "      <td>NaN</td>\n",
       "      <td>42.5</td>\n",
       "      <td>1.0</td>\n",
       "      <td>Ja</td>\n",
       "      <td>Ja</td>\n",
       "      <td>Ja</td>\n",
       "      <td>Ja</td>\n",
       "      <td>Klett</td>\n",
       "      <td>Sportklettern, Bouldern</td>\n",
       "      <td>Beides</td>\n",
       "      <td>5.0</td>\n",
       "      <td>4.0</td>\n",
       "      <td>5.0</td>\n",
       "      <td>5.0</td>\n",
       "      <td>Fortgeschritten (UIAA 7 - 9)</td>\n",
       "      <td>5.0</td>\n",
       "    </tr>\n",
       "  </tbody>\n",
       "</table>\n",
       "</div>"
      ],
      "text/plain": [
       "   userid            timestamp   shoe_brand  \\\n",
       "0       1  24.02.2021 22:27:44  La Sportiva   \n",
       "1       2  25.02.2021 08:26:50  La Sportiva   \n",
       "2       3  25.02.2021 10:28:25  La Sportiva   \n",
       "\n",
       "                          shoe_model Modell nicht in der Liste?  \\\n",
       "0               La Sportiva - SKWAMA                        NaN   \n",
       "1  La Sportiva - SOLUTION COMP WOMAN                        NaN   \n",
       "2               La Sportiva - SKWAMA                        NaN   \n",
       "\n",
       "   climb_shoe_size  shoe_age favourite shoe_vorspann shoe_downturn  \\\n",
       "0             39.0       2.0        Ja            Ja            Ja   \n",
       "1             37.5       0.7        Ja            Ja            Ja   \n",
       "2             42.5       1.0        Ja            Ja            Ja   \n",
       "\n",
       "  shoe_asymetry shoe_closing_type              climb_style terrain  rate_fit  \\\n",
       "0          Nein             Klett  Sportklettern, Bouldern  Beides       5.0   \n",
       "1            Ja             Klett                 Bouldern   Halle       4.0   \n",
       "2            Ja             Klett  Sportklettern, Bouldern  Beides       5.0   \n",
       "\n",
       "   rate_comfort  rate_stiffness  use_freq                   climb_grade  \\\n",
       "0           4.0             4.0       4.0  Fortgeschritten (UIAA 7 - 9)   \n",
       "1           4.0             3.0       3.0  Fortgeschritten (UIAA 7 - 9)   \n",
       "2           4.0             5.0       5.0  Fortgeschritten (UIAA 7 - 9)   \n",
       "\n",
       "   overall_rating  \n",
       "0             5.0  \n",
       "1             4.0  \n",
       "2             5.0  "
      ]
     },
     "execution_count": 401,
     "metadata": {},
     "output_type": "execute_result"
    }
   ],
   "source": [
    "shoes.head(3)"
   ]
  },
  {
   "cell_type": "code",
   "execution_count": 402,
   "metadata": {},
   "outputs": [],
   "source": [
    "shoes.drop('timestamp', axis=1, inplace=True)"
   ]
  },
  {
   "cell_type": "code",
   "execution_count": 403,
   "metadata": {},
   "outputs": [
    {
     "data": {
      "image/png": "[encoded data removed]",
      "text/plain": [
       "<Figure size 432x288 with 2 Axes>"
      ]
     },
     "metadata": {
      "needs_background": "light"
     },
     "output_type": "display_data"
    }
   ],
   "source": [
    "sns.heatmap(shoes.corr(), cmap='viridis', annot=True)\n",
    "plt.title(\"Korrelations-Heatmap\", fontsize=14)\n",
    "plt.show()"
   ]
  },
  {
   "cell_type": "code",
   "execution_count": 404,
   "metadata": {},
   "outputs": [
    {
     "data": {
      "text/plain": [
       "Sonstige                    15\n",
       "La Sportiva - SKWAMA        11\n",
       "Scarpa - VAPOR V             8\n",
       "Ocun - OZONE QC              7\n",
       "La Sportiva - OTAKI          5\n",
       "Five Ten - HIANGLE           5\n",
       "Red Chili - SPIRIT VCR       5\n",
       "Scarpa - DRAGO               5\n",
       "Scarpa - INSTINCT VSR        4\n",
       "Scarpa - INSTINCT VS WMN     4\n",
       "Name: shoe_model, dtype: int64"
      ]
     },
     "execution_count": 404,
     "metadata": {},
     "output_type": "execute_result"
    }
   ],
   "source": [
    "shoes['shoe_model'].value_counts().sort_values(ascending=False).head(10)"
   ]
  },
  {
   "cell_type": "code",
   "execution_count": 405,
   "metadata": {},
   "outputs": [
    {
     "data": {
      "text/plain": [
       "Sonstige                    15\n",
       "La Sportiva - SKWAMA        11\n",
       "Scarpa - VAPOR V             8\n",
       "Ocun - OZONE QC              7\n",
       "La Sportiva - OTAKI          5\n",
       "Five Ten - HIANGLE           5\n",
       "Red Chili - SPIRIT VCR       5\n",
       "Scarpa - DRAGO               5\n",
       "Scarpa - INSTINCT VSR        4\n",
       "Scarpa - INSTINCT VS WMN     4\n",
       "Name: shoe_model, dtype: int64"
      ]
     },
     "execution_count": 405,
     "metadata": {},
     "output_type": "execute_result"
    }
   ],
   "source": [
    "shoes['shoe_model'].value_counts().sort_values(ascending=False).head(10)"
   ]
  },
  {
   "cell_type": "code",
   "execution_count": 406,
   "metadata": {},
   "outputs": [
    {
     "data": {
      "image/png": "[encoded data removed]",
      "text/plain": [
       "<Figure size 1152x288 with 1 Axes>"
      ]
     },
     "metadata": {
      "needs_background": "light"
     },
     "output_type": "display_data"
    }
   ],
   "source": [
    "plt.figure(figsize=(16,4))\n",
    "sns.countplot(x='shoe_brand', data=shoes, palette='viridis')\n",
    "plt.title(\"Verteilung nach Schuhmarke\", fontsize=14)\n",
    "plt.show()"
   ]
  },
  {
   "cell_type": "code",
   "execution_count": 407,
   "metadata": {},
   "outputs": [
    {
     "data": {
      "image/png": "[encoded data removed]",
      "text/plain": [
       "<Figure size 432x288 with 1 Axes>"
      ]
     },
     "metadata": {
      "needs_background": "light"
     },
     "output_type": "display_data"
    }
   ],
   "source": [
    "sns.countplot(x='shoe_closing_type', data=shoes, palette='viridis')\n",
    "plt.title(\"Anteile nach Verschlussart\", fontsize=14)\n",
    "plt.show()"
   ]
  },
  {
   "cell_type": "code",
   "execution_count": 408,
   "metadata": {},
   "outputs": [
    {
     "data": {
      "text/plain": [
       "array(['Fortgeschritten (UIAA 7 - 9)', 'Anfänger (UIAA < 7)',\n",
       "       'Profi (UIAA > 9)'], dtype=object)"
      ]
     },
     "execution_count": 408,
     "metadata": {},
     "output_type": "execute_result"
    }
   ],
   "source": [
    "shoes['climb_grade'].unique()"
   ]
  },
  {
   "cell_type": "code",
   "execution_count": 409,
   "metadata": {},
   "outputs": [
    {
     "data": {
      "image/png": "[encoded data removed]",
      "text/plain": [
       "<Figure size 864x288 with 1 Axes>"
      ]
     },
     "metadata": {
      "needs_background": "light"
     },
     "output_type": "display_data"
    }
   ],
   "source": [
    "order = ['Anfänger (UIAA < 7)','Fortgeschritten (UIAA 7 - 9)',\n",
    "       'Profi (UIAA > 9)']\n",
    "plt.figure(figsize=(12,4))\n",
    "sns.countplot(x='climb_grade', data=shoes, palette='viridis', order=order)\n",
    "plt.title(\"Verteilung nach Schwierigkeitsgrad\", fontsize=14)\n",
    "plt.show()"
   ]
  },
  {
   "cell_type": "markdown",
   "metadata": {},
   "source": [
    "## Zusammenhänge Körper- & Schuheigenschaften"
   ]
  },
  {
   "cell_type": "code",
   "execution_count": 410,
   "metadata": {},
   "outputs": [],
   "source": [
    "df = pd.merge(shoes, users, how='left', on=['userid'], suffixes=('_left', '_right'))"
   ]
  },
  {
   "cell_type": "code",
   "execution_count": 411,
   "metadata": {},
   "outputs": [
    {
     "data": {
      "text/html": [
       "<div>\n",
       "<style scoped>\n",
       "    .dataframe tbody tr th:only-of-type {\n",
       "        vertical-align: middle;\n",
       "    }\n",
       "\n",
       "    .dataframe tbody tr th {\n",
       "        vertical-align: top;\n",
       "    }\n",
       "\n",
       "    .dataframe thead th {\n",
       "        text-align: right;\n",
       "    }\n",
       "</style>\n",
       "<table border=\"1\" class=\"dataframe\">\n",
       "  <thead>\n",
       "    <tr style=\"text-align: right;\">\n",
       "      <th></th>\n",
       "      <th>userid</th>\n",
       "      <th>shoe_brand</th>\n",
       "      <th>shoe_model</th>\n",
       "      <th>Modell nicht in der Liste?</th>\n",
       "      <th>climb_shoe_size</th>\n",
       "      <th>shoe_age</th>\n",
       "      <th>favourite</th>\n",
       "      <th>shoe_vorspann</th>\n",
       "      <th>shoe_downturn</th>\n",
       "      <th>shoe_asymetry</th>\n",
       "      <th>...</th>\n",
       "      <th>height</th>\n",
       "      <th>weight</th>\n",
       "      <th>age</th>\n",
       "      <th>foot_len</th>\n",
       "      <th>foot_width</th>\n",
       "      <th>foot_family</th>\n",
       "      <th>foot_deform</th>\n",
       "      <th>street_shoe_size</th>\n",
       "      <th>fav_sneaker_model</th>\n",
       "      <th>exp</th>\n",
       "    </tr>\n",
       "  </thead>\n",
       "  <tbody>\n",
       "    <tr>\n",
       "      <th>93</th>\n",
       "      <td>94</td>\n",
       "      <td>Red Chili</td>\n",
       "      <td>Red Chili - SPIRIT VCR</td>\n",
       "      <td>NaN</td>\n",
       "      <td>46.0</td>\n",
       "      <td>5.0</td>\n",
       "      <td>Ja</td>\n",
       "      <td>Nein</td>\n",
       "      <td>Nein</td>\n",
       "      <td>Nein</td>\n",
       "      <td>...</td>\n",
       "      <td>191</td>\n",
       "      <td>92</td>\n",
       "      <td>60</td>\n",
       "      <td>29.4</td>\n",
       "      <td>11.0</td>\n",
       "      <td>Griechischer Fußtyp</td>\n",
       "      <td>Hallux Valgus, Senkfuß</td>\n",
       "      <td>46.5</td>\n",
       "      <td>NaN</td>\n",
       "      <td>23.0</td>\n",
       "    </tr>\n",
       "  </tbody>\n",
       "</table>\n",
       "<p>1 rows × 30 columns</p>\n",
       "</div>"
      ],
      "text/plain": [
       "    userid shoe_brand              shoe_model Modell nicht in der Liste?  \\\n",
       "93      94  Red Chili  Red Chili - SPIRIT VCR                        NaN   \n",
       "\n",
       "    climb_shoe_size  shoe_age favourite shoe_vorspann shoe_downturn  \\\n",
       "93             46.0       5.0        Ja          Nein          Nein   \n",
       "\n",
       "   shoe_asymetry  ... height weight age  foot_len  foot_width  \\\n",
       "93          Nein  ...    191     92  60      29.4        11.0   \n",
       "\n",
       "            foot_family             foot_deform street_shoe_size  \\\n",
       "93  Griechischer Fußtyp  Hallux Valgus, Senkfuß             46.5   \n",
       "\n",
       "    fav_sneaker_model   exp  \n",
       "93                NaN  23.0  \n",
       "\n",
       "[1 rows x 30 columns]"
      ]
     },
     "execution_count": 411,
     "metadata": {},
     "output_type": "execute_result"
    }
   ],
   "source": [
    "df[df['userid'] == 94]"
   ]
  },
  {
   "cell_type": "code",
   "execution_count": 412,
   "metadata": {},
   "outputs": [
    {
     "data": {
      "text/html": [
       "<div>\n",
       "<style scoped>\n",
       "    .dataframe tbody tr th:only-of-type {\n",
       "        vertical-align: middle;\n",
       "    }\n",
       "\n",
       "    .dataframe tbody tr th {\n",
       "        vertical-align: top;\n",
       "    }\n",
       "\n",
       "    .dataframe thead th {\n",
       "        text-align: right;\n",
       "    }\n",
       "</style>\n",
       "<table border=\"1\" class=\"dataframe\">\n",
       "  <thead>\n",
       "    <tr style=\"text-align: right;\">\n",
       "      <th></th>\n",
       "      <th>userid</th>\n",
       "      <th>shoe_brand</th>\n",
       "      <th>shoe_model</th>\n",
       "      <th>Modell nicht in der Liste?</th>\n",
       "      <th>climb_shoe_size</th>\n",
       "      <th>shoe_age</th>\n",
       "      <th>favourite</th>\n",
       "      <th>shoe_vorspann</th>\n",
       "      <th>shoe_downturn</th>\n",
       "      <th>shoe_asymetry</th>\n",
       "      <th>...</th>\n",
       "      <th>height</th>\n",
       "      <th>weight</th>\n",
       "      <th>age</th>\n",
       "      <th>foot_len</th>\n",
       "      <th>foot_width</th>\n",
       "      <th>foot_family</th>\n",
       "      <th>foot_deform</th>\n",
       "      <th>street_shoe_size</th>\n",
       "      <th>fav_sneaker_model</th>\n",
       "      <th>exp</th>\n",
       "    </tr>\n",
       "  </thead>\n",
       "  <tbody>\n",
       "    <tr>\n",
       "      <th>160</th>\n",
       "      <td>59</td>\n",
       "      <td>Ocun</td>\n",
       "      <td>Ocun - OZONE QC</td>\n",
       "      <td>NaN</td>\n",
       "      <td>42.0</td>\n",
       "      <td>4.0</td>\n",
       "      <td>Nein</td>\n",
       "      <td>Ja</td>\n",
       "      <td>Ja</td>\n",
       "      <td>Ja</td>\n",
       "      <td>...</td>\n",
       "      <td>175</td>\n",
       "      <td>70</td>\n",
       "      <td>27</td>\n",
       "      <td>26.7</td>\n",
       "      <td>9.9</td>\n",
       "      <td>Ägyptischer Fußtyp</td>\n",
       "      <td>Nein</td>\n",
       "      <td>42.5</td>\n",
       "      <td>NaN</td>\n",
       "      <td>6.0</td>\n",
       "    </tr>\n",
       "    <tr>\n",
       "      <th>161</th>\n",
       "      <td>4</td>\n",
       "      <td>La Sportiva</td>\n",
       "      <td>La Sportiva - SOLUTION COMP</td>\n",
       "      <td>NaN</td>\n",
       "      <td>43.0</td>\n",
       "      <td>1.0</td>\n",
       "      <td>Ja</td>\n",
       "      <td>Nein</td>\n",
       "      <td>Ja</td>\n",
       "      <td>Ja</td>\n",
       "      <td>...</td>\n",
       "      <td>186</td>\n",
       "      <td>72</td>\n",
       "      <td>36</td>\n",
       "      <td>29.0</td>\n",
       "      <td>10.0</td>\n",
       "      <td>Griechischer Fußtyp</td>\n",
       "      <td>Nein</td>\n",
       "      <td>46.0</td>\n",
       "      <td>Black Diamond Mission LT</td>\n",
       "      <td>30.0</td>\n",
       "    </tr>\n",
       "  </tbody>\n",
       "</table>\n",
       "<p>2 rows × 30 columns</p>\n",
       "</div>"
      ],
      "text/plain": [
       "     userid   shoe_brand                   shoe_model  \\\n",
       "160      59         Ocun              Ocun - OZONE QC   \n",
       "161       4  La Sportiva  La Sportiva - SOLUTION COMP   \n",
       "\n",
       "    Modell nicht in der Liste?  climb_shoe_size  shoe_age favourite  \\\n",
       "160                        NaN             42.0       4.0      Nein   \n",
       "161                        NaN             43.0       1.0        Ja   \n",
       "\n",
       "    shoe_vorspann shoe_downturn shoe_asymetry  ... height weight age  \\\n",
       "160            Ja            Ja            Ja  ...    175     70  27   \n",
       "161          Nein            Ja            Ja  ...    186     72  36   \n",
       "\n",
       "     foot_len  foot_width          foot_family  foot_deform street_shoe_size  \\\n",
       "160      26.7         9.9   Ägyptischer Fußtyp         Nein             42.5   \n",
       "161      29.0        10.0  Griechischer Fußtyp         Nein             46.0   \n",
       "\n",
       "            fav_sneaker_model   exp  \n",
       "160                       NaN   6.0  \n",
       "161  Black Diamond Mission LT  30.0  \n",
       "\n",
       "[2 rows x 30 columns]"
      ]
     },
     "execution_count": 412,
     "metadata": {},
     "output_type": "execute_result"
    }
   ],
   "source": [
    "df.tail(2)"
   ]
  },
  {
   "cell_type": "code",
   "execution_count": 413,
   "metadata": {},
   "outputs": [
    {
     "name": "stdout",
     "output_type": "stream",
     "text": [
      "<class 'pandas.core.frame.DataFrame'>\n",
      "Int64Index: 162 entries, 0 to 161\n",
      "Data columns (total 30 columns):\n",
      " #   Column                      Non-Null Count  Dtype  \n",
      "---  ------                      --------------  -----  \n",
      " 0   userid                      162 non-null    int64  \n",
      " 1   shoe_brand                  162 non-null    object \n",
      " 2   shoe_model                  162 non-null    object \n",
      " 3   Modell nicht in der Liste?  7 non-null      object \n",
      " 4   climb_shoe_size             162 non-null    float64\n",
      " 5   shoe_age                    162 non-null    float64\n",
      " 6   favourite                   159 non-null    object \n",
      " 7   shoe_vorspann               162 non-null    object \n",
      " 8   shoe_downturn               162 non-null    object \n",
      " 9   shoe_asymetry               162 non-null    object \n",
      " 10  shoe_closing_type           162 non-null    object \n",
      " 11  climb_style                 162 non-null    object \n",
      " 12  terrain                     162 non-null    object \n",
      " 13  rate_fit                    162 non-null    float64\n",
      " 14  rate_comfort                162 non-null    float64\n",
      " 15  rate_stiffness              162 non-null    float64\n",
      " 16  use_freq                    162 non-null    float64\n",
      " 17  climb_grade                 162 non-null    object \n",
      " 18  overall_rating              162 non-null    float64\n",
      " 19  gender                      162 non-null    object \n",
      " 20  height                      162 non-null    int64  \n",
      " 21  weight                      162 non-null    int64  \n",
      " 22  age                         162 non-null    int64  \n",
      " 23  foot_len                    162 non-null    float64\n",
      " 24  foot_width                  162 non-null    float64\n",
      " 25  foot_family                 162 non-null    object \n",
      " 26  foot_deform                 162 non-null    object \n",
      " 27  street_shoe_size            162 non-null    float64\n",
      " 28  fav_sneaker_model           138 non-null    object \n",
      " 29  exp                         162 non-null    float64\n",
      "dtypes: float64(11), int64(4), object(15)\n",
      "memory usage: 39.2+ KB\n"
     ]
    }
   ],
   "source": [
    "df.info()"
   ]
  },
  {
   "cell_type": "code",
   "execution_count": 414,
   "metadata": {},
   "outputs": [
    {
     "data": {
      "text/plain": [
       "userid                          0\n",
       "shoe_brand                      0\n",
       "shoe_model                      0\n",
       "Modell nicht in der Liste?    155\n",
       "climb_shoe_size                 0\n",
       "shoe_age                        0\n",
       "favourite                       3\n",
       "shoe_vorspann                   0\n",
       "shoe_downturn                   0\n",
       "shoe_asymetry                   0\n",
       "shoe_closing_type               0\n",
       "climb_style                     0\n",
       "terrain                         0\n",
       "rate_fit                        0\n",
       "rate_comfort                    0\n",
       "rate_stiffness                  0\n",
       "use_freq                        0\n",
       "climb_grade                     0\n",
       "overall_rating                  0\n",
       "gender                          0\n",
       "height                          0\n",
       "weight                          0\n",
       "age                             0\n",
       "foot_len                        0\n",
       "foot_width                      0\n",
       "foot_family                     0\n",
       "foot_deform                     0\n",
       "street_shoe_size                0\n",
       "fav_sneaker_model              24\n",
       "exp                             0\n",
       "dtype: int64"
      ]
     },
     "execution_count": 414,
     "metadata": {},
     "output_type": "execute_result"
    }
   ],
   "source": [
    "df.isnull().sum()"
   ]
  },
  {
   "cell_type": "code",
   "execution_count": 415,
   "metadata": {},
   "outputs": [
    {
     "data": {
      "text/html": [
       "<div>\n",
       "<style scoped>\n",
       "    .dataframe tbody tr th:only-of-type {\n",
       "        vertical-align: middle;\n",
       "    }\n",
       "\n",
       "    .dataframe tbody tr th {\n",
       "        vertical-align: top;\n",
       "    }\n",
       "\n",
       "    .dataframe thead th {\n",
       "        text-align: right;\n",
       "    }\n",
       "</style>\n",
       "<table border=\"1\" class=\"dataframe\">\n",
       "  <thead>\n",
       "    <tr style=\"text-align: right;\">\n",
       "      <th></th>\n",
       "      <th>userid</th>\n",
       "      <th>shoe_brand</th>\n",
       "      <th>shoe_model</th>\n",
       "      <th>Modell nicht in der Liste?</th>\n",
       "      <th>climb_shoe_size</th>\n",
       "      <th>shoe_age</th>\n",
       "      <th>favourite</th>\n",
       "      <th>shoe_vorspann</th>\n",
       "      <th>shoe_downturn</th>\n",
       "      <th>shoe_asymetry</th>\n",
       "      <th>...</th>\n",
       "      <th>height</th>\n",
       "      <th>weight</th>\n",
       "      <th>age</th>\n",
       "      <th>foot_len</th>\n",
       "      <th>foot_width</th>\n",
       "      <th>foot_family</th>\n",
       "      <th>foot_deform</th>\n",
       "      <th>street_shoe_size</th>\n",
       "      <th>fav_sneaker_model</th>\n",
       "      <th>exp</th>\n",
       "    </tr>\n",
       "  </thead>\n",
       "  <tbody>\n",
       "    <tr>\n",
       "      <th>0</th>\n",
       "      <td>1</td>\n",
       "      <td>La Sportiva</td>\n",
       "      <td>La Sportiva - SKWAMA</td>\n",
       "      <td>NaN</td>\n",
       "      <td>39.0</td>\n",
       "      <td>2.0</td>\n",
       "      <td>Ja</td>\n",
       "      <td>Ja</td>\n",
       "      <td>Ja</td>\n",
       "      <td>Nein</td>\n",
       "      <td>...</td>\n",
       "      <td>168</td>\n",
       "      <td>61</td>\n",
       "      <td>29</td>\n",
       "      <td>25.5</td>\n",
       "      <td>10.0</td>\n",
       "      <td>Ägyptischer Fußtyp</td>\n",
       "      <td>Nein</td>\n",
       "      <td>41.5</td>\n",
       "      <td>Vans Authentic</td>\n",
       "      <td>4.0</td>\n",
       "    </tr>\n",
       "    <tr>\n",
       "      <th>1</th>\n",
       "      <td>2</td>\n",
       "      <td>La Sportiva</td>\n",
       "      <td>La Sportiva - SOLUTION COMP WOMAN</td>\n",
       "      <td>NaN</td>\n",
       "      <td>37.5</td>\n",
       "      <td>0.7</td>\n",
       "      <td>Ja</td>\n",
       "      <td>Ja</td>\n",
       "      <td>Ja</td>\n",
       "      <td>Ja</td>\n",
       "      <td>...</td>\n",
       "      <td>168</td>\n",
       "      <td>63</td>\n",
       "      <td>30</td>\n",
       "      <td>24.2</td>\n",
       "      <td>9.8</td>\n",
       "      <td>Römischer Fußtyp</td>\n",
       "      <td>Hallux Valgus</td>\n",
       "      <td>38.5</td>\n",
       "      <td>Adidas cloudfoam</td>\n",
       "      <td>3.0</td>\n",
       "    </tr>\n",
       "    <tr>\n",
       "      <th>2</th>\n",
       "      <td>3</td>\n",
       "      <td>La Sportiva</td>\n",
       "      <td>La Sportiva - SKWAMA</td>\n",
       "      <td>NaN</td>\n",
       "      <td>42.5</td>\n",
       "      <td>1.0</td>\n",
       "      <td>Ja</td>\n",
       "      <td>Ja</td>\n",
       "      <td>Ja</td>\n",
       "      <td>Ja</td>\n",
       "      <td>...</td>\n",
       "      <td>186</td>\n",
       "      <td>72</td>\n",
       "      <td>36</td>\n",
       "      <td>29.0</td>\n",
       "      <td>10.0</td>\n",
       "      <td>Griechischer Fußtyp</td>\n",
       "      <td>Nein</td>\n",
       "      <td>46.0</td>\n",
       "      <td>Black Diamond Mission LT</td>\n",
       "      <td>30.0</td>\n",
       "    </tr>\n",
       "  </tbody>\n",
       "</table>\n",
       "<p>3 rows × 30 columns</p>\n",
       "</div>"
      ],
      "text/plain": [
       "   userid   shoe_brand                         shoe_model  \\\n",
       "0       1  La Sportiva               La Sportiva - SKWAMA   \n",
       "1       2  La Sportiva  La Sportiva - SOLUTION COMP WOMAN   \n",
       "2       3  La Sportiva               La Sportiva - SKWAMA   \n",
       "\n",
       "  Modell nicht in der Liste?  climb_shoe_size  shoe_age favourite  \\\n",
       "0                        NaN             39.0       2.0        Ja   \n",
       "1                        NaN             37.5       0.7        Ja   \n",
       "2                        NaN             42.5       1.0        Ja   \n",
       "\n",
       "  shoe_vorspann shoe_downturn shoe_asymetry  ... height weight age  foot_len  \\\n",
       "0            Ja            Ja          Nein  ...    168     61  29      25.5   \n",
       "1            Ja            Ja            Ja  ...    168     63  30      24.2   \n",
       "2            Ja            Ja            Ja  ...    186     72  36      29.0   \n",
       "\n",
       "   foot_width          foot_family    foot_deform street_shoe_size  \\\n",
       "0        10.0   Ägyptischer Fußtyp           Nein             41.5   \n",
       "1         9.8     Römischer Fußtyp  Hallux Valgus             38.5   \n",
       "2        10.0  Griechischer Fußtyp           Nein             46.0   \n",
       "\n",
       "          fav_sneaker_model   exp  \n",
       "0            Vans Authentic   4.0  \n",
       "1          Adidas cloudfoam   3.0  \n",
       "2  Black Diamond Mission LT  30.0  \n",
       "\n",
       "[3 rows x 30 columns]"
      ]
     },
     "execution_count": 415,
     "metadata": {},
     "output_type": "execute_result"
    }
   ],
   "source": [
    "df.head(3)"
   ]
  },
  {
   "cell_type": "code",
   "execution_count": null,
   "metadata": {},
   "outputs": [],
   "source": [
    "plt.figure(figsize=(12,12))\n",
    "sns.heatmap(df.corr(), cmap='viridis', annot=True)\n",
    "plt.title(\"Korrelations-Heatmap 2\", fontsize=14)\n",
    "plt.show()"
   ]
  },
  {
   "cell_type": "code",
   "execution_count": null,
   "metadata": {},
   "outputs": [],
   "source": [
    "plt.figure(figsize=(10,8))\n",
    "sns.scatterplot(x='foot_len', y='foot_width', data=df, hue='shoe_brand')\n",
    "\n",
    "plt.title(\"Zusammenhang Größe und Gewicht nach Schuhmarke\", fontsize=14)\n",
    "plt.show()"
   ]
  },
  {
   "cell_type": "code",
   "execution_count": null,
   "metadata": {},
   "outputs": [],
   "source": [
    "plt.figure(figsize=(10,8))\n",
    "sns.scatterplot(x='height', y='weight', data=df, hue='shoe_brand')\n",
    "plt.title(\"Zusammenhang Größe und Gewicht nach Schuhmarke\", fontsize=14)\n",
    "plt.show()"
   ]
  },
  {
   "cell_type": "code",
   "execution_count": null,
   "metadata": {},
   "outputs": [],
   "source": [
    "plt.figure(figsize=(10,8))\n",
    "sns.scatterplot(x='climb_shoe_size', y='height', data=df, hue='shoe_brand')\n",
    "plt.title(\"Zusammenhang Kletterschuhgröße und Körpergröße nach Schuhmarke\", fontsize=14)\n",
    "plt.show()"
   ]
  },
  {
   "cell_type": "code",
   "execution_count": null,
   "metadata": {},
   "outputs": [],
   "source": [
    "plt.figure(figsize=(10,8))\n",
    "sns.scatterplot(x='climb_shoe_size', y='exp', data=df, hue='climb_grade')\n",
    "plt.title(\"Zusammenhang Kletterschuhgröße und Körpergröße nach Schuhmarke\", fontsize=14)\n",
    "plt.show()"
   ]
  },
  {
   "cell_type": "markdown",
   "metadata": {},
   "source": [
    "# Feature Engineering"
   ]
  },
  {
   "cell_type": "code",
   "execution_count": null,
   "metadata": {},
   "outputs": [],
   "source": [
    "df.info()"
   ]
  },
  {
   "cell_type": "code",
   "execution_count": null,
   "metadata": {},
   "outputs": [],
   "source": [
    "df.describe().transpose()"
   ]
  },
  {
   "cell_type": "markdown",
   "metadata": {},
   "source": [
    "## Fehlende Werte"
   ]
  },
  {
   "cell_type": "code",
   "execution_count": null,
   "metadata": {},
   "outputs": [],
   "source": [
    "df.isnull().any()"
   ]
  },
  {
   "cell_type": "code",
   "execution_count": null,
   "metadata": {},
   "outputs": [],
   "source": [
    "df.drop('fav_sneaker_model',axis=1, inplace=True)"
   ]
  },
  {
   "cell_type": "code",
   "execution_count": null,
   "metadata": {},
   "outputs": [],
   "source": [
    "df['favourite'] = df['favourite'].fillna('Ja')"
   ]
  },
  {
   "cell_type": "code",
   "execution_count": null,
   "metadata": {},
   "outputs": [],
   "source": [
    "for i in df[df['Modell nicht in der Liste?'].notna() == True].index:\n",
    "    df.at[i, 'shoe_model'] = df['Modell nicht in der Liste?'].iloc[i]\n",
    "\n",
    "df[df['Modell nicht in der Liste?'].notna() == True].head(3)"
   ]
  },
  {
   "cell_type": "code",
   "execution_count": null,
   "metadata": {},
   "outputs": [],
   "source": [
    "df.at[61,'shoe_model'] = 'Diamond'\n",
    "df.iloc[61]"
   ]
  },
  {
   "cell_type": "code",
   "execution_count": null,
   "metadata": {},
   "outputs": [],
   "source": [
    "df.drop('Modell nicht in der Liste?',axis=1,inplace=True)"
   ]
  },
  {
   "cell_type": "code",
   "execution_count": null,
   "metadata": {},
   "outputs": [],
   "source": [
    "df.isnull().any()"
   ]
  },
  {
   "cell_type": "markdown",
   "metadata": {},
   "source": [
    "## Ausreißer behandeln"
   ]
  },
  {
   "cell_type": "code",
   "execution_count": null,
   "metadata": {},
   "outputs": [],
   "source": [
    "df.select_dtypes(['int64','float64']).columns"
   ]
  },
  {
   "cell_type": "code",
   "execution_count": null,
   "metadata": {},
   "outputs": [],
   "source": [
    "fig, axs = plt.subplots(3, 3, figsize=(14, 8))\n",
    "fig.suptitle('Übersicht Verteilungen')\n",
    "sns.boxplot(y='climb_shoe_size',data=df,palette='viridis', ax=axs[0,0])\n",
    "sns.boxplot(y='shoe_age',data=df,palette='viridis',ax=axs[0,1])\n",
    "sns.boxplot(y='height',data=df,palette='viridis',ax=axs[0,2])\n",
    "sns.boxplot(y='weight',data=df,palette='viridis',ax=axs[1,0])\n",
    "sns.boxplot(y='age',data=df,palette='viridis',ax=axs[1,1])\n",
    "sns.boxplot(y='foot_len',data=df,palette='viridis',ax=axs[1,2])\n",
    "sns.boxplot(y='foot_width',data=df,palette='viridis',ax=axs[2,1])\n",
    "\n",
    "plt.show()"
   ]
  },
  {
   "cell_type": "code",
   "execution_count": null,
   "metadata": {},
   "outputs": [],
   "source": [
    "df[['climb_shoe_size','street_shoe_size']][df['climb_shoe_size']<30]"
   ]
  },
  {
   "cell_type": "code",
   "execution_count": null,
   "metadata": {},
   "outputs": [],
   "source": [
    "df.at[16,'climb_shoe_size'] = 39\n",
    "df.iloc[16][['climb_shoe_size','street_shoe_size']]"
   ]
  },
  {
   "cell_type": "code",
   "execution_count": null,
   "metadata": {},
   "outputs": [],
   "source": [
    "df[df['shoe_age']>4]"
   ]
  },
  {
   "cell_type": "code",
   "execution_count": null,
   "metadata": {},
   "outputs": [],
   "source": [
    "df['shoe_age'].std()"
   ]
  },
  {
   "cell_type": "code",
   "execution_count": null,
   "metadata": {},
   "outputs": [],
   "source": [
    "df[df['weight']>85]"
   ]
  },
  {
   "cell_type": "code",
   "execution_count": null,
   "metadata": {},
   "outputs": [],
   "source": [
    "df[df['foot_len']<20]"
   ]
  },
  {
   "cell_type": "code",
   "execution_count": null,
   "metadata": {},
   "outputs": [],
   "source": [
    "df.at[68,'foot_len'] = round(df['foot_len'].mean(),2)\n",
    "df.at[130,'foot_len'] = round(df['foot_len'].mean(),2)\n",
    "df['foot_len'].iloc[[68,130]]"
   ]
  },
  {
   "cell_type": "code",
   "execution_count": null,
   "metadata": {},
   "outputs": [],
   "source": [
    "df['foot_width'][df['foot_width']<8]"
   ]
  },
  {
   "cell_type": "code",
   "execution_count": null,
   "metadata": {},
   "outputs": [],
   "source": [
    "df.at[[26],'foot_width'] = round(df['foot_width'].mean(),2)\n",
    "df.at[[43],'foot_width'] = round(df['foot_width'].mean(),2)\n",
    "df.at[[117],'foot_width'] = round(df['foot_width'].mean(),2)\n",
    "df.at[[149],'foot_width'] = round(df['foot_width'].mean(),2)\n",
    "\n",
    "df['foot_width'].iloc[[26,43,117,149]]"
   ]
  },
  {
   "cell_type": "markdown",
   "metadata": {},
   "source": [
    "## Versuch: Gruppieren durch Clustern"
   ]
  },
  {
   "cell_type": "code",
   "execution_count": null,
   "metadata": {},
   "outputs": [],
   "source": [
    "from sklearn.cluster import KMeans\n",
    "\n",
    "cluster = KMeans(3, random_state=0)\n",
    "\n",
    "cluster.fit(df[['height','weight']])\n",
    "\n",
    "df['group'] = cluster.predict(df[['height','weight']])\n",
    "\n",
    "sns.scatterplot(x='weight',y='height',data=df, hue='group', palette='viridis')"
   ]
  },
  {
   "cell_type": "code",
   "execution_count": null,
   "metadata": {},
   "outputs": [],
   "source": [
    "cluster = KMeans(3, random_state=0)\n",
    "\n",
    "cluster.fit(df[['height','climb_shoe_size']])\n",
    "\n",
    "df['group2'] = cluster.predict(df[['height','weight']])\n",
    "\n",
    "sns.scatterplot(x='climb_shoe_size',y='height',data=df, hue='group', palette='viridis')"
   ]
  },
  {
   "cell_type": "markdown",
   "metadata": {},
   "source": [
    "## Kategoriale / Ordinalwerte umwandeln"
   ]
  },
  {
   "cell_type": "code",
   "execution_count": null,
   "metadata": {},
   "outputs": [],
   "source": [
    "df.select_dtypes(['object']).columns"
   ]
  },
  {
   "cell_type": "code",
   "execution_count": null,
   "metadata": {},
   "outputs": [],
   "source": [
    "df['shoe_model'].value_counts()"
   ]
  },
  {
   "cell_type": "code",
   "execution_count": null,
   "metadata": {},
   "outputs": [],
   "source": [
    "df['shoe_brand'].value_counts()"
   ]
  },
  {
   "cell_type": "code",
   "execution_count": null,
   "metadata": {},
   "outputs": [],
   "source": [
    "df[df['shoe_brand'] == '?']"
   ]
  },
  {
   "cell_type": "code",
   "execution_count": null,
   "metadata": {},
   "outputs": [],
   "source": [
    "df.drop('shoe_brand',axis=1,inplace=True)"
   ]
  },
  {
   "cell_type": "code",
   "execution_count": null,
   "metadata": {},
   "outputs": [],
   "source": [
    "df['shoe_model'][df['shoe_model'] == 'Sonstige'].index"
   ]
  },
  {
   "cell_type": "code",
   "execution_count": null,
   "metadata": {},
   "outputs": [],
   "source": [
    "df.drop([18, 27, 31, 54, 55, 98, 114, 119],inplace=True)"
   ]
  },
  {
   "cell_type": "code",
   "execution_count": null,
   "metadata": {},
   "outputs": [],
   "source": [
    "df.select_dtypes(['object']).columns"
   ]
  },
  {
   "cell_type": "code",
   "execution_count": null,
   "metadata": {},
   "outputs": [],
   "source": [
    "df['climb_style'].value_counts()"
   ]
  },
  {
   "cell_type": "code",
   "execution_count": null,
   "metadata": {},
   "outputs": [],
   "source": [
    "df['climb_style'].unique()"
   ]
  },
  {
   "cell_type": "code",
   "execution_count": null,
   "metadata": {},
   "outputs": [],
   "source": [
    "def strip_list(liste):\n",
    "    stripped = []\n",
    "    \n",
    "    for n in liste:\n",
    "        stripped.append(n.strip())\n",
    "    \n",
    "    return stripped"
   ]
  },
  {
   "cell_type": "code",
   "execution_count": null,
   "metadata": {},
   "outputs": [],
   "source": [
    "styles = ['Sportklettern', 'Bouldern', 'Mehrseillängen']\n",
    "for style in styles:\n",
    "    df[style.lower().split()[0]] = df.apply(lambda row: 1 if style in strip_list(row.climb_style.split(',')) else 0, axis=1)\n",
    "df.head()"
   ]
  },
  {
   "cell_type": "code",
   "execution_count": null,
   "metadata": {},
   "outputs": [],
   "source": [
    "df.drop('climb_style',axis=1,inplace=True)"
   ]
  },
  {
   "cell_type": "code",
   "execution_count": null,
   "metadata": {},
   "outputs": [],
   "source": [
    "df.select_dtypes(['object']).columns"
   ]
  },
  {
   "cell_type": "code",
   "execution_count": null,
   "metadata": {},
   "outputs": [],
   "source": [
    "df['shoe_closing_type'].value_counts()"
   ]
  },
  {
   "cell_type": "code",
   "execution_count": null,
   "metadata": {},
   "outputs": [],
   "source": [
    "df['terrain'].value_counts()"
   ]
  },
  {
   "cell_type": "code",
   "execution_count": null,
   "metadata": {},
   "outputs": [],
   "source": [
    "df['halle'] = df['terrain'].map(lambda row: 1 if row in ['Halle', 'Beides'] else 0)"
   ]
  },
  {
   "cell_type": "code",
   "execution_count": null,
   "metadata": {},
   "outputs": [],
   "source": [
    "df['outdoor'] = df['terrain'].map(lambda row: 1 if row in ['Outdoor', 'Beides'] else 0)"
   ]
  },
  {
   "cell_type": "code",
   "execution_count": null,
   "metadata": {},
   "outputs": [],
   "source": [
    "df.drop('terrain',axis=1,inplace=True)"
   ]
  },
  {
   "cell_type": "code",
   "execution_count": null,
   "metadata": {},
   "outputs": [],
   "source": [
    "df.select_dtypes(['object']).columns"
   ]
  },
  {
   "cell_type": "code",
   "execution_count": null,
   "metadata": {},
   "outputs": [],
   "source": [
    "df['climb_grade'].value_counts()"
   ]
  },
  {
   "cell_type": "code",
   "execution_count": null,
   "metadata": {},
   "outputs": [],
   "source": [
    "df['beginner'] = df['climb_grade'].map(lambda row: 1 if row in ['Anfänger (UIAA < 7)'] else 0)\n",
    "df['advanced'] = df['climb_grade'].map(lambda row: 1 if row in ['Fortgeschritten (UIAA 7 - 9)'] else 0)\n",
    "df['pro'] = df['climb_grade'].map(lambda row: 1 if row in ['Profi (UIAA > 9)'] else 0)"
   ]
  },
  {
   "cell_type": "code",
   "execution_count": null,
   "metadata": {},
   "outputs": [],
   "source": [
    "df.head()"
   ]
  },
  {
   "cell_type": "code",
   "execution_count": null,
   "metadata": {},
   "outputs": [],
   "source": [
    "df['foot_deform'].value_counts()"
   ]
  },
  {
   "cell_type": "code",
   "execution_count": null,
   "metadata": {},
   "outputs": [],
   "source": [
    "df[df['foot_deform'] == 'Nein, abgeflachtes Quergewölbe, aber noch kein Spreizfuß']"
   ]
  },
  {
   "cell_type": "code",
   "execution_count": null,
   "metadata": {},
   "outputs": [],
   "source": [
    "df.at[61,'foot_deform'] = 'Nein'\n",
    "df.at[127,'foot_deform'] = 'Nein'"
   ]
  },
  {
   "cell_type": "code",
   "execution_count": null,
   "metadata": {},
   "outputs": [],
   "source": [
    "df['foot_deform'].value_counts()"
   ]
  },
  {
   "cell_type": "code",
   "execution_count": null,
   "metadata": {},
   "outputs": [],
   "source": [
    "df[df['foot_deform'] == 'Hallux Valgus, Senkfuß']"
   ]
  },
  {
   "cell_type": "code",
   "execution_count": null,
   "metadata": {},
   "outputs": [],
   "source": [
    "def strip_list(liste):\n",
    "    stripped = []\n",
    "    \n",
    "    for n in liste:\n",
    "        stripped.append(n.strip())\n",
    "    \n",
    "    return stripped\n",
    "\n",
    "deformations = ['Hallux Valgus', 'Senkfuß','Spreizfuß','Plattfuß', 'Hohlfuß','Knickfuß', 'Fersenbein']\n",
    "\n",
    "for deform in deformations:\n",
    "    df[deform.lower().split()[0]] = df.apply(lambda row: 1 if deform in strip_list(row.foot_deform.split(',')) else 0, axis=1)\n",
    "\n",
    "df.head(3)"
   ]
  },
  {
   "cell_type": "code",
   "execution_count": null,
   "metadata": {},
   "outputs": [],
   "source": [
    "df.drop(['foot_deform', 'climb_grade'],axis=1,inplace=True)"
   ]
  },
  {
   "cell_type": "code",
   "execution_count": null,
   "metadata": {},
   "outputs": [],
   "source": [
    "df.select_dtypes(['object']).columns"
   ]
  },
  {
   "cell_type": "code",
   "execution_count": null,
   "metadata": {},
   "outputs": [],
   "source": [
    "df['favourite'] = df['favourite'].map(lambda row: 1 if row in ['Ja'] else 0)"
   ]
  },
  {
   "cell_type": "code",
   "execution_count": null,
   "metadata": {},
   "outputs": [],
   "source": [
    "df.select_dtypes(['object']).columns"
   ]
  },
  {
   "cell_type": "code",
   "execution_count": null,
   "metadata": {},
   "outputs": [],
   "source": [
    "df['foot_family'].value_counts()"
   ]
  },
  {
   "cell_type": "code",
   "execution_count": null,
   "metadata": {},
   "outputs": [],
   "source": [
    "df['egypt'] = df['foot_family'].map(lambda row: 1 if row in ['Ägyptischer Fußtyp'] else 0)\n",
    "df['rome'] = df['foot_family'].map(lambda row: 1 if row in ['Römischer Fußtyp'] else 0)\n",
    "df['greek'] = df['foot_family'].map(lambda row: 1 if row in ['Griechischer Fußtyp'] else 0)\n",
    "df['shoe_vorspann'] = df['shoe_vorspann'].map(lambda row: 1 if row in ['Ja'] else 0)\n",
    "df['shoe_downturn'] = df['shoe_downturn'].map(lambda row: 1 if row in ['Ja'] else 0)\n",
    "df['shoe_asymetry'] = df['shoe_asymetry'].map(lambda row: 1 if row in ['Ja'] else 0)\n",
    "\n",
    "df.drop('foot_family',axis=1, inplace=True)\n",
    "df.head()"
   ]
  },
  {
   "cell_type": "code",
   "execution_count": null,
   "metadata": {},
   "outputs": [],
   "source": [
    "dummies = pd.get_dummies(data=df, columns=['shoe_closing_type', 'gender'],drop_first=True)\n",
    "df = pd.concat([df,dummies],axis=1)\n",
    "\n",
    "df_targets = pd.get_dummies(data=df, columns=['shoe_model'],drop_first=True)"
   ]
  },
  {
   "cell_type": "code",
   "execution_count": null,
   "metadata": {},
   "outputs": [],
   "source": [
    "df.iloc[1]"
   ]
  },
  {
   "cell_type": "code",
   "execution_count": null,
   "metadata": {},
   "outputs": [],
   "source": [
    "df.select_dtypes(['object']).columns"
   ]
  },
  {
   "cell_type": "code",
   "execution_count": null,
   "metadata": {},
   "outputs": [],
   "source": [
    "df.drop(['userid','shoe_model','shoe_closing_type','gender'],axis=1, inplace=True)"
   ]
  },
  {
   "cell_type": "code",
   "execution_count": null,
   "metadata": {},
   "outputs": [],
   "source": [
    "df.shape"
   ]
  },
  {
   "cell_type": "code",
   "execution_count": null,
   "metadata": {},
   "outputs": [],
   "source": [
    "print(df.columns)"
   ]
  },
  {
   "cell_type": "markdown",
   "metadata": {},
   "source": [
    "## Versuch 2: Merkmale reduzieren durch Hauptkomponenten-Analyse (PCA)"
   ]
  },
  {
   "cell_type": "code",
   "execution_count": null,
   "metadata": {},
   "outputs": [],
   "source": [
    "from sklearn.preprocessing import StandardScaler\n",
    "from sklearn.decomposition import PCA\n",
    "from sklearn import datasets\n",
    "\n",
    "features = StandardScaler().fit_transform(df.values)\n",
    "\n",
    "pca = PCA(n_components=0.99, whiten=True)\n",
    "\n",
    "features_pca = pca.fit_transform(features)\n",
    "\n",
    "print(\"Ursprüngliche Anzahl Features: \", features.shape[1])\n",
    "print(\"Reduzierte Anzahl Features: \", features_pca.shape[1])"
   ]
  },
  {
   "cell_type": "markdown",
   "metadata": {},
   "source": [
    "# Klassifizierung"
   ]
  },
  {
   "cell_type": "markdown",
   "metadata": {},
   "source": [
    "## K-Nearest Neighbor"
   ]
  },
  {
   "cell_type": "code",
   "execution_count": 76,
   "metadata": {},
   "outputs": [],
   "source": [
    "from sklearn.model_selection import train_test_split\n",
    "from sklearn.preprocessing import StandardScaler\n",
    "from sklearn.neighbors import KNeighborsClassifier\n",
    "from sklearn.metrics import confusion_matrix, f1_score, accuracy_score"
   ]
  },
  {
   "cell_type": "code",
   "execution_count": null,
   "metadata": {},
   "outputs": [],
   "source": []
  },
  {
   "cell_type": "markdown",
   "metadata": {},
   "source": [
    "## Logistische Regression"
   ]
  },
  {
   "cell_type": "code",
   "execution_count": null,
   "metadata": {},
   "outputs": [],
   "source": []
  },
  {
   "cell_type": "markdown",
   "metadata": {},
   "source": [
    "# Multiklassen Klassifizierung\n",
    "\n",
    "### Ziel: Mehrere Outputs vorhersagen\n",
    "\n",
    "### Grundprinzipien:\n",
    "One vs. All -> Wenn eine Klasse 1 ist, sind alle anderen 0<br>\n",
    "One vs. One -> Pärchenweiser Vergleich aller Outputklassen \n",
    "\n"
   ]
  },
  {
   "cell_type": "code",
   "execution_count": null,
   "metadata": {},
   "outputs": [],
   "source": []
  },
  {
   "cell_type": "markdown",
   "metadata": {},
   "source": [
    "## Logistische Regression"
   ]
  },
  {
   "cell_type": "code",
   "execution_count": null,
   "metadata": {},
   "outputs": [],
   "source": []
  },
  {
   "cell_type": "markdown",
   "metadata": {},
   "source": [
    "## Neuronales Netz \n",
    "\n",
    "Output Aktivirungsfunktion: Sigmoid"
   ]
  },
  {
   "cell_type": "code",
   "execution_count": 82,
   "metadata": {},
   "outputs": [],
   "source": [
    "import tensorflow as tf\n",
    "from sklearn.model_selection import train_test_split\n",
    "from sklearn.preprocessing import MinMaxScaler\n",
    "from tensorflow.keras.models import Sequential\n",
    "from tensorflow.keras.layers import Dense, Activation,Dropout"
   ]
  },
  {
   "cell_type": "code",
   "execution_count": 149,
   "metadata": {},
   "outputs": [
    {
     "name": "stdout",
     "output_type": "stream",
     "text": [
      "94\n"
     ]
    }
   ],
   "source": [
    "X = df.drop('userid',axis=1).values\n",
    "y = df_y.values\n",
    "\n",
    "print(len(y))"
   ]
  },
  {
   "cell_type": "code",
   "execution_count": 150,
   "metadata": {},
   "outputs": [],
   "source": [
    "X_train, X_test, y_train, y_test = train_test_split(X,y,test_size=0.30,random_state=101)"
   ]
  },
  {
   "cell_type": "code",
   "execution_count": 151,
   "metadata": {},
   "outputs": [],
   "source": [
    "scaler = MinMaxScaler()\n",
    "\n",
    "X_train= scaler.fit_transform(X_train)\n",
    "X_test = scaler.transform(X_test)"
   ]
  },
  {
   "cell_type": "code",
   "execution_count": 152,
   "metadata": {},
   "outputs": [
    {
     "data": {
      "text/plain": [
       "(65, 17)"
      ]
     },
     "execution_count": 152,
     "metadata": {},
     "output_type": "execute_result"
    }
   ],
   "source": [
    "X_train.shape"
   ]
  },
  {
   "cell_type": "code",
   "execution_count": 153,
   "metadata": {},
   "outputs": [
    {
     "data": {
      "text/plain": [
       "(29, 17)"
      ]
     },
     "execution_count": 153,
     "metadata": {},
     "output_type": "execute_result"
    }
   ],
   "source": [
    "X_test.shape"
   ]
  },
  {
   "cell_type": "code",
   "execution_count": 154,
   "metadata": {},
   "outputs": [
    {
     "data": {
      "text/plain": [
       "(65, 66)"
      ]
     },
     "execution_count": 154,
     "metadata": {},
     "output_type": "execute_result"
    }
   ],
   "source": [
    "y_train.shape"
   ]
  },
  {
   "cell_type": "code",
   "execution_count": 155,
   "metadata": {},
   "outputs": [
    {
     "data": {
      "text/plain": [
       "(29, 66)"
      ]
     },
     "execution_count": 155,
     "metadata": {},
     "output_type": "execute_result"
    }
   ],
   "source": [
    "y_test.shape"
   ]
  },
  {
   "cell_type": "code",
   "execution_count": 169,
   "metadata": {},
   "outputs": [],
   "source": [
    "from tensorflow.keras.wrappers.scikit_learn import KerasClassifier"
   ]
  },
  {
   "cell_type": "code",
   "execution_count": 177,
   "metadata": {},
   "outputs": [
    {
     "data": {
      "text/plain": [
       "<tensorflow.python.keras.wrappers.scikit_learn.KerasClassifier at 0x276ec10cf70>"
      ]
     },
     "execution_count": 177,
     "metadata": {},
     "output_type": "execute_result"
    }
   ],
   "source": [
    "def baseline_model():\n",
    "    # create model\n",
    "    model = Sequential()\n",
    "    model.add(Dense(units=17, activation='relu'))\n",
    "    model.add(Dense(units=8, activation='relu'))\n",
    "    model.add(Dense(units=66, activation='sigmoid'))\n",
    "    # Compile model\n",
    "    model.compile(loss='categorical_crossentropy', optimizer='adam', metrics=['accuracy'])\n",
    "    return model\n",
    "\n",
    "estimator = KerasClassifier(build_fn=baseline_model, epochs=200, batch_size=5, verbose=0)"
   ]
  },
  {
   "cell_type": "code",
   "execution_count": 178,
   "metadata": {},
   "outputs": [],
   "source": [
    "from sklearn.model_selection import cross_val_score\n",
    "from sklearn.model_selection import KFold\n"
   ]
  },
  {
   "cell_type": "code",
   "execution_count": 180,
   "metadata": {},
   "outputs": [
    {
     "name": "stdout",
     "output_type": "stream",
     "text": [
      "WARNING:tensorflow:6 out of the last 11 calls to <function Model.make_test_function.<locals>.test_function at 0x00000276ED9A5AF0> triggered tf.function retracing. Tracing is expensive and the excessive number of tracings could be due to (1) creating @tf.function repeatedly in a loop, (2) passing tensors with different shapes, (3) passing Python objects instead of tensors. For (1), please define your @tf.function outside of the loop. For (2), @tf.function has experimental_relax_shapes=True option that relaxes argument shapes that can avoid unnecessary retracing. For (3), please refer to https://www.tensorflow.org/guide/function#controlling_retracing and https://www.tensorflow.org/api_docs/python/tf/function for  more details.\n",
      "WARNING:tensorflow:6 out of the last 12 calls to <function Model.make_test_function.<locals>.test_function at 0x00000276F2130040> triggered tf.function retracing. Tracing is expensive and the excessive number of tracings could be due to (1) creating @tf.function repeatedly in a loop, (2) passing tensors with different shapes, (3) passing Python objects instead of tensors. For (1), please define your @tf.function outside of the loop. For (2), @tf.function has experimental_relax_shapes=True option that relaxes argument shapes that can avoid unnecessary retracing. For (3), please refer to https://www.tensorflow.org/guide/function#controlling_retracing and https://www.tensorflow.org/api_docs/python/tf/function for  more details.\n",
      "WARNING:tensorflow:5 out of the last 11 calls to <function Model.make_test_function.<locals>.test_function at 0x00000276EFAFE700> triggered tf.function retracing. Tracing is expensive and the excessive number of tracings could be due to (1) creating @tf.function repeatedly in a loop, (2) passing tensors with different shapes, (3) passing Python objects instead of tensors. For (1), please define your @tf.function outside of the loop. For (2), @tf.function has experimental_relax_shapes=True option that relaxes argument shapes that can avoid unnecessary retracing. For (3), please refer to https://www.tensorflow.org/guide/function#controlling_retracing and https://www.tensorflow.org/api_docs/python/tf/function for  more details.\n",
      "WARNING:tensorflow:5 out of the last 12 calls to <function Model.make_test_function.<locals>.test_function at 0x00000276EF1E5E50> triggered tf.function retracing. Tracing is expensive and the excessive number of tracings could be due to (1) creating @tf.function repeatedly in a loop, (2) passing tensors with different shapes, (3) passing Python objects instead of tensors. For (1), please define your @tf.function outside of the loop. For (2), @tf.function has experimental_relax_shapes=True option that relaxes argument shapes that can avoid unnecessary retracing. For (3), please refer to https://www.tensorflow.org/guide/function#controlling_retracing and https://www.tensorflow.org/api_docs/python/tf/function for  more details.\n",
      "WARNING:tensorflow:5 out of the last 13 calls to <function Model.make_test_function.<locals>.test_function at 0x00000276EFC8E550> triggered tf.function retracing. Tracing is expensive and the excessive number of tracings could be due to (1) creating @tf.function repeatedly in a loop, (2) passing tensors with different shapes, (3) passing Python objects instead of tensors. For (1), please define your @tf.function outside of the loop. For (2), @tf.function has experimental_relax_shapes=True option that relaxes argument shapes that can avoid unnecessary retracing. For (3), please refer to https://www.tensorflow.org/guide/function#controlling_retracing and https://www.tensorflow.org/api_docs/python/tf/function for  more details.\n",
      "Baseline: 0.00% (0.00%)\n"
     ]
    }
   ],
   "source": [
    "kfold = KFold(n_splits=5, shuffle=True)\n",
    "results = cross_val_score(estimator, X_train, y_train, cv=kfold)\n",
    "print(\"Baseline: %.2f%% (%.2f%%)\" % (results.mean()*100, results.std()*100))\n"
   ]
  },
  {
   "cell_type": "code",
   "execution_count": 167,
   "metadata": {},
   "outputs": [],
   "source": [
    "#model.fit(x=X_train, \n",
    "#          y=y_train, \n",
    "#          epochs=100,\n",
    "#          batch_size=10,\n",
    "#          validation_data=(X_test, y_test), verbose=1\n",
    "#          )"
   ]
  },
  {
   "cell_type": "code",
   "execution_count": 171,
   "metadata": {},
   "outputs": [],
   "source": [
    "#model_loss = pd.DataFrame(model.history.history)"
   ]
  },
  {
   "cell_type": "code",
   "execution_count": 172,
   "metadata": {},
   "outputs": [],
   "source": [
    "#model_loss.plot()"
   ]
  }
 ],
 "metadata": {
  "kernelspec": {
   "display_name": "Python 3",
   "language": "python",
   "name": "python3"
  },
  "language_info": {
   "codemirror_mode": {
    "name": "ipython",
    "version": 3
   },
   "file_extension": ".py",
   "mimetype": "text/x-python",
   "name": "python",
   "nbconvert_exporter": "python",
   "pygments_lexer": "ipython3",
   "version": "3.8.5"
  }
 },
 "nbformat": 4,
 "nbformat_minor": 4
}
