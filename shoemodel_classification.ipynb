{
 "cells": [
  {
   "cell_type": "markdown",
   "metadata": {},
   "source": [
    "# Klassifikation Kletterschuhe\n",
    "\n",
    "\n",
    "## Daten\n",
    "\n",
    "Eigene Datenerhebung mittels Online-Umfrage: https://forms.gle/PTs57af6sLqk32Wx7\n",
    "\n",
    "Die Daten wurden getrennt in User-Daten und Schuhe\n",
    "\n",
    "body_features.csv: Enthält alle Informationen rund um die Person (Geschlecht, Größe, Gewicht, Fußform, Fußmaße, Klettererfahrung)\n",
    "\n",
    "shoe_survey.csv: Sämtliche von den Personen eingetragene Kletterschuhe (Marke, Modell, Eigenschaften, Bewertungen, etc.)\n",
    "\n",
    "\n",
    "\n",
    "## Ziel: Schuhmodell vorhersagen\n",
    "\n",
    "Kann mithilfe der Erfahrungsberichte und Körpereigenschaften der Befragten ein Kletterschuh vorhergesagt werden?\n",
    "\n",
    "Target Label: shoe_model"
   ]
  },
  {
   "cell_type": "markdown",
   "metadata": {},
   "source": [
    "# Explorative Analyse"
   ]
  },
  {
   "cell_type": "code",
   "execution_count": 1,
   "metadata": {},
   "outputs": [],
   "source": [
    "import numpy as np\n",
    "import pandas as pd\n",
    "import matplotlib.pyplot as plt\n",
    "import seaborn as sns"
   ]
  },
  {
   "cell_type": "markdown",
   "metadata": {},
   "source": [
    "## body_features"
   ]
  },
  {
   "cell_type": "code",
   "execution_count": 2,
   "metadata": {},
   "outputs": [],
   "source": [
    "users = pd.read_csv('./data/body_features.csv')"
   ]
  },
  {
   "cell_type": "code",
   "execution_count": 3,
   "metadata": {},
   "outputs": [
    {
     "data": {
      "text/html": [
       "<div>\n",
       "<style scoped>\n",
       "    .dataframe tbody tr th:only-of-type {\n",
       "        vertical-align: middle;\n",
       "    }\n",
       "\n",
       "    .dataframe tbody tr th {\n",
       "        vertical-align: top;\n",
       "    }\n",
       "\n",
       "    .dataframe thead th {\n",
       "        text-align: right;\n",
       "    }\n",
       "</style>\n",
       "<table border=\"1\" class=\"dataframe\">\n",
       "  <thead>\n",
       "    <tr style=\"text-align: right;\">\n",
       "      <th></th>\n",
       "      <th>userid</th>\n",
       "      <th>gender</th>\n",
       "      <th>height</th>\n",
       "      <th>weight</th>\n",
       "      <th>age</th>\n",
       "      <th>foot_len</th>\n",
       "      <th>foot_width</th>\n",
       "      <th>foot_family</th>\n",
       "      <th>foot_deform</th>\n",
       "      <th>street_shoe_size</th>\n",
       "      <th>fav_sneaker_model</th>\n",
       "      <th>exp</th>\n",
       "    </tr>\n",
       "  </thead>\n",
       "  <tbody>\n",
       "    <tr>\n",
       "      <th>0</th>\n",
       "      <td>1</td>\n",
       "      <td>Männlich</td>\n",
       "      <td>168</td>\n",
       "      <td>61</td>\n",
       "      <td>29</td>\n",
       "      <td>25.5</td>\n",
       "      <td>10.0</td>\n",
       "      <td>Ägyptischer Fußtyp</td>\n",
       "      <td>Nein</td>\n",
       "      <td>41.5</td>\n",
       "      <td>Vans Authentic</td>\n",
       "      <td>4.0</td>\n",
       "    </tr>\n",
       "    <tr>\n",
       "      <th>1</th>\n",
       "      <td>2</td>\n",
       "      <td>Weiblich</td>\n",
       "      <td>168</td>\n",
       "      <td>63</td>\n",
       "      <td>30</td>\n",
       "      <td>24.2</td>\n",
       "      <td>9.8</td>\n",
       "      <td>Römischer Fußtyp</td>\n",
       "      <td>Hallux Valgus</td>\n",
       "      <td>38.5</td>\n",
       "      <td>Adidas cloudfoam</td>\n",
       "      <td>3.0</td>\n",
       "    </tr>\n",
       "    <tr>\n",
       "      <th>2</th>\n",
       "      <td>3</td>\n",
       "      <td>Männlich</td>\n",
       "      <td>186</td>\n",
       "      <td>72</td>\n",
       "      <td>36</td>\n",
       "      <td>29.0</td>\n",
       "      <td>10.0</td>\n",
       "      <td>Griechischer Fußtyp</td>\n",
       "      <td>Nein</td>\n",
       "      <td>46.0</td>\n",
       "      <td>Black Diamond Mission LT</td>\n",
       "      <td>30.0</td>\n",
       "    </tr>\n",
       "  </tbody>\n",
       "</table>\n",
       "</div>"
      ],
      "text/plain": [
       "   userid    gender  height  weight  age  foot_len  foot_width  \\\n",
       "0       1  Männlich     168      61   29      25.5        10.0   \n",
       "1       2  Weiblich     168      63   30      24.2         9.8   \n",
       "2       3  Männlich     186      72   36      29.0        10.0   \n",
       "\n",
       "           foot_family    foot_deform  street_shoe_size  \\\n",
       "0   Ägyptischer Fußtyp           Nein              41.5   \n",
       "1     Römischer Fußtyp  Hallux Valgus              38.5   \n",
       "2  Griechischer Fußtyp           Nein              46.0   \n",
       "\n",
       "          fav_sneaker_model   exp  \n",
       "0            Vans Authentic   4.0  \n",
       "1          Adidas cloudfoam   3.0  \n",
       "2  Black Diamond Mission LT  30.0  "
      ]
     },
     "execution_count": 3,
     "metadata": {},
     "output_type": "execute_result"
    }
   ],
   "source": [
    "users.head(3)"
   ]
  },
  {
   "cell_type": "code",
   "execution_count": 4,
   "metadata": {},
   "outputs": [
    {
     "name": "stdout",
     "output_type": "stream",
     "text": [
      "<class 'pandas.core.frame.DataFrame'>\n",
      "RangeIndex: 94 entries, 0 to 93\n",
      "Data columns (total 12 columns):\n",
      " #   Column             Non-Null Count  Dtype  \n",
      "---  ------             --------------  -----  \n",
      " 0   userid             94 non-null     int64  \n",
      " 1   gender             94 non-null     object \n",
      " 2   height             94 non-null     int64  \n",
      " 3   weight             94 non-null     int64  \n",
      " 4   age                94 non-null     int64  \n",
      " 5   foot_len           94 non-null     float64\n",
      " 6   foot_width         94 non-null     float64\n",
      " 7   foot_family        94 non-null     object \n",
      " 8   foot_deform        94 non-null     object \n",
      " 9   street_shoe_size   94 non-null     float64\n",
      " 10  fav_sneaker_model  81 non-null     object \n",
      " 11  exp                94 non-null     float64\n",
      "dtypes: float64(4), int64(4), object(4)\n",
      "memory usage: 8.9+ KB\n"
     ]
    }
   ],
   "source": [
    "users.info()"
   ]
  },
  {
   "cell_type": "code",
   "execution_count": 5,
   "metadata": {},
   "outputs": [
    {
     "data": {
      "text/plain": [
       "Index(['userid', 'gender', 'height', 'weight', 'age', 'foot_len', 'foot_width',\n",
       "       'foot_family', 'foot_deform', 'street_shoe_size', 'fav_sneaker_model',\n",
       "       'exp'],\n",
       "      dtype='object')"
      ]
     },
     "execution_count": 5,
     "metadata": {},
     "output_type": "execute_result"
    }
   ],
   "source": [
    "users.columns"
   ]
  },
  {
   "cell_type": "code",
   "execution_count": 6,
   "metadata": {},
   "outputs": [
    {
     "data": {
      "image/png": "[encoded data removed]",
      "text/plain": [
       "<Figure size 432x288 with 1 Axes>"
      ]
     },
     "metadata": {
      "needs_background": "light"
     },
     "output_type": "display_data"
    }
   ],
   "source": [
    "sns.countplot(x='gender', data=users, palette='viridis')\n",
    "plt.title(\"Verteilung nach Geschlecht\", fontsize=14)\n",
    "plt.show()"
   ]
  },
  {
   "cell_type": "code",
   "execution_count": 7,
   "metadata": {},
   "outputs": [
    {
     "data": {
      "image/png": "[encoded data removed]",
      "text/plain": [
       "<Figure size 432x288 with 1 Axes>"
      ]
     },
     "metadata": {
      "needs_background": "light"
     },
     "output_type": "display_data"
    }
   ],
   "source": [
    "sns.boxplot(x='gender', y='age', data=users, palette='viridis')\n",
    "plt.title(\"Verteilung Alter nach Geschlecht\", fontsize=14)\n",
    "plt.show()"
   ]
  },
  {
   "cell_type": "code",
   "execution_count": 8,
   "metadata": {},
   "outputs": [
    {
     "data": {
      "image/png": "[encoded data removed]",
      "text/plain": [
       "<Figure size 432x288 with 1 Axes>"
      ]
     },
     "metadata": {
      "needs_background": "light"
     },
     "output_type": "display_data"
    }
   ],
   "source": [
    "sns.boxplot(x='gender', y='height', data=users, palette='viridis')\n",
    "plt.title(\"Verteilung Größe nach Geschlecht\", fontsize=14)\n",
    "plt.show()"
   ]
  },
  {
   "cell_type": "code",
   "execution_count": 9,
   "metadata": {},
   "outputs": [
    {
     "data": {
      "image/png": "[encoded data removed]",
      "text/plain": [
       "<Figure size 432x288 with 1 Axes>"
      ]
     },
     "metadata": {
      "needs_background": "light"
     },
     "output_type": "display_data"
    }
   ],
   "source": [
    "sns.boxplot(x='gender', y='weight', data=users, palette='viridis')\n",
    "plt.title(\"Verteilung Gewicht nach Geschlecht\", fontsize=14)\n",
    "plt.show()"
   ]
  },
  {
   "cell_type": "code",
   "execution_count": null,
   "metadata": {},
   "outputs": [],
   "source": []
  },
  {
   "cell_type": "code",
   "execution_count": 10,
   "metadata": {},
   "outputs": [
    {
     "data": {
      "text/plain": [
       "Ägyptischer Fußtyp               43\n",
       "Römischer Fußtyp                 30\n",
       "Griechischer Fußtyp              20\n",
       "Mix aus Römisch und Ägyptisch     1\n",
       "Name: foot_family, dtype: int64"
      ]
     },
     "execution_count": 10,
     "metadata": {},
     "output_type": "execute_result"
    }
   ],
   "source": [
    "users['foot_family'].value_counts()"
   ]
  },
  {
   "cell_type": "code",
   "execution_count": 11,
   "metadata": {},
   "outputs": [
    {
     "data": {
      "text/html": [
       "<div>\n",
       "<style scoped>\n",
       "    .dataframe tbody tr th:only-of-type {\n",
       "        vertical-align: middle;\n",
       "    }\n",
       "\n",
       "    .dataframe tbody tr th {\n",
       "        vertical-align: top;\n",
       "    }\n",
       "\n",
       "    .dataframe thead th {\n",
       "        text-align: right;\n",
       "    }\n",
       "</style>\n",
       "<table border=\"1\" class=\"dataframe\">\n",
       "  <thead>\n",
       "    <tr style=\"text-align: right;\">\n",
       "      <th></th>\n",
       "      <th>userid</th>\n",
       "      <th>gender</th>\n",
       "      <th>height</th>\n",
       "      <th>weight</th>\n",
       "      <th>age</th>\n",
       "      <th>foot_len</th>\n",
       "      <th>foot_width</th>\n",
       "      <th>foot_family</th>\n",
       "      <th>foot_deform</th>\n",
       "      <th>street_shoe_size</th>\n",
       "      <th>fav_sneaker_model</th>\n",
       "      <th>exp</th>\n",
       "    </tr>\n",
       "  </thead>\n",
       "  <tbody>\n",
       "    <tr>\n",
       "      <th>13</th>\n",
       "      <td>14</td>\n",
       "      <td>Weiblich</td>\n",
       "      <td>164</td>\n",
       "      <td>58</td>\n",
       "      <td>24</td>\n",
       "      <td>23.0</td>\n",
       "      <td>8.3</td>\n",
       "      <td>Mix aus Römisch und Ägyptisch</td>\n",
       "      <td>Senkfuß</td>\n",
       "      <td>38.0</td>\n",
       "      <td>Nike</td>\n",
       "      <td>3.0</td>\n",
       "    </tr>\n",
       "  </tbody>\n",
       "</table>\n",
       "</div>"
      ],
      "text/plain": [
       "    userid    gender  height  weight  age  foot_len  foot_width  \\\n",
       "13      14  Weiblich     164      58   24      23.0         8.3   \n",
       "\n",
       "                      foot_family foot_deform  street_shoe_size  \\\n",
       "13  Mix aus Römisch und Ägyptisch     Senkfuß              38.0   \n",
       "\n",
       "   fav_sneaker_model  exp  \n",
       "13             Nike   3.0  "
      ]
     },
     "execution_count": 11,
     "metadata": {},
     "output_type": "execute_result"
    }
   ],
   "source": [
    "users[users['foot_family'] == 'Mix aus Römisch und Ägyptisch']"
   ]
  },
  {
   "cell_type": "code",
   "execution_count": 12,
   "metadata": {},
   "outputs": [],
   "source": [
    "users.at[13,'foot_family'] = 'Ägyptischer Fußtyp'"
   ]
  },
  {
   "cell_type": "code",
   "execution_count": 13,
   "metadata": {},
   "outputs": [
    {
     "data": {
      "text/plain": [
       "Ägyptischer Fußtyp     44\n",
       "Römischer Fußtyp       30\n",
       "Griechischer Fußtyp    20\n",
       "Name: foot_family, dtype: int64"
      ]
     },
     "execution_count": 13,
     "metadata": {},
     "output_type": "execute_result"
    }
   ],
   "source": [
    "users['foot_family'].value_counts()"
   ]
  },
  {
   "cell_type": "markdown",
   "metadata": {},
   "source": [
    "## shoe_features"
   ]
  },
  {
   "cell_type": "code",
   "execution_count": 14,
   "metadata": {},
   "outputs": [],
   "source": [
    "shoes = pd.read_csv('./data/shoe_survey.csv', usecols=['userid', 'shoe_model'])"
   ]
  },
  {
   "cell_type": "markdown",
   "metadata": {},
   "source": [
    "# Feature Engineering"
   ]
  },
  {
   "cell_type": "code",
   "execution_count": 15,
   "metadata": {},
   "outputs": [],
   "source": [
    "dummies = pd.get_dummies(shoes['shoe_model'], drop_first=True)"
   ]
  },
  {
   "cell_type": "code",
   "execution_count": 16,
   "metadata": {},
   "outputs": [],
   "source": [
    "shoes = pd.concat([shoes.drop('shoe_model', axis=1),dummies],axis=1)"
   ]
  },
  {
   "cell_type": "code",
   "execution_count": 17,
   "metadata": {},
   "outputs": [
    {
     "data": {
      "text/html": [
       "<div>\n",
       "<style scoped>\n",
       "    .dataframe tbody tr th:only-of-type {\n",
       "        vertical-align: middle;\n",
       "    }\n",
       "\n",
       "    .dataframe tbody tr th {\n",
       "        vertical-align: top;\n",
       "    }\n",
       "\n",
       "    .dataframe thead th {\n",
       "        text-align: right;\n",
       "    }\n",
       "</style>\n",
       "<table border=\"1\" class=\"dataframe\">\n",
       "  <thead>\n",
       "    <tr style=\"text-align: right;\">\n",
       "      <th></th>\n",
       "      <th>userid</th>\n",
       "      <th>Evolv - DEFY LACE</th>\n",
       "      <th>Evolv - KIRA</th>\n",
       "      <th>Five Ten - DRAGON VCS</th>\n",
       "      <th>Five Ten - HIANGLE</th>\n",
       "      <th>La Sportiva - COBRA</th>\n",
       "      <th>La Sportiva - FINALE VS</th>\n",
       "      <th>La Sportiva - FINALE WOMAN</th>\n",
       "      <th>La Sportiva - FUTURA</th>\n",
       "      <th>La Sportiva - KATANA</th>\n",
       "      <th>...</th>\n",
       "      <th>Scarpa - VAPOR V WMN</th>\n",
       "      <th>Scarpa - VELOCE WMN</th>\n",
       "      <th>Simond - ROCK+</th>\n",
       "      <th>So iLL - ZERO PRO</th>\n",
       "      <th>Sonstige</th>\n",
       "      <th>Tenaya - IATI</th>\n",
       "      <th>Tenaya - MASTIA</th>\n",
       "      <th>Tenaya - MUNDAKA</th>\n",
       "      <th>Tenaya - OASI</th>\n",
       "      <th>Tenaya - OASI LV</th>\n",
       "    </tr>\n",
       "  </thead>\n",
       "  <tbody>\n",
       "    <tr>\n",
       "      <th>0</th>\n",
       "      <td>1</td>\n",
       "      <td>0</td>\n",
       "      <td>0</td>\n",
       "      <td>0</td>\n",
       "      <td>0</td>\n",
       "      <td>0</td>\n",
       "      <td>0</td>\n",
       "      <td>0</td>\n",
       "      <td>0</td>\n",
       "      <td>0</td>\n",
       "      <td>...</td>\n",
       "      <td>0</td>\n",
       "      <td>0</td>\n",
       "      <td>0</td>\n",
       "      <td>0</td>\n",
       "      <td>0</td>\n",
       "      <td>0</td>\n",
       "      <td>0</td>\n",
       "      <td>0</td>\n",
       "      <td>0</td>\n",
       "      <td>0</td>\n",
       "    </tr>\n",
       "    <tr>\n",
       "      <th>1</th>\n",
       "      <td>2</td>\n",
       "      <td>0</td>\n",
       "      <td>0</td>\n",
       "      <td>0</td>\n",
       "      <td>0</td>\n",
       "      <td>0</td>\n",
       "      <td>0</td>\n",
       "      <td>0</td>\n",
       "      <td>0</td>\n",
       "      <td>0</td>\n",
       "      <td>...</td>\n",
       "      <td>0</td>\n",
       "      <td>0</td>\n",
       "      <td>0</td>\n",
       "      <td>0</td>\n",
       "      <td>0</td>\n",
       "      <td>0</td>\n",
       "      <td>0</td>\n",
       "      <td>0</td>\n",
       "      <td>0</td>\n",
       "      <td>0</td>\n",
       "    </tr>\n",
       "  </tbody>\n",
       "</table>\n",
       "<p>2 rows × 67 columns</p>\n",
       "</div>"
      ],
      "text/plain": [
       "   userid  Evolv - DEFY LACE  Evolv - KIRA  Five Ten - DRAGON VCS  \\\n",
       "0       1                  0             0                      0   \n",
       "1       2                  0             0                      0   \n",
       "\n",
       "   Five Ten - HIANGLE  La Sportiva - COBRA  La Sportiva - FINALE VS  \\\n",
       "0                   0                    0                        0   \n",
       "1                   0                    0                        0   \n",
       "\n",
       "   La Sportiva - FINALE WOMAN  La Sportiva - FUTURA  La Sportiva - KATANA  \\\n",
       "0                           0                     0                     0   \n",
       "1                           0                     0                     0   \n",
       "\n",
       "   ...  Scarpa - VAPOR V WMN  Scarpa - VELOCE WMN  Simond - ROCK+  \\\n",
       "0  ...                     0                    0               0   \n",
       "1  ...                     0                    0               0   \n",
       "\n",
       "   So iLL - ZERO PRO  Sonstige  Tenaya - IATI  Tenaya - MASTIA  \\\n",
       "0                  0         0              0                0   \n",
       "1                  0         0              0                0   \n",
       "\n",
       "   Tenaya - MUNDAKA  Tenaya - OASI  Tenaya - OASI LV  \n",
       "0                 0              0                 0  \n",
       "1                 0              0                 0  \n",
       "\n",
       "[2 rows x 67 columns]"
      ]
     },
     "execution_count": 17,
     "metadata": {},
     "output_type": "execute_result"
    }
   ],
   "source": [
    "shoes.head(2)"
   ]
  },
  {
   "cell_type": "code",
   "execution_count": 18,
   "metadata": {},
   "outputs": [
    {
     "name": "stdout",
     "output_type": "stream",
     "text": [
      "<class 'pandas.core.frame.DataFrame'>\n",
      "RangeIndex: 94 entries, 0 to 93\n",
      "Data columns (total 12 columns):\n",
      " #   Column             Non-Null Count  Dtype  \n",
      "---  ------             --------------  -----  \n",
      " 0   userid             94 non-null     int64  \n",
      " 1   gender             94 non-null     object \n",
      " 2   height             94 non-null     int64  \n",
      " 3   weight             94 non-null     int64  \n",
      " 4   age                94 non-null     int64  \n",
      " 5   foot_len           94 non-null     float64\n",
      " 6   foot_width         94 non-null     float64\n",
      " 7   foot_family        94 non-null     object \n",
      " 8   foot_deform        94 non-null     object \n",
      " 9   street_shoe_size   94 non-null     float64\n",
      " 10  fav_sneaker_model  81 non-null     object \n",
      " 11  exp                94 non-null     float64\n",
      "dtypes: float64(4), int64(4), object(4)\n",
      "memory usage: 8.9+ KB\n"
     ]
    }
   ],
   "source": [
    "users.info()"
   ]
  },
  {
   "cell_type": "code",
   "execution_count": 19,
   "metadata": {},
   "outputs": [
    {
     "data": {
      "text/plain": [
       "Männlich    59\n",
       "Weiblich    35\n",
       "Name: gender, dtype: int64"
      ]
     },
     "execution_count": 19,
     "metadata": {},
     "output_type": "execute_result"
    }
   ],
   "source": [
    "users['gender'].value_counts()"
   ]
  },
  {
   "cell_type": "code",
   "execution_count": 20,
   "metadata": {},
   "outputs": [],
   "source": [
    "dummies = pd.get_dummies(users['gender'],drop_first=True)\n",
    "df = pd.concat([users.drop('gender',axis=1),dummies],axis=1)"
   ]
  },
  {
   "cell_type": "code",
   "execution_count": 21,
   "metadata": {},
   "outputs": [
    {
     "data": {
      "text/html": [
       "<div>\n",
       "<style scoped>\n",
       "    .dataframe tbody tr th:only-of-type {\n",
       "        vertical-align: middle;\n",
       "    }\n",
       "\n",
       "    .dataframe tbody tr th {\n",
       "        vertical-align: top;\n",
       "    }\n",
       "\n",
       "    .dataframe thead th {\n",
       "        text-align: right;\n",
       "    }\n",
       "</style>\n",
       "<table border=\"1\" class=\"dataframe\">\n",
       "  <thead>\n",
       "    <tr style=\"text-align: right;\">\n",
       "      <th></th>\n",
       "      <th>userid</th>\n",
       "      <th>height</th>\n",
       "      <th>weight</th>\n",
       "      <th>age</th>\n",
       "      <th>foot_len</th>\n",
       "      <th>foot_width</th>\n",
       "      <th>foot_family</th>\n",
       "      <th>foot_deform</th>\n",
       "      <th>street_shoe_size</th>\n",
       "      <th>fav_sneaker_model</th>\n",
       "      <th>exp</th>\n",
       "      <th>Weiblich</th>\n",
       "    </tr>\n",
       "  </thead>\n",
       "  <tbody>\n",
       "    <tr>\n",
       "      <th>0</th>\n",
       "      <td>1</td>\n",
       "      <td>168</td>\n",
       "      <td>61</td>\n",
       "      <td>29</td>\n",
       "      <td>25.5</td>\n",
       "      <td>10.0</td>\n",
       "      <td>Ägyptischer Fußtyp</td>\n",
       "      <td>Nein</td>\n",
       "      <td>41.5</td>\n",
       "      <td>Vans Authentic</td>\n",
       "      <td>4.0</td>\n",
       "      <td>0</td>\n",
       "    </tr>\n",
       "    <tr>\n",
       "      <th>1</th>\n",
       "      <td>2</td>\n",
       "      <td>168</td>\n",
       "      <td>63</td>\n",
       "      <td>30</td>\n",
       "      <td>24.2</td>\n",
       "      <td>9.8</td>\n",
       "      <td>Römischer Fußtyp</td>\n",
       "      <td>Hallux Valgus</td>\n",
       "      <td>38.5</td>\n",
       "      <td>Adidas cloudfoam</td>\n",
       "      <td>3.0</td>\n",
       "      <td>1</td>\n",
       "    </tr>\n",
       "    <tr>\n",
       "      <th>2</th>\n",
       "      <td>3</td>\n",
       "      <td>186</td>\n",
       "      <td>72</td>\n",
       "      <td>36</td>\n",
       "      <td>29.0</td>\n",
       "      <td>10.0</td>\n",
       "      <td>Griechischer Fußtyp</td>\n",
       "      <td>Nein</td>\n",
       "      <td>46.0</td>\n",
       "      <td>Black Diamond Mission LT</td>\n",
       "      <td>30.0</td>\n",
       "      <td>0</td>\n",
       "    </tr>\n",
       "  </tbody>\n",
       "</table>\n",
       "</div>"
      ],
      "text/plain": [
       "   userid  height  weight  age  foot_len  foot_width          foot_family  \\\n",
       "0       1     168      61   29      25.5        10.0   Ägyptischer Fußtyp   \n",
       "1       2     168      63   30      24.2         9.8     Römischer Fußtyp   \n",
       "2       3     186      72   36      29.0        10.0  Griechischer Fußtyp   \n",
       "\n",
       "     foot_deform  street_shoe_size         fav_sneaker_model   exp  Weiblich  \n",
       "0           Nein              41.5            Vans Authentic   4.0         0  \n",
       "1  Hallux Valgus              38.5          Adidas cloudfoam   3.0         1  \n",
       "2           Nein              46.0  Black Diamond Mission LT  30.0         0  "
      ]
     },
     "execution_count": 21,
     "metadata": {},
     "output_type": "execute_result"
    }
   ],
   "source": [
    "df.head(3)"
   ]
  },
  {
   "cell_type": "code",
   "execution_count": 22,
   "metadata": {},
   "outputs": [
    {
     "data": {
      "text/plain": [
       "Index(['foot_family', 'foot_deform', 'fav_sneaker_model'], dtype='object')"
      ]
     },
     "execution_count": 22,
     "metadata": {},
     "output_type": "execute_result"
    }
   ],
   "source": [
    "df.select_dtypes(['object']).columns"
   ]
  },
  {
   "cell_type": "code",
   "execution_count": 23,
   "metadata": {},
   "outputs": [
    {
     "data": {
      "text/plain": [
       "Ägyptischer Fußtyp     44\n",
       "Römischer Fußtyp       30\n",
       "Griechischer Fußtyp    20\n",
       "Name: foot_family, dtype: int64"
      ]
     },
     "execution_count": 23,
     "metadata": {},
     "output_type": "execute_result"
    }
   ],
   "source": [
    "users['foot_family'].value_counts()"
   ]
  },
  {
   "cell_type": "code",
   "execution_count": 24,
   "metadata": {},
   "outputs": [
    {
     "data": {
      "text/html": [
       "<div>\n",
       "<style scoped>\n",
       "    .dataframe tbody tr th:only-of-type {\n",
       "        vertical-align: middle;\n",
       "    }\n",
       "\n",
       "    .dataframe tbody tr th {\n",
       "        vertical-align: top;\n",
       "    }\n",
       "\n",
       "    .dataframe thead th {\n",
       "        text-align: right;\n",
       "    }\n",
       "</style>\n",
       "<table border=\"1\" class=\"dataframe\">\n",
       "  <thead>\n",
       "    <tr style=\"text-align: right;\">\n",
       "      <th></th>\n",
       "      <th>userid</th>\n",
       "      <th>height</th>\n",
       "      <th>weight</th>\n",
       "      <th>age</th>\n",
       "      <th>foot_len</th>\n",
       "      <th>foot_width</th>\n",
       "      <th>foot_deform</th>\n",
       "      <th>street_shoe_size</th>\n",
       "      <th>fav_sneaker_model</th>\n",
       "      <th>exp</th>\n",
       "      <th>Weiblich</th>\n",
       "      <th>Römischer Fußtyp</th>\n",
       "      <th>Ägyptischer Fußtyp</th>\n",
       "    </tr>\n",
       "  </thead>\n",
       "  <tbody>\n",
       "    <tr>\n",
       "      <th>0</th>\n",
       "      <td>1</td>\n",
       "      <td>168</td>\n",
       "      <td>61</td>\n",
       "      <td>29</td>\n",
       "      <td>25.5</td>\n",
       "      <td>10.0</td>\n",
       "      <td>Nein</td>\n",
       "      <td>41.5</td>\n",
       "      <td>Vans Authentic</td>\n",
       "      <td>4.0</td>\n",
       "      <td>0</td>\n",
       "      <td>0</td>\n",
       "      <td>1</td>\n",
       "    </tr>\n",
       "    <tr>\n",
       "      <th>1</th>\n",
       "      <td>2</td>\n",
       "      <td>168</td>\n",
       "      <td>63</td>\n",
       "      <td>30</td>\n",
       "      <td>24.2</td>\n",
       "      <td>9.8</td>\n",
       "      <td>Hallux Valgus</td>\n",
       "      <td>38.5</td>\n",
       "      <td>Adidas cloudfoam</td>\n",
       "      <td>3.0</td>\n",
       "      <td>1</td>\n",
       "      <td>1</td>\n",
       "      <td>0</td>\n",
       "    </tr>\n",
       "    <tr>\n",
       "      <th>2</th>\n",
       "      <td>3</td>\n",
       "      <td>186</td>\n",
       "      <td>72</td>\n",
       "      <td>36</td>\n",
       "      <td>29.0</td>\n",
       "      <td>10.0</td>\n",
       "      <td>Nein</td>\n",
       "      <td>46.0</td>\n",
       "      <td>Black Diamond Mission LT</td>\n",
       "      <td>30.0</td>\n",
       "      <td>0</td>\n",
       "      <td>0</td>\n",
       "      <td>0</td>\n",
       "    </tr>\n",
       "  </tbody>\n",
       "</table>\n",
       "</div>"
      ],
      "text/plain": [
       "   userid  height  weight  age  foot_len  foot_width    foot_deform  \\\n",
       "0       1     168      61   29      25.5        10.0           Nein   \n",
       "1       2     168      63   30      24.2         9.8  Hallux Valgus   \n",
       "2       3     186      72   36      29.0        10.0           Nein   \n",
       "\n",
       "   street_shoe_size         fav_sneaker_model   exp  Weiblich  \\\n",
       "0              41.5            Vans Authentic   4.0         0   \n",
       "1              38.5          Adidas cloudfoam   3.0         1   \n",
       "2              46.0  Black Diamond Mission LT  30.0         0   \n",
       "\n",
       "   Römischer Fußtyp  Ägyptischer Fußtyp  \n",
       "0                 0                   1  \n",
       "1                 1                   0  \n",
       "2                 0                   0  "
      ]
     },
     "execution_count": 24,
     "metadata": {},
     "output_type": "execute_result"
    }
   ],
   "source": [
    "dummies = pd.get_dummies(df['foot_family'],drop_first=True)\n",
    "df = pd.concat([df.drop('foot_family',axis=1),dummies],axis=1)\n",
    "df.head(3)"
   ]
  },
  {
   "cell_type": "code",
   "execution_count": 25,
   "metadata": {},
   "outputs": [
    {
     "data": {
      "text/plain": [
       "Nein                                                        44\n",
       "Spreizfuß                                                    9\n",
       "Hallux Valgus                                                8\n",
       "Plattfuß                                                     5\n",
       "Senkfuß                                                      5\n",
       "Knickfuß                                                     3\n",
       "Nein, Spreizfuß                                              3\n",
       "Hallux Valgus, Senkfuß                                       2\n",
       "Nein, Knickfuß                                               2\n",
       "Plattfuß, Spreizfuß                                          1\n",
       "Hallux Valgus, Plattfuß                                      1\n",
       "Nein, Senkfuß, Spreizfuß                                     1\n",
       "Hallux Valgus, Plattfuß, Senkfuß, Spreizfuß                  1\n",
       "Nein, Hallux Valgus, Senkfuß                                 1\n",
       "Plattfuß, Senkfuß                                            1\n",
       "Nein, Hallux Valgus                                          1\n",
       "Nein, Senkfuß                                                1\n",
       "Fersenbein                                                   1\n",
       "Nein, abgeflachtes Quergewölbe, aber noch kein Spreizfuß     1\n",
       "Hohlfuß                                                      1\n",
       "Senkfuß, Spreizfuß                                           1\n",
       "Hallux Valgus, Hohlfuß                                       1\n",
       "Name: foot_deform, dtype: int64"
      ]
     },
     "execution_count": 25,
     "metadata": {},
     "output_type": "execute_result"
    }
   ],
   "source": [
    "users['foot_deform'].value_counts()"
   ]
  },
  {
   "cell_type": "code",
   "execution_count": 26,
   "metadata": {},
   "outputs": [
    {
     "data": {
      "text/html": [
       "<div>\n",
       "<style scoped>\n",
       "    .dataframe tbody tr th:only-of-type {\n",
       "        vertical-align: middle;\n",
       "    }\n",
       "\n",
       "    .dataframe tbody tr th {\n",
       "        vertical-align: top;\n",
       "    }\n",
       "\n",
       "    .dataframe thead th {\n",
       "        text-align: right;\n",
       "    }\n",
       "</style>\n",
       "<table border=\"1\" class=\"dataframe\">\n",
       "  <thead>\n",
       "    <tr style=\"text-align: right;\">\n",
       "      <th></th>\n",
       "      <th>userid</th>\n",
       "      <th>gender</th>\n",
       "      <th>height</th>\n",
       "      <th>weight</th>\n",
       "      <th>age</th>\n",
       "      <th>foot_len</th>\n",
       "      <th>foot_width</th>\n",
       "      <th>foot_family</th>\n",
       "      <th>foot_deform</th>\n",
       "      <th>street_shoe_size</th>\n",
       "      <th>fav_sneaker_model</th>\n",
       "      <th>exp</th>\n",
       "    </tr>\n",
       "  </thead>\n",
       "  <tbody>\n",
       "    <tr>\n",
       "      <th>61</th>\n",
       "      <td>62</td>\n",
       "      <td>Weiblich</td>\n",
       "      <td>169</td>\n",
       "      <td>66</td>\n",
       "      <td>54</td>\n",
       "      <td>25.4</td>\n",
       "      <td>9.4</td>\n",
       "      <td>Römischer Fußtyp</td>\n",
       "      <td>Nein, abgeflachtes Quergewölbe, aber noch kein...</td>\n",
       "      <td>40.0</td>\n",
       "      <td>Laufschuhe von Joe Nimble, based on Bär</td>\n",
       "      <td>25.0</td>\n",
       "    </tr>\n",
       "  </tbody>\n",
       "</table>\n",
       "</div>"
      ],
      "text/plain": [
       "    userid    gender  height  weight  age  foot_len  foot_width  \\\n",
       "61      62  Weiblich     169      66   54      25.4         9.4   \n",
       "\n",
       "         foot_family                                        foot_deform  \\\n",
       "61  Römischer Fußtyp  Nein, abgeflachtes Quergewölbe, aber noch kein...   \n",
       "\n",
       "    street_shoe_size                        fav_sneaker_model   exp  \n",
       "61              40.0  Laufschuhe von Joe Nimble, based on Bär  25.0  "
      ]
     },
     "execution_count": 26,
     "metadata": {},
     "output_type": "execute_result"
    }
   ],
   "source": [
    "users[users['foot_deform'] == 'Nein, abgeflachtes Quergewölbe, aber noch kein Spreizfuß']"
   ]
  },
  {
   "cell_type": "code",
   "execution_count": 27,
   "metadata": {},
   "outputs": [],
   "source": [
    "users.at[61,'foot_deform'] = 'Nein'\n",
    "df.at[61,'foot_deform'] = 'Nein'"
   ]
  },
  {
   "cell_type": "code",
   "execution_count": 28,
   "metadata": {},
   "outputs": [
    {
     "data": {
      "text/plain": [
       "Nein                                           45\n",
       "Spreizfuß                                       9\n",
       "Hallux Valgus                                   8\n",
       "Plattfuß                                        5\n",
       "Senkfuß                                         5\n",
       "Knickfuß                                        3\n",
       "Nein, Spreizfuß                                 3\n",
       "Hallux Valgus, Senkfuß                          2\n",
       "Nein, Knickfuß                                  2\n",
       "Hallux Valgus, Plattfuß, Senkfuß, Spreizfuß     1\n",
       "Hallux Valgus, Plattfuß                         1\n",
       "Nein, Senkfuß, Spreizfuß                        1\n",
       "Nein, Hallux Valgus, Senkfuß                    1\n",
       "Plattfuß, Spreizfuß                             1\n",
       "Plattfuß, Senkfuß                               1\n",
       "Nein, Hallux Valgus                             1\n",
       "Nein, Senkfuß                                   1\n",
       "Fersenbein                                      1\n",
       "Hohlfuß                                         1\n",
       "Senkfuß, Spreizfuß                              1\n",
       "Hallux Valgus, Hohlfuß                          1\n",
       "Name: foot_deform, dtype: int64"
      ]
     },
     "execution_count": 28,
     "metadata": {},
     "output_type": "execute_result"
    }
   ],
   "source": [
    "users['foot_deform'].value_counts()"
   ]
  },
  {
   "cell_type": "code",
   "execution_count": 29,
   "metadata": {},
   "outputs": [
    {
     "data": {
      "text/html": [
       "<div>\n",
       "<style scoped>\n",
       "    .dataframe tbody tr th:only-of-type {\n",
       "        vertical-align: middle;\n",
       "    }\n",
       "\n",
       "    .dataframe tbody tr th {\n",
       "        vertical-align: top;\n",
       "    }\n",
       "\n",
       "    .dataframe thead th {\n",
       "        text-align: right;\n",
       "    }\n",
       "</style>\n",
       "<table border=\"1\" class=\"dataframe\">\n",
       "  <thead>\n",
       "    <tr style=\"text-align: right;\">\n",
       "      <th></th>\n",
       "      <th>userid</th>\n",
       "      <th>height</th>\n",
       "      <th>weight</th>\n",
       "      <th>age</th>\n",
       "      <th>foot_len</th>\n",
       "      <th>foot_width</th>\n",
       "      <th>foot_deform</th>\n",
       "      <th>street_shoe_size</th>\n",
       "      <th>fav_sneaker_model</th>\n",
       "      <th>exp</th>\n",
       "      <th>Weiblich</th>\n",
       "      <th>Römischer Fußtyp</th>\n",
       "      <th>Ägyptischer Fußtyp</th>\n",
       "    </tr>\n",
       "  </thead>\n",
       "  <tbody>\n",
       "    <tr>\n",
       "      <th>11</th>\n",
       "      <td>12</td>\n",
       "      <td>177</td>\n",
       "      <td>65</td>\n",
       "      <td>25</td>\n",
       "      <td>27.0</td>\n",
       "      <td>10.0</td>\n",
       "      <td>Hallux Valgus, Senkfuß</td>\n",
       "      <td>40.5</td>\n",
       "      <td>Adidas / Nikes</td>\n",
       "      <td>18.0</td>\n",
       "      <td>1</td>\n",
       "      <td>0</td>\n",
       "      <td>0</td>\n",
       "    </tr>\n",
       "    <tr>\n",
       "      <th>93</th>\n",
       "      <td>94</td>\n",
       "      <td>191</td>\n",
       "      <td>92</td>\n",
       "      <td>60</td>\n",
       "      <td>29.4</td>\n",
       "      <td>11.0</td>\n",
       "      <td>Hallux Valgus, Senkfuß</td>\n",
       "      <td>46.5</td>\n",
       "      <td>NaN</td>\n",
       "      <td>23.0</td>\n",
       "      <td>0</td>\n",
       "      <td>0</td>\n",
       "      <td>0</td>\n",
       "    </tr>\n",
       "  </tbody>\n",
       "</table>\n",
       "</div>"
      ],
      "text/plain": [
       "    userid  height  weight  age  foot_len  foot_width             foot_deform  \\\n",
       "11      12     177      65   25      27.0        10.0  Hallux Valgus, Senkfuß   \n",
       "93      94     191      92   60      29.4        11.0  Hallux Valgus, Senkfuß   \n",
       "\n",
       "    street_shoe_size fav_sneaker_model   exp  Weiblich  Römischer Fußtyp  \\\n",
       "11              40.5    Adidas / Nikes  18.0         1                 0   \n",
       "93              46.5               NaN  23.0         0                 0   \n",
       "\n",
       "    Ägyptischer Fußtyp  \n",
       "11                   0  \n",
       "93                   0  "
      ]
     },
     "execution_count": 29,
     "metadata": {},
     "output_type": "execute_result"
    }
   ],
   "source": [
    "df[df['foot_deform'] == 'Hallux Valgus, Senkfuß']"
   ]
  },
  {
   "cell_type": "code",
   "execution_count": 30,
   "metadata": {},
   "outputs": [
    {
     "data": {
      "text/html": [
       "<div>\n",
       "<style scoped>\n",
       "    .dataframe tbody tr th:only-of-type {\n",
       "        vertical-align: middle;\n",
       "    }\n",
       "\n",
       "    .dataframe tbody tr th {\n",
       "        vertical-align: top;\n",
       "    }\n",
       "\n",
       "    .dataframe thead th {\n",
       "        text-align: right;\n",
       "    }\n",
       "</style>\n",
       "<table border=\"1\" class=\"dataframe\">\n",
       "  <thead>\n",
       "    <tr style=\"text-align: right;\">\n",
       "      <th></th>\n",
       "      <th>userid</th>\n",
       "      <th>height</th>\n",
       "      <th>weight</th>\n",
       "      <th>age</th>\n",
       "      <th>foot_len</th>\n",
       "      <th>foot_width</th>\n",
       "      <th>foot_deform</th>\n",
       "      <th>street_shoe_size</th>\n",
       "      <th>fav_sneaker_model</th>\n",
       "      <th>exp</th>\n",
       "      <th>Weiblich</th>\n",
       "      <th>Römischer Fußtyp</th>\n",
       "      <th>Ägyptischer Fußtyp</th>\n",
       "      <th>hallux</th>\n",
       "      <th>senkfuß</th>\n",
       "      <th>spreizfuß</th>\n",
       "      <th>plattfuß</th>\n",
       "      <th>hohlfuß</th>\n",
       "      <th>knickfuß</th>\n",
       "      <th>fersenbein</th>\n",
       "    </tr>\n",
       "  </thead>\n",
       "  <tbody>\n",
       "    <tr>\n",
       "      <th>0</th>\n",
       "      <td>1</td>\n",
       "      <td>168</td>\n",
       "      <td>61</td>\n",
       "      <td>29</td>\n",
       "      <td>25.5</td>\n",
       "      <td>10.0</td>\n",
       "      <td>Nein</td>\n",
       "      <td>41.5</td>\n",
       "      <td>Vans Authentic</td>\n",
       "      <td>4.0</td>\n",
       "      <td>0</td>\n",
       "      <td>0</td>\n",
       "      <td>1</td>\n",
       "      <td>0</td>\n",
       "      <td>0</td>\n",
       "      <td>0</td>\n",
       "      <td>0</td>\n",
       "      <td>0</td>\n",
       "      <td>0</td>\n",
       "      <td>0</td>\n",
       "    </tr>\n",
       "    <tr>\n",
       "      <th>1</th>\n",
       "      <td>2</td>\n",
       "      <td>168</td>\n",
       "      <td>63</td>\n",
       "      <td>30</td>\n",
       "      <td>24.2</td>\n",
       "      <td>9.8</td>\n",
       "      <td>Hallux Valgus</td>\n",
       "      <td>38.5</td>\n",
       "      <td>Adidas cloudfoam</td>\n",
       "      <td>3.0</td>\n",
       "      <td>1</td>\n",
       "      <td>1</td>\n",
       "      <td>0</td>\n",
       "      <td>1</td>\n",
       "      <td>0</td>\n",
       "      <td>0</td>\n",
       "      <td>0</td>\n",
       "      <td>0</td>\n",
       "      <td>0</td>\n",
       "      <td>0</td>\n",
       "    </tr>\n",
       "    <tr>\n",
       "      <th>2</th>\n",
       "      <td>3</td>\n",
       "      <td>186</td>\n",
       "      <td>72</td>\n",
       "      <td>36</td>\n",
       "      <td>29.0</td>\n",
       "      <td>10.0</td>\n",
       "      <td>Nein</td>\n",
       "      <td>46.0</td>\n",
       "      <td>Black Diamond Mission LT</td>\n",
       "      <td>30.0</td>\n",
       "      <td>0</td>\n",
       "      <td>0</td>\n",
       "      <td>0</td>\n",
       "      <td>0</td>\n",
       "      <td>0</td>\n",
       "      <td>0</td>\n",
       "      <td>0</td>\n",
       "      <td>0</td>\n",
       "      <td>0</td>\n",
       "      <td>0</td>\n",
       "    </tr>\n",
       "    <tr>\n",
       "      <th>3</th>\n",
       "      <td>4</td>\n",
       "      <td>186</td>\n",
       "      <td>72</td>\n",
       "      <td>36</td>\n",
       "      <td>29.0</td>\n",
       "      <td>10.0</td>\n",
       "      <td>Nein</td>\n",
       "      <td>46.0</td>\n",
       "      <td>Black Diamond Mission LT</td>\n",
       "      <td>30.0</td>\n",
       "      <td>0</td>\n",
       "      <td>0</td>\n",
       "      <td>0</td>\n",
       "      <td>0</td>\n",
       "      <td>0</td>\n",
       "      <td>0</td>\n",
       "      <td>0</td>\n",
       "      <td>0</td>\n",
       "      <td>0</td>\n",
       "      <td>0</td>\n",
       "    </tr>\n",
       "    <tr>\n",
       "      <th>4</th>\n",
       "      <td>5</td>\n",
       "      <td>178</td>\n",
       "      <td>67</td>\n",
       "      <td>33</td>\n",
       "      <td>27.0</td>\n",
       "      <td>10.0</td>\n",
       "      <td>Hallux Valgus</td>\n",
       "      <td>42.0</td>\n",
       "      <td>Adidas Stan Smith</td>\n",
       "      <td>3.0</td>\n",
       "      <td>0</td>\n",
       "      <td>1</td>\n",
       "      <td>0</td>\n",
       "      <td>1</td>\n",
       "      <td>0</td>\n",
       "      <td>0</td>\n",
       "      <td>0</td>\n",
       "      <td>0</td>\n",
       "      <td>0</td>\n",
       "      <td>0</td>\n",
       "    </tr>\n",
       "    <tr>\n",
       "      <th>5</th>\n",
       "      <td>6</td>\n",
       "      <td>183</td>\n",
       "      <td>67</td>\n",
       "      <td>29</td>\n",
       "      <td>27.2</td>\n",
       "      <td>11.0</td>\n",
       "      <td>Spreizfuß</td>\n",
       "      <td>44.0</td>\n",
       "      <td>Adidas Stan Smith</td>\n",
       "      <td>2.0</td>\n",
       "      <td>0</td>\n",
       "      <td>0</td>\n",
       "      <td>1</td>\n",
       "      <td>0</td>\n",
       "      <td>0</td>\n",
       "      <td>1</td>\n",
       "      <td>0</td>\n",
       "      <td>0</td>\n",
       "      <td>0</td>\n",
       "      <td>0</td>\n",
       "    </tr>\n",
       "    <tr>\n",
       "      <th>6</th>\n",
       "      <td>7</td>\n",
       "      <td>183</td>\n",
       "      <td>68</td>\n",
       "      <td>26</td>\n",
       "      <td>26.5</td>\n",
       "      <td>10.5</td>\n",
       "      <td>Hallux Valgus</td>\n",
       "      <td>43.0</td>\n",
       "      <td>kangaroos</td>\n",
       "      <td>10.0</td>\n",
       "      <td>0</td>\n",
       "      <td>0</td>\n",
       "      <td>0</td>\n",
       "      <td>1</td>\n",
       "      <td>0</td>\n",
       "      <td>0</td>\n",
       "      <td>0</td>\n",
       "      <td>0</td>\n",
       "      <td>0</td>\n",
       "      <td>0</td>\n",
       "    </tr>\n",
       "    <tr>\n",
       "      <th>7</th>\n",
       "      <td>8</td>\n",
       "      <td>175</td>\n",
       "      <td>60</td>\n",
       "      <td>28</td>\n",
       "      <td>25.0</td>\n",
       "      <td>9.5</td>\n",
       "      <td>Nein</td>\n",
       "      <td>42.0</td>\n",
       "      <td>NaN</td>\n",
       "      <td>12.0</td>\n",
       "      <td>0</td>\n",
       "      <td>0</td>\n",
       "      <td>1</td>\n",
       "      <td>0</td>\n",
       "      <td>0</td>\n",
       "      <td>0</td>\n",
       "      <td>0</td>\n",
       "      <td>0</td>\n",
       "      <td>0</td>\n",
       "      <td>0</td>\n",
       "    </tr>\n",
       "    <tr>\n",
       "      <th>8</th>\n",
       "      <td>9</td>\n",
       "      <td>175</td>\n",
       "      <td>65</td>\n",
       "      <td>31</td>\n",
       "      <td>26.0</td>\n",
       "      <td>10.5</td>\n",
       "      <td>Nein</td>\n",
       "      <td>41.0</td>\n",
       "      <td>Halbschuhe von Hilfiger oder BoxFresh</td>\n",
       "      <td>11.0</td>\n",
       "      <td>0</td>\n",
       "      <td>0</td>\n",
       "      <td>1</td>\n",
       "      <td>0</td>\n",
       "      <td>0</td>\n",
       "      <td>0</td>\n",
       "      <td>0</td>\n",
       "      <td>0</td>\n",
       "      <td>0</td>\n",
       "      <td>0</td>\n",
       "    </tr>\n",
       "    <tr>\n",
       "      <th>9</th>\n",
       "      <td>10</td>\n",
       "      <td>181</td>\n",
       "      <td>79</td>\n",
       "      <td>29</td>\n",
       "      <td>29.0</td>\n",
       "      <td>10.0</td>\n",
       "      <td>Nein, Spreizfuß</td>\n",
       "      <td>43.5</td>\n",
       "      <td>Vans</td>\n",
       "      <td>7.0</td>\n",
       "      <td>0</td>\n",
       "      <td>0</td>\n",
       "      <td>1</td>\n",
       "      <td>0</td>\n",
       "      <td>0</td>\n",
       "      <td>1</td>\n",
       "      <td>0</td>\n",
       "      <td>0</td>\n",
       "      <td>0</td>\n",
       "      <td>0</td>\n",
       "    </tr>\n",
       "    <tr>\n",
       "      <th>10</th>\n",
       "      <td>11</td>\n",
       "      <td>183</td>\n",
       "      <td>67</td>\n",
       "      <td>29</td>\n",
       "      <td>27.2</td>\n",
       "      <td>11.0</td>\n",
       "      <td>Spreizfuß</td>\n",
       "      <td>44.0</td>\n",
       "      <td>Adidas Stan Smith</td>\n",
       "      <td>2.0</td>\n",
       "      <td>0</td>\n",
       "      <td>0</td>\n",
       "      <td>1</td>\n",
       "      <td>0</td>\n",
       "      <td>0</td>\n",
       "      <td>1</td>\n",
       "      <td>0</td>\n",
       "      <td>0</td>\n",
       "      <td>0</td>\n",
       "      <td>0</td>\n",
       "    </tr>\n",
       "    <tr>\n",
       "      <th>11</th>\n",
       "      <td>12</td>\n",
       "      <td>177</td>\n",
       "      <td>65</td>\n",
       "      <td>25</td>\n",
       "      <td>27.0</td>\n",
       "      <td>10.0</td>\n",
       "      <td>Hallux Valgus, Senkfuß</td>\n",
       "      <td>40.5</td>\n",
       "      <td>Adidas / Nikes</td>\n",
       "      <td>18.0</td>\n",
       "      <td>1</td>\n",
       "      <td>0</td>\n",
       "      <td>0</td>\n",
       "      <td>1</td>\n",
       "      <td>1</td>\n",
       "      <td>0</td>\n",
       "      <td>0</td>\n",
       "      <td>0</td>\n",
       "      <td>0</td>\n",
       "      <td>0</td>\n",
       "    </tr>\n",
       "  </tbody>\n",
       "</table>\n",
       "</div>"
      ],
      "text/plain": [
       "    userid  height  weight  age  foot_len  foot_width             foot_deform  \\\n",
       "0        1     168      61   29      25.5        10.0                    Nein   \n",
       "1        2     168      63   30      24.2         9.8           Hallux Valgus   \n",
       "2        3     186      72   36      29.0        10.0                    Nein   \n",
       "3        4     186      72   36      29.0        10.0                    Nein   \n",
       "4        5     178      67   33      27.0        10.0           Hallux Valgus   \n",
       "5        6     183      67   29      27.2        11.0               Spreizfuß   \n",
       "6        7     183      68   26      26.5        10.5           Hallux Valgus   \n",
       "7        8     175      60   28      25.0         9.5                    Nein   \n",
       "8        9     175      65   31      26.0        10.5                    Nein   \n",
       "9       10     181      79   29      29.0        10.0         Nein, Spreizfuß   \n",
       "10      11     183      67   29      27.2        11.0               Spreizfuß   \n",
       "11      12     177      65   25      27.0        10.0  Hallux Valgus, Senkfuß   \n",
       "\n",
       "    street_shoe_size                      fav_sneaker_model   exp  Weiblich  \\\n",
       "0               41.5                         Vans Authentic   4.0         0   \n",
       "1               38.5                       Adidas cloudfoam   3.0         1   \n",
       "2               46.0               Black Diamond Mission LT  30.0         0   \n",
       "3               46.0               Black Diamond Mission LT  30.0         0   \n",
       "4               42.0                      Adidas Stan Smith   3.0         0   \n",
       "5               44.0                      Adidas Stan Smith   2.0         0   \n",
       "6               43.0                              kangaroos  10.0         0   \n",
       "7               42.0                                    NaN  12.0         0   \n",
       "8               41.0  Halbschuhe von Hilfiger oder BoxFresh  11.0         0   \n",
       "9               43.5                                   Vans   7.0         0   \n",
       "10              44.0                      Adidas Stan Smith   2.0         0   \n",
       "11              40.5                         Adidas / Nikes  18.0         1   \n",
       "\n",
       "    Römischer Fußtyp  Ägyptischer Fußtyp  hallux  senkfuß  spreizfuß  \\\n",
       "0                  0                   1       0        0          0   \n",
       "1                  1                   0       1        0          0   \n",
       "2                  0                   0       0        0          0   \n",
       "3                  0                   0       0        0          0   \n",
       "4                  1                   0       1        0          0   \n",
       "5                  0                   1       0        0          1   \n",
       "6                  0                   0       1        0          0   \n",
       "7                  0                   1       0        0          0   \n",
       "8                  0                   1       0        0          0   \n",
       "9                  0                   1       0        0          1   \n",
       "10                 0                   1       0        0          1   \n",
       "11                 0                   0       1        1          0   \n",
       "\n",
       "    plattfuß  hohlfuß  knickfuß  fersenbein  \n",
       "0          0        0         0           0  \n",
       "1          0        0         0           0  \n",
       "2          0        0         0           0  \n",
       "3          0        0         0           0  \n",
       "4          0        0         0           0  \n",
       "5          0        0         0           0  \n",
       "6          0        0         0           0  \n",
       "7          0        0         0           0  \n",
       "8          0        0         0           0  \n",
       "9          0        0         0           0  \n",
       "10         0        0         0           0  \n",
       "11         0        0         0           0  "
      ]
     },
     "execution_count": 30,
     "metadata": {},
     "output_type": "execute_result"
    }
   ],
   "source": [
    "def strip_list(liste):\n",
    "    stripped = []\n",
    "    \n",
    "    for n in liste:\n",
    "        stripped.append(n.strip())\n",
    "    \n",
    "    return stripped\n",
    "\n",
    "deformations = ['Hallux Valgus', 'Senkfuß','Spreizfuß','Plattfuß', 'Hohlfuß','Knickfuß', 'Fersenbein']\n",
    "\n",
    "for deform in deformations:\n",
    "    df[deform.lower().split()[0]] = df.apply(lambda row: 1 if deform in strip_list(row.foot_deform.split(',')) else 0, axis=1)\n",
    "\n",
    "df.head(12)"
   ]
  },
  {
   "cell_type": "code",
   "execution_count": 31,
   "metadata": {},
   "outputs": [
    {
     "data": {
      "text/plain": [
       "userid                                    12\n",
       "height                                   177\n",
       "weight                                    65\n",
       "age                                       25\n",
       "foot_len                                  27\n",
       "foot_width                                10\n",
       "foot_deform           Hallux Valgus, Senkfuß\n",
       "street_shoe_size                        40.5\n",
       "fav_sneaker_model             Adidas / Nikes\n",
       "exp                                       18\n",
       "Weiblich                                   1\n",
       "Römischer Fußtyp                           0\n",
       "Ägyptischer Fußtyp                         0\n",
       "hallux                                     1\n",
       "senkfuß                                    1\n",
       "spreizfuß                                  0\n",
       "plattfuß                                   0\n",
       "hohlfuß                                    0\n",
       "knickfuß                                   0\n",
       "fersenbein                                 0\n",
       "Name: 11, dtype: object"
      ]
     },
     "execution_count": 31,
     "metadata": {},
     "output_type": "execute_result"
    }
   ],
   "source": [
    "df.loc[11]"
   ]
  },
  {
   "cell_type": "code",
   "execution_count": 32,
   "metadata": {},
   "outputs": [],
   "source": [
    "df = df.drop('fav_sneaker_model', axis=1)"
   ]
  },
  {
   "cell_type": "code",
   "execution_count": 33,
   "metadata": {},
   "outputs": [
    {
     "data": {
      "text/plain": [
       "Index(['foot_deform'], dtype='object')"
      ]
     },
     "execution_count": 33,
     "metadata": {},
     "output_type": "execute_result"
    }
   ],
   "source": [
    "df.select_dtypes(['object']).columns"
   ]
  },
  {
   "cell_type": "code",
   "execution_count": 34,
   "metadata": {},
   "outputs": [],
   "source": [
    "df = df.drop('foot_deform', axis=1)"
   ]
  },
  {
   "cell_type": "code",
   "execution_count": 35,
   "metadata": {},
   "outputs": [
    {
     "data": {
      "text/plain": [
       "Index([], dtype='object')"
      ]
     },
     "execution_count": 35,
     "metadata": {},
     "output_type": "execute_result"
    }
   ],
   "source": [
    "df.select_dtypes(['object']).columns"
   ]
  },
  {
   "cell_type": "code",
   "execution_count": 36,
   "metadata": {},
   "outputs": [
    {
     "data": {
      "text/plain": [
       "fersenbein            0\n",
       "knickfuß              0\n",
       "height                0\n",
       "weight                0\n",
       "age                   0\n",
       "foot_len              0\n",
       "foot_width            0\n",
       "street_shoe_size      0\n",
       "exp                   0\n",
       "Weiblich              0\n",
       "Römischer Fußtyp      0\n",
       "Ägyptischer Fußtyp    0\n",
       "hallux                0\n",
       "senkfuß               0\n",
       "spreizfuß             0\n",
       "plattfuß              0\n",
       "hohlfuß               0\n",
       "userid                0\n",
       "dtype: int64"
      ]
     },
     "execution_count": 36,
     "metadata": {},
     "output_type": "execute_result"
    }
   ],
   "source": [
    "df.isnull().sum().sort_values(ascending=False)"
   ]
  },
  {
   "cell_type": "markdown",
   "metadata": {},
   "source": [
    "# Klassifizierung\n",
    "\n",
    "## K-Nearest-Neighbor"
   ]
  },
  {
   "cell_type": "code",
   "execution_count": 37,
   "metadata": {},
   "outputs": [],
   "source": [
    "from sklearn.neighbors import KNeighborsClassifier\n",
    "from sklearn.preprocessing import StandardScaler\n",
    "from sklearn.model_selection import train_test_split\n"
   ]
  },
  {
   "cell_type": "code",
   "execution_count": 39,
   "metadata": {},
   "outputs": [],
   "source": [
    "scaler = StandardScaler()\n",
    "\n",
    "X_std = scaler.fit_transform(df)\n",
    "y = shoes.drop('userid',axis=1)"
   ]
  },
  {
   "cell_type": "code",
   "execution_count": 40,
   "metadata": {},
   "outputs": [
    {
     "ename": "ValueError",
     "evalue": "Found input variables with inconsistent numbers of samples: [94, 564]",
     "output_type": "error",
     "traceback": [
      "\u001b[1;31m---------------------------------------------------------------------------\u001b[0m",
      "\u001b[1;31mValueError\u001b[0m                                Traceback (most recent call last)",
      "\u001b[1;32m<ipython-input-40-1e4602fc180e>\u001b[0m in \u001b[0;36m<module>\u001b[1;34m\u001b[0m\n\u001b[1;32m----> 1\u001b[1;33m \u001b[0mX_train\u001b[0m\u001b[1;33m,\u001b[0m \u001b[0mX_test\u001b[0m\u001b[1;33m,\u001b[0m \u001b[0my_train\u001b[0m\u001b[1;33m,\u001b[0m \u001b[0my_test\u001b[0m \u001b[1;33m=\u001b[0m \u001b[0mtrain_test_split\u001b[0m\u001b[1;33m(\u001b[0m\u001b[0mX_std\u001b[0m\u001b[1;33m,\u001b[0m \u001b[0my\u001b[0m\u001b[1;33m,\u001b[0m \u001b[0mtest_size\u001b[0m\u001b[1;33m=\u001b[0m\u001b[1;36m0.33\u001b[0m\u001b[1;33m,\u001b[0m \u001b[0mrandom_state\u001b[0m\u001b[1;33m=\u001b[0m\u001b[1;36m42\u001b[0m\u001b[1;33m)\u001b[0m\u001b[1;33m\u001b[0m\u001b[1;33m\u001b[0m\u001b[0m\n\u001b[0m",
      "\u001b[1;32m~\\anaconda3\\lib\\site-packages\\sklearn\\model_selection\\_split.py\u001b[0m in \u001b[0;36mtrain_test_split\u001b[1;34m(*arrays, **options)\u001b[0m\n\u001b[0;32m   2125\u001b[0m         \u001b[1;32mraise\u001b[0m \u001b[0mTypeError\u001b[0m\u001b[1;33m(\u001b[0m\u001b[1;34m\"Invalid parameters passed: %s\"\u001b[0m \u001b[1;33m%\u001b[0m \u001b[0mstr\u001b[0m\u001b[1;33m(\u001b[0m\u001b[0moptions\u001b[0m\u001b[1;33m)\u001b[0m\u001b[1;33m)\u001b[0m\u001b[1;33m\u001b[0m\u001b[1;33m\u001b[0m\u001b[0m\n\u001b[0;32m   2126\u001b[0m \u001b[1;33m\u001b[0m\u001b[0m\n\u001b[1;32m-> 2127\u001b[1;33m     \u001b[0marrays\u001b[0m \u001b[1;33m=\u001b[0m \u001b[0mindexable\u001b[0m\u001b[1;33m(\u001b[0m\u001b[1;33m*\u001b[0m\u001b[0marrays\u001b[0m\u001b[1;33m)\u001b[0m\u001b[1;33m\u001b[0m\u001b[1;33m\u001b[0m\u001b[0m\n\u001b[0m\u001b[0;32m   2128\u001b[0m \u001b[1;33m\u001b[0m\u001b[0m\n\u001b[0;32m   2129\u001b[0m     \u001b[0mn_samples\u001b[0m \u001b[1;33m=\u001b[0m \u001b[0m_num_samples\u001b[0m\u001b[1;33m(\u001b[0m\u001b[0marrays\u001b[0m\u001b[1;33m[\u001b[0m\u001b[1;36m0\u001b[0m\u001b[1;33m]\u001b[0m\u001b[1;33m)\u001b[0m\u001b[1;33m\u001b[0m\u001b[1;33m\u001b[0m\u001b[0m\n",
      "\u001b[1;32m~\\anaconda3\\lib\\site-packages\\sklearn\\utils\\validation.py\u001b[0m in \u001b[0;36mindexable\u001b[1;34m(*iterables)\u001b[0m\n\u001b[0;32m    290\u001b[0m     \"\"\"\n\u001b[0;32m    291\u001b[0m     \u001b[0mresult\u001b[0m \u001b[1;33m=\u001b[0m \u001b[1;33m[\u001b[0m\u001b[0m_make_indexable\u001b[0m\u001b[1;33m(\u001b[0m\u001b[0mX\u001b[0m\u001b[1;33m)\u001b[0m \u001b[1;32mfor\u001b[0m \u001b[0mX\u001b[0m \u001b[1;32min\u001b[0m \u001b[0miterables\u001b[0m\u001b[1;33m]\u001b[0m\u001b[1;33m\u001b[0m\u001b[1;33m\u001b[0m\u001b[0m\n\u001b[1;32m--> 292\u001b[1;33m     \u001b[0mcheck_consistent_length\u001b[0m\u001b[1;33m(\u001b[0m\u001b[1;33m*\u001b[0m\u001b[0mresult\u001b[0m\u001b[1;33m)\u001b[0m\u001b[1;33m\u001b[0m\u001b[1;33m\u001b[0m\u001b[0m\n\u001b[0m\u001b[0;32m    293\u001b[0m     \u001b[1;32mreturn\u001b[0m \u001b[0mresult\u001b[0m\u001b[1;33m\u001b[0m\u001b[1;33m\u001b[0m\u001b[0m\n\u001b[0;32m    294\u001b[0m \u001b[1;33m\u001b[0m\u001b[0m\n",
      "\u001b[1;32m~\\anaconda3\\lib\\site-packages\\sklearn\\utils\\validation.py\u001b[0m in \u001b[0;36mcheck_consistent_length\u001b[1;34m(*arrays)\u001b[0m\n\u001b[0;32m    253\u001b[0m     \u001b[0muniques\u001b[0m \u001b[1;33m=\u001b[0m \u001b[0mnp\u001b[0m\u001b[1;33m.\u001b[0m\u001b[0munique\u001b[0m\u001b[1;33m(\u001b[0m\u001b[0mlengths\u001b[0m\u001b[1;33m)\u001b[0m\u001b[1;33m\u001b[0m\u001b[1;33m\u001b[0m\u001b[0m\n\u001b[0;32m    254\u001b[0m     \u001b[1;32mif\u001b[0m \u001b[0mlen\u001b[0m\u001b[1;33m(\u001b[0m\u001b[0muniques\u001b[0m\u001b[1;33m)\u001b[0m \u001b[1;33m>\u001b[0m \u001b[1;36m1\u001b[0m\u001b[1;33m:\u001b[0m\u001b[1;33m\u001b[0m\u001b[1;33m\u001b[0m\u001b[0m\n\u001b[1;32m--> 255\u001b[1;33m         raise ValueError(\"Found input variables with inconsistent numbers of\"\n\u001b[0m\u001b[0;32m    256\u001b[0m                          \" samples: %r\" % [int(l) for l in lengths])\n\u001b[0;32m    257\u001b[0m \u001b[1;33m\u001b[0m\u001b[0m\n",
      "\u001b[1;31mValueError\u001b[0m: Found input variables with inconsistent numbers of samples: [94, 564]"
     ]
    }
   ],
   "source": [
    "X_train, X_test, y_train, y_test = train_test_split(X_std, y, test_size=0.33, random_state=42)"
   ]
  },
  {
   "cell_type": "code",
   "execution_count": null,
   "metadata": {},
   "outputs": [],
   "source": []
  }
 ],
 "metadata": {
  "kernelspec": {
   "display_name": "Python 3",
   "language": "python",
   "name": "python3"
  },
  "language_info": {
   "codemirror_mode": {
    "name": "ipython",
    "version": 3
   },
   "file_extension": ".py",
   "mimetype": "text/x-python",
   "name": "python",
   "nbconvert_exporter": "python",
   "pygments_lexer": "ipython3",
   "version": "3.8.5"
  }
 },
 "nbformat": 4,
 "nbformat_minor": 4
}
