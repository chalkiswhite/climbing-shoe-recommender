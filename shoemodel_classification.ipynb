{
 "cells": [
  {
   "cell_type": "markdown",
   "metadata": {},
   "source": [
    "# Klassifikation Kletterschuhe\n",
    "\n",
    "\n",
    "## Daten\n",
    "\n",
    "Eigene Datenerhebung mittels Online-Umfrage: https://forms.gle/PTs57af6sLqk32Wx7\n",
    "\n",
    "Die Daten wurden getrennt in User-Daten und Schuhe\n",
    "\n",
    "body_features.csv: Enthält alle Informationen rund um die Person (Geschlecht, Größe, Gewicht, Fußform, Fußmaße, Klettererfahrung)\n",
    "\n",
    "shoe_survey.csv: Sämtliche von den Personen eingetragene Kletterschuhe (Marke, Modell, Eigenschaften, Bewertungen, etc.)\n",
    "\n",
    "\n",
    "\n",
    "## Ziel: Schuhmodell vorhersagen\n",
    "\n",
    "Kann mithilfe der Erfahrungsberichte und Körpereigenschaften der Befragten ein Kletterschuh vorhergesagt werden?\n",
    "\n",
    "Target Label: shoe_model"
   ]
  },
  {
   "cell_type": "markdown",
   "metadata": {},
   "source": [
    "# Explorative Analyse"
   ]
  },
  {
   "cell_type": "code",
   "execution_count": 214,
   "metadata": {},
   "outputs": [],
   "source": [
    "import numpy as np\n",
    "import pandas as pd\n",
    "import matplotlib.pyplot as plt\n",
    "import seaborn as sns"
   ]
  },
  {
   "cell_type": "markdown",
   "metadata": {},
   "source": [
    "## body_features"
   ]
  },
  {
   "cell_type": "code",
   "execution_count": 215,
   "metadata": {},
   "outputs": [],
   "source": [
    "users = pd.read_csv('./data/body_features.csv')"
   ]
  },
  {
   "cell_type": "code",
   "execution_count": 216,
   "metadata": {},
   "outputs": [
    {
     "data": {
      "text/html": [
       "<div>\n",
       "<style scoped>\n",
       "    .dataframe tbody tr th:only-of-type {\n",
       "        vertical-align: middle;\n",
       "    }\n",
       "\n",
       "    .dataframe tbody tr th {\n",
       "        vertical-align: top;\n",
       "    }\n",
       "\n",
       "    .dataframe thead th {\n",
       "        text-align: right;\n",
       "    }\n",
       "</style>\n",
       "<table border=\"1\" class=\"dataframe\">\n",
       "  <thead>\n",
       "    <tr style=\"text-align: right;\">\n",
       "      <th></th>\n",
       "      <th>userid</th>\n",
       "      <th>gender</th>\n",
       "      <th>height</th>\n",
       "      <th>weight</th>\n",
       "      <th>age</th>\n",
       "      <th>foot_len</th>\n",
       "      <th>foot_width</th>\n",
       "      <th>foot_family</th>\n",
       "      <th>foot_deform</th>\n",
       "      <th>street_shoe_size</th>\n",
       "      <th>fav_sneaker_model</th>\n",
       "      <th>exp</th>\n",
       "    </tr>\n",
       "  </thead>\n",
       "  <tbody>\n",
       "    <tr>\n",
       "      <th>0</th>\n",
       "      <td>1</td>\n",
       "      <td>Männlich</td>\n",
       "      <td>168</td>\n",
       "      <td>61</td>\n",
       "      <td>29</td>\n",
       "      <td>25.5</td>\n",
       "      <td>10.0</td>\n",
       "      <td>Ägyptischer Fußtyp</td>\n",
       "      <td>Nein</td>\n",
       "      <td>41.5</td>\n",
       "      <td>Vans Authentic</td>\n",
       "      <td>4.0</td>\n",
       "    </tr>\n",
       "    <tr>\n",
       "      <th>1</th>\n",
       "      <td>2</td>\n",
       "      <td>Weiblich</td>\n",
       "      <td>168</td>\n",
       "      <td>63</td>\n",
       "      <td>30</td>\n",
       "      <td>24.2</td>\n",
       "      <td>9.8</td>\n",
       "      <td>Römischer Fußtyp</td>\n",
       "      <td>Hallux Valgus</td>\n",
       "      <td>38.5</td>\n",
       "      <td>Adidas cloudfoam</td>\n",
       "      <td>3.0</td>\n",
       "    </tr>\n",
       "    <tr>\n",
       "      <th>2</th>\n",
       "      <td>3</td>\n",
       "      <td>Männlich</td>\n",
       "      <td>186</td>\n",
       "      <td>72</td>\n",
       "      <td>36</td>\n",
       "      <td>29.0</td>\n",
       "      <td>10.0</td>\n",
       "      <td>Griechischer Fußtyp</td>\n",
       "      <td>Nein</td>\n",
       "      <td>46.0</td>\n",
       "      <td>Black Diamond Mission LT</td>\n",
       "      <td>30.0</td>\n",
       "    </tr>\n",
       "  </tbody>\n",
       "</table>\n",
       "</div>"
      ],
      "text/plain": [
       "   userid    gender  height  weight  age  foot_len  foot_width  \\\n",
       "0       1  Männlich     168      61   29      25.5        10.0   \n",
       "1       2  Weiblich     168      63   30      24.2         9.8   \n",
       "2       3  Männlich     186      72   36      29.0        10.0   \n",
       "\n",
       "           foot_family    foot_deform  street_shoe_size  \\\n",
       "0   Ägyptischer Fußtyp           Nein              41.5   \n",
       "1     Römischer Fußtyp  Hallux Valgus              38.5   \n",
       "2  Griechischer Fußtyp           Nein              46.0   \n",
       "\n",
       "          fav_sneaker_model   exp  \n",
       "0            Vans Authentic   4.0  \n",
       "1          Adidas cloudfoam   3.0  \n",
       "2  Black Diamond Mission LT  30.0  "
      ]
     },
     "execution_count": 216,
     "metadata": {},
     "output_type": "execute_result"
    }
   ],
   "source": [
    "users.head(3)"
   ]
  },
  {
   "cell_type": "code",
   "execution_count": 217,
   "metadata": {},
   "outputs": [
    {
     "data": {
      "text/html": [
       "<div>\n",
       "<style scoped>\n",
       "    .dataframe tbody tr th:only-of-type {\n",
       "        vertical-align: middle;\n",
       "    }\n",
       "\n",
       "    .dataframe tbody tr th {\n",
       "        vertical-align: top;\n",
       "    }\n",
       "\n",
       "    .dataframe thead th {\n",
       "        text-align: right;\n",
       "    }\n",
       "</style>\n",
       "<table border=\"1\" class=\"dataframe\">\n",
       "  <thead>\n",
       "    <tr style=\"text-align: right;\">\n",
       "      <th></th>\n",
       "      <th>userid</th>\n",
       "      <th>gender</th>\n",
       "      <th>height</th>\n",
       "      <th>weight</th>\n",
       "      <th>age</th>\n",
       "      <th>foot_len</th>\n",
       "      <th>foot_width</th>\n",
       "      <th>foot_family</th>\n",
       "      <th>foot_deform</th>\n",
       "      <th>street_shoe_size</th>\n",
       "      <th>fav_sneaker_model</th>\n",
       "      <th>exp</th>\n",
       "    </tr>\n",
       "  </thead>\n",
       "  <tbody>\n",
       "    <tr>\n",
       "      <th>92</th>\n",
       "      <td>93</td>\n",
       "      <td>Weiblich</td>\n",
       "      <td>158</td>\n",
       "      <td>53</td>\n",
       "      <td>31</td>\n",
       "      <td>21.5</td>\n",
       "      <td>8.7</td>\n",
       "      <td>Griechischer Fußtyp</td>\n",
       "      <td>Nein</td>\n",
       "      <td>36.0</td>\n",
       "      <td>Sketchers</td>\n",
       "      <td>2.0</td>\n",
       "    </tr>\n",
       "    <tr>\n",
       "      <th>93</th>\n",
       "      <td>94</td>\n",
       "      <td>Männlich</td>\n",
       "      <td>191</td>\n",
       "      <td>92</td>\n",
       "      <td>60</td>\n",
       "      <td>29.4</td>\n",
       "      <td>11.0</td>\n",
       "      <td>Griechischer Fußtyp</td>\n",
       "      <td>Hallux Valgus, Senkfuß</td>\n",
       "      <td>46.5</td>\n",
       "      <td>NaN</td>\n",
       "      <td>23.0</td>\n",
       "    </tr>\n",
       "  </tbody>\n",
       "</table>\n",
       "</div>"
      ],
      "text/plain": [
       "    userid    gender  height  weight  age  foot_len  foot_width  \\\n",
       "92      93  Weiblich     158      53   31      21.5         8.7   \n",
       "93      94  Männlich     191      92   60      29.4        11.0   \n",
       "\n",
       "            foot_family             foot_deform  street_shoe_size  \\\n",
       "92  Griechischer Fußtyp                    Nein              36.0   \n",
       "93  Griechischer Fußtyp  Hallux Valgus, Senkfuß              46.5   \n",
       "\n",
       "   fav_sneaker_model   exp  \n",
       "92         Sketchers   2.0  \n",
       "93               NaN  23.0  "
      ]
     },
     "execution_count": 217,
     "metadata": {},
     "output_type": "execute_result"
    }
   ],
   "source": [
    "users.tail(2)"
   ]
  },
  {
   "cell_type": "code",
   "execution_count": 218,
   "metadata": {},
   "outputs": [
    {
     "name": "stdout",
     "output_type": "stream",
     "text": [
      "<class 'pandas.core.frame.DataFrame'>\n",
      "RangeIndex: 94 entries, 0 to 93\n",
      "Data columns (total 12 columns):\n",
      " #   Column             Non-Null Count  Dtype  \n",
      "---  ------             --------------  -----  \n",
      " 0   userid             94 non-null     int64  \n",
      " 1   gender             94 non-null     object \n",
      " 2   height             94 non-null     int64  \n",
      " 3   weight             94 non-null     int64  \n",
      " 4   age                94 non-null     int64  \n",
      " 5   foot_len           94 non-null     float64\n",
      " 6   foot_width         94 non-null     float64\n",
      " 7   foot_family        94 non-null     object \n",
      " 8   foot_deform        94 non-null     object \n",
      " 9   street_shoe_size   94 non-null     float64\n",
      " 10  fav_sneaker_model  81 non-null     object \n",
      " 11  exp                94 non-null     float64\n",
      "dtypes: float64(4), int64(4), object(4)\n",
      "memory usage: 8.9+ KB\n"
     ]
    }
   ],
   "source": [
    "users.info()"
   ]
  },
  {
   "cell_type": "code",
   "execution_count": 219,
   "metadata": {},
   "outputs": [
    {
     "data": {
      "text/plain": [
       "Index(['userid', 'gender', 'height', 'weight', 'age', 'foot_len', 'foot_width',\n",
       "       'foot_family', 'foot_deform', 'street_shoe_size', 'fav_sneaker_model',\n",
       "       'exp'],\n",
       "      dtype='object')"
      ]
     },
     "execution_count": 219,
     "metadata": {},
     "output_type": "execute_result"
    }
   ],
   "source": [
    "users.columns"
   ]
  },
  {
   "cell_type": "code",
   "execution_count": 220,
   "metadata": {},
   "outputs": [
    {
     "data": {
      "image/png": "[encoded data removed]",
      "text/plain": [
       "<Figure size 432x288 with 1 Axes>"
      ]
     },
     "metadata": {
      "needs_background": "light"
     },
     "output_type": "display_data"
    }
   ],
   "source": [
    "sns.countplot(x='gender', data=users, palette='viridis')\n",
    "plt.title(\"Verteilung nach Geschlecht\", fontsize=14)\n",
    "plt.show()"
   ]
  },
  {
   "cell_type": "code",
   "execution_count": 221,
   "metadata": {},
   "outputs": [
    {
     "data": {
      "image/png": "[encoded data removed]",
      "text/plain": [
       "<Figure size 432x288 with 1 Axes>"
      ]
     },
     "metadata": {
      "needs_background": "light"
     },
     "output_type": "display_data"
    }
   ],
   "source": [
    "sns.boxplot(x='gender', y='age', data=users, palette='viridis')\n",
    "plt.title(\"Verteilung Alter nach Geschlecht\", fontsize=14)\n",
    "plt.show()"
   ]
  },
  {
   "cell_type": "code",
   "execution_count": 222,
   "metadata": {},
   "outputs": [
    {
     "data": {
      "image/png": "[encoded data removed]",
      "text/plain": [
       "<Figure size 360x360 with 1 Axes>"
      ]
     },
     "metadata": {
      "needs_background": "light"
     },
     "output_type": "display_data"
    }
   ],
   "source": [
    "sns.displot(x='age', data=users, bins=15)\n",
    "plt.title(\"Verteilung Alter\", fontsize=14)\n",
    "plt.show()"
   ]
  },
  {
   "cell_type": "code",
   "execution_count": 223,
   "metadata": {},
   "outputs": [
    {
     "data": {
      "image/png": "[encoded data removed]",
      "text/plain": [
       "<Figure size 432x288 with 1 Axes>"
      ]
     },
     "metadata": {
      "needs_background": "light"
     },
     "output_type": "display_data"
    }
   ],
   "source": [
    "sns.boxplot(x='gender', y='height', data=users, palette='viridis')\n",
    "plt.title(\"Verteilung Größe nach Geschlecht\", fontsize=14)\n",
    "plt.show()"
   ]
  },
  {
   "cell_type": "code",
   "execution_count": 224,
   "metadata": {},
   "outputs": [
    {
     "data": {
      "image/png": "[encoded data removed]",
      "text/plain": [
       "<Figure size 360x360 with 1 Axes>"
      ]
     },
     "metadata": {
      "needs_background": "light"
     },
     "output_type": "display_data"
    }
   ],
   "source": [
    "sns.displot(x='height', data=users, bins=15)\n",
    "plt.title(\"Verteilung Körpergröße\", fontsize=14)\n",
    "plt.show()"
   ]
  },
  {
   "cell_type": "code",
   "execution_count": 225,
   "metadata": {},
   "outputs": [
    {
     "data": {
      "image/png": "[encoded data removed]",
      "text/plain": [
       "<Figure size 432x288 with 1 Axes>"
      ]
     },
     "metadata": {
      "needs_background": "light"
     },
     "output_type": "display_data"
    }
   ],
   "source": [
    "sns.boxplot(x='gender', y='weight', data=users, palette='viridis')\n",
    "plt.title(\"Verteilung Gewicht nach Geschlecht\", fontsize=14)\n",
    "plt.show()"
   ]
  },
  {
   "cell_type": "code",
   "execution_count": 226,
   "metadata": {},
   "outputs": [
    {
     "data": {
      "image/png": "[encoded data removed]",
      "text/plain": [
       "<Figure size 360x360 with 1 Axes>"
      ]
     },
     "metadata": {
      "needs_background": "light"
     },
     "output_type": "display_data"
    }
   ],
   "source": [
    "sns.displot(x='weight', data=users, bins=15)\n",
    "plt.title(\"Verteilung Gewicht\", fontsize=14)\n",
    "plt.show()"
   ]
  },
  {
   "cell_type": "code",
   "execution_count": 227,
   "metadata": {},
   "outputs": [
    {
     "data": {
      "text/plain": [
       "Ägyptischer Fußtyp               43\n",
       "Römischer Fußtyp                 30\n",
       "Griechischer Fußtyp              20\n",
       "Mix aus Römisch und Ägyptisch     1\n",
       "Name: foot_family, dtype: int64"
      ]
     },
     "execution_count": 227,
     "metadata": {},
     "output_type": "execute_result"
    }
   ],
   "source": [
    "users['foot_family'].value_counts()"
   ]
  },
  {
   "cell_type": "code",
   "execution_count": 228,
   "metadata": {},
   "outputs": [
    {
     "data": {
      "text/html": [
       "<div>\n",
       "<style scoped>\n",
       "    .dataframe tbody tr th:only-of-type {\n",
       "        vertical-align: middle;\n",
       "    }\n",
       "\n",
       "    .dataframe tbody tr th {\n",
       "        vertical-align: top;\n",
       "    }\n",
       "\n",
       "    .dataframe thead th {\n",
       "        text-align: right;\n",
       "    }\n",
       "</style>\n",
       "<table border=\"1\" class=\"dataframe\">\n",
       "  <thead>\n",
       "    <tr style=\"text-align: right;\">\n",
       "      <th></th>\n",
       "      <th>userid</th>\n",
       "      <th>gender</th>\n",
       "      <th>height</th>\n",
       "      <th>weight</th>\n",
       "      <th>age</th>\n",
       "      <th>foot_len</th>\n",
       "      <th>foot_width</th>\n",
       "      <th>foot_family</th>\n",
       "      <th>foot_deform</th>\n",
       "      <th>street_shoe_size</th>\n",
       "      <th>fav_sneaker_model</th>\n",
       "      <th>exp</th>\n",
       "    </tr>\n",
       "  </thead>\n",
       "  <tbody>\n",
       "    <tr>\n",
       "      <th>13</th>\n",
       "      <td>14</td>\n",
       "      <td>Weiblich</td>\n",
       "      <td>164</td>\n",
       "      <td>58</td>\n",
       "      <td>24</td>\n",
       "      <td>23.0</td>\n",
       "      <td>8.3</td>\n",
       "      <td>Mix aus Römisch und Ägyptisch</td>\n",
       "      <td>Senkfuß</td>\n",
       "      <td>38.0</td>\n",
       "      <td>Nike</td>\n",
       "      <td>3.0</td>\n",
       "    </tr>\n",
       "  </tbody>\n",
       "</table>\n",
       "</div>"
      ],
      "text/plain": [
       "    userid    gender  height  weight  age  foot_len  foot_width  \\\n",
       "13      14  Weiblich     164      58   24      23.0         8.3   \n",
       "\n",
       "                      foot_family foot_deform  street_shoe_size  \\\n",
       "13  Mix aus Römisch und Ägyptisch     Senkfuß              38.0   \n",
       "\n",
       "   fav_sneaker_model  exp  \n",
       "13             Nike   3.0  "
      ]
     },
     "execution_count": 228,
     "metadata": {},
     "output_type": "execute_result"
    }
   ],
   "source": [
    "users[users['foot_family'] == 'Mix aus Römisch und Ägyptisch']"
   ]
  },
  {
   "cell_type": "code",
   "execution_count": 229,
   "metadata": {},
   "outputs": [],
   "source": [
    "users.at[13,'foot_family'] = 'Ägyptischer Fußtyp'"
   ]
  },
  {
   "cell_type": "code",
   "execution_count": 230,
   "metadata": {},
   "outputs": [
    {
     "data": {
      "text/plain": [
       "Ägyptischer Fußtyp     44\n",
       "Römischer Fußtyp       30\n",
       "Griechischer Fußtyp    20\n",
       "Name: foot_family, dtype: int64"
      ]
     },
     "execution_count": 230,
     "metadata": {},
     "output_type": "execute_result"
    }
   ],
   "source": [
    "users['foot_family'].value_counts()"
   ]
  },
  {
   "cell_type": "code",
   "execution_count": 231,
   "metadata": {},
   "outputs": [
    {
     "data": {
      "text/plain": [
       "<AxesSubplot:>"
      ]
     },
     "execution_count": 231,
     "metadata": {},
     "output_type": "execute_result"
    },
    {
     "data": {
      "image/png": "[encoded data removed]",
      "text/plain": [
       "<Figure size 432x288 with 2 Axes>"
      ]
     },
     "metadata": {
      "needs_background": "light"
     },
     "output_type": "display_data"
    }
   ],
   "source": [
    "sns.heatmap(users.corr(), cmap='viridis', annot=True)"
   ]
  },
  {
   "cell_type": "code",
   "execution_count": 232,
   "metadata": {},
   "outputs": [
    {
     "data": {
      "image/png": "[encoded data removed]",
      "text/plain": [
       "<Figure size 432x288 with 1 Axes>"
      ]
     },
     "metadata": {
      "needs_background": "light"
     },
     "output_type": "display_data"
    }
   ],
   "source": [
    "sns.scatterplot(x='height', y='weight', data=users, hue='gender')\n",
    "plt.title(\"Zusammenhang Größe und Gewicht nach Geschlecht\", fontsize=14)\n",
    "plt.show()"
   ]
  },
  {
   "cell_type": "code",
   "execution_count": 233,
   "metadata": {},
   "outputs": [
    {
     "data": {
      "image/png": "[encoded data removed]",
      "text/plain": [
       "<Figure size 432x288 with 1 Axes>"
      ]
     },
     "metadata": {
      "needs_background": "light"
     },
     "output_type": "display_data"
    }
   ],
   "source": [
    "sns.scatterplot(x='foot_len', y='foot_width', data=users, hue='gender')\n",
    "plt.title(\"Zusammenhang Fußbreite und -länge nach Geschlecht\", fontsize=14)\n",
    "plt.show()"
   ]
  },
  {
   "cell_type": "markdown",
   "metadata": {},
   "source": [
    "## shoe_features"
   ]
  },
  {
   "cell_type": "code",
   "execution_count": 234,
   "metadata": {},
   "outputs": [],
   "source": [
    "shoes = pd.read_csv('./data/shoe_survey.csv')"
   ]
  },
  {
   "cell_type": "code",
   "execution_count": 235,
   "metadata": {},
   "outputs": [
    {
     "data": {
      "text/plain": [
       "userid                          0\n",
       "timestamp                       0\n",
       "shoe_brand                    402\n",
       "shoe_model                    402\n",
       "Modell nicht in der Liste?    557\n",
       "climb_shoe_size               402\n",
       "shoe_age                      402\n",
       "favourite                     405\n",
       "shoe_vorspann                 402\n",
       "shoe_downturn                 402\n",
       "shoe_asymetry                 402\n",
       "shoe_closing_type             402\n",
       "climb_style                   402\n",
       "terrain                       402\n",
       "rate_fit                      402\n",
       "rate_comfort                  402\n",
       "rate_stiffness                402\n",
       "use_freq                      402\n",
       "climb_grade                   402\n",
       "overall_rating                402\n",
       "dtype: int64"
      ]
     },
     "execution_count": 235,
     "metadata": {},
     "output_type": "execute_result"
    }
   ],
   "source": [
    "shoes.isnull().sum()"
   ]
  },
  {
   "cell_type": "code",
   "execution_count": 236,
   "metadata": {},
   "outputs": [],
   "source": [
    "shoes = shoes.dropna(subset=['shoe_brand'])\n",
    "shoes.reset_index(inplace=True, drop=True)"
   ]
  },
  {
   "cell_type": "code",
   "execution_count": 237,
   "metadata": {},
   "outputs": [
    {
     "data": {
      "text/html": [
       "<div>\n",
       "<style scoped>\n",
       "    .dataframe tbody tr th:only-of-type {\n",
       "        vertical-align: middle;\n",
       "    }\n",
       "\n",
       "    .dataframe tbody tr th {\n",
       "        vertical-align: top;\n",
       "    }\n",
       "\n",
       "    .dataframe thead th {\n",
       "        text-align: right;\n",
       "    }\n",
       "</style>\n",
       "<table border=\"1\" class=\"dataframe\">\n",
       "  <thead>\n",
       "    <tr style=\"text-align: right;\">\n",
       "      <th></th>\n",
       "      <th>userid</th>\n",
       "      <th>timestamp</th>\n",
       "      <th>shoe_brand</th>\n",
       "      <th>shoe_model</th>\n",
       "      <th>Modell nicht in der Liste?</th>\n",
       "      <th>climb_shoe_size</th>\n",
       "      <th>shoe_age</th>\n",
       "      <th>favourite</th>\n",
       "      <th>shoe_vorspann</th>\n",
       "      <th>shoe_downturn</th>\n",
       "      <th>shoe_asymetry</th>\n",
       "      <th>shoe_closing_type</th>\n",
       "      <th>climb_style</th>\n",
       "      <th>terrain</th>\n",
       "      <th>rate_fit</th>\n",
       "      <th>rate_comfort</th>\n",
       "      <th>rate_stiffness</th>\n",
       "      <th>use_freq</th>\n",
       "      <th>climb_grade</th>\n",
       "      <th>overall_rating</th>\n",
       "    </tr>\n",
       "  </thead>\n",
       "  <tbody>\n",
       "    <tr>\n",
       "      <th>0</th>\n",
       "      <td>1</td>\n",
       "      <td>24.02.2021 22:27:44</td>\n",
       "      <td>La Sportiva</td>\n",
       "      <td>La Sportiva - SKWAMA</td>\n",
       "      <td>NaN</td>\n",
       "      <td>39.0</td>\n",
       "      <td>2.0</td>\n",
       "      <td>Ja</td>\n",
       "      <td>Ja</td>\n",
       "      <td>Ja</td>\n",
       "      <td>Nein</td>\n",
       "      <td>Klett</td>\n",
       "      <td>Sportklettern, Bouldern</td>\n",
       "      <td>Beides</td>\n",
       "      <td>5.0</td>\n",
       "      <td>4.0</td>\n",
       "      <td>4.0</td>\n",
       "      <td>4.0</td>\n",
       "      <td>Fortgeschritten (UIAA 7 - 9)</td>\n",
       "      <td>5.0</td>\n",
       "    </tr>\n",
       "    <tr>\n",
       "      <th>1</th>\n",
       "      <td>2</td>\n",
       "      <td>25.02.2021 08:26:50</td>\n",
       "      <td>La Sportiva</td>\n",
       "      <td>La Sportiva - SOLUTION COMP WOMAN</td>\n",
       "      <td>NaN</td>\n",
       "      <td>37.5</td>\n",
       "      <td>0.7</td>\n",
       "      <td>Ja</td>\n",
       "      <td>Ja</td>\n",
       "      <td>Ja</td>\n",
       "      <td>Ja</td>\n",
       "      <td>Klett</td>\n",
       "      <td>Bouldern</td>\n",
       "      <td>Halle</td>\n",
       "      <td>4.0</td>\n",
       "      <td>4.0</td>\n",
       "      <td>3.0</td>\n",
       "      <td>3.0</td>\n",
       "      <td>Fortgeschritten (UIAA 7 - 9)</td>\n",
       "      <td>4.0</td>\n",
       "    </tr>\n",
       "    <tr>\n",
       "      <th>2</th>\n",
       "      <td>3</td>\n",
       "      <td>25.02.2021 10:28:25</td>\n",
       "      <td>La Sportiva</td>\n",
       "      <td>La Sportiva - SKWAMA</td>\n",
       "      <td>NaN</td>\n",
       "      <td>42.5</td>\n",
       "      <td>1.0</td>\n",
       "      <td>Ja</td>\n",
       "      <td>Ja</td>\n",
       "      <td>Ja</td>\n",
       "      <td>Ja</td>\n",
       "      <td>Klett</td>\n",
       "      <td>Sportklettern, Bouldern</td>\n",
       "      <td>Beides</td>\n",
       "      <td>5.0</td>\n",
       "      <td>4.0</td>\n",
       "      <td>5.0</td>\n",
       "      <td>5.0</td>\n",
       "      <td>Fortgeschritten (UIAA 7 - 9)</td>\n",
       "      <td>5.0</td>\n",
       "    </tr>\n",
       "  </tbody>\n",
       "</table>\n",
       "</div>"
      ],
      "text/plain": [
       "   userid            timestamp   shoe_brand  \\\n",
       "0       1  24.02.2021 22:27:44  La Sportiva   \n",
       "1       2  25.02.2021 08:26:50  La Sportiva   \n",
       "2       3  25.02.2021 10:28:25  La Sportiva   \n",
       "\n",
       "                          shoe_model Modell nicht in der Liste?  \\\n",
       "0               La Sportiva - SKWAMA                        NaN   \n",
       "1  La Sportiva - SOLUTION COMP WOMAN                        NaN   \n",
       "2               La Sportiva - SKWAMA                        NaN   \n",
       "\n",
       "   climb_shoe_size  shoe_age favourite shoe_vorspann shoe_downturn  \\\n",
       "0             39.0       2.0        Ja            Ja            Ja   \n",
       "1             37.5       0.7        Ja            Ja            Ja   \n",
       "2             42.5       1.0        Ja            Ja            Ja   \n",
       "\n",
       "  shoe_asymetry shoe_closing_type              climb_style terrain  rate_fit  \\\n",
       "0          Nein             Klett  Sportklettern, Bouldern  Beides       5.0   \n",
       "1            Ja             Klett                 Bouldern   Halle       4.0   \n",
       "2            Ja             Klett  Sportklettern, Bouldern  Beides       5.0   \n",
       "\n",
       "   rate_comfort  rate_stiffness  use_freq                   climb_grade  \\\n",
       "0           4.0             4.0       4.0  Fortgeschritten (UIAA 7 - 9)   \n",
       "1           4.0             3.0       3.0  Fortgeschritten (UIAA 7 - 9)   \n",
       "2           4.0             5.0       5.0  Fortgeschritten (UIAA 7 - 9)   \n",
       "\n",
       "   overall_rating  \n",
       "0             5.0  \n",
       "1             4.0  \n",
       "2             5.0  "
      ]
     },
     "execution_count": 237,
     "metadata": {},
     "output_type": "execute_result"
    }
   ],
   "source": [
    "shoes.head(3)"
   ]
  },
  {
   "cell_type": "code",
   "execution_count": 238,
   "metadata": {},
   "outputs": [],
   "source": [
    "shoes.drop('timestamp', axis=1, inplace=True)"
   ]
  },
  {
   "cell_type": "code",
   "execution_count": 239,
   "metadata": {},
   "outputs": [
    {
     "data": {
      "text/plain": [
       "<AxesSubplot:>"
      ]
     },
     "execution_count": 239,
     "metadata": {},
     "output_type": "execute_result"
    },
    {
     "data": {
      "image/png": "[encoded data removed]",
      "text/plain": [
       "<Figure size 432x288 with 2 Axes>"
      ]
     },
     "metadata": {
      "needs_background": "light"
     },
     "output_type": "display_data"
    }
   ],
   "source": [
    "sns.heatmap(shoes.corr(), cmap='viridis', annot=True)"
   ]
  },
  {
   "cell_type": "code",
   "execution_count": 240,
   "metadata": {},
   "outputs": [
    {
     "data": {
      "text/plain": [
       "Sonstige                        15\n",
       "La Sportiva - SKWAMA            11\n",
       "Scarpa - VAPOR V                 8\n",
       "Ocun - OZONE QC                  7\n",
       "Five Ten - HIANGLE               5\n",
       "La Sportiva - OTAKI              5\n",
       "Red Chili - SPIRIT VCR           5\n",
       "Scarpa - DRAGO                   5\n",
       "La Sportiva - SOLUTION WOMAN     4\n",
       "Scarpa - INSTINCT VS             4\n",
       "Name: shoe_model, dtype: int64"
      ]
     },
     "execution_count": 240,
     "metadata": {},
     "output_type": "execute_result"
    }
   ],
   "source": [
    "shoes['shoe_model'].value_counts().sort_values(ascending=False).head(10)"
   ]
  },
  {
   "cell_type": "code",
   "execution_count": 241,
   "metadata": {},
   "outputs": [
    {
     "data": {
      "text/plain": [
       "Sonstige                        15\n",
       "La Sportiva - SKWAMA            11\n",
       "Scarpa - VAPOR V                 8\n",
       "Ocun - OZONE QC                  7\n",
       "Five Ten - HIANGLE               5\n",
       "La Sportiva - OTAKI              5\n",
       "Red Chili - SPIRIT VCR           5\n",
       "Scarpa - DRAGO                   5\n",
       "La Sportiva - SOLUTION WOMAN     4\n",
       "Scarpa - INSTINCT VS             4\n",
       "Name: shoe_model, dtype: int64"
      ]
     },
     "execution_count": 241,
     "metadata": {},
     "output_type": "execute_result"
    }
   ],
   "source": [
    "shoes['shoe_model'].value_counts().sort_values(ascending=False).head(10)"
   ]
  },
  {
   "cell_type": "code",
   "execution_count": 242,
   "metadata": {},
   "outputs": [
    {
     "data": {
      "text/plain": [
       "<AxesSubplot:xlabel='shoe_brand', ylabel='count'>"
      ]
     },
     "execution_count": 242,
     "metadata": {},
     "output_type": "execute_result"
    },
    {
     "data": {
      "image/png": "[encoded data removed]",
      "text/plain": [
       "<Figure size 1152x288 with 1 Axes>"
      ]
     },
     "metadata": {
      "needs_background": "light"
     },
     "output_type": "display_data"
    }
   ],
   "source": [
    "plt.figure(figsize=(16,4))\n",
    "sns.countplot(x='shoe_brand', data=shoes, palette='viridis')"
   ]
  },
  {
   "cell_type": "code",
   "execution_count": 243,
   "metadata": {},
   "outputs": [
    {
     "data": {
      "text/plain": [
       "<AxesSubplot:xlabel='shoe_closing_type', ylabel='count'>"
      ]
     },
     "execution_count": 243,
     "metadata": {},
     "output_type": "execute_result"
    },
    {
     "data": {
      "image/png": "[encoded data removed]",
      "text/plain": [
       "<Figure size 432x288 with 1 Axes>"
      ]
     },
     "metadata": {
      "needs_background": "light"
     },
     "output_type": "display_data"
    }
   ],
   "source": [
    "sns.countplot(x='shoe_closing_type', data=shoes, palette='viridis')"
   ]
  },
  {
   "cell_type": "code",
   "execution_count": 244,
   "metadata": {},
   "outputs": [
    {
     "data": {
      "text/plain": [
       "array(['Fortgeschritten (UIAA 7 - 9)', 'Anfänger (UIAA < 7)',\n",
       "       'Profi (UIAA > 9)'], dtype=object)"
      ]
     },
     "execution_count": 244,
     "metadata": {},
     "output_type": "execute_result"
    }
   ],
   "source": [
    "shoes['climb_grade'].unique()"
   ]
  },
  {
   "cell_type": "code",
   "execution_count": 245,
   "metadata": {},
   "outputs": [
    {
     "data": {
      "text/plain": [
       "<AxesSubplot:xlabel='climb_grade', ylabel='count'>"
      ]
     },
     "execution_count": 245,
     "metadata": {},
     "output_type": "execute_result"
    },
    {
     "data": {
      "image/png": "[encoded data removed]",
      "text/plain": [
       "<Figure size 864x288 with 1 Axes>"
      ]
     },
     "metadata": {
      "needs_background": "light"
     },
     "output_type": "display_data"
    }
   ],
   "source": [
    "order = ['Anfänger (UIAA < 7)','Fortgeschritten (UIAA 7 - 9)',\n",
    "       'Profi (UIAA > 9)']\n",
    "plt.figure(figsize=(12,4))\n",
    "sns.countplot(x='climb_grade', data=shoes, palette='viridis', order=order)"
   ]
  },
  {
   "cell_type": "markdown",
   "metadata": {},
   "source": [
    "## Zusammenhänge Körper- & Schuheigenschaften"
   ]
  },
  {
   "cell_type": "code",
   "execution_count": 246,
   "metadata": {},
   "outputs": [],
   "source": [
    "df = pd.merge(shoes, users, how='left', on=['userid'], suffixes=('_left', '_right'))"
   ]
  },
  {
   "cell_type": "code",
   "execution_count": 247,
   "metadata": {},
   "outputs": [
    {
     "data": {
      "text/html": [
       "<div>\n",
       "<style scoped>\n",
       "    .dataframe tbody tr th:only-of-type {\n",
       "        vertical-align: middle;\n",
       "    }\n",
       "\n",
       "    .dataframe tbody tr th {\n",
       "        vertical-align: top;\n",
       "    }\n",
       "\n",
       "    .dataframe thead th {\n",
       "        text-align: right;\n",
       "    }\n",
       "</style>\n",
       "<table border=\"1\" class=\"dataframe\">\n",
       "  <thead>\n",
       "    <tr style=\"text-align: right;\">\n",
       "      <th></th>\n",
       "      <th>userid</th>\n",
       "      <th>shoe_brand</th>\n",
       "      <th>shoe_model</th>\n",
       "      <th>Modell nicht in der Liste?</th>\n",
       "      <th>climb_shoe_size</th>\n",
       "      <th>shoe_age</th>\n",
       "      <th>favourite</th>\n",
       "      <th>shoe_vorspann</th>\n",
       "      <th>shoe_downturn</th>\n",
       "      <th>shoe_asymetry</th>\n",
       "      <th>...</th>\n",
       "      <th>height</th>\n",
       "      <th>weight</th>\n",
       "      <th>age</th>\n",
       "      <th>foot_len</th>\n",
       "      <th>foot_width</th>\n",
       "      <th>foot_family</th>\n",
       "      <th>foot_deform</th>\n",
       "      <th>street_shoe_size</th>\n",
       "      <th>fav_sneaker_model</th>\n",
       "      <th>exp</th>\n",
       "    </tr>\n",
       "  </thead>\n",
       "  <tbody>\n",
       "    <tr>\n",
       "      <th>93</th>\n",
       "      <td>94</td>\n",
       "      <td>Red Chili</td>\n",
       "      <td>Red Chili - SPIRIT VCR</td>\n",
       "      <td>NaN</td>\n",
       "      <td>46.0</td>\n",
       "      <td>5.0</td>\n",
       "      <td>Ja</td>\n",
       "      <td>Nein</td>\n",
       "      <td>Nein</td>\n",
       "      <td>Nein</td>\n",
       "      <td>...</td>\n",
       "      <td>191</td>\n",
       "      <td>92</td>\n",
       "      <td>60</td>\n",
       "      <td>29.4</td>\n",
       "      <td>11.0</td>\n",
       "      <td>Griechischer Fußtyp</td>\n",
       "      <td>Hallux Valgus, Senkfuß</td>\n",
       "      <td>46.5</td>\n",
       "      <td>NaN</td>\n",
       "      <td>23.0</td>\n",
       "    </tr>\n",
       "  </tbody>\n",
       "</table>\n",
       "<p>1 rows × 30 columns</p>\n",
       "</div>"
      ],
      "text/plain": [
       "    userid shoe_brand              shoe_model Modell nicht in der Liste?  \\\n",
       "93      94  Red Chili  Red Chili - SPIRIT VCR                        NaN   \n",
       "\n",
       "    climb_shoe_size  shoe_age favourite shoe_vorspann shoe_downturn  \\\n",
       "93             46.0       5.0        Ja          Nein          Nein   \n",
       "\n",
       "   shoe_asymetry  ... height weight age  foot_len  foot_width  \\\n",
       "93          Nein  ...    191     92  60      29.4        11.0   \n",
       "\n",
       "            foot_family             foot_deform street_shoe_size  \\\n",
       "93  Griechischer Fußtyp  Hallux Valgus, Senkfuß             46.5   \n",
       "\n",
       "    fav_sneaker_model   exp  \n",
       "93                NaN  23.0  \n",
       "\n",
       "[1 rows x 30 columns]"
      ]
     },
     "execution_count": 247,
     "metadata": {},
     "output_type": "execute_result"
    }
   ],
   "source": [
    "df[df['userid'] == 94]"
   ]
  },
  {
   "cell_type": "code",
   "execution_count": 248,
   "metadata": {},
   "outputs": [
    {
     "data": {
      "text/html": [
       "<div>\n",
       "<style scoped>\n",
       "    .dataframe tbody tr th:only-of-type {\n",
       "        vertical-align: middle;\n",
       "    }\n",
       "\n",
       "    .dataframe tbody tr th {\n",
       "        vertical-align: top;\n",
       "    }\n",
       "\n",
       "    .dataframe thead th {\n",
       "        text-align: right;\n",
       "    }\n",
       "</style>\n",
       "<table border=\"1\" class=\"dataframe\">\n",
       "  <thead>\n",
       "    <tr style=\"text-align: right;\">\n",
       "      <th></th>\n",
       "      <th>userid</th>\n",
       "      <th>shoe_brand</th>\n",
       "      <th>shoe_model</th>\n",
       "      <th>Modell nicht in der Liste?</th>\n",
       "      <th>climb_shoe_size</th>\n",
       "      <th>shoe_age</th>\n",
       "      <th>favourite</th>\n",
       "      <th>shoe_vorspann</th>\n",
       "      <th>shoe_downturn</th>\n",
       "      <th>shoe_asymetry</th>\n",
       "      <th>...</th>\n",
       "      <th>height</th>\n",
       "      <th>weight</th>\n",
       "      <th>age</th>\n",
       "      <th>foot_len</th>\n",
       "      <th>foot_width</th>\n",
       "      <th>foot_family</th>\n",
       "      <th>foot_deform</th>\n",
       "      <th>street_shoe_size</th>\n",
       "      <th>fav_sneaker_model</th>\n",
       "      <th>exp</th>\n",
       "    </tr>\n",
       "  </thead>\n",
       "  <tbody>\n",
       "    <tr>\n",
       "      <th>160</th>\n",
       "      <td>59</td>\n",
       "      <td>Ocun</td>\n",
       "      <td>Ocun - OZONE QC</td>\n",
       "      <td>NaN</td>\n",
       "      <td>42.0</td>\n",
       "      <td>4.0</td>\n",
       "      <td>Nein</td>\n",
       "      <td>Ja</td>\n",
       "      <td>Ja</td>\n",
       "      <td>Ja</td>\n",
       "      <td>...</td>\n",
       "      <td>175</td>\n",
       "      <td>70</td>\n",
       "      <td>27</td>\n",
       "      <td>26.7</td>\n",
       "      <td>9.9</td>\n",
       "      <td>Ägyptischer Fußtyp</td>\n",
       "      <td>Nein</td>\n",
       "      <td>42.5</td>\n",
       "      <td>NaN</td>\n",
       "      <td>6.0</td>\n",
       "    </tr>\n",
       "    <tr>\n",
       "      <th>161</th>\n",
       "      <td>4</td>\n",
       "      <td>La Sportiva</td>\n",
       "      <td>La Sportiva - SOLUTION COMP</td>\n",
       "      <td>NaN</td>\n",
       "      <td>43.0</td>\n",
       "      <td>1.0</td>\n",
       "      <td>Ja</td>\n",
       "      <td>Nein</td>\n",
       "      <td>Ja</td>\n",
       "      <td>Ja</td>\n",
       "      <td>...</td>\n",
       "      <td>186</td>\n",
       "      <td>72</td>\n",
       "      <td>36</td>\n",
       "      <td>29.0</td>\n",
       "      <td>10.0</td>\n",
       "      <td>Griechischer Fußtyp</td>\n",
       "      <td>Nein</td>\n",
       "      <td>46.0</td>\n",
       "      <td>Black Diamond Mission LT</td>\n",
       "      <td>30.0</td>\n",
       "    </tr>\n",
       "  </tbody>\n",
       "</table>\n",
       "<p>2 rows × 30 columns</p>\n",
       "</div>"
      ],
      "text/plain": [
       "     userid   shoe_brand                   shoe_model  \\\n",
       "160      59         Ocun              Ocun - OZONE QC   \n",
       "161       4  La Sportiva  La Sportiva - SOLUTION COMP   \n",
       "\n",
       "    Modell nicht in der Liste?  climb_shoe_size  shoe_age favourite  \\\n",
       "160                        NaN             42.0       4.0      Nein   \n",
       "161                        NaN             43.0       1.0        Ja   \n",
       "\n",
       "    shoe_vorspann shoe_downturn shoe_asymetry  ... height weight age  \\\n",
       "160            Ja            Ja            Ja  ...    175     70  27   \n",
       "161          Nein            Ja            Ja  ...    186     72  36   \n",
       "\n",
       "     foot_len  foot_width          foot_family  foot_deform street_shoe_size  \\\n",
       "160      26.7         9.9   Ägyptischer Fußtyp         Nein             42.5   \n",
       "161      29.0        10.0  Griechischer Fußtyp         Nein             46.0   \n",
       "\n",
       "            fav_sneaker_model   exp  \n",
       "160                       NaN   6.0  \n",
       "161  Black Diamond Mission LT  30.0  \n",
       "\n",
       "[2 rows x 30 columns]"
      ]
     },
     "execution_count": 248,
     "metadata": {},
     "output_type": "execute_result"
    }
   ],
   "source": [
    "df.tail(2)"
   ]
  },
  {
   "cell_type": "code",
   "execution_count": 249,
   "metadata": {},
   "outputs": [
    {
     "name": "stdout",
     "output_type": "stream",
     "text": [
      "<class 'pandas.core.frame.DataFrame'>\n",
      "Int64Index: 162 entries, 0 to 161\n",
      "Data columns (total 30 columns):\n",
      " #   Column                      Non-Null Count  Dtype  \n",
      "---  ------                      --------------  -----  \n",
      " 0   userid                      162 non-null    int64  \n",
      " 1   shoe_brand                  162 non-null    object \n",
      " 2   shoe_model                  162 non-null    object \n",
      " 3   Modell nicht in der Liste?  7 non-null      object \n",
      " 4   climb_shoe_size             162 non-null    float64\n",
      " 5   shoe_age                    162 non-null    float64\n",
      " 6   favourite                   159 non-null    object \n",
      " 7   shoe_vorspann               162 non-null    object \n",
      " 8   shoe_downturn               162 non-null    object \n",
      " 9   shoe_asymetry               162 non-null    object \n",
      " 10  shoe_closing_type           162 non-null    object \n",
      " 11  climb_style                 162 non-null    object \n",
      " 12  terrain                     162 non-null    object \n",
      " 13  rate_fit                    162 non-null    float64\n",
      " 14  rate_comfort                162 non-null    float64\n",
      " 15  rate_stiffness              162 non-null    float64\n",
      " 16  use_freq                    162 non-null    float64\n",
      " 17  climb_grade                 162 non-null    object \n",
      " 18  overall_rating              162 non-null    float64\n",
      " 19  gender                      162 non-null    object \n",
      " 20  height                      162 non-null    int64  \n",
      " 21  weight                      162 non-null    int64  \n",
      " 22  age                         162 non-null    int64  \n",
      " 23  foot_len                    162 non-null    float64\n",
      " 24  foot_width                  162 non-null    float64\n",
      " 25  foot_family                 162 non-null    object \n",
      " 26  foot_deform                 162 non-null    object \n",
      " 27  street_shoe_size            162 non-null    float64\n",
      " 28  fav_sneaker_model           138 non-null    object \n",
      " 29  exp                         162 non-null    float64\n",
      "dtypes: float64(11), int64(4), object(15)\n",
      "memory usage: 39.2+ KB\n"
     ]
    }
   ],
   "source": [
    "df.info()"
   ]
  },
  {
   "cell_type": "code",
   "execution_count": 250,
   "metadata": {},
   "outputs": [
    {
     "data": {
      "text/plain": [
       "userid                          0\n",
       "shoe_brand                      0\n",
       "shoe_model                      0\n",
       "Modell nicht in der Liste?    155\n",
       "climb_shoe_size                 0\n",
       "shoe_age                        0\n",
       "favourite                       3\n",
       "shoe_vorspann                   0\n",
       "shoe_downturn                   0\n",
       "shoe_asymetry                   0\n",
       "shoe_closing_type               0\n",
       "climb_style                     0\n",
       "terrain                         0\n",
       "rate_fit                        0\n",
       "rate_comfort                    0\n",
       "rate_stiffness                  0\n",
       "use_freq                        0\n",
       "climb_grade                     0\n",
       "overall_rating                  0\n",
       "gender                          0\n",
       "height                          0\n",
       "weight                          0\n",
       "age                             0\n",
       "foot_len                        0\n",
       "foot_width                      0\n",
       "foot_family                     0\n",
       "foot_deform                     0\n",
       "street_shoe_size                0\n",
       "fav_sneaker_model              24\n",
       "exp                             0\n",
       "dtype: int64"
      ]
     },
     "execution_count": 250,
     "metadata": {},
     "output_type": "execute_result"
    }
   ],
   "source": [
    "df.isnull().sum()"
   ]
  },
  {
   "cell_type": "code",
   "execution_count": 251,
   "metadata": {},
   "outputs": [
    {
     "data": {
      "text/html": [
       "<div>\n",
       "<style scoped>\n",
       "    .dataframe tbody tr th:only-of-type {\n",
       "        vertical-align: middle;\n",
       "    }\n",
       "\n",
       "    .dataframe tbody tr th {\n",
       "        vertical-align: top;\n",
       "    }\n",
       "\n",
       "    .dataframe thead th {\n",
       "        text-align: right;\n",
       "    }\n",
       "</style>\n",
       "<table border=\"1\" class=\"dataframe\">\n",
       "  <thead>\n",
       "    <tr style=\"text-align: right;\">\n",
       "      <th></th>\n",
       "      <th>userid</th>\n",
       "      <th>shoe_brand</th>\n",
       "      <th>shoe_model</th>\n",
       "      <th>Modell nicht in der Liste?</th>\n",
       "      <th>climb_shoe_size</th>\n",
       "      <th>shoe_age</th>\n",
       "      <th>favourite</th>\n",
       "      <th>shoe_vorspann</th>\n",
       "      <th>shoe_downturn</th>\n",
       "      <th>shoe_asymetry</th>\n",
       "      <th>...</th>\n",
       "      <th>height</th>\n",
       "      <th>weight</th>\n",
       "      <th>age</th>\n",
       "      <th>foot_len</th>\n",
       "      <th>foot_width</th>\n",
       "      <th>foot_family</th>\n",
       "      <th>foot_deform</th>\n",
       "      <th>street_shoe_size</th>\n",
       "      <th>fav_sneaker_model</th>\n",
       "      <th>exp</th>\n",
       "    </tr>\n",
       "  </thead>\n",
       "  <tbody>\n",
       "    <tr>\n",
       "      <th>0</th>\n",
       "      <td>1</td>\n",
       "      <td>La Sportiva</td>\n",
       "      <td>La Sportiva - SKWAMA</td>\n",
       "      <td>NaN</td>\n",
       "      <td>39.0</td>\n",
       "      <td>2.0</td>\n",
       "      <td>Ja</td>\n",
       "      <td>Ja</td>\n",
       "      <td>Ja</td>\n",
       "      <td>Nein</td>\n",
       "      <td>...</td>\n",
       "      <td>168</td>\n",
       "      <td>61</td>\n",
       "      <td>29</td>\n",
       "      <td>25.5</td>\n",
       "      <td>10.0</td>\n",
       "      <td>Ägyptischer Fußtyp</td>\n",
       "      <td>Nein</td>\n",
       "      <td>41.5</td>\n",
       "      <td>Vans Authentic</td>\n",
       "      <td>4.0</td>\n",
       "    </tr>\n",
       "    <tr>\n",
       "      <th>1</th>\n",
       "      <td>2</td>\n",
       "      <td>La Sportiva</td>\n",
       "      <td>La Sportiva - SOLUTION COMP WOMAN</td>\n",
       "      <td>NaN</td>\n",
       "      <td>37.5</td>\n",
       "      <td>0.7</td>\n",
       "      <td>Ja</td>\n",
       "      <td>Ja</td>\n",
       "      <td>Ja</td>\n",
       "      <td>Ja</td>\n",
       "      <td>...</td>\n",
       "      <td>168</td>\n",
       "      <td>63</td>\n",
       "      <td>30</td>\n",
       "      <td>24.2</td>\n",
       "      <td>9.8</td>\n",
       "      <td>Römischer Fußtyp</td>\n",
       "      <td>Hallux Valgus</td>\n",
       "      <td>38.5</td>\n",
       "      <td>Adidas cloudfoam</td>\n",
       "      <td>3.0</td>\n",
       "    </tr>\n",
       "    <tr>\n",
       "      <th>2</th>\n",
       "      <td>3</td>\n",
       "      <td>La Sportiva</td>\n",
       "      <td>La Sportiva - SKWAMA</td>\n",
       "      <td>NaN</td>\n",
       "      <td>42.5</td>\n",
       "      <td>1.0</td>\n",
       "      <td>Ja</td>\n",
       "      <td>Ja</td>\n",
       "      <td>Ja</td>\n",
       "      <td>Ja</td>\n",
       "      <td>...</td>\n",
       "      <td>186</td>\n",
       "      <td>72</td>\n",
       "      <td>36</td>\n",
       "      <td>29.0</td>\n",
       "      <td>10.0</td>\n",
       "      <td>Griechischer Fußtyp</td>\n",
       "      <td>Nein</td>\n",
       "      <td>46.0</td>\n",
       "      <td>Black Diamond Mission LT</td>\n",
       "      <td>30.0</td>\n",
       "    </tr>\n",
       "  </tbody>\n",
       "</table>\n",
       "<p>3 rows × 30 columns</p>\n",
       "</div>"
      ],
      "text/plain": [
       "   userid   shoe_brand                         shoe_model  \\\n",
       "0       1  La Sportiva               La Sportiva - SKWAMA   \n",
       "1       2  La Sportiva  La Sportiva - SOLUTION COMP WOMAN   \n",
       "2       3  La Sportiva               La Sportiva - SKWAMA   \n",
       "\n",
       "  Modell nicht in der Liste?  climb_shoe_size  shoe_age favourite  \\\n",
       "0                        NaN             39.0       2.0        Ja   \n",
       "1                        NaN             37.5       0.7        Ja   \n",
       "2                        NaN             42.5       1.0        Ja   \n",
       "\n",
       "  shoe_vorspann shoe_downturn shoe_asymetry  ... height weight age  foot_len  \\\n",
       "0            Ja            Ja          Nein  ...    168     61  29      25.5   \n",
       "1            Ja            Ja            Ja  ...    168     63  30      24.2   \n",
       "2            Ja            Ja            Ja  ...    186     72  36      29.0   \n",
       "\n",
       "   foot_width          foot_family    foot_deform street_shoe_size  \\\n",
       "0        10.0   Ägyptischer Fußtyp           Nein             41.5   \n",
       "1         9.8     Römischer Fußtyp  Hallux Valgus             38.5   \n",
       "2        10.0  Griechischer Fußtyp           Nein             46.0   \n",
       "\n",
       "          fav_sneaker_model   exp  \n",
       "0            Vans Authentic   4.0  \n",
       "1          Adidas cloudfoam   3.0  \n",
       "2  Black Diamond Mission LT  30.0  \n",
       "\n",
       "[3 rows x 30 columns]"
      ]
     },
     "execution_count": 251,
     "metadata": {},
     "output_type": "execute_result"
    }
   ],
   "source": [
    "df.head(3)"
   ]
  },
  {
   "cell_type": "code",
   "execution_count": 252,
   "metadata": {},
   "outputs": [
    {
     "data": {
      "text/plain": [
       "<AxesSubplot:>"
      ]
     },
     "execution_count": 252,
     "metadata": {},
     "output_type": "execute_result"
    },
    {
     "data": {
      "image/png": "[encoded data removed]",
      "text/plain": [
       "<Figure size 864x864 with 2 Axes>"
      ]
     },
     "metadata": {
      "needs_background": "light"
     },
     "output_type": "display_data"
    }
   ],
   "source": [
    "plt.figure(figsize=(12,12))\n",
    "sns.heatmap(df.corr(), cmap='viridis', annot=True)"
   ]
  },
  {
   "cell_type": "code",
   "execution_count": 253,
   "metadata": {},
   "outputs": [
    {
     "data": {
      "image/png": "[encoded data removed]",
      "text/plain": [
       "<Figure size 720x576 with 1 Axes>"
      ]
     },
     "metadata": {
      "needs_background": "light"
     },
     "output_type": "display_data"
    }
   ],
   "source": [
    "plt.figure(figsize=(10,8))\n",
    "sns.scatterplot(x='foot_len', y='foot_width', data=df, hue='shoe_brand')\n",
    "\n",
    "plt.title(\"Zusammenhang Größe und Gewicht nach Schuhmarke\", fontsize=14)\n",
    "plt.show()"
   ]
  },
  {
   "cell_type": "code",
   "execution_count": 254,
   "metadata": {},
   "outputs": [
    {
     "data": {
      "image/png": "[encoded data removed]",
      "text/plain": [
       "<Figure size 720x576 with 1 Axes>"
      ]
     },
     "metadata": {
      "needs_background": "light"
     },
     "output_type": "display_data"
    }
   ],
   "source": [
    "plt.figure(figsize=(10,8))\n",
    "sns.scatterplot(x='height', y='weight', data=df, hue='shoe_brand')\n",
    "plt.title(\"Zusammenhang Größe und Gewicht nach Schuhmarke\", fontsize=14)\n",
    "plt.show()"
   ]
  },
  {
   "cell_type": "code",
   "execution_count": 255,
   "metadata": {},
   "outputs": [
    {
     "data": {
      "image/png": "[encoded data removed]",
      "text/plain": [
       "<Figure size 720x576 with 1 Axes>"
      ]
     },
     "metadata": {
      "needs_background": "light"
     },
     "output_type": "display_data"
    }
   ],
   "source": [
    "plt.figure(figsize=(10,8))\n",
    "sns.scatterplot(x='climb_shoe_size', y='height', data=df, hue='shoe_brand')\n",
    "plt.title(\"Zusammenhang Kletterschuhgröße und Körpergröße nach Schuhmarke\", fontsize=14)\n",
    "plt.show()"
   ]
  },
  {
   "cell_type": "code",
   "execution_count": 256,
   "metadata": {},
   "outputs": [
    {
     "data": {
      "image/png": "[encoded data removed]",
      "text/plain": [
       "<Figure size 720x576 with 1 Axes>"
      ]
     },
     "metadata": {
      "needs_background": "light"
     },
     "output_type": "display_data"
    }
   ],
   "source": [
    "plt.figure(figsize=(10,8))\n",
    "sns.scatterplot(x='climb_shoe_size', y='exp', data=df, hue='climb_grade')\n",
    "plt.title(\"Zusammenhang Kletterschuhgröße und Körpergröße nach Schuhmarke\", fontsize=14)\n",
    "plt.show()"
   ]
  },
  {
   "cell_type": "markdown",
   "metadata": {},
   "source": [
    "# Feature Engineering"
   ]
  },
  {
   "cell_type": "markdown",
   "metadata": {},
   "source": [
    "## Fehlende Werte"
   ]
  },
  {
   "cell_type": "code",
   "execution_count": 257,
   "metadata": {},
   "outputs": [
    {
     "data": {
      "text/plain": [
       "userid                        False\n",
       "shoe_brand                    False\n",
       "shoe_model                    False\n",
       "Modell nicht in der Liste?     True\n",
       "climb_shoe_size               False\n",
       "shoe_age                      False\n",
       "favourite                      True\n",
       "shoe_vorspann                 False\n",
       "shoe_downturn                 False\n",
       "shoe_asymetry                 False\n",
       "shoe_closing_type             False\n",
       "climb_style                   False\n",
       "terrain                       False\n",
       "rate_fit                      False\n",
       "rate_comfort                  False\n",
       "rate_stiffness                False\n",
       "use_freq                      False\n",
       "climb_grade                   False\n",
       "overall_rating                False\n",
       "gender                        False\n",
       "height                        False\n",
       "weight                        False\n",
       "age                           False\n",
       "foot_len                      False\n",
       "foot_width                    False\n",
       "foot_family                   False\n",
       "foot_deform                   False\n",
       "street_shoe_size              False\n",
       "fav_sneaker_model              True\n",
       "exp                           False\n",
       "dtype: bool"
      ]
     },
     "execution_count": 257,
     "metadata": {},
     "output_type": "execute_result"
    }
   ],
   "source": [
    "df.isnull().any()"
   ]
  },
  {
   "cell_type": "code",
   "execution_count": 258,
   "metadata": {},
   "outputs": [],
   "source": [
    "df.drop('fav_sneaker_model',axis=1, inplace=True)"
   ]
  },
  {
   "cell_type": "code",
   "execution_count": 259,
   "metadata": {},
   "outputs": [],
   "source": [
    "df['favourite'] = df['favourite'].fillna('Ja')"
   ]
  },
  {
   "cell_type": "code",
   "execution_count": 260,
   "metadata": {},
   "outputs": [
    {
     "data": {
      "text/plain": [
       "userid                        False\n",
       "shoe_brand                    False\n",
       "shoe_model                    False\n",
       "Modell nicht in der Liste?     True\n",
       "climb_shoe_size               False\n",
       "shoe_age                      False\n",
       "favourite                     False\n",
       "shoe_vorspann                 False\n",
       "shoe_downturn                 False\n",
       "shoe_asymetry                 False\n",
       "shoe_closing_type             False\n",
       "climb_style                   False\n",
       "terrain                       False\n",
       "rate_fit                      False\n",
       "rate_comfort                  False\n",
       "rate_stiffness                False\n",
       "use_freq                      False\n",
       "climb_grade                   False\n",
       "overall_rating                False\n",
       "gender                        False\n",
       "height                        False\n",
       "weight                        False\n",
       "age                           False\n",
       "foot_len                      False\n",
       "foot_width                    False\n",
       "foot_family                   False\n",
       "foot_deform                   False\n",
       "street_shoe_size              False\n",
       "exp                           False\n",
       "dtype: bool"
      ]
     },
     "execution_count": 260,
     "metadata": {},
     "output_type": "execute_result"
    }
   ],
   "source": [
    "df.isnull().any()"
   ]
  },
  {
   "cell_type": "code",
   "execution_count": 261,
   "metadata": {},
   "outputs": [
    {
     "data": {
      "text/html": [
       "<div>\n",
       "<style scoped>\n",
       "    .dataframe tbody tr th:only-of-type {\n",
       "        vertical-align: middle;\n",
       "    }\n",
       "\n",
       "    .dataframe tbody tr th {\n",
       "        vertical-align: top;\n",
       "    }\n",
       "\n",
       "    .dataframe thead th {\n",
       "        text-align: right;\n",
       "    }\n",
       "</style>\n",
       "<table border=\"1\" class=\"dataframe\">\n",
       "  <thead>\n",
       "    <tr style=\"text-align: right;\">\n",
       "      <th></th>\n",
       "      <th>userid</th>\n",
       "      <th>shoe_brand</th>\n",
       "      <th>shoe_model</th>\n",
       "      <th>Modell nicht in der Liste?</th>\n",
       "      <th>climb_shoe_size</th>\n",
       "      <th>shoe_age</th>\n",
       "      <th>favourite</th>\n",
       "      <th>shoe_vorspann</th>\n",
       "      <th>shoe_downturn</th>\n",
       "      <th>shoe_asymetry</th>\n",
       "      <th>...</th>\n",
       "      <th>gender</th>\n",
       "      <th>height</th>\n",
       "      <th>weight</th>\n",
       "      <th>age</th>\n",
       "      <th>foot_len</th>\n",
       "      <th>foot_width</th>\n",
       "      <th>foot_family</th>\n",
       "      <th>foot_deform</th>\n",
       "      <th>street_shoe_size</th>\n",
       "      <th>exp</th>\n",
       "    </tr>\n",
       "  </thead>\n",
       "  <tbody>\n",
       "    <tr>\n",
       "      <th>61</th>\n",
       "      <td>62</td>\n",
       "      <td>Five Ten</td>\n",
       "      <td>Sonstige</td>\n",
       "      <td>Diamond (ca. 22 Jahre alt :)</td>\n",
       "      <td>40.0</td>\n",
       "      <td>22.0</td>\n",
       "      <td>Ja</td>\n",
       "      <td>Nein</td>\n",
       "      <td>Nein</td>\n",
       "      <td>Nein</td>\n",
       "      <td>...</td>\n",
       "      <td>Weiblich</td>\n",
       "      <td>169</td>\n",
       "      <td>66</td>\n",
       "      <td>54</td>\n",
       "      <td>25.4</td>\n",
       "      <td>9.4</td>\n",
       "      <td>Römischer Fußtyp</td>\n",
       "      <td>Nein, abgeflachtes Quergewölbe, aber noch kein...</td>\n",
       "      <td>40.0</td>\n",
       "      <td>25.0</td>\n",
       "    </tr>\n",
       "    <tr>\n",
       "      <th>77</th>\n",
       "      <td>78</td>\n",
       "      <td>Boreal</td>\n",
       "      <td>Sonstige</td>\n",
       "      <td>Satori</td>\n",
       "      <td>44.5</td>\n",
       "      <td>1.5</td>\n",
       "      <td>Ja</td>\n",
       "      <td>Ja</td>\n",
       "      <td>Ja</td>\n",
       "      <td>Ja</td>\n",
       "      <td>...</td>\n",
       "      <td>Männlich</td>\n",
       "      <td>181</td>\n",
       "      <td>77</td>\n",
       "      <td>34</td>\n",
       "      <td>27.6</td>\n",
       "      <td>10.5</td>\n",
       "      <td>Ägyptischer Fußtyp</td>\n",
       "      <td>Senkfuß</td>\n",
       "      <td>44.5</td>\n",
       "      <td>3.0</td>\n",
       "    </tr>\n",
       "    <tr>\n",
       "      <th>86</th>\n",
       "      <td>87</td>\n",
       "      <td>Evolv</td>\n",
       "      <td>Sonstige</td>\n",
       "      <td>Evolve Shaman 2</td>\n",
       "      <td>44.5</td>\n",
       "      <td>2.0</td>\n",
       "      <td>Ja</td>\n",
       "      <td>Ja</td>\n",
       "      <td>Ja</td>\n",
       "      <td>Ja</td>\n",
       "      <td>...</td>\n",
       "      <td>Männlich</td>\n",
       "      <td>183</td>\n",
       "      <td>71</td>\n",
       "      <td>54</td>\n",
       "      <td>27.2</td>\n",
       "      <td>10.1</td>\n",
       "      <td>Römischer Fußtyp</td>\n",
       "      <td>Nein, Knickfuß</td>\n",
       "      <td>44.5</td>\n",
       "      <td>37.0</td>\n",
       "    </tr>\n",
       "    <tr>\n",
       "      <th>88</th>\n",
       "      <td>89</td>\n",
       "      <td>Evolv</td>\n",
       "      <td>Sonstige</td>\n",
       "      <td>Evolve Shaman 2</td>\n",
       "      <td>44.5</td>\n",
       "      <td>2.0</td>\n",
       "      <td>Ja</td>\n",
       "      <td>Ja</td>\n",
       "      <td>Ja</td>\n",
       "      <td>Ja</td>\n",
       "      <td>...</td>\n",
       "      <td>Männlich</td>\n",
       "      <td>183</td>\n",
       "      <td>71</td>\n",
       "      <td>54</td>\n",
       "      <td>27.2</td>\n",
       "      <td>10.1</td>\n",
       "      <td>Römischer Fußtyp</td>\n",
       "      <td>Nein, Knickfuß</td>\n",
       "      <td>44.5</td>\n",
       "      <td>37.0</td>\n",
       "    </tr>\n",
       "    <tr>\n",
       "      <th>125</th>\n",
       "      <td>60</td>\n",
       "      <td>Red Chili</td>\n",
       "      <td>Sonstige</td>\n",
       "      <td>AMP</td>\n",
       "      <td>38.0</td>\n",
       "      <td>2.0</td>\n",
       "      <td>Ja</td>\n",
       "      <td>Nein</td>\n",
       "      <td>Nein</td>\n",
       "      <td>Nein</td>\n",
       "      <td>...</td>\n",
       "      <td>Weiblich</td>\n",
       "      <td>165</td>\n",
       "      <td>65</td>\n",
       "      <td>40</td>\n",
       "      <td>24.5</td>\n",
       "      <td>9.8</td>\n",
       "      <td>Griechischer Fußtyp</td>\n",
       "      <td>Nein</td>\n",
       "      <td>39.0</td>\n",
       "      <td>12.0</td>\n",
       "    </tr>\n",
       "    <tr>\n",
       "      <th>139</th>\n",
       "      <td>87</td>\n",
       "      <td>Evolv</td>\n",
       "      <td>Sonstige</td>\n",
       "      <td>Shaman 2</td>\n",
       "      <td>44.5</td>\n",
       "      <td>2.0</td>\n",
       "      <td>Ja</td>\n",
       "      <td>Ja</td>\n",
       "      <td>Ja</td>\n",
       "      <td>Ja</td>\n",
       "      <td>...</td>\n",
       "      <td>Männlich</td>\n",
       "      <td>183</td>\n",
       "      <td>71</td>\n",
       "      <td>54</td>\n",
       "      <td>27.2</td>\n",
       "      <td>10.1</td>\n",
       "      <td>Römischer Fußtyp</td>\n",
       "      <td>Nein, Knickfuß</td>\n",
       "      <td>44.5</td>\n",
       "      <td>37.0</td>\n",
       "    </tr>\n",
       "    <tr>\n",
       "      <th>140</th>\n",
       "      <td>89</td>\n",
       "      <td>Evolv</td>\n",
       "      <td>Sonstige</td>\n",
       "      <td>Shaman 2</td>\n",
       "      <td>44.5</td>\n",
       "      <td>2.0</td>\n",
       "      <td>Ja</td>\n",
       "      <td>Ja</td>\n",
       "      <td>Ja</td>\n",
       "      <td>Ja</td>\n",
       "      <td>...</td>\n",
       "      <td>Männlich</td>\n",
       "      <td>183</td>\n",
       "      <td>71</td>\n",
       "      <td>54</td>\n",
       "      <td>27.2</td>\n",
       "      <td>10.1</td>\n",
       "      <td>Römischer Fußtyp</td>\n",
       "      <td>Nein, Knickfuß</td>\n",
       "      <td>44.5</td>\n",
       "      <td>37.0</td>\n",
       "    </tr>\n",
       "  </tbody>\n",
       "</table>\n",
       "<p>7 rows × 29 columns</p>\n",
       "</div>"
      ],
      "text/plain": [
       "     userid shoe_brand shoe_model    Modell nicht in der Liste?  \\\n",
       "61       62   Five Ten   Sonstige  Diamond (ca. 22 Jahre alt :)   \n",
       "77       78     Boreal   Sonstige                        Satori   \n",
       "86       87      Evolv   Sonstige               Evolve Shaman 2   \n",
       "88       89      Evolv   Sonstige               Evolve Shaman 2   \n",
       "125      60  Red Chili   Sonstige                           AMP   \n",
       "139      87      Evolv   Sonstige                      Shaman 2   \n",
       "140      89      Evolv   Sonstige                      Shaman 2   \n",
       "\n",
       "     climb_shoe_size  shoe_age favourite shoe_vorspann shoe_downturn  \\\n",
       "61              40.0      22.0        Ja          Nein          Nein   \n",
       "77              44.5       1.5        Ja            Ja            Ja   \n",
       "86              44.5       2.0        Ja            Ja            Ja   \n",
       "88              44.5       2.0        Ja            Ja            Ja   \n",
       "125             38.0       2.0        Ja          Nein          Nein   \n",
       "139             44.5       2.0        Ja            Ja            Ja   \n",
       "140             44.5       2.0        Ja            Ja            Ja   \n",
       "\n",
       "    shoe_asymetry  ...    gender height weight  age  foot_len  foot_width  \\\n",
       "61           Nein  ...  Weiblich    169     66   54      25.4         9.4   \n",
       "77             Ja  ...  Männlich    181     77   34      27.6        10.5   \n",
       "86             Ja  ...  Männlich    183     71   54      27.2        10.1   \n",
       "88             Ja  ...  Männlich    183     71   54      27.2        10.1   \n",
       "125          Nein  ...  Weiblich    165     65   40      24.5         9.8   \n",
       "139            Ja  ...  Männlich    183     71   54      27.2        10.1   \n",
       "140            Ja  ...  Männlich    183     71   54      27.2        10.1   \n",
       "\n",
       "             foot_family                                        foot_deform  \\\n",
       "61      Römischer Fußtyp  Nein, abgeflachtes Quergewölbe, aber noch kein...   \n",
       "77    Ägyptischer Fußtyp                                            Senkfuß   \n",
       "86      Römischer Fußtyp                                     Nein, Knickfuß   \n",
       "88      Römischer Fußtyp                                     Nein, Knickfuß   \n",
       "125  Griechischer Fußtyp                                               Nein   \n",
       "139     Römischer Fußtyp                                     Nein, Knickfuß   \n",
       "140     Römischer Fußtyp                                     Nein, Knickfuß   \n",
       "\n",
       "     street_shoe_size   exp  \n",
       "61               40.0  25.0  \n",
       "77               44.5   3.0  \n",
       "86               44.5  37.0  \n",
       "88               44.5  37.0  \n",
       "125              39.0  12.0  \n",
       "139              44.5  37.0  \n",
       "140              44.5  37.0  \n",
       "\n",
       "[7 rows x 29 columns]"
      ]
     },
     "execution_count": 261,
     "metadata": {},
     "output_type": "execute_result"
    }
   ],
   "source": [
    "df[df['Modell nicht in der Liste?'].notna() == True]"
   ]
  },
  {
   "cell_type": "code",
   "execution_count": 262,
   "metadata": {},
   "outputs": [
    {
     "data": {
      "text/html": [
       "<div>\n",
       "<style scoped>\n",
       "    .dataframe tbody tr th:only-of-type {\n",
       "        vertical-align: middle;\n",
       "    }\n",
       "\n",
       "    .dataframe tbody tr th {\n",
       "        vertical-align: top;\n",
       "    }\n",
       "\n",
       "    .dataframe thead th {\n",
       "        text-align: right;\n",
       "    }\n",
       "</style>\n",
       "<table border=\"1\" class=\"dataframe\">\n",
       "  <thead>\n",
       "    <tr style=\"text-align: right;\">\n",
       "      <th></th>\n",
       "      <th>userid</th>\n",
       "      <th>shoe_brand</th>\n",
       "      <th>shoe_model</th>\n",
       "      <th>Modell nicht in der Liste?</th>\n",
       "      <th>climb_shoe_size</th>\n",
       "      <th>shoe_age</th>\n",
       "      <th>favourite</th>\n",
       "      <th>shoe_vorspann</th>\n",
       "      <th>shoe_downturn</th>\n",
       "      <th>shoe_asymetry</th>\n",
       "      <th>...</th>\n",
       "      <th>gender</th>\n",
       "      <th>height</th>\n",
       "      <th>weight</th>\n",
       "      <th>age</th>\n",
       "      <th>foot_len</th>\n",
       "      <th>foot_width</th>\n",
       "      <th>foot_family</th>\n",
       "      <th>foot_deform</th>\n",
       "      <th>street_shoe_size</th>\n",
       "      <th>exp</th>\n",
       "    </tr>\n",
       "  </thead>\n",
       "  <tbody>\n",
       "    <tr>\n",
       "      <th>61</th>\n",
       "      <td>62</td>\n",
       "      <td>Five Ten</td>\n",
       "      <td>Diamond (ca. 22 Jahre alt :)</td>\n",
       "      <td>Diamond (ca. 22 Jahre alt :)</td>\n",
       "      <td>40.0</td>\n",
       "      <td>22.0</td>\n",
       "      <td>Ja</td>\n",
       "      <td>Nein</td>\n",
       "      <td>Nein</td>\n",
       "      <td>Nein</td>\n",
       "      <td>...</td>\n",
       "      <td>Weiblich</td>\n",
       "      <td>169</td>\n",
       "      <td>66</td>\n",
       "      <td>54</td>\n",
       "      <td>25.4</td>\n",
       "      <td>9.4</td>\n",
       "      <td>Römischer Fußtyp</td>\n",
       "      <td>Nein, abgeflachtes Quergewölbe, aber noch kein...</td>\n",
       "      <td>40.0</td>\n",
       "      <td>25.0</td>\n",
       "    </tr>\n",
       "    <tr>\n",
       "      <th>77</th>\n",
       "      <td>78</td>\n",
       "      <td>Boreal</td>\n",
       "      <td>Satori</td>\n",
       "      <td>Satori</td>\n",
       "      <td>44.5</td>\n",
       "      <td>1.5</td>\n",
       "      <td>Ja</td>\n",
       "      <td>Ja</td>\n",
       "      <td>Ja</td>\n",
       "      <td>Ja</td>\n",
       "      <td>...</td>\n",
       "      <td>Männlich</td>\n",
       "      <td>181</td>\n",
       "      <td>77</td>\n",
       "      <td>34</td>\n",
       "      <td>27.6</td>\n",
       "      <td>10.5</td>\n",
       "      <td>Ägyptischer Fußtyp</td>\n",
       "      <td>Senkfuß</td>\n",
       "      <td>44.5</td>\n",
       "      <td>3.0</td>\n",
       "    </tr>\n",
       "    <tr>\n",
       "      <th>86</th>\n",
       "      <td>87</td>\n",
       "      <td>Evolv</td>\n",
       "      <td>Evolve Shaman 2</td>\n",
       "      <td>Evolve Shaman 2</td>\n",
       "      <td>44.5</td>\n",
       "      <td>2.0</td>\n",
       "      <td>Ja</td>\n",
       "      <td>Ja</td>\n",
       "      <td>Ja</td>\n",
       "      <td>Ja</td>\n",
       "      <td>...</td>\n",
       "      <td>Männlich</td>\n",
       "      <td>183</td>\n",
       "      <td>71</td>\n",
       "      <td>54</td>\n",
       "      <td>27.2</td>\n",
       "      <td>10.1</td>\n",
       "      <td>Römischer Fußtyp</td>\n",
       "      <td>Nein, Knickfuß</td>\n",
       "      <td>44.5</td>\n",
       "      <td>37.0</td>\n",
       "    </tr>\n",
       "    <tr>\n",
       "      <th>88</th>\n",
       "      <td>89</td>\n",
       "      <td>Evolv</td>\n",
       "      <td>Evolve Shaman 2</td>\n",
       "      <td>Evolve Shaman 2</td>\n",
       "      <td>44.5</td>\n",
       "      <td>2.0</td>\n",
       "      <td>Ja</td>\n",
       "      <td>Ja</td>\n",
       "      <td>Ja</td>\n",
       "      <td>Ja</td>\n",
       "      <td>...</td>\n",
       "      <td>Männlich</td>\n",
       "      <td>183</td>\n",
       "      <td>71</td>\n",
       "      <td>54</td>\n",
       "      <td>27.2</td>\n",
       "      <td>10.1</td>\n",
       "      <td>Römischer Fußtyp</td>\n",
       "      <td>Nein, Knickfuß</td>\n",
       "      <td>44.5</td>\n",
       "      <td>37.0</td>\n",
       "    </tr>\n",
       "    <tr>\n",
       "      <th>125</th>\n",
       "      <td>60</td>\n",
       "      <td>Red Chili</td>\n",
       "      <td>AMP</td>\n",
       "      <td>AMP</td>\n",
       "      <td>38.0</td>\n",
       "      <td>2.0</td>\n",
       "      <td>Ja</td>\n",
       "      <td>Nein</td>\n",
       "      <td>Nein</td>\n",
       "      <td>Nein</td>\n",
       "      <td>...</td>\n",
       "      <td>Weiblich</td>\n",
       "      <td>165</td>\n",
       "      <td>65</td>\n",
       "      <td>40</td>\n",
       "      <td>24.5</td>\n",
       "      <td>9.8</td>\n",
       "      <td>Griechischer Fußtyp</td>\n",
       "      <td>Nein</td>\n",
       "      <td>39.0</td>\n",
       "      <td>12.0</td>\n",
       "    </tr>\n",
       "    <tr>\n",
       "      <th>139</th>\n",
       "      <td>87</td>\n",
       "      <td>Evolv</td>\n",
       "      <td>Shaman 2</td>\n",
       "      <td>Shaman 2</td>\n",
       "      <td>44.5</td>\n",
       "      <td>2.0</td>\n",
       "      <td>Ja</td>\n",
       "      <td>Ja</td>\n",
       "      <td>Ja</td>\n",
       "      <td>Ja</td>\n",
       "      <td>...</td>\n",
       "      <td>Männlich</td>\n",
       "      <td>183</td>\n",
       "      <td>71</td>\n",
       "      <td>54</td>\n",
       "      <td>27.2</td>\n",
       "      <td>10.1</td>\n",
       "      <td>Römischer Fußtyp</td>\n",
       "      <td>Nein, Knickfuß</td>\n",
       "      <td>44.5</td>\n",
       "      <td>37.0</td>\n",
       "    </tr>\n",
       "    <tr>\n",
       "      <th>140</th>\n",
       "      <td>89</td>\n",
       "      <td>Evolv</td>\n",
       "      <td>Shaman 2</td>\n",
       "      <td>Shaman 2</td>\n",
       "      <td>44.5</td>\n",
       "      <td>2.0</td>\n",
       "      <td>Ja</td>\n",
       "      <td>Ja</td>\n",
       "      <td>Ja</td>\n",
       "      <td>Ja</td>\n",
       "      <td>...</td>\n",
       "      <td>Männlich</td>\n",
       "      <td>183</td>\n",
       "      <td>71</td>\n",
       "      <td>54</td>\n",
       "      <td>27.2</td>\n",
       "      <td>10.1</td>\n",
       "      <td>Römischer Fußtyp</td>\n",
       "      <td>Nein, Knickfuß</td>\n",
       "      <td>44.5</td>\n",
       "      <td>37.0</td>\n",
       "    </tr>\n",
       "  </tbody>\n",
       "</table>\n",
       "<p>7 rows × 29 columns</p>\n",
       "</div>"
      ],
      "text/plain": [
       "     userid shoe_brand                    shoe_model  \\\n",
       "61       62   Five Ten  Diamond (ca. 22 Jahre alt :)   \n",
       "77       78     Boreal                        Satori   \n",
       "86       87      Evolv               Evolve Shaman 2   \n",
       "88       89      Evolv               Evolve Shaman 2   \n",
       "125      60  Red Chili                           AMP   \n",
       "139      87      Evolv                      Shaman 2   \n",
       "140      89      Evolv                      Shaman 2   \n",
       "\n",
       "       Modell nicht in der Liste?  climb_shoe_size  shoe_age favourite  \\\n",
       "61   Diamond (ca. 22 Jahre alt :)             40.0      22.0        Ja   \n",
       "77                         Satori             44.5       1.5        Ja   \n",
       "86                Evolve Shaman 2             44.5       2.0        Ja   \n",
       "88                Evolve Shaman 2             44.5       2.0        Ja   \n",
       "125                           AMP             38.0       2.0        Ja   \n",
       "139                      Shaman 2             44.5       2.0        Ja   \n",
       "140                      Shaman 2             44.5       2.0        Ja   \n",
       "\n",
       "    shoe_vorspann shoe_downturn shoe_asymetry  ...    gender height weight  \\\n",
       "61           Nein          Nein          Nein  ...  Weiblich    169     66   \n",
       "77             Ja            Ja            Ja  ...  Männlich    181     77   \n",
       "86             Ja            Ja            Ja  ...  Männlich    183     71   \n",
       "88             Ja            Ja            Ja  ...  Männlich    183     71   \n",
       "125          Nein          Nein          Nein  ...  Weiblich    165     65   \n",
       "139            Ja            Ja            Ja  ...  Männlich    183     71   \n",
       "140            Ja            Ja            Ja  ...  Männlich    183     71   \n",
       "\n",
       "     age  foot_len  foot_width          foot_family  \\\n",
       "61    54      25.4         9.4     Römischer Fußtyp   \n",
       "77    34      27.6        10.5   Ägyptischer Fußtyp   \n",
       "86    54      27.2        10.1     Römischer Fußtyp   \n",
       "88    54      27.2        10.1     Römischer Fußtyp   \n",
       "125   40      24.5         9.8  Griechischer Fußtyp   \n",
       "139   54      27.2        10.1     Römischer Fußtyp   \n",
       "140   54      27.2        10.1     Römischer Fußtyp   \n",
       "\n",
       "                                           foot_deform  street_shoe_size   exp  \n",
       "61   Nein, abgeflachtes Quergewölbe, aber noch kein...              40.0  25.0  \n",
       "77                                             Senkfuß              44.5   3.0  \n",
       "86                                      Nein, Knickfuß              44.5  37.0  \n",
       "88                                      Nein, Knickfuß              44.5  37.0  \n",
       "125                                               Nein              39.0  12.0  \n",
       "139                                     Nein, Knickfuß              44.5  37.0  \n",
       "140                                     Nein, Knickfuß              44.5  37.0  \n",
       "\n",
       "[7 rows x 29 columns]"
      ]
     },
     "execution_count": 262,
     "metadata": {},
     "output_type": "execute_result"
    }
   ],
   "source": [
    "for i in df[df['Modell nicht in der Liste?'].notna() == True].index:\n",
    "    df.at[i, 'shoe_model'] = df['Modell nicht in der Liste?'].iloc[i]\n",
    "\n",
    "df[df['Modell nicht in der Liste?'].notna() == True]"
   ]
  },
  {
   "cell_type": "code",
   "execution_count": 263,
   "metadata": {},
   "outputs": [],
   "source": [
    "df.drop('Modell nicht in der Liste?',axis=1,inplace=True)"
   ]
  },
  {
   "cell_type": "code",
   "execution_count": 264,
   "metadata": {},
   "outputs": [
    {
     "data": {
      "text/plain": [
       "userid               False\n",
       "shoe_brand           False\n",
       "shoe_model           False\n",
       "climb_shoe_size      False\n",
       "shoe_age             False\n",
       "favourite            False\n",
       "shoe_vorspann        False\n",
       "shoe_downturn        False\n",
       "shoe_asymetry        False\n",
       "shoe_closing_type    False\n",
       "climb_style          False\n",
       "terrain              False\n",
       "rate_fit             False\n",
       "rate_comfort         False\n",
       "rate_stiffness       False\n",
       "use_freq             False\n",
       "climb_grade          False\n",
       "overall_rating       False\n",
       "gender               False\n",
       "height               False\n",
       "weight               False\n",
       "age                  False\n",
       "foot_len             False\n",
       "foot_width           False\n",
       "foot_family          False\n",
       "foot_deform          False\n",
       "street_shoe_size     False\n",
       "exp                  False\n",
       "dtype: bool"
      ]
     },
     "execution_count": 264,
     "metadata": {},
     "output_type": "execute_result"
    }
   ],
   "source": [
    "df.isnull().any()"
   ]
  },
  {
   "cell_type": "code",
   "execution_count": 265,
   "metadata": {},
   "outputs": [
    {
     "data": {
      "text/plain": [
       "Index(['shoe_brand', 'shoe_model', 'favourite', 'shoe_vorspann',\n",
       "       'shoe_downturn', 'shoe_asymetry', 'shoe_closing_type', 'climb_style',\n",
       "       'terrain', 'climb_grade', 'gender', 'foot_family', 'foot_deform'],\n",
       "      dtype='object')"
      ]
     },
     "execution_count": 265,
     "metadata": {},
     "output_type": "execute_result"
    }
   ],
   "source": [
    "df.select_dtypes(['object']).columns"
   ]
  },
  {
   "cell_type": "code",
   "execution_count": 266,
   "metadata": {},
   "outputs": [
    {
     "data": {
      "text/plain": [
       "La Sportiva - SKWAMA      11\n",
       "Sonstige                   8\n",
       "Scarpa - VAPOR V           8\n",
       "Ocun - OZONE QC            7\n",
       "Scarpa - DRAGO             5\n",
       "                          ..\n",
       "Simond - ROCK+             1\n",
       "Evolv - DEFY LACE          1\n",
       "Scarpa - ARPIA WMN         1\n",
       "La Sportiva - MIURA VS     1\n",
       "Ocun - PEARL               1\n",
       "Name: shoe_model, Length: 72, dtype: int64"
      ]
     },
     "execution_count": 266,
     "metadata": {},
     "output_type": "execute_result"
    }
   ],
   "source": [
    "df['shoe_model'].value_counts()"
   ]
  },
  {
   "cell_type": "code",
   "execution_count": 267,
   "metadata": {},
   "outputs": [
    {
     "data": {
      "text/plain": [
       "La Sportiva      59\n",
       "Scarpa           43\n",
       "Ocun             16\n",
       "Red Chili        11\n",
       "Evolv             7\n",
       "Tenaya            7\n",
       "Five Ten          7\n",
       "Lowa              3\n",
       "Mad Rock          3\n",
       "Simond            1\n",
       "Bouldrini         1\n",
       "Black Diamond     1\n",
       "Boreal            1\n",
       "?                 1\n",
       "So iLL            1\n",
       "Name: shoe_brand, dtype: int64"
      ]
     },
     "execution_count": 267,
     "metadata": {},
     "output_type": "execute_result"
    }
   ],
   "source": [
    "df['shoe_brand'].value_counts()"
   ]
  },
  {
   "cell_type": "code",
   "execution_count": 268,
   "metadata": {},
   "outputs": [
    {
     "data": {
      "text/html": [
       "<div>\n",
       "<style scoped>\n",
       "    .dataframe tbody tr th:only-of-type {\n",
       "        vertical-align: middle;\n",
       "    }\n",
       "\n",
       "    .dataframe tbody tr th {\n",
       "        vertical-align: top;\n",
       "    }\n",
       "\n",
       "    .dataframe thead th {\n",
       "        text-align: right;\n",
       "    }\n",
       "</style>\n",
       "<table border=\"1\" class=\"dataframe\">\n",
       "  <thead>\n",
       "    <tr style=\"text-align: right;\">\n",
       "      <th></th>\n",
       "      <th>userid</th>\n",
       "      <th>shoe_brand</th>\n",
       "      <th>shoe_model</th>\n",
       "      <th>climb_shoe_size</th>\n",
       "      <th>shoe_age</th>\n",
       "      <th>favourite</th>\n",
       "      <th>shoe_vorspann</th>\n",
       "      <th>shoe_downturn</th>\n",
       "      <th>shoe_asymetry</th>\n",
       "      <th>shoe_closing_type</th>\n",
       "      <th>...</th>\n",
       "      <th>gender</th>\n",
       "      <th>height</th>\n",
       "      <th>weight</th>\n",
       "      <th>age</th>\n",
       "      <th>foot_len</th>\n",
       "      <th>foot_width</th>\n",
       "      <th>foot_family</th>\n",
       "      <th>foot_deform</th>\n",
       "      <th>street_shoe_size</th>\n",
       "      <th>exp</th>\n",
       "    </tr>\n",
       "  </thead>\n",
       "  <tbody>\n",
       "    <tr>\n",
       "      <th>55</th>\n",
       "      <td>56</td>\n",
       "      <td>?</td>\n",
       "      <td>Sonstige</td>\n",
       "      <td>39.0</td>\n",
       "      <td>4.0</td>\n",
       "      <td>Nein</td>\n",
       "      <td>Nein</td>\n",
       "      <td>Ja</td>\n",
       "      <td>Nein</td>\n",
       "      <td>Schnürer</td>\n",
       "      <td>...</td>\n",
       "      <td>Weiblich</td>\n",
       "      <td>174</td>\n",
       "      <td>57</td>\n",
       "      <td>33</td>\n",
       "      <td>24.6</td>\n",
       "      <td>8.8</td>\n",
       "      <td>Römischer Fußtyp</td>\n",
       "      <td>Nein, Spreizfuß</td>\n",
       "      <td>40.5</td>\n",
       "      <td>2.0</td>\n",
       "    </tr>\n",
       "  </tbody>\n",
       "</table>\n",
       "<p>1 rows × 28 columns</p>\n",
       "</div>"
      ],
      "text/plain": [
       "    userid shoe_brand shoe_model  climb_shoe_size  shoe_age favourite  \\\n",
       "55      56          ?   Sonstige             39.0       4.0      Nein   \n",
       "\n",
       "   shoe_vorspann shoe_downturn shoe_asymetry shoe_closing_type  ...    gender  \\\n",
       "55          Nein            Ja          Nein          Schnürer  ...  Weiblich   \n",
       "\n",
       "   height  weight  age  foot_len  foot_width       foot_family  \\\n",
       "55    174      57   33      24.6         8.8  Römischer Fußtyp   \n",
       "\n",
       "        foot_deform street_shoe_size  exp  \n",
       "55  Nein, Spreizfuß             40.5  2.0  \n",
       "\n",
       "[1 rows x 28 columns]"
      ]
     },
     "execution_count": 268,
     "metadata": {},
     "output_type": "execute_result"
    }
   ],
   "source": [
    "df[df['shoe_brand'] == '?']"
   ]
  },
  {
   "cell_type": "code",
   "execution_count": 269,
   "metadata": {},
   "outputs": [],
   "source": [
    "df.drop('shoe_brand',axis=1,inplace=True)"
   ]
  },
  {
   "cell_type": "code",
   "execution_count": 270,
   "metadata": {},
   "outputs": [
    {
     "data": {
      "text/plain": [
       "Int64Index([18, 27, 31, 54, 55, 98, 114, 119], dtype='int64')"
      ]
     },
     "execution_count": 270,
     "metadata": {},
     "output_type": "execute_result"
    }
   ],
   "source": [
    "df['shoe_model'][df['shoe_model'] == 'Sonstige'].index"
   ]
  },
  {
   "cell_type": "code",
   "execution_count": 271,
   "metadata": {},
   "outputs": [],
   "source": [
    "df.drop([18, 27, 31, 54, 55, 98, 114, 119],inplace=True)"
   ]
  },
  {
   "cell_type": "code",
   "execution_count": 272,
   "metadata": {},
   "outputs": [
    {
     "data": {
      "text/plain": [
       "Index(['shoe_model', 'favourite', 'shoe_vorspann', 'shoe_downturn',\n",
       "       'shoe_asymetry', 'shoe_closing_type', 'climb_style', 'terrain',\n",
       "       'climb_grade', 'gender', 'foot_family', 'foot_deform'],\n",
       "      dtype='object')"
      ]
     },
     "execution_count": 272,
     "metadata": {},
     "output_type": "execute_result"
    }
   ],
   "source": [
    "df.select_dtypes(['object']).columns"
   ]
  },
  {
   "cell_type": "code",
   "execution_count": 273,
   "metadata": {},
   "outputs": [
    {
     "data": {
      "text/plain": [
       "Sportklettern, Bouldern                    65\n",
       "Bouldern                                   49\n",
       "Sportklettern, Bouldern, Mehrseillängen    18\n",
       "Sportklettern, Mehrseillängen              10\n",
       "Sportklettern                               6\n",
       "Mehrseillängen                              4\n",
       "Bouldern, Mehrseillängen                    2\n",
       "Name: climb_style, dtype: int64"
      ]
     },
     "execution_count": 273,
     "metadata": {},
     "output_type": "execute_result"
    }
   ],
   "source": [
    "df['climb_style'].value_counts()"
   ]
  },
  {
   "cell_type": "code",
   "execution_count": 274,
   "metadata": {},
   "outputs": [
    {
     "data": {
      "text/plain": [
       "array(['Sportklettern, Bouldern', 'Bouldern',\n",
       "       'Sportklettern, Bouldern, Mehrseillängen',\n",
       "       'Bouldern, Mehrseillängen', 'Mehrseillängen', 'Sportklettern',\n",
       "       'Sportklettern, Mehrseillängen'], dtype=object)"
      ]
     },
     "execution_count": 274,
     "metadata": {},
     "output_type": "execute_result"
    }
   ],
   "source": [
    "df['climb_style'].unique()"
   ]
  },
  {
   "cell_type": "code",
   "execution_count": 275,
   "metadata": {},
   "outputs": [],
   "source": [
    "def strip_list(liste):\n",
    "    stripped = []\n",
    "    \n",
    "    for n in liste:\n",
    "        stripped.append(n.strip())\n",
    "    \n",
    "    return stripped"
   ]
  },
  {
   "cell_type": "code",
   "execution_count": 276,
   "metadata": {},
   "outputs": [
    {
     "data": {
      "text/html": [
       "<div>\n",
       "<style scoped>\n",
       "    .dataframe tbody tr th:only-of-type {\n",
       "        vertical-align: middle;\n",
       "    }\n",
       "\n",
       "    .dataframe tbody tr th {\n",
       "        vertical-align: top;\n",
       "    }\n",
       "\n",
       "    .dataframe thead th {\n",
       "        text-align: right;\n",
       "    }\n",
       "</style>\n",
       "<table border=\"1\" class=\"dataframe\">\n",
       "  <thead>\n",
       "    <tr style=\"text-align: right;\">\n",
       "      <th></th>\n",
       "      <th>userid</th>\n",
       "      <th>shoe_model</th>\n",
       "      <th>climb_shoe_size</th>\n",
       "      <th>shoe_age</th>\n",
       "      <th>favourite</th>\n",
       "      <th>shoe_vorspann</th>\n",
       "      <th>shoe_downturn</th>\n",
       "      <th>shoe_asymetry</th>\n",
       "      <th>shoe_closing_type</th>\n",
       "      <th>climb_style</th>\n",
       "      <th>...</th>\n",
       "      <th>age</th>\n",
       "      <th>foot_len</th>\n",
       "      <th>foot_width</th>\n",
       "      <th>foot_family</th>\n",
       "      <th>foot_deform</th>\n",
       "      <th>street_shoe_size</th>\n",
       "      <th>exp</th>\n",
       "      <th>sportklettern</th>\n",
       "      <th>bouldern</th>\n",
       "      <th>mehrseillängen</th>\n",
       "    </tr>\n",
       "  </thead>\n",
       "  <tbody>\n",
       "    <tr>\n",
       "      <th>0</th>\n",
       "      <td>1</td>\n",
       "      <td>La Sportiva - SKWAMA</td>\n",
       "      <td>39.0</td>\n",
       "      <td>2.0</td>\n",
       "      <td>Ja</td>\n",
       "      <td>Ja</td>\n",
       "      <td>Ja</td>\n",
       "      <td>Nein</td>\n",
       "      <td>Klett</td>\n",
       "      <td>Sportklettern, Bouldern</td>\n",
       "      <td>...</td>\n",
       "      <td>29</td>\n",
       "      <td>25.5</td>\n",
       "      <td>10.0</td>\n",
       "      <td>Ägyptischer Fußtyp</td>\n",
       "      <td>Nein</td>\n",
       "      <td>41.5</td>\n",
       "      <td>4.0</td>\n",
       "      <td>1</td>\n",
       "      <td>1</td>\n",
       "      <td>0</td>\n",
       "    </tr>\n",
       "    <tr>\n",
       "      <th>1</th>\n",
       "      <td>2</td>\n",
       "      <td>La Sportiva - SOLUTION COMP WOMAN</td>\n",
       "      <td>37.5</td>\n",
       "      <td>0.7</td>\n",
       "      <td>Ja</td>\n",
       "      <td>Ja</td>\n",
       "      <td>Ja</td>\n",
       "      <td>Ja</td>\n",
       "      <td>Klett</td>\n",
       "      <td>Bouldern</td>\n",
       "      <td>...</td>\n",
       "      <td>30</td>\n",
       "      <td>24.2</td>\n",
       "      <td>9.8</td>\n",
       "      <td>Römischer Fußtyp</td>\n",
       "      <td>Hallux Valgus</td>\n",
       "      <td>38.5</td>\n",
       "      <td>3.0</td>\n",
       "      <td>0</td>\n",
       "      <td>1</td>\n",
       "      <td>0</td>\n",
       "    </tr>\n",
       "    <tr>\n",
       "      <th>2</th>\n",
       "      <td>3</td>\n",
       "      <td>La Sportiva - SKWAMA</td>\n",
       "      <td>42.5</td>\n",
       "      <td>1.0</td>\n",
       "      <td>Ja</td>\n",
       "      <td>Ja</td>\n",
       "      <td>Ja</td>\n",
       "      <td>Ja</td>\n",
       "      <td>Klett</td>\n",
       "      <td>Sportklettern, Bouldern</td>\n",
       "      <td>...</td>\n",
       "      <td>36</td>\n",
       "      <td>29.0</td>\n",
       "      <td>10.0</td>\n",
       "      <td>Griechischer Fußtyp</td>\n",
       "      <td>Nein</td>\n",
       "      <td>46.0</td>\n",
       "      <td>30.0</td>\n",
       "      <td>1</td>\n",
       "      <td>1</td>\n",
       "      <td>0</td>\n",
       "    </tr>\n",
       "    <tr>\n",
       "      <th>3</th>\n",
       "      <td>4</td>\n",
       "      <td>La Sportiva - SKWAMA</td>\n",
       "      <td>42.5</td>\n",
       "      <td>1.0</td>\n",
       "      <td>Ja</td>\n",
       "      <td>Ja</td>\n",
       "      <td>Ja</td>\n",
       "      <td>Ja</td>\n",
       "      <td>Klett</td>\n",
       "      <td>Sportklettern, Bouldern</td>\n",
       "      <td>...</td>\n",
       "      <td>36</td>\n",
       "      <td>29.0</td>\n",
       "      <td>10.0</td>\n",
       "      <td>Griechischer Fußtyp</td>\n",
       "      <td>Nein</td>\n",
       "      <td>46.0</td>\n",
       "      <td>30.0</td>\n",
       "      <td>1</td>\n",
       "      <td>1</td>\n",
       "      <td>0</td>\n",
       "    </tr>\n",
       "    <tr>\n",
       "      <th>4</th>\n",
       "      <td>5</td>\n",
       "      <td>Tenaya - OASI</td>\n",
       "      <td>41.0</td>\n",
       "      <td>2.0</td>\n",
       "      <td>Ja</td>\n",
       "      <td>Ja</td>\n",
       "      <td>Ja</td>\n",
       "      <td>Ja</td>\n",
       "      <td>Klett</td>\n",
       "      <td>Sportklettern, Bouldern</td>\n",
       "      <td>...</td>\n",
       "      <td>33</td>\n",
       "      <td>27.0</td>\n",
       "      <td>10.0</td>\n",
       "      <td>Römischer Fußtyp</td>\n",
       "      <td>Hallux Valgus</td>\n",
       "      <td>42.0</td>\n",
       "      <td>3.0</td>\n",
       "      <td>1</td>\n",
       "      <td>1</td>\n",
       "      <td>0</td>\n",
       "    </tr>\n",
       "  </tbody>\n",
       "</table>\n",
       "<p>5 rows × 30 columns</p>\n",
       "</div>"
      ],
      "text/plain": [
       "   userid                         shoe_model  climb_shoe_size  shoe_age  \\\n",
       "0       1               La Sportiva - SKWAMA             39.0       2.0   \n",
       "1       2  La Sportiva - SOLUTION COMP WOMAN             37.5       0.7   \n",
       "2       3               La Sportiva - SKWAMA             42.5       1.0   \n",
       "3       4               La Sportiva - SKWAMA             42.5       1.0   \n",
       "4       5                      Tenaya - OASI             41.0       2.0   \n",
       "\n",
       "  favourite shoe_vorspann shoe_downturn shoe_asymetry shoe_closing_type  \\\n",
       "0        Ja            Ja            Ja          Nein             Klett   \n",
       "1        Ja            Ja            Ja            Ja             Klett   \n",
       "2        Ja            Ja            Ja            Ja             Klett   \n",
       "3        Ja            Ja            Ja            Ja             Klett   \n",
       "4        Ja            Ja            Ja            Ja             Klett   \n",
       "\n",
       "               climb_style  ... age  foot_len  foot_width  \\\n",
       "0  Sportklettern, Bouldern  ...  29      25.5        10.0   \n",
       "1                 Bouldern  ...  30      24.2         9.8   \n",
       "2  Sportklettern, Bouldern  ...  36      29.0        10.0   \n",
       "3  Sportklettern, Bouldern  ...  36      29.0        10.0   \n",
       "4  Sportklettern, Bouldern  ...  33      27.0        10.0   \n",
       "\n",
       "           foot_family    foot_deform street_shoe_size   exp sportklettern  \\\n",
       "0   Ägyptischer Fußtyp           Nein             41.5   4.0             1   \n",
       "1     Römischer Fußtyp  Hallux Valgus             38.5   3.0             0   \n",
       "2  Griechischer Fußtyp           Nein             46.0  30.0             1   \n",
       "3  Griechischer Fußtyp           Nein             46.0  30.0             1   \n",
       "4     Römischer Fußtyp  Hallux Valgus             42.0   3.0             1   \n",
       "\n",
       "   bouldern  mehrseillängen  \n",
       "0         1               0  \n",
       "1         1               0  \n",
       "2         1               0  \n",
       "3         1               0  \n",
       "4         1               0  \n",
       "\n",
       "[5 rows x 30 columns]"
      ]
     },
     "execution_count": 276,
     "metadata": {},
     "output_type": "execute_result"
    }
   ],
   "source": [
    "styles = ['Sportklettern', 'Bouldern', 'Mehrseillängen']\n",
    "for style in styles:\n",
    "    df[style.lower().split()[0]] = df.apply(lambda row: 1 if style in strip_list(row.climb_style.split(',')) else 0, axis=1)\n",
    "df.head()"
   ]
  },
  {
   "cell_type": "code",
   "execution_count": 277,
   "metadata": {},
   "outputs": [],
   "source": [
    "df.drop('climb_style',axis=1,inplace=True)"
   ]
  },
  {
   "cell_type": "code",
   "execution_count": 278,
   "metadata": {},
   "outputs": [
    {
     "data": {
      "text/plain": [
       "Index(['shoe_model', 'favourite', 'shoe_vorspann', 'shoe_downturn',\n",
       "       'shoe_asymetry', 'shoe_closing_type', 'terrain', 'climb_grade',\n",
       "       'gender', 'foot_family', 'foot_deform'],\n",
       "      dtype='object')"
      ]
     },
     "execution_count": 278,
     "metadata": {},
     "output_type": "execute_result"
    }
   ],
   "source": [
    "df.select_dtypes(['object']).columns"
   ]
  },
  {
   "cell_type": "code",
   "execution_count": 279,
   "metadata": {},
   "outputs": [
    {
     "data": {
      "text/plain": [
       "Klett       118\n",
       "Schnürer     29\n",
       "Slipper       7\n",
       "Name: shoe_closing_type, dtype: int64"
      ]
     },
     "execution_count": 279,
     "metadata": {},
     "output_type": "execute_result"
    }
   ],
   "source": [
    "df['shoe_closing_type'].value_counts()"
   ]
  },
  {
   "cell_type": "code",
   "execution_count": 280,
   "metadata": {},
   "outputs": [
    {
     "data": {
      "text/plain": [
       "Beides     93\n",
       "Halle      44\n",
       "Outdoor    17\n",
       "Name: terrain, dtype: int64"
      ]
     },
     "execution_count": 280,
     "metadata": {},
     "output_type": "execute_result"
    }
   ],
   "source": [
    "df['terrain'].value_counts()"
   ]
  },
  {
   "cell_type": "code",
   "execution_count": 281,
   "metadata": {},
   "outputs": [],
   "source": [
    "df['halle'] = df['terrain'].map(lambda row: 1 if row in ['Halle', 'Beides'] else 0)"
   ]
  },
  {
   "cell_type": "code",
   "execution_count": 282,
   "metadata": {},
   "outputs": [],
   "source": [
    "df['outdoor'] = df['terrain'].map(lambda row: 1 if row in ['Outdoor', 'Beides'] else 0)"
   ]
  },
  {
   "cell_type": "code",
   "execution_count": 283,
   "metadata": {},
   "outputs": [],
   "source": [
    "df.drop('terrain',axis=1,inplace=True)"
   ]
  },
  {
   "cell_type": "code",
   "execution_count": 284,
   "metadata": {},
   "outputs": [
    {
     "data": {
      "text/plain": [
       "Index(['shoe_model', 'favourite', 'shoe_vorspann', 'shoe_downturn',\n",
       "       'shoe_asymetry', 'shoe_closing_type', 'climb_grade', 'gender',\n",
       "       'foot_family', 'foot_deform'],\n",
       "      dtype='object')"
      ]
     },
     "execution_count": 284,
     "metadata": {},
     "output_type": "execute_result"
    }
   ],
   "source": [
    "df.select_dtypes(['object']).columns"
   ]
  },
  {
   "cell_type": "code",
   "execution_count": 285,
   "metadata": {},
   "outputs": [
    {
     "data": {
      "text/plain": [
       "Fortgeschritten (UIAA 7 - 9)    97\n",
       "Anfänger (UIAA < 7)             42\n",
       "Profi (UIAA > 9)                15\n",
       "Name: climb_grade, dtype: int64"
      ]
     },
     "execution_count": 285,
     "metadata": {},
     "output_type": "execute_result"
    }
   ],
   "source": [
    "df['climb_grade'].value_counts()"
   ]
  },
  {
   "cell_type": "code",
   "execution_count": 286,
   "metadata": {},
   "outputs": [],
   "source": [
    "df['beginner'] = df['climb_grade'].map(lambda row: 1 if row in ['Anfänger (UIAA < 7)'] else 0)\n",
    "df['advanced'] = df['climb_grade'].map(lambda row: 1 if row in ['Fortgeschritten (UIAA 7 - 9)'] else 0)\n",
    "df['pro'] = df['climb_grade'].map(lambda row: 1 if row in ['Profi (UIAA > 9)'] else 0)"
   ]
  },
  {
   "cell_type": "code",
   "execution_count": 287,
   "metadata": {},
   "outputs": [
    {
     "data": {
      "text/html": [
       "<div>\n",
       "<style scoped>\n",
       "    .dataframe tbody tr th:only-of-type {\n",
       "        vertical-align: middle;\n",
       "    }\n",
       "\n",
       "    .dataframe tbody tr th {\n",
       "        vertical-align: top;\n",
       "    }\n",
       "\n",
       "    .dataframe thead th {\n",
       "        text-align: right;\n",
       "    }\n",
       "</style>\n",
       "<table border=\"1\" class=\"dataframe\">\n",
       "  <thead>\n",
       "    <tr style=\"text-align: right;\">\n",
       "      <th></th>\n",
       "      <th>userid</th>\n",
       "      <th>shoe_model</th>\n",
       "      <th>climb_shoe_size</th>\n",
       "      <th>shoe_age</th>\n",
       "      <th>favourite</th>\n",
       "      <th>shoe_vorspann</th>\n",
       "      <th>shoe_downturn</th>\n",
       "      <th>shoe_asymetry</th>\n",
       "      <th>shoe_closing_type</th>\n",
       "      <th>rate_fit</th>\n",
       "      <th>...</th>\n",
       "      <th>street_shoe_size</th>\n",
       "      <th>exp</th>\n",
       "      <th>sportklettern</th>\n",
       "      <th>bouldern</th>\n",
       "      <th>mehrseillängen</th>\n",
       "      <th>halle</th>\n",
       "      <th>outdoor</th>\n",
       "      <th>beginner</th>\n",
       "      <th>advanced</th>\n",
       "      <th>pro</th>\n",
       "    </tr>\n",
       "  </thead>\n",
       "  <tbody>\n",
       "    <tr>\n",
       "      <th>0</th>\n",
       "      <td>1</td>\n",
       "      <td>La Sportiva - SKWAMA</td>\n",
       "      <td>39.0</td>\n",
       "      <td>2.0</td>\n",
       "      <td>Ja</td>\n",
       "      <td>Ja</td>\n",
       "      <td>Ja</td>\n",
       "      <td>Nein</td>\n",
       "      <td>Klett</td>\n",
       "      <td>5.0</td>\n",
       "      <td>...</td>\n",
       "      <td>41.5</td>\n",
       "      <td>4.0</td>\n",
       "      <td>1</td>\n",
       "      <td>1</td>\n",
       "      <td>0</td>\n",
       "      <td>1</td>\n",
       "      <td>1</td>\n",
       "      <td>0</td>\n",
       "      <td>1</td>\n",
       "      <td>0</td>\n",
       "    </tr>\n",
       "    <tr>\n",
       "      <th>1</th>\n",
       "      <td>2</td>\n",
       "      <td>La Sportiva - SOLUTION COMP WOMAN</td>\n",
       "      <td>37.5</td>\n",
       "      <td>0.7</td>\n",
       "      <td>Ja</td>\n",
       "      <td>Ja</td>\n",
       "      <td>Ja</td>\n",
       "      <td>Ja</td>\n",
       "      <td>Klett</td>\n",
       "      <td>4.0</td>\n",
       "      <td>...</td>\n",
       "      <td>38.5</td>\n",
       "      <td>3.0</td>\n",
       "      <td>0</td>\n",
       "      <td>1</td>\n",
       "      <td>0</td>\n",
       "      <td>1</td>\n",
       "      <td>0</td>\n",
       "      <td>0</td>\n",
       "      <td>1</td>\n",
       "      <td>0</td>\n",
       "    </tr>\n",
       "    <tr>\n",
       "      <th>2</th>\n",
       "      <td>3</td>\n",
       "      <td>La Sportiva - SKWAMA</td>\n",
       "      <td>42.5</td>\n",
       "      <td>1.0</td>\n",
       "      <td>Ja</td>\n",
       "      <td>Ja</td>\n",
       "      <td>Ja</td>\n",
       "      <td>Ja</td>\n",
       "      <td>Klett</td>\n",
       "      <td>5.0</td>\n",
       "      <td>...</td>\n",
       "      <td>46.0</td>\n",
       "      <td>30.0</td>\n",
       "      <td>1</td>\n",
       "      <td>1</td>\n",
       "      <td>0</td>\n",
       "      <td>1</td>\n",
       "      <td>1</td>\n",
       "      <td>0</td>\n",
       "      <td>1</td>\n",
       "      <td>0</td>\n",
       "    </tr>\n",
       "    <tr>\n",
       "      <th>3</th>\n",
       "      <td>4</td>\n",
       "      <td>La Sportiva - SKWAMA</td>\n",
       "      <td>42.5</td>\n",
       "      <td>1.0</td>\n",
       "      <td>Ja</td>\n",
       "      <td>Ja</td>\n",
       "      <td>Ja</td>\n",
       "      <td>Ja</td>\n",
       "      <td>Klett</td>\n",
       "      <td>5.0</td>\n",
       "      <td>...</td>\n",
       "      <td>46.0</td>\n",
       "      <td>30.0</td>\n",
       "      <td>1</td>\n",
       "      <td>1</td>\n",
       "      <td>0</td>\n",
       "      <td>1</td>\n",
       "      <td>1</td>\n",
       "      <td>0</td>\n",
       "      <td>1</td>\n",
       "      <td>0</td>\n",
       "    </tr>\n",
       "    <tr>\n",
       "      <th>4</th>\n",
       "      <td>5</td>\n",
       "      <td>Tenaya - OASI</td>\n",
       "      <td>41.0</td>\n",
       "      <td>2.0</td>\n",
       "      <td>Ja</td>\n",
       "      <td>Ja</td>\n",
       "      <td>Ja</td>\n",
       "      <td>Ja</td>\n",
       "      <td>Klett</td>\n",
       "      <td>4.0</td>\n",
       "      <td>...</td>\n",
       "      <td>42.0</td>\n",
       "      <td>3.0</td>\n",
       "      <td>1</td>\n",
       "      <td>1</td>\n",
       "      <td>0</td>\n",
       "      <td>1</td>\n",
       "      <td>0</td>\n",
       "      <td>1</td>\n",
       "      <td>0</td>\n",
       "      <td>0</td>\n",
       "    </tr>\n",
       "  </tbody>\n",
       "</table>\n",
       "<p>5 rows × 33 columns</p>\n",
       "</div>"
      ],
      "text/plain": [
       "   userid                         shoe_model  climb_shoe_size  shoe_age  \\\n",
       "0       1               La Sportiva - SKWAMA             39.0       2.0   \n",
       "1       2  La Sportiva - SOLUTION COMP WOMAN             37.5       0.7   \n",
       "2       3               La Sportiva - SKWAMA             42.5       1.0   \n",
       "3       4               La Sportiva - SKWAMA             42.5       1.0   \n",
       "4       5                      Tenaya - OASI             41.0       2.0   \n",
       "\n",
       "  favourite shoe_vorspann shoe_downturn shoe_asymetry shoe_closing_type  \\\n",
       "0        Ja            Ja            Ja          Nein             Klett   \n",
       "1        Ja            Ja            Ja            Ja             Klett   \n",
       "2        Ja            Ja            Ja            Ja             Klett   \n",
       "3        Ja            Ja            Ja            Ja             Klett   \n",
       "4        Ja            Ja            Ja            Ja             Klett   \n",
       "\n",
       "   rate_fit  ...  street_shoe_size   exp  sportklettern bouldern  \\\n",
       "0       5.0  ...              41.5   4.0              1        1   \n",
       "1       4.0  ...              38.5   3.0              0        1   \n",
       "2       5.0  ...              46.0  30.0              1        1   \n",
       "3       5.0  ...              46.0  30.0              1        1   \n",
       "4       4.0  ...              42.0   3.0              1        1   \n",
       "\n",
       "   mehrseillängen halle  outdoor  beginner  advanced  pro  \n",
       "0               0     1        1         0         1    0  \n",
       "1               0     1        0         0         1    0  \n",
       "2               0     1        1         0         1    0  \n",
       "3               0     1        1         0         1    0  \n",
       "4               0     1        0         1         0    0  \n",
       "\n",
       "[5 rows x 33 columns]"
      ]
     },
     "execution_count": 287,
     "metadata": {},
     "output_type": "execute_result"
    }
   ],
   "source": [
    "df.head()"
   ]
  },
  {
   "cell_type": "code",
   "execution_count": 288,
   "metadata": {},
   "outputs": [
    {
     "data": {
      "text/plain": [
       "Nein                                                        80\n",
       "Hallux Valgus                                               13\n",
       "Senkfuß                                                     11\n",
       "Spreizfuß                                                   10\n",
       "Plattfuß                                                     5\n",
       "Knickfuß                                                     4\n",
       "Nein, Knickfuß                                               4\n",
       "Plattfuß, Spreizfuß                                          3\n",
       "Hallux Valgus, Senkfuß                                       3\n",
       "Nein, Spreizfuß                                              2\n",
       "Plattfuß, Senkfuß                                            2\n",
       "Hallux Valgus, Hohlfuß                                       2\n",
       "Fersenbein                                                   2\n",
       "Nein, Hallux Valgus, Senkfuß                                 2\n",
       "Nein, Hallux Valgus                                          2\n",
       "Nein, abgeflachtes Quergewölbe, aber noch kein Spreizfuß     2\n",
       "Hohlfuß                                                      2\n",
       "Hallux Valgus, Plattfuß, Senkfuß, Spreizfuß                  1\n",
       "Senkfuß, Spreizfuß                                           1\n",
       "Nein, Senkfuß                                                1\n",
       "Hallux Valgus, Plattfuß                                      1\n",
       "Nein, Senkfuß, Spreizfuß                                     1\n",
       "Name: foot_deform, dtype: int64"
      ]
     },
     "execution_count": 288,
     "metadata": {},
     "output_type": "execute_result"
    }
   ],
   "source": [
    "df['foot_deform'].value_counts()"
   ]
  },
  {
   "cell_type": "code",
   "execution_count": 289,
   "metadata": {},
   "outputs": [
    {
     "data": {
      "text/html": [
       "<div>\n",
       "<style scoped>\n",
       "    .dataframe tbody tr th:only-of-type {\n",
       "        vertical-align: middle;\n",
       "    }\n",
       "\n",
       "    .dataframe tbody tr th {\n",
       "        vertical-align: top;\n",
       "    }\n",
       "\n",
       "    .dataframe thead th {\n",
       "        text-align: right;\n",
       "    }\n",
       "</style>\n",
       "<table border=\"1\" class=\"dataframe\">\n",
       "  <thead>\n",
       "    <tr style=\"text-align: right;\">\n",
       "      <th></th>\n",
       "      <th>userid</th>\n",
       "      <th>shoe_model</th>\n",
       "      <th>climb_shoe_size</th>\n",
       "      <th>shoe_age</th>\n",
       "      <th>favourite</th>\n",
       "      <th>shoe_vorspann</th>\n",
       "      <th>shoe_downturn</th>\n",
       "      <th>shoe_asymetry</th>\n",
       "      <th>shoe_closing_type</th>\n",
       "      <th>rate_fit</th>\n",
       "      <th>...</th>\n",
       "      <th>street_shoe_size</th>\n",
       "      <th>exp</th>\n",
       "      <th>sportklettern</th>\n",
       "      <th>bouldern</th>\n",
       "      <th>mehrseillängen</th>\n",
       "      <th>halle</th>\n",
       "      <th>outdoor</th>\n",
       "      <th>beginner</th>\n",
       "      <th>advanced</th>\n",
       "      <th>pro</th>\n",
       "    </tr>\n",
       "  </thead>\n",
       "  <tbody>\n",
       "    <tr>\n",
       "      <th>61</th>\n",
       "      <td>62</td>\n",
       "      <td>Diamond (ca. 22 Jahre alt :)</td>\n",
       "      <td>40.0</td>\n",
       "      <td>22.0</td>\n",
       "      <td>Ja</td>\n",
       "      <td>Nein</td>\n",
       "      <td>Nein</td>\n",
       "      <td>Nein</td>\n",
       "      <td>Schnürer</td>\n",
       "      <td>5.0</td>\n",
       "      <td>...</td>\n",
       "      <td>40.0</td>\n",
       "      <td>25.0</td>\n",
       "      <td>1</td>\n",
       "      <td>0</td>\n",
       "      <td>1</td>\n",
       "      <td>1</td>\n",
       "      <td>1</td>\n",
       "      <td>1</td>\n",
       "      <td>0</td>\n",
       "      <td>0</td>\n",
       "    </tr>\n",
       "    <tr>\n",
       "      <th>127</th>\n",
       "      <td>62</td>\n",
       "      <td>Red Chili - SPIRIT LV VCR</td>\n",
       "      <td>41.0</td>\n",
       "      <td>13.0</td>\n",
       "      <td>Nein</td>\n",
       "      <td>Nein</td>\n",
       "      <td>Nein</td>\n",
       "      <td>Nein</td>\n",
       "      <td>Klett</td>\n",
       "      <td>3.0</td>\n",
       "      <td>...</td>\n",
       "      <td>40.0</td>\n",
       "      <td>25.0</td>\n",
       "      <td>1</td>\n",
       "      <td>0</td>\n",
       "      <td>1</td>\n",
       "      <td>1</td>\n",
       "      <td>1</td>\n",
       "      <td>1</td>\n",
       "      <td>0</td>\n",
       "      <td>0</td>\n",
       "    </tr>\n",
       "  </tbody>\n",
       "</table>\n",
       "<p>2 rows × 33 columns</p>\n",
       "</div>"
      ],
      "text/plain": [
       "     userid                    shoe_model  climb_shoe_size  shoe_age  \\\n",
       "61       62  Diamond (ca. 22 Jahre alt :)             40.0      22.0   \n",
       "127      62     Red Chili - SPIRIT LV VCR             41.0      13.0   \n",
       "\n",
       "    favourite shoe_vorspann shoe_downturn shoe_asymetry shoe_closing_type  \\\n",
       "61         Ja          Nein          Nein          Nein          Schnürer   \n",
       "127      Nein          Nein          Nein          Nein             Klett   \n",
       "\n",
       "     rate_fit  ...  street_shoe_size   exp  sportklettern bouldern  \\\n",
       "61        5.0  ...              40.0  25.0              1        0   \n",
       "127       3.0  ...              40.0  25.0              1        0   \n",
       "\n",
       "     mehrseillängen halle  outdoor  beginner  advanced  pro  \n",
       "61                1     1        1         1         0    0  \n",
       "127               1     1        1         1         0    0  \n",
       "\n",
       "[2 rows x 33 columns]"
      ]
     },
     "execution_count": 289,
     "metadata": {},
     "output_type": "execute_result"
    }
   ],
   "source": [
    "df[df['foot_deform'] == 'Nein, abgeflachtes Quergewölbe, aber noch kein Spreizfuß']"
   ]
  },
  {
   "cell_type": "code",
   "execution_count": 290,
   "metadata": {},
   "outputs": [],
   "source": [
    "df.at[61,'foot_deform'] = 'Nein'\n",
    "df.at[127,'foot_deform'] = 'Nein'"
   ]
  },
  {
   "cell_type": "code",
   "execution_count": 291,
   "metadata": {},
   "outputs": [
    {
     "data": {
      "text/plain": [
       "Nein                                           82\n",
       "Hallux Valgus                                  13\n",
       "Senkfuß                                        11\n",
       "Spreizfuß                                      10\n",
       "Plattfuß                                        5\n",
       "Nein, Knickfuß                                  4\n",
       "Knickfuß                                        4\n",
       "Plattfuß, Spreizfuß                             3\n",
       "Hallux Valgus, Senkfuß                          3\n",
       "Nein, Spreizfuß                                 2\n",
       "Plattfuß, Senkfuß                               2\n",
       "Hallux Valgus, Hohlfuß                          2\n",
       "Fersenbein                                      2\n",
       "Nein, Hallux Valgus, Senkfuß                    2\n",
       "Nein, Hallux Valgus                             2\n",
       "Hohlfuß                                         2\n",
       "Hallux Valgus, Plattfuß, Senkfuß, Spreizfuß     1\n",
       "Senkfuß, Spreizfuß                              1\n",
       "Nein, Senkfuß                                   1\n",
       "Hallux Valgus, Plattfuß                         1\n",
       "Nein, Senkfuß, Spreizfuß                        1\n",
       "Name: foot_deform, dtype: int64"
      ]
     },
     "execution_count": 291,
     "metadata": {},
     "output_type": "execute_result"
    }
   ],
   "source": [
    "df['foot_deform'].value_counts()"
   ]
  },
  {
   "cell_type": "code",
   "execution_count": 292,
   "metadata": {},
   "outputs": [
    {
     "data": {
      "text/html": [
       "<div>\n",
       "<style scoped>\n",
       "    .dataframe tbody tr th:only-of-type {\n",
       "        vertical-align: middle;\n",
       "    }\n",
       "\n",
       "    .dataframe tbody tr th {\n",
       "        vertical-align: top;\n",
       "    }\n",
       "\n",
       "    .dataframe thead th {\n",
       "        text-align: right;\n",
       "    }\n",
       "</style>\n",
       "<table border=\"1\" class=\"dataframe\">\n",
       "  <thead>\n",
       "    <tr style=\"text-align: right;\">\n",
       "      <th></th>\n",
       "      <th>userid</th>\n",
       "      <th>shoe_model</th>\n",
       "      <th>climb_shoe_size</th>\n",
       "      <th>shoe_age</th>\n",
       "      <th>favourite</th>\n",
       "      <th>shoe_vorspann</th>\n",
       "      <th>shoe_downturn</th>\n",
       "      <th>shoe_asymetry</th>\n",
       "      <th>shoe_closing_type</th>\n",
       "      <th>rate_fit</th>\n",
       "      <th>...</th>\n",
       "      <th>street_shoe_size</th>\n",
       "      <th>exp</th>\n",
       "      <th>sportklettern</th>\n",
       "      <th>bouldern</th>\n",
       "      <th>mehrseillängen</th>\n",
       "      <th>halle</th>\n",
       "      <th>outdoor</th>\n",
       "      <th>beginner</th>\n",
       "      <th>advanced</th>\n",
       "      <th>pro</th>\n",
       "    </tr>\n",
       "  </thead>\n",
       "  <tbody>\n",
       "    <tr>\n",
       "      <th>11</th>\n",
       "      <td>12</td>\n",
       "      <td>Scarpa - INSTINCT VSR</td>\n",
       "      <td>40.0</td>\n",
       "      <td>1.0</td>\n",
       "      <td>Nein</td>\n",
       "      <td>Ja</td>\n",
       "      <td>Ja</td>\n",
       "      <td>Nein</td>\n",
       "      <td>Klett</td>\n",
       "      <td>5.0</td>\n",
       "      <td>...</td>\n",
       "      <td>40.5</td>\n",
       "      <td>18.0</td>\n",
       "      <td>1</td>\n",
       "      <td>1</td>\n",
       "      <td>0</td>\n",
       "      <td>1</td>\n",
       "      <td>1</td>\n",
       "      <td>0</td>\n",
       "      <td>0</td>\n",
       "      <td>1</td>\n",
       "    </tr>\n",
       "    <tr>\n",
       "      <th>93</th>\n",
       "      <td>94</td>\n",
       "      <td>Red Chili - SPIRIT VCR</td>\n",
       "      <td>46.0</td>\n",
       "      <td>5.0</td>\n",
       "      <td>Ja</td>\n",
       "      <td>Nein</td>\n",
       "      <td>Nein</td>\n",
       "      <td>Nein</td>\n",
       "      <td>Klett</td>\n",
       "      <td>4.0</td>\n",
       "      <td>...</td>\n",
       "      <td>46.5</td>\n",
       "      <td>23.0</td>\n",
       "      <td>1</td>\n",
       "      <td>0</td>\n",
       "      <td>1</td>\n",
       "      <td>1</td>\n",
       "      <td>1</td>\n",
       "      <td>1</td>\n",
       "      <td>0</td>\n",
       "      <td>0</td>\n",
       "    </tr>\n",
       "    <tr>\n",
       "      <th>100</th>\n",
       "      <td>12</td>\n",
       "      <td>Scarpa - INSTINCT VS</td>\n",
       "      <td>40.0</td>\n",
       "      <td>1.0</td>\n",
       "      <td>Ja</td>\n",
       "      <td>Ja</td>\n",
       "      <td>Ja</td>\n",
       "      <td>Nein</td>\n",
       "      <td>Klett</td>\n",
       "      <td>5.0</td>\n",
       "      <td>...</td>\n",
       "      <td>40.5</td>\n",
       "      <td>18.0</td>\n",
       "      <td>1</td>\n",
       "      <td>1</td>\n",
       "      <td>0</td>\n",
       "      <td>1</td>\n",
       "      <td>1</td>\n",
       "      <td>0</td>\n",
       "      <td>0</td>\n",
       "      <td>1</td>\n",
       "    </tr>\n",
       "  </tbody>\n",
       "</table>\n",
       "<p>3 rows × 33 columns</p>\n",
       "</div>"
      ],
      "text/plain": [
       "     userid              shoe_model  climb_shoe_size  shoe_age favourite  \\\n",
       "11       12   Scarpa - INSTINCT VSR             40.0       1.0      Nein   \n",
       "93       94  Red Chili - SPIRIT VCR             46.0       5.0        Ja   \n",
       "100      12    Scarpa - INSTINCT VS             40.0       1.0        Ja   \n",
       "\n",
       "    shoe_vorspann shoe_downturn shoe_asymetry shoe_closing_type  rate_fit  \\\n",
       "11             Ja            Ja          Nein             Klett       5.0   \n",
       "93           Nein          Nein          Nein             Klett       4.0   \n",
       "100            Ja            Ja          Nein             Klett       5.0   \n",
       "\n",
       "     ...  street_shoe_size   exp  sportklettern bouldern  mehrseillängen  \\\n",
       "11   ...              40.5  18.0              1        1               0   \n",
       "93   ...              46.5  23.0              1        0               1   \n",
       "100  ...              40.5  18.0              1        1               0   \n",
       "\n",
       "    halle  outdoor  beginner  advanced  pro  \n",
       "11      1        1         0         0    1  \n",
       "93      1        1         1         0    0  \n",
       "100     1        1         0         0    1  \n",
       "\n",
       "[3 rows x 33 columns]"
      ]
     },
     "execution_count": 292,
     "metadata": {},
     "output_type": "execute_result"
    }
   ],
   "source": [
    "df[df['foot_deform'] == 'Hallux Valgus, Senkfuß']"
   ]
  },
  {
   "cell_type": "code",
   "execution_count": 293,
   "metadata": {},
   "outputs": [
    {
     "data": {
      "text/html": [
       "<div>\n",
       "<style scoped>\n",
       "    .dataframe tbody tr th:only-of-type {\n",
       "        vertical-align: middle;\n",
       "    }\n",
       "\n",
       "    .dataframe tbody tr th {\n",
       "        vertical-align: top;\n",
       "    }\n",
       "\n",
       "    .dataframe thead th {\n",
       "        text-align: right;\n",
       "    }\n",
       "</style>\n",
       "<table border=\"1\" class=\"dataframe\">\n",
       "  <thead>\n",
       "    <tr style=\"text-align: right;\">\n",
       "      <th></th>\n",
       "      <th>userid</th>\n",
       "      <th>shoe_model</th>\n",
       "      <th>climb_shoe_size</th>\n",
       "      <th>shoe_age</th>\n",
       "      <th>favourite</th>\n",
       "      <th>shoe_vorspann</th>\n",
       "      <th>shoe_downturn</th>\n",
       "      <th>shoe_asymetry</th>\n",
       "      <th>shoe_closing_type</th>\n",
       "      <th>rate_fit</th>\n",
       "      <th>...</th>\n",
       "      <th>beginner</th>\n",
       "      <th>advanced</th>\n",
       "      <th>pro</th>\n",
       "      <th>hallux</th>\n",
       "      <th>senkfuß</th>\n",
       "      <th>spreizfuß</th>\n",
       "      <th>plattfuß</th>\n",
       "      <th>hohlfuß</th>\n",
       "      <th>knickfuß</th>\n",
       "      <th>fersenbein</th>\n",
       "    </tr>\n",
       "  </thead>\n",
       "  <tbody>\n",
       "    <tr>\n",
       "      <th>0</th>\n",
       "      <td>1</td>\n",
       "      <td>La Sportiva - SKWAMA</td>\n",
       "      <td>39.0</td>\n",
       "      <td>2.0</td>\n",
       "      <td>Ja</td>\n",
       "      <td>Ja</td>\n",
       "      <td>Ja</td>\n",
       "      <td>Nein</td>\n",
       "      <td>Klett</td>\n",
       "      <td>5.0</td>\n",
       "      <td>...</td>\n",
       "      <td>0</td>\n",
       "      <td>1</td>\n",
       "      <td>0</td>\n",
       "      <td>0</td>\n",
       "      <td>0</td>\n",
       "      <td>0</td>\n",
       "      <td>0</td>\n",
       "      <td>0</td>\n",
       "      <td>0</td>\n",
       "      <td>0</td>\n",
       "    </tr>\n",
       "    <tr>\n",
       "      <th>1</th>\n",
       "      <td>2</td>\n",
       "      <td>La Sportiva - SOLUTION COMP WOMAN</td>\n",
       "      <td>37.5</td>\n",
       "      <td>0.7</td>\n",
       "      <td>Ja</td>\n",
       "      <td>Ja</td>\n",
       "      <td>Ja</td>\n",
       "      <td>Ja</td>\n",
       "      <td>Klett</td>\n",
       "      <td>4.0</td>\n",
       "      <td>...</td>\n",
       "      <td>0</td>\n",
       "      <td>1</td>\n",
       "      <td>0</td>\n",
       "      <td>1</td>\n",
       "      <td>0</td>\n",
       "      <td>0</td>\n",
       "      <td>0</td>\n",
       "      <td>0</td>\n",
       "      <td>0</td>\n",
       "      <td>0</td>\n",
       "    </tr>\n",
       "    <tr>\n",
       "      <th>2</th>\n",
       "      <td>3</td>\n",
       "      <td>La Sportiva - SKWAMA</td>\n",
       "      <td>42.5</td>\n",
       "      <td>1.0</td>\n",
       "      <td>Ja</td>\n",
       "      <td>Ja</td>\n",
       "      <td>Ja</td>\n",
       "      <td>Ja</td>\n",
       "      <td>Klett</td>\n",
       "      <td>5.0</td>\n",
       "      <td>...</td>\n",
       "      <td>0</td>\n",
       "      <td>1</td>\n",
       "      <td>0</td>\n",
       "      <td>0</td>\n",
       "      <td>0</td>\n",
       "      <td>0</td>\n",
       "      <td>0</td>\n",
       "      <td>0</td>\n",
       "      <td>0</td>\n",
       "      <td>0</td>\n",
       "    </tr>\n",
       "  </tbody>\n",
       "</table>\n",
       "<p>3 rows × 40 columns</p>\n",
       "</div>"
      ],
      "text/plain": [
       "   userid                         shoe_model  climb_shoe_size  shoe_age  \\\n",
       "0       1               La Sportiva - SKWAMA             39.0       2.0   \n",
       "1       2  La Sportiva - SOLUTION COMP WOMAN             37.5       0.7   \n",
       "2       3               La Sportiva - SKWAMA             42.5       1.0   \n",
       "\n",
       "  favourite shoe_vorspann shoe_downturn shoe_asymetry shoe_closing_type  \\\n",
       "0        Ja            Ja            Ja          Nein             Klett   \n",
       "1        Ja            Ja            Ja            Ja             Klett   \n",
       "2        Ja            Ja            Ja            Ja             Klett   \n",
       "\n",
       "   rate_fit  ...  beginner  advanced  pro hallux  senkfuß spreizfuß  plattfuß  \\\n",
       "0       5.0  ...         0         1    0      0        0         0         0   \n",
       "1       4.0  ...         0         1    0      1        0         0         0   \n",
       "2       5.0  ...         0         1    0      0        0         0         0   \n",
       "\n",
       "   hohlfuß  knickfuß  fersenbein  \n",
       "0        0         0           0  \n",
       "1        0         0           0  \n",
       "2        0         0           0  \n",
       "\n",
       "[3 rows x 40 columns]"
      ]
     },
     "execution_count": 293,
     "metadata": {},
     "output_type": "execute_result"
    }
   ],
   "source": [
    "def strip_list(liste):\n",
    "    stripped = []\n",
    "    \n",
    "    for n in liste:\n",
    "        stripped.append(n.strip())\n",
    "    \n",
    "    return stripped\n",
    "\n",
    "deformations = ['Hallux Valgus', 'Senkfuß','Spreizfuß','Plattfuß', 'Hohlfuß','Knickfuß', 'Fersenbein']\n",
    "\n",
    "for deform in deformations:\n",
    "    df[deform.lower().split()[0]] = df.apply(lambda row: 1 if deform in strip_list(row.foot_deform.split(',')) else 0, axis=1)\n",
    "\n",
    "df.head(3)"
   ]
  },
  {
   "cell_type": "code",
   "execution_count": 294,
   "metadata": {},
   "outputs": [],
   "source": [
    "df.drop(['foot_deform', 'climb_grade'],axis=1,inplace=True)"
   ]
  },
  {
   "cell_type": "code",
   "execution_count": 295,
   "metadata": {},
   "outputs": [
    {
     "data": {
      "text/plain": [
       "Index(['shoe_model', 'favourite', 'shoe_vorspann', 'shoe_downturn',\n",
       "       'shoe_asymetry', 'shoe_closing_type', 'gender', 'foot_family'],\n",
       "      dtype='object')"
      ]
     },
     "execution_count": 295,
     "metadata": {},
     "output_type": "execute_result"
    }
   ],
   "source": [
    "df.select_dtypes(['object']).columns"
   ]
  },
  {
   "cell_type": "code",
   "execution_count": 296,
   "metadata": {},
   "outputs": [],
   "source": [
    "df['favourite'] = df['favourite'].map(lambda row: 1 if row in ['Ja'] else 0)"
   ]
  },
  {
   "cell_type": "code",
   "execution_count": 297,
   "metadata": {},
   "outputs": [
    {
     "data": {
      "text/plain": [
       "Index(['shoe_model', 'shoe_vorspann', 'shoe_downturn', 'shoe_asymetry',\n",
       "       'shoe_closing_type', 'gender', 'foot_family'],\n",
       "      dtype='object')"
      ]
     },
     "execution_count": 297,
     "metadata": {},
     "output_type": "execute_result"
    }
   ],
   "source": [
    "df.select_dtypes(['object']).columns"
   ]
  },
  {
   "cell_type": "code",
   "execution_count": 299,
   "metadata": {},
   "outputs": [
    {
     "data": {
      "text/plain": [
       "Ägyptischer Fußtyp     71\n",
       "Römischer Fußtyp       47\n",
       "Griechischer Fußtyp    36\n",
       "Name: foot_family, dtype: int64"
      ]
     },
     "execution_count": 299,
     "metadata": {},
     "output_type": "execute_result"
    }
   ],
   "source": [
    "df['foot_family'].value_counts()"
   ]
  },
  {
   "cell_type": "code",
   "execution_count": 300,
   "metadata": {},
   "outputs": [
    {
     "data": {
      "text/html": [
       "<div>\n",
       "<style scoped>\n",
       "    .dataframe tbody tr th:only-of-type {\n",
       "        vertical-align: middle;\n",
       "    }\n",
       "\n",
       "    .dataframe tbody tr th {\n",
       "        vertical-align: top;\n",
       "    }\n",
       "\n",
       "    .dataframe thead th {\n",
       "        text-align: right;\n",
       "    }\n",
       "</style>\n",
       "<table border=\"1\" class=\"dataframe\">\n",
       "  <thead>\n",
       "    <tr style=\"text-align: right;\">\n",
       "      <th></th>\n",
       "      <th>userid</th>\n",
       "      <th>shoe_model</th>\n",
       "      <th>climb_shoe_size</th>\n",
       "      <th>shoe_age</th>\n",
       "      <th>favourite</th>\n",
       "      <th>shoe_vorspann</th>\n",
       "      <th>shoe_downturn</th>\n",
       "      <th>shoe_asymetry</th>\n",
       "      <th>shoe_closing_type</th>\n",
       "      <th>rate_fit</th>\n",
       "      <th>...</th>\n",
       "      <th>hallux</th>\n",
       "      <th>senkfuß</th>\n",
       "      <th>spreizfuß</th>\n",
       "      <th>plattfuß</th>\n",
       "      <th>hohlfuß</th>\n",
       "      <th>knickfuß</th>\n",
       "      <th>fersenbein</th>\n",
       "      <th>egypt</th>\n",
       "      <th>rome</th>\n",
       "      <th>greek</th>\n",
       "    </tr>\n",
       "  </thead>\n",
       "  <tbody>\n",
       "    <tr>\n",
       "      <th>0</th>\n",
       "      <td>1</td>\n",
       "      <td>La Sportiva - SKWAMA</td>\n",
       "      <td>39.0</td>\n",
       "      <td>2.0</td>\n",
       "      <td>1</td>\n",
       "      <td>1</td>\n",
       "      <td>1</td>\n",
       "      <td>0</td>\n",
       "      <td>Klett</td>\n",
       "      <td>5.0</td>\n",
       "      <td>...</td>\n",
       "      <td>0</td>\n",
       "      <td>0</td>\n",
       "      <td>0</td>\n",
       "      <td>0</td>\n",
       "      <td>0</td>\n",
       "      <td>0</td>\n",
       "      <td>0</td>\n",
       "      <td>1</td>\n",
       "      <td>0</td>\n",
       "      <td>0</td>\n",
       "    </tr>\n",
       "    <tr>\n",
       "      <th>1</th>\n",
       "      <td>2</td>\n",
       "      <td>La Sportiva - SOLUTION COMP WOMAN</td>\n",
       "      <td>37.5</td>\n",
       "      <td>0.7</td>\n",
       "      <td>1</td>\n",
       "      <td>1</td>\n",
       "      <td>1</td>\n",
       "      <td>1</td>\n",
       "      <td>Klett</td>\n",
       "      <td>4.0</td>\n",
       "      <td>...</td>\n",
       "      <td>1</td>\n",
       "      <td>0</td>\n",
       "      <td>0</td>\n",
       "      <td>0</td>\n",
       "      <td>0</td>\n",
       "      <td>0</td>\n",
       "      <td>0</td>\n",
       "      <td>0</td>\n",
       "      <td>1</td>\n",
       "      <td>0</td>\n",
       "    </tr>\n",
       "    <tr>\n",
       "      <th>2</th>\n",
       "      <td>3</td>\n",
       "      <td>La Sportiva - SKWAMA</td>\n",
       "      <td>42.5</td>\n",
       "      <td>1.0</td>\n",
       "      <td>1</td>\n",
       "      <td>1</td>\n",
       "      <td>1</td>\n",
       "      <td>1</td>\n",
       "      <td>Klett</td>\n",
       "      <td>5.0</td>\n",
       "      <td>...</td>\n",
       "      <td>0</td>\n",
       "      <td>0</td>\n",
       "      <td>0</td>\n",
       "      <td>0</td>\n",
       "      <td>0</td>\n",
       "      <td>0</td>\n",
       "      <td>0</td>\n",
       "      <td>0</td>\n",
       "      <td>0</td>\n",
       "      <td>1</td>\n",
       "    </tr>\n",
       "    <tr>\n",
       "      <th>3</th>\n",
       "      <td>4</td>\n",
       "      <td>La Sportiva - SKWAMA</td>\n",
       "      <td>42.5</td>\n",
       "      <td>1.0</td>\n",
       "      <td>1</td>\n",
       "      <td>1</td>\n",
       "      <td>1</td>\n",
       "      <td>1</td>\n",
       "      <td>Klett</td>\n",
       "      <td>5.0</td>\n",
       "      <td>...</td>\n",
       "      <td>0</td>\n",
       "      <td>0</td>\n",
       "      <td>0</td>\n",
       "      <td>0</td>\n",
       "      <td>0</td>\n",
       "      <td>0</td>\n",
       "      <td>0</td>\n",
       "      <td>0</td>\n",
       "      <td>0</td>\n",
       "      <td>1</td>\n",
       "    </tr>\n",
       "    <tr>\n",
       "      <th>4</th>\n",
       "      <td>5</td>\n",
       "      <td>Tenaya - OASI</td>\n",
       "      <td>41.0</td>\n",
       "      <td>2.0</td>\n",
       "      <td>1</td>\n",
       "      <td>1</td>\n",
       "      <td>1</td>\n",
       "      <td>1</td>\n",
       "      <td>Klett</td>\n",
       "      <td>4.0</td>\n",
       "      <td>...</td>\n",
       "      <td>1</td>\n",
       "      <td>0</td>\n",
       "      <td>0</td>\n",
       "      <td>0</td>\n",
       "      <td>0</td>\n",
       "      <td>0</td>\n",
       "      <td>0</td>\n",
       "      <td>0</td>\n",
       "      <td>1</td>\n",
       "      <td>0</td>\n",
       "    </tr>\n",
       "  </tbody>\n",
       "</table>\n",
       "<p>5 rows × 40 columns</p>\n",
       "</div>"
      ],
      "text/plain": [
       "   userid                         shoe_model  climb_shoe_size  shoe_age  \\\n",
       "0       1               La Sportiva - SKWAMA             39.0       2.0   \n",
       "1       2  La Sportiva - SOLUTION COMP WOMAN             37.5       0.7   \n",
       "2       3               La Sportiva - SKWAMA             42.5       1.0   \n",
       "3       4               La Sportiva - SKWAMA             42.5       1.0   \n",
       "4       5                      Tenaya - OASI             41.0       2.0   \n",
       "\n",
       "   favourite  shoe_vorspann  shoe_downturn  shoe_asymetry shoe_closing_type  \\\n",
       "0          1              1              1              0             Klett   \n",
       "1          1              1              1              1             Klett   \n",
       "2          1              1              1              1             Klett   \n",
       "3          1              1              1              1             Klett   \n",
       "4          1              1              1              1             Klett   \n",
       "\n",
       "   rate_fit  ...  hallux  senkfuß  spreizfuß  plattfuß hohlfuß  knickfuß  \\\n",
       "0       5.0  ...       0        0          0         0       0         0   \n",
       "1       4.0  ...       1        0          0         0       0         0   \n",
       "2       5.0  ...       0        0          0         0       0         0   \n",
       "3       5.0  ...       0        0          0         0       0         0   \n",
       "4       4.0  ...       1        0          0         0       0         0   \n",
       "\n",
       "   fersenbein  egypt  rome  greek  \n",
       "0           0      1     0      0  \n",
       "1           0      0     1      0  \n",
       "2           0      0     0      1  \n",
       "3           0      0     0      1  \n",
       "4           0      0     1      0  \n",
       "\n",
       "[5 rows x 40 columns]"
      ]
     },
     "execution_count": 300,
     "metadata": {},
     "output_type": "execute_result"
    }
   ],
   "source": [
    "df['egypt'] = df['foot_family'].map(lambda row: 1 if row in ['Ägyptischer Fußtyp'] else 0)\n",
    "df['rome'] = df['foot_family'].map(lambda row: 1 if row in ['Römischer Fußtyp'] else 0)\n",
    "df['greek'] = df['foot_family'].map(lambda row: 1 if row in ['Griechischer Fußtyp'] else 0)\n",
    "df['shoe_vorspann'] = df['shoe_vorspann'].map(lambda row: 1 if row in ['Ja'] else 0)\n",
    "df['shoe_downturn'] = df['shoe_downturn'].map(lambda row: 1 if row in ['Ja'] else 0)\n",
    "df['shoe_asymetry'] = df['shoe_asymetry'].map(lambda row: 1 if row in ['Ja'] else 0)\n",
    "\n",
    "df.drop('foot_family',axis=1, inplace=True)\n",
    "df.head()"
   ]
  },
  {
   "cell_type": "code",
   "execution_count": 301,
   "metadata": {},
   "outputs": [],
   "source": [
    "dummies = pd.get_dummies(data=df, columns=['shoe_model','shoe_closing_type', 'gender'],drop_first=True)\n",
    "df = pd.concat([df,dummies],axis=1)"
   ]
  },
  {
   "cell_type": "code",
   "execution_count": 302,
   "metadata": {},
   "outputs": [
    {
     "data": {
      "text/html": [
       "<div>\n",
       "<style scoped>\n",
       "    .dataframe tbody tr th:only-of-type {\n",
       "        vertical-align: middle;\n",
       "    }\n",
       "\n",
       "    .dataframe tbody tr th {\n",
       "        vertical-align: top;\n",
       "    }\n",
       "\n",
       "    .dataframe thead th {\n",
       "        text-align: right;\n",
       "    }\n",
       "</style>\n",
       "<table border=\"1\" class=\"dataframe\">\n",
       "  <thead>\n",
       "    <tr style=\"text-align: right;\">\n",
       "      <th></th>\n",
       "      <th>userid</th>\n",
       "      <th>shoe_model</th>\n",
       "      <th>climb_shoe_size</th>\n",
       "      <th>shoe_age</th>\n",
       "      <th>favourite</th>\n",
       "      <th>shoe_vorspann</th>\n",
       "      <th>shoe_downturn</th>\n",
       "      <th>shoe_asymetry</th>\n",
       "      <th>shoe_closing_type</th>\n",
       "      <th>rate_fit</th>\n",
       "      <th>...</th>\n",
       "      <th>shoe_model_Simond - ROCK+</th>\n",
       "      <th>shoe_model_So iLL - ZERO PRO</th>\n",
       "      <th>shoe_model_Tenaya - IATI</th>\n",
       "      <th>shoe_model_Tenaya - MASTIA</th>\n",
       "      <th>shoe_model_Tenaya - MUNDAKA</th>\n",
       "      <th>shoe_model_Tenaya - OASI</th>\n",
       "      <th>shoe_model_Tenaya - OASI LV</th>\n",
       "      <th>shoe_closing_type_Schnürer</th>\n",
       "      <th>shoe_closing_type_Slipper</th>\n",
       "      <th>gender_Weiblich</th>\n",
       "    </tr>\n",
       "  </thead>\n",
       "  <tbody>\n",
       "    <tr>\n",
       "      <th>0</th>\n",
       "      <td>1</td>\n",
       "      <td>La Sportiva - SKWAMA</td>\n",
       "      <td>39.0</td>\n",
       "      <td>2.0</td>\n",
       "      <td>1</td>\n",
       "      <td>1</td>\n",
       "      <td>1</td>\n",
       "      <td>0</td>\n",
       "      <td>Klett</td>\n",
       "      <td>5.0</td>\n",
       "      <td>...</td>\n",
       "      <td>0</td>\n",
       "      <td>0</td>\n",
       "      <td>0</td>\n",
       "      <td>0</td>\n",
       "      <td>0</td>\n",
       "      <td>0</td>\n",
       "      <td>0</td>\n",
       "      <td>0</td>\n",
       "      <td>0</td>\n",
       "      <td>0</td>\n",
       "    </tr>\n",
       "    <tr>\n",
       "      <th>1</th>\n",
       "      <td>2</td>\n",
       "      <td>La Sportiva - SOLUTION COMP WOMAN</td>\n",
       "      <td>37.5</td>\n",
       "      <td>0.7</td>\n",
       "      <td>1</td>\n",
       "      <td>1</td>\n",
       "      <td>1</td>\n",
       "      <td>1</td>\n",
       "      <td>Klett</td>\n",
       "      <td>4.0</td>\n",
       "      <td>...</td>\n",
       "      <td>0</td>\n",
       "      <td>0</td>\n",
       "      <td>0</td>\n",
       "      <td>0</td>\n",
       "      <td>0</td>\n",
       "      <td>0</td>\n",
       "      <td>0</td>\n",
       "      <td>0</td>\n",
       "      <td>0</td>\n",
       "      <td>1</td>\n",
       "    </tr>\n",
       "    <tr>\n",
       "      <th>2</th>\n",
       "      <td>3</td>\n",
       "      <td>La Sportiva - SKWAMA</td>\n",
       "      <td>42.5</td>\n",
       "      <td>1.0</td>\n",
       "      <td>1</td>\n",
       "      <td>1</td>\n",
       "      <td>1</td>\n",
       "      <td>1</td>\n",
       "      <td>Klett</td>\n",
       "      <td>5.0</td>\n",
       "      <td>...</td>\n",
       "      <td>0</td>\n",
       "      <td>0</td>\n",
       "      <td>0</td>\n",
       "      <td>0</td>\n",
       "      <td>0</td>\n",
       "      <td>0</td>\n",
       "      <td>0</td>\n",
       "      <td>0</td>\n",
       "      <td>0</td>\n",
       "      <td>0</td>\n",
       "    </tr>\n",
       "    <tr>\n",
       "      <th>3</th>\n",
       "      <td>4</td>\n",
       "      <td>La Sportiva - SKWAMA</td>\n",
       "      <td>42.5</td>\n",
       "      <td>1.0</td>\n",
       "      <td>1</td>\n",
       "      <td>1</td>\n",
       "      <td>1</td>\n",
       "      <td>1</td>\n",
       "      <td>Klett</td>\n",
       "      <td>5.0</td>\n",
       "      <td>...</td>\n",
       "      <td>0</td>\n",
       "      <td>0</td>\n",
       "      <td>0</td>\n",
       "      <td>0</td>\n",
       "      <td>0</td>\n",
       "      <td>0</td>\n",
       "      <td>0</td>\n",
       "      <td>0</td>\n",
       "      <td>0</td>\n",
       "      <td>0</td>\n",
       "    </tr>\n",
       "    <tr>\n",
       "      <th>4</th>\n",
       "      <td>5</td>\n",
       "      <td>Tenaya - OASI</td>\n",
       "      <td>41.0</td>\n",
       "      <td>2.0</td>\n",
       "      <td>1</td>\n",
       "      <td>1</td>\n",
       "      <td>1</td>\n",
       "      <td>1</td>\n",
       "      <td>Klett</td>\n",
       "      <td>4.0</td>\n",
       "      <td>...</td>\n",
       "      <td>0</td>\n",
       "      <td>0</td>\n",
       "      <td>0</td>\n",
       "      <td>0</td>\n",
       "      <td>0</td>\n",
       "      <td>1</td>\n",
       "      <td>0</td>\n",
       "      <td>0</td>\n",
       "      <td>0</td>\n",
       "      <td>0</td>\n",
       "    </tr>\n",
       "  </tbody>\n",
       "</table>\n",
       "<p>5 rows × 150 columns</p>\n",
       "</div>"
      ],
      "text/plain": [
       "   userid                         shoe_model  climb_shoe_size  shoe_age  \\\n",
       "0       1               La Sportiva - SKWAMA             39.0       2.0   \n",
       "1       2  La Sportiva - SOLUTION COMP WOMAN             37.5       0.7   \n",
       "2       3               La Sportiva - SKWAMA             42.5       1.0   \n",
       "3       4               La Sportiva - SKWAMA             42.5       1.0   \n",
       "4       5                      Tenaya - OASI             41.0       2.0   \n",
       "\n",
       "   favourite  shoe_vorspann  shoe_downturn  shoe_asymetry shoe_closing_type  \\\n",
       "0          1              1              1              0             Klett   \n",
       "1          1              1              1              1             Klett   \n",
       "2          1              1              1              1             Klett   \n",
       "3          1              1              1              1             Klett   \n",
       "4          1              1              1              1             Klett   \n",
       "\n",
       "   rate_fit  ...  shoe_model_Simond - ROCK+  shoe_model_So iLL - ZERO PRO  \\\n",
       "0       5.0  ...                          0                             0   \n",
       "1       4.0  ...                          0                             0   \n",
       "2       5.0  ...                          0                             0   \n",
       "3       5.0  ...                          0                             0   \n",
       "4       4.0  ...                          0                             0   \n",
       "\n",
       "   shoe_model_Tenaya - IATI  shoe_model_Tenaya - MASTIA  \\\n",
       "0                         0                           0   \n",
       "1                         0                           0   \n",
       "2                         0                           0   \n",
       "3                         0                           0   \n",
       "4                         0                           0   \n",
       "\n",
       "  shoe_model_Tenaya - MUNDAKA  shoe_model_Tenaya - OASI  \\\n",
       "0                           0                         0   \n",
       "1                           0                         0   \n",
       "2                           0                         0   \n",
       "3                           0                         0   \n",
       "4                           0                         1   \n",
       "\n",
       "   shoe_model_Tenaya - OASI LV  shoe_closing_type_Schnürer  \\\n",
       "0                            0                           0   \n",
       "1                            0                           0   \n",
       "2                            0                           0   \n",
       "3                            0                           0   \n",
       "4                            0                           0   \n",
       "\n",
       "   shoe_closing_type_Slipper  gender_Weiblich  \n",
       "0                          0                0  \n",
       "1                          0                1  \n",
       "2                          0                0  \n",
       "3                          0                0  \n",
       "4                          0                0  \n",
       "\n",
       "[5 rows x 150 columns]"
      ]
     },
     "execution_count": 302,
     "metadata": {},
     "output_type": "execute_result"
    }
   ],
   "source": [
    "df.head()"
   ]
  },
  {
   "cell_type": "code",
   "execution_count": 303,
   "metadata": {},
   "outputs": [
    {
     "data": {
      "text/plain": [
       "Index(['shoe_model', 'shoe_closing_type', 'gender'], dtype='object')"
      ]
     },
     "execution_count": 303,
     "metadata": {},
     "output_type": "execute_result"
    }
   ],
   "source": [
    "df.select_dtypes(['object']).columns"
   ]
  },
  {
   "cell_type": "code",
   "execution_count": 304,
   "metadata": {},
   "outputs": [],
   "source": [
    "df.drop(['shoe_model','shoe_closing_type','gender'],axis=1, inplace=True)"
   ]
  },
  {
   "cell_type": "code",
   "execution_count": 305,
   "metadata": {},
   "outputs": [
    {
     "data": {
      "text/plain": [
       "(154, 147)"
      ]
     },
     "execution_count": 305,
     "metadata": {},
     "output_type": "execute_result"
    }
   ],
   "source": [
    "df.shape"
   ]
  },
  {
   "cell_type": "markdown",
   "metadata": {},
   "source": [
    "# Klassifizierung"
   ]
  },
  {
   "cell_type": "markdown",
   "metadata": {},
   "source": [
    "## K-Nearest Neighbor"
   ]
  },
  {
   "cell_type": "code",
   "execution_count": 76,
   "metadata": {},
   "outputs": [],
   "source": [
    "from sklearn.model_selection import train_test_split\n",
    "from sklearn.preprocessing import StandardScaler\n",
    "from sklearn.neighbors import KNeighborsClassifier\n",
    "from sklearn.metrics import confusion_matrix, f1_score, accuracy_score"
   ]
  },
  {
   "cell_type": "code",
   "execution_count": null,
   "metadata": {},
   "outputs": [],
   "source": []
  },
  {
   "cell_type": "markdown",
   "metadata": {},
   "source": [
    "## Logistische Regression"
   ]
  },
  {
   "cell_type": "code",
   "execution_count": null,
   "metadata": {},
   "outputs": [],
   "source": []
  },
  {
   "cell_type": "markdown",
   "metadata": {},
   "source": [
    "# Multiklassen Klassifizierung\n",
    "\n",
    "### Ziel: Mehrere Outputs vorhersagen\n",
    "\n",
    "### Grundprinzipien:\n",
    "One vs. All -> Wenn eine Klasse 1 ist, sind alle anderen 0<br>\n",
    "One vs. One -> Pärchenweiser Vergleich aller Outputklassen \n",
    "\n"
   ]
  },
  {
   "cell_type": "code",
   "execution_count": null,
   "metadata": {},
   "outputs": [],
   "source": []
  },
  {
   "cell_type": "markdown",
   "metadata": {},
   "source": [
    "## Logistische Regression"
   ]
  },
  {
   "cell_type": "code",
   "execution_count": null,
   "metadata": {},
   "outputs": [],
   "source": []
  },
  {
   "cell_type": "markdown",
   "metadata": {},
   "source": [
    "## Neuronales Netz \n",
    "\n",
    "Output Aktivirungsfunktion: Sigmoid"
   ]
  },
  {
   "cell_type": "code",
   "execution_count": 82,
   "metadata": {},
   "outputs": [],
   "source": [
    "import tensorflow as tf\n",
    "from sklearn.model_selection import train_test_split\n",
    "from sklearn.preprocessing import MinMaxScaler\n",
    "from tensorflow.keras.models import Sequential\n",
    "from tensorflow.keras.layers import Dense, Activation,Dropout"
   ]
  },
  {
   "cell_type": "code",
   "execution_count": 149,
   "metadata": {},
   "outputs": [
    {
     "name": "stdout",
     "output_type": "stream",
     "text": [
      "94\n"
     ]
    }
   ],
   "source": [
    "X = df.drop('userid',axis=1).values\n",
    "y = df_y.values\n",
    "\n",
    "print(len(y))"
   ]
  },
  {
   "cell_type": "code",
   "execution_count": 150,
   "metadata": {},
   "outputs": [],
   "source": [
    "X_train, X_test, y_train, y_test = train_test_split(X,y,test_size=0.30,random_state=101)"
   ]
  },
  {
   "cell_type": "code",
   "execution_count": 151,
   "metadata": {},
   "outputs": [],
   "source": [
    "scaler = MinMaxScaler()\n",
    "\n",
    "X_train= scaler.fit_transform(X_train)\n",
    "X_test = scaler.transform(X_test)"
   ]
  },
  {
   "cell_type": "code",
   "execution_count": 152,
   "metadata": {},
   "outputs": [
    {
     "data": {
      "text/plain": [
       "(65, 17)"
      ]
     },
     "execution_count": 152,
     "metadata": {},
     "output_type": "execute_result"
    }
   ],
   "source": [
    "X_train.shape"
   ]
  },
  {
   "cell_type": "code",
   "execution_count": 153,
   "metadata": {},
   "outputs": [
    {
     "data": {
      "text/plain": [
       "(29, 17)"
      ]
     },
     "execution_count": 153,
     "metadata": {},
     "output_type": "execute_result"
    }
   ],
   "source": [
    "X_test.shape"
   ]
  },
  {
   "cell_type": "code",
   "execution_count": 154,
   "metadata": {},
   "outputs": [
    {
     "data": {
      "text/plain": [
       "(65, 66)"
      ]
     },
     "execution_count": 154,
     "metadata": {},
     "output_type": "execute_result"
    }
   ],
   "source": [
    "y_train.shape"
   ]
  },
  {
   "cell_type": "code",
   "execution_count": 155,
   "metadata": {},
   "outputs": [
    {
     "data": {
      "text/plain": [
       "(29, 66)"
      ]
     },
     "execution_count": 155,
     "metadata": {},
     "output_type": "execute_result"
    }
   ],
   "source": [
    "y_test.shape"
   ]
  },
  {
   "cell_type": "code",
   "execution_count": 169,
   "metadata": {},
   "outputs": [],
   "source": [
    "from tensorflow.keras.wrappers.scikit_learn import KerasClassifier"
   ]
  },
  {
   "cell_type": "code",
   "execution_count": 177,
   "metadata": {},
   "outputs": [
    {
     "data": {
      "text/plain": [
       "<tensorflow.python.keras.wrappers.scikit_learn.KerasClassifier at 0x276ec10cf70>"
      ]
     },
     "execution_count": 177,
     "metadata": {},
     "output_type": "execute_result"
    }
   ],
   "source": [
    "def baseline_model():\n",
    "    # create model\n",
    "    model = Sequential()\n",
    "    model.add(Dense(units=17, activation='relu'))\n",
    "    model.add(Dense(units=8, activation='relu'))\n",
    "    model.add(Dense(units=66, activation='sigmoid'))\n",
    "    # Compile model\n",
    "    model.compile(loss='categorical_crossentropy', optimizer='adam', metrics=['accuracy'])\n",
    "    return model\n",
    "\n",
    "estimator = KerasClassifier(build_fn=baseline_model, epochs=200, batch_size=5, verbose=0)"
   ]
  },
  {
   "cell_type": "code",
   "execution_count": 178,
   "metadata": {},
   "outputs": [],
   "source": [
    "from sklearn.model_selection import cross_val_score\n",
    "from sklearn.model_selection import KFold\n"
   ]
  },
  {
   "cell_type": "code",
   "execution_count": 180,
   "metadata": {},
   "outputs": [
    {
     "name": "stdout",
     "output_type": "stream",
     "text": [
      "WARNING:tensorflow:6 out of the last 11 calls to <function Model.make_test_function.<locals>.test_function at 0x00000276ED9A5AF0> triggered tf.function retracing. Tracing is expensive and the excessive number of tracings could be due to (1) creating @tf.function repeatedly in a loop, (2) passing tensors with different shapes, (3) passing Python objects instead of tensors. For (1), please define your @tf.function outside of the loop. For (2), @tf.function has experimental_relax_shapes=True option that relaxes argument shapes that can avoid unnecessary retracing. For (3), please refer to https://www.tensorflow.org/guide/function#controlling_retracing and https://www.tensorflow.org/api_docs/python/tf/function for  more details.\n",
      "WARNING:tensorflow:6 out of the last 12 calls to <function Model.make_test_function.<locals>.test_function at 0x00000276F2130040> triggered tf.function retracing. Tracing is expensive and the excessive number of tracings could be due to (1) creating @tf.function repeatedly in a loop, (2) passing tensors with different shapes, (3) passing Python objects instead of tensors. For (1), please define your @tf.function outside of the loop. For (2), @tf.function has experimental_relax_shapes=True option that relaxes argument shapes that can avoid unnecessary retracing. For (3), please refer to https://www.tensorflow.org/guide/function#controlling_retracing and https://www.tensorflow.org/api_docs/python/tf/function for  more details.\n",
      "WARNING:tensorflow:5 out of the last 11 calls to <function Model.make_test_function.<locals>.test_function at 0x00000276EFAFE700> triggered tf.function retracing. Tracing is expensive and the excessive number of tracings could be due to (1) creating @tf.function repeatedly in a loop, (2) passing tensors with different shapes, (3) passing Python objects instead of tensors. For (1), please define your @tf.function outside of the loop. For (2), @tf.function has experimental_relax_shapes=True option that relaxes argument shapes that can avoid unnecessary retracing. For (3), please refer to https://www.tensorflow.org/guide/function#controlling_retracing and https://www.tensorflow.org/api_docs/python/tf/function for  more details.\n",
      "WARNING:tensorflow:5 out of the last 12 calls to <function Model.make_test_function.<locals>.test_function at 0x00000276EF1E5E50> triggered tf.function retracing. Tracing is expensive and the excessive number of tracings could be due to (1) creating @tf.function repeatedly in a loop, (2) passing tensors with different shapes, (3) passing Python objects instead of tensors. For (1), please define your @tf.function outside of the loop. For (2), @tf.function has experimental_relax_shapes=True option that relaxes argument shapes that can avoid unnecessary retracing. For (3), please refer to https://www.tensorflow.org/guide/function#controlling_retracing and https://www.tensorflow.org/api_docs/python/tf/function for  more details.\n",
      "WARNING:tensorflow:5 out of the last 13 calls to <function Model.make_test_function.<locals>.test_function at 0x00000276EFC8E550> triggered tf.function retracing. Tracing is expensive and the excessive number of tracings could be due to (1) creating @tf.function repeatedly in a loop, (2) passing tensors with different shapes, (3) passing Python objects instead of tensors. For (1), please define your @tf.function outside of the loop. For (2), @tf.function has experimental_relax_shapes=True option that relaxes argument shapes that can avoid unnecessary retracing. For (3), please refer to https://www.tensorflow.org/guide/function#controlling_retracing and https://www.tensorflow.org/api_docs/python/tf/function for  more details.\n",
      "Baseline: 0.00% (0.00%)\n"
     ]
    }
   ],
   "source": [
    "kfold = KFold(n_splits=5, shuffle=True)\n",
    "results = cross_val_score(estimator, X_train, y_train, cv=kfold)\n",
    "print(\"Baseline: %.2f%% (%.2f%%)\" % (results.mean()*100, results.std()*100))\n"
   ]
  },
  {
   "cell_type": "code",
   "execution_count": 167,
   "metadata": {},
   "outputs": [],
   "source": [
    "#model.fit(x=X_train, \n",
    "#          y=y_train, \n",
    "#          epochs=100,\n",
    "#          batch_size=10,\n",
    "#          validation_data=(X_test, y_test), verbose=1\n",
    "#          )"
   ]
  },
  {
   "cell_type": "code",
   "execution_count": 171,
   "metadata": {},
   "outputs": [],
   "source": [
    "#model_loss = pd.DataFrame(model.history.history)"
   ]
  },
  {
   "cell_type": "code",
   "execution_count": 172,
   "metadata": {},
   "outputs": [],
   "source": [
    "#model_loss.plot()"
   ]
  }
 ],
 "metadata": {
  "kernelspec": {
   "display_name": "Python 3",
   "language": "python",
   "name": "python3"
  },
  "language_info": {
   "codemirror_mode": {
    "name": "ipython",
    "version": 3
   },
   "file_extension": ".py",
   "mimetype": "text/x-python",
   "name": "python",
   "nbconvert_exporter": "python",
   "pygments_lexer": "ipython3",
   "version": "3.8.5"
  }
 },
 "nbformat": 4,
 "nbformat_minor": 4
}
